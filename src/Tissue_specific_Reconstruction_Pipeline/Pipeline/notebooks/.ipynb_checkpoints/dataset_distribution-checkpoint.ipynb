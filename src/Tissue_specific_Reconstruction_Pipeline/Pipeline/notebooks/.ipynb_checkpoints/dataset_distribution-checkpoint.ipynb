{
 "cells": [
  {
   "cell_type": "code",
   "execution_count": 51,
   "metadata": {},
   "outputs": [],
   "source": [
    "import pandas as pd\n",
    "import seaborn as sns\n",
    "from numpy import log2, log"
   ]
  },
  {
   "cell_type": "code",
   "execution_count": 56,
   "metadata": {},
   "outputs": [
    {
     "data": {
      "text/html": [
       "<div>\n",
       "<style scoped>\n",
       "    .dataframe tbody tr th:only-of-type {\n",
       "        vertical-align: middle;\n",
       "    }\n",
       "\n",
       "    .dataframe tbody tr th {\n",
       "        vertical-align: top;\n",
       "    }\n",
       "\n",
       "    .dataframe thead th {\n",
       "        text-align: right;\n",
       "    }\n",
       "</style>\n",
       "<table border=\"1\" class=\"dataframe\">\n",
       "  <thead>\n",
       "    <tr style=\"text-align: right;\">\n",
       "      <th>ensembl_gene_id</th>\n",
       "      <th>Lung_Healthy</th>\n",
       "      <th>Lung_COVID19</th>\n",
       "      <th>Heart_Healthy</th>\n",
       "      <th>Heart_COVID19</th>\n",
       "      <th>Liver_Healthy</th>\n",
       "      <th>Liver_COVID19</th>\n",
       "      <th>Kidney_Healthy</th>\n",
       "      <th>Kidney_COVID19</th>\n",
       "      <th>Intestine_Healthy</th>\n",
       "      <th>Intestine_COVID19</th>\n",
       "    </tr>\n",
       "  </thead>\n",
       "  <tbody>\n",
       "    <tr>\n",
       "      <th>ENSG00000000419</th>\n",
       "      <td>31.5</td>\n",
       "      <td>6.933833</td>\n",
       "      <td>21.6</td>\n",
       "      <td>2.614319</td>\n",
       "      <td>17.3</td>\n",
       "      <td>0.000000</td>\n",
       "      <td>20.5</td>\n",
       "      <td>0.000000</td>\n",
       "      <td>28.6</td>\n",
       "      <td>10.358924</td>\n",
       "    </tr>\n",
       "    <tr>\n",
       "      <th>ENSG00000000460</th>\n",
       "      <td>0.5</td>\n",
       "      <td>1.930306</td>\n",
       "      <td>0.2</td>\n",
       "      <td>0.000000</td>\n",
       "      <td>0.5</td>\n",
       "      <td>0.425419</td>\n",
       "      <td>0.3</td>\n",
       "      <td>0.000000</td>\n",
       "      <td>0.6</td>\n",
       "      <td>2.114432</td>\n",
       "    </tr>\n",
       "    <tr>\n",
       "      <th>ENSG00000000938</th>\n",
       "      <td>86.1</td>\n",
       "      <td>53.857997</td>\n",
       "      <td>3.7</td>\n",
       "      <td>9.876315</td>\n",
       "      <td>4.2</td>\n",
       "      <td>2.252882</td>\n",
       "      <td>4.4</td>\n",
       "      <td>9.251434</td>\n",
       "      <td>8.2</td>\n",
       "      <td>5.934609</td>\n",
       "    </tr>\n",
       "    <tr>\n",
       "      <th>ENSG00000000971</th>\n",
       "      <td>73.2</td>\n",
       "      <td>139.481075</td>\n",
       "      <td>163.3</td>\n",
       "      <td>24.255803</td>\n",
       "      <td>286.4</td>\n",
       "      <td>60.534451</td>\n",
       "      <td>19.1</td>\n",
       "      <td>17.000469</td>\n",
       "      <td>41.9</td>\n",
       "      <td>99.220838</td>\n",
       "    </tr>\n",
       "    <tr>\n",
       "      <th>ENSG00000001036</th>\n",
       "      <td>27.3</td>\n",
       "      <td>20.547457</td>\n",
       "      <td>14.0</td>\n",
       "      <td>4.373835</td>\n",
       "      <td>15.2</td>\n",
       "      <td>7.881220</td>\n",
       "      <td>20.7</td>\n",
       "      <td>6.652378</td>\n",
       "      <td>23.9</td>\n",
       "      <td>25.159981</td>\n",
       "    </tr>\n",
       "    <tr>\n",
       "      <th>...</th>\n",
       "      <td>...</td>\n",
       "      <td>...</td>\n",
       "      <td>...</td>\n",
       "      <td>...</td>\n",
       "      <td>...</td>\n",
       "      <td>...</td>\n",
       "      <td>...</td>\n",
       "      <td>...</td>\n",
       "      <td>...</td>\n",
       "      <td>...</td>\n",
       "    </tr>\n",
       "    <tr>\n",
       "      <th>ENSG00000272414</th>\n",
       "      <td>9.2</td>\n",
       "      <td>24.923790</td>\n",
       "      <td>10.4</td>\n",
       "      <td>36.901739</td>\n",
       "      <td>16.5</td>\n",
       "      <td>28.249063</td>\n",
       "      <td>1.5</td>\n",
       "      <td>5.790564</td>\n",
       "      <td>11.5</td>\n",
       "      <td>28.332704</td>\n",
       "    </tr>\n",
       "    <tr>\n",
       "      <th>ENSG00000272573</th>\n",
       "      <td>32.7</td>\n",
       "      <td>0.000000</td>\n",
       "      <td>74.5</td>\n",
       "      <td>0.000000</td>\n",
       "      <td>4.4</td>\n",
       "      <td>0.000000</td>\n",
       "      <td>13.1</td>\n",
       "      <td>0.000000</td>\n",
       "      <td>24.8</td>\n",
       "      <td>0.000000</td>\n",
       "    </tr>\n",
       "    <tr>\n",
       "      <th>ENSG00000272968</th>\n",
       "      <td>0.3</td>\n",
       "      <td>0.000000</td>\n",
       "      <td>0.0</td>\n",
       "      <td>0.000000</td>\n",
       "      <td>0.1</td>\n",
       "      <td>0.000000</td>\n",
       "      <td>0.1</td>\n",
       "      <td>0.000000</td>\n",
       "      <td>0.2</td>\n",
       "      <td>0.000000</td>\n",
       "    </tr>\n",
       "    <tr>\n",
       "      <th>ENSG00000273045</th>\n",
       "      <td>0.8</td>\n",
       "      <td>0.000000</td>\n",
       "      <td>0.1</td>\n",
       "      <td>0.000000</td>\n",
       "      <td>0.2</td>\n",
       "      <td>0.000000</td>\n",
       "      <td>2.0</td>\n",
       "      <td>3.040656</td>\n",
       "      <td>1.3</td>\n",
       "      <td>0.000000</td>\n",
       "    </tr>\n",
       "    <tr>\n",
       "      <th>ENSG00000273079</th>\n",
       "      <td>0.0</td>\n",
       "      <td>0.302856</td>\n",
       "      <td>0.0</td>\n",
       "      <td>0.141296</td>\n",
       "      <td>0.0</td>\n",
       "      <td>0.878074</td>\n",
       "      <td>0.0</td>\n",
       "      <td>0.000000</td>\n",
       "      <td>0.0</td>\n",
       "      <td>0.322330</td>\n",
       "    </tr>\n",
       "  </tbody>\n",
       "</table>\n",
       "<p>12870 rows × 10 columns</p>\n",
       "</div>"
      ],
      "text/plain": [
       "ensembl_gene_id  Lung_Healthy  Lung_COVID19  Heart_Healthy  Heart_COVID19  \\\n",
       "ENSG00000000419          31.5      6.933833           21.6       2.614319   \n",
       "ENSG00000000460           0.5      1.930306            0.2       0.000000   \n",
       "ENSG00000000938          86.1     53.857997            3.7       9.876315   \n",
       "ENSG00000000971          73.2    139.481075          163.3      24.255803   \n",
       "ENSG00000001036          27.3     20.547457           14.0       4.373835   \n",
       "...                       ...           ...            ...            ...   \n",
       "ENSG00000272414           9.2     24.923790           10.4      36.901739   \n",
       "ENSG00000272573          32.7      0.000000           74.5       0.000000   \n",
       "ENSG00000272968           0.3      0.000000            0.0       0.000000   \n",
       "ENSG00000273045           0.8      0.000000            0.1       0.000000   \n",
       "ENSG00000273079           0.0      0.302856            0.0       0.141296   \n",
       "\n",
       "ensembl_gene_id  Liver_Healthy  Liver_COVID19  Kidney_Healthy  Kidney_COVID19  \\\n",
       "ENSG00000000419           17.3       0.000000            20.5        0.000000   \n",
       "ENSG00000000460            0.5       0.425419             0.3        0.000000   \n",
       "ENSG00000000938            4.2       2.252882             4.4        9.251434   \n",
       "ENSG00000000971          286.4      60.534451            19.1       17.000469   \n",
       "ENSG00000001036           15.2       7.881220            20.7        6.652378   \n",
       "...                        ...            ...             ...             ...   \n",
       "ENSG00000272414           16.5      28.249063             1.5        5.790564   \n",
       "ENSG00000272573            4.4       0.000000            13.1        0.000000   \n",
       "ENSG00000272968            0.1       0.000000             0.1        0.000000   \n",
       "ENSG00000273045            0.2       0.000000             2.0        3.040656   \n",
       "ENSG00000273079            0.0       0.878074             0.0        0.000000   \n",
       "\n",
       "ensembl_gene_id  Intestine_Healthy  Intestine_COVID19  \n",
       "ENSG00000000419               28.6          10.358924  \n",
       "ENSG00000000460                0.6           2.114432  \n",
       "ENSG00000000938                8.2           5.934609  \n",
       "ENSG00000000971               41.9          99.220838  \n",
       "ENSG00000001036               23.9          25.159981  \n",
       "...                            ...                ...  \n",
       "ENSG00000272414               11.5          28.332704  \n",
       "ENSG00000272573               24.8           0.000000  \n",
       "ENSG00000272968                0.2           0.000000  \n",
       "ENSG00000273045                1.3           0.000000  \n",
       "ENSG00000273079                0.0           0.322330  \n",
       "\n",
       "[12870 rows x 10 columns]"
      ]
     },
     "execution_count": 56,
     "metadata": {},
     "output_type": "execute_result"
    }
   ],
   "source": [
    "df = pd.read_csv('C:/Users/biosy/Documents/TissueSpecific_Reconstruction_Pipeline/Pipeline/datasets/Desai-GTEx_ensembl.csv', index_col=0).T\n",
    "df"
   ]
  },
  {
   "cell_type": "code",
   "execution_count": 57,
   "metadata": {},
   "outputs": [
    {
     "data": {
      "text/plain": [
       "ensembl_gene_id\n",
       "Lung_Healthy         37.979953\n",
       "Lung_COVID19         33.988934\n",
       "Heart_Healthy        67.880637\n",
       "Heart_COVID19        34.560679\n",
       "Liver_Healthy        53.513077\n",
       "Liver_COVID19        25.998408\n",
       "Kidney_Healthy       51.576379\n",
       "Kidney_COVID19       46.565056\n",
       "Intestine_Healthy    44.654421\n",
       "Intestine_COVID19    43.505784\n",
       "dtype: float64"
      ]
     },
     "execution_count": 57,
     "metadata": {},
     "output_type": "execute_result"
    }
   ],
   "source": [
    "df.mean()"
   ]
  },
  {
   "cell_type": "code",
   "execution_count": 26,
   "metadata": {},
   "outputs": [
    {
     "data": {
      "text/plain": [
       "41.06609482076314"
      ]
     },
     "execution_count": 26,
     "metadata": {},
     "output_type": "execute_result"
    }
   ],
   "source": [
    "df.mean().mean()"
   ]
  },
  {
   "cell_type": "code",
   "execution_count": 27,
   "metadata": {},
   "outputs": [
    {
     "data": {
      "text/plain": [
       "ensembl_gene_id\n",
       "Lung_Healthy         0.0\n",
       "Lung_COVID19         0.0\n",
       "Heart_Healthy        0.0\n",
       "Heart_COVID19        0.0\n",
       "Liver_Healthy        0.0\n",
       "Liver_COVID19        0.0\n",
       "Kidney_Healthy       0.0\n",
       "Kidney_COVID19       0.0\n",
       "Intestine_Healthy    0.0\n",
       "Intestine_COVID19    0.0\n",
       "dtype: float64"
      ]
     },
     "execution_count": 27,
     "metadata": {},
     "output_type": "execute_result"
    }
   ],
   "source": [
    "df.min()"
   ]
  },
  {
   "cell_type": "code",
   "execution_count": 28,
   "metadata": {},
   "outputs": [
    {
     "data": {
      "text/plain": [
       "ensembl_gene_id\n",
       "Lung_Healthy         15268.30000\n",
       "Lung_COVID19         16924.94201\n",
       "Heart_Healthy        64774.30000\n",
       "Heart_COVID19        24547.17916\n",
       "Liver_Healthy        37750.00000\n",
       "Liver_COVID19        43258.91152\n",
       "Kidney_Healthy       61984.90000\n",
       "Kidney_COVID19       87321.31215\n",
       "Intestine_Healthy    33459.10000\n",
       "Intestine_COVID19    27472.73001\n",
       "dtype: float64"
      ]
     },
     "execution_count": 28,
     "metadata": {},
     "output_type": "execute_result"
    }
   ],
   "source": [
    "df.max()"
   ]
  },
  {
   "cell_type": "code",
   "execution_count": 29,
   "metadata": {},
   "outputs": [
    {
     "data": {
      "text/plain": [
       "87321.31215"
      ]
     },
     "execution_count": 29,
     "metadata": {},
     "output_type": "execute_result"
    }
   ],
   "source": [
    "df.max().max()"
   ]
  },
  {
   "cell_type": "code",
   "execution_count": 23,
   "metadata": {},
   "outputs": [
    {
     "name": "stderr",
     "output_type": "stream",
     "text": [
      "C:\\Users\\biosy\\anaconda3\\envs\\troppo-dev\\lib\\site-packages\\ipykernel_launcher.py:1: UserWarning: \n",
      "\n",
      "`distplot` is a deprecated function and will be removed in seaborn v0.14.0.\n",
      "\n",
      "Please adapt your code to use either `displot` (a figure-level function with\n",
      "similar flexibility) or `histplot` (an axes-level function for histograms).\n",
      "\n",
      "For a guide to updating your code to use the new functions, please see\n",
      "https://gist.github.com/mwaskom/de44147ed2974457ad6372750bbe5751\n",
      "\n",
      "  \"\"\"Entry point for launching an IPython kernel.\n"
     ]
    },
    {
     "data": {
      "text/plain": [
       "<AxesSubplot:ylabel='Density'>"
      ]
     },
     "execution_count": 23,
     "metadata": {},
     "output_type": "execute_result"
    },
    {
     "data": {
      "image/png": "[encoded data removed]",
      "text/plain": [
       "<Figure size 432x288 with 1 Axes>"
      ]
     },
     "metadata": {
      "needs_background": "light"
     },
     "output_type": "display_data"
    }
   ],
   "source": [
    "sns.distplot(df)"
   ]
  },
  {
   "cell_type": "code",
   "execution_count": 66,
   "metadata": {},
   "outputs": [
    {
     "data": {
      "text/html": [
       "<div>\n",
       "<style scoped>\n",
       "    .dataframe tbody tr th:only-of-type {\n",
       "        vertical-align: middle;\n",
       "    }\n",
       "\n",
       "    .dataframe tbody tr th {\n",
       "        vertical-align: top;\n",
       "    }\n",
       "\n",
       "    .dataframe thead th {\n",
       "        text-align: right;\n",
       "    }\n",
       "</style>\n",
       "<table border=\"1\" class=\"dataframe\">\n",
       "  <thead>\n",
       "    <tr style=\"text-align: right;\">\n",
       "      <th>ensembl_gene_id</th>\n",
       "      <th>Lung_Healthy</th>\n",
       "      <th>Lung_COVID19</th>\n",
       "      <th>Heart_Healthy</th>\n",
       "      <th>Heart_COVID19</th>\n",
       "      <th>Liver_Healthy</th>\n",
       "      <th>Liver_COVID19</th>\n",
       "      <th>Kidney_Healthy</th>\n",
       "      <th>Kidney_COVID19</th>\n",
       "      <th>Intestine_Healthy</th>\n",
       "      <th>Intestine_COVID19</th>\n",
       "    </tr>\n",
       "  </thead>\n",
       "  <tbody>\n",
       "    <tr>\n",
       "      <th>ENSG00000000419</th>\n",
       "      <td>3.481240</td>\n",
       "      <td>2.071136</td>\n",
       "      <td>3.117950</td>\n",
       "      <td>1.284904</td>\n",
       "      <td>2.906901</td>\n",
       "      <td>0.000000</td>\n",
       "      <td>3.068053</td>\n",
       "      <td>0.000000</td>\n",
       "      <td>3.387774</td>\n",
       "      <td>2.430004</td>\n",
       "    </tr>\n",
       "    <tr>\n",
       "      <th>ENSG00000000460</th>\n",
       "      <td>0.405465</td>\n",
       "      <td>1.075107</td>\n",
       "      <td>0.182322</td>\n",
       "      <td>0.000000</td>\n",
       "      <td>0.405465</td>\n",
       "      <td>0.354466</td>\n",
       "      <td>0.262364</td>\n",
       "      <td>0.000000</td>\n",
       "      <td>0.470004</td>\n",
       "      <td>1.136047</td>\n",
       "    </tr>\n",
       "    <tr>\n",
       "      <th>ENSG00000000938</th>\n",
       "      <td>4.467057</td>\n",
       "      <td>4.004748</td>\n",
       "      <td>1.547563</td>\n",
       "      <td>2.386588</td>\n",
       "      <td>1.648659</td>\n",
       "      <td>1.179541</td>\n",
       "      <td>1.686399</td>\n",
       "      <td>2.327418</td>\n",
       "      <td>2.219203</td>\n",
       "      <td>1.936525</td>\n",
       "    </tr>\n",
       "    <tr>\n",
       "      <th>ENSG00000000971</th>\n",
       "      <td>4.306764</td>\n",
       "      <td>4.945073</td>\n",
       "      <td>5.101694</td>\n",
       "      <td>3.229056</td>\n",
       "      <td>5.660875</td>\n",
       "      <td>4.119597</td>\n",
       "      <td>3.000720</td>\n",
       "      <td>2.890398</td>\n",
       "      <td>3.758872</td>\n",
       "      <td>4.607376</td>\n",
       "    </tr>\n",
       "    <tr>\n",
       "      <th>ENSG00000001036</th>\n",
       "      <td>3.342862</td>\n",
       "      <td>3.070258</td>\n",
       "      <td>2.708050</td>\n",
       "      <td>1.681542</td>\n",
       "      <td>2.785011</td>\n",
       "      <td>2.183939</td>\n",
       "      <td>3.077312</td>\n",
       "      <td>2.035016</td>\n",
       "      <td>3.214868</td>\n",
       "      <td>3.264231</td>\n",
       "    </tr>\n",
       "    <tr>\n",
       "      <th>...</th>\n",
       "      <td>...</td>\n",
       "      <td>...</td>\n",
       "      <td>...</td>\n",
       "      <td>...</td>\n",
       "      <td>...</td>\n",
       "      <td>...</td>\n",
       "      <td>...</td>\n",
       "      <td>...</td>\n",
       "      <td>...</td>\n",
       "      <td>...</td>\n",
       "    </tr>\n",
       "    <tr>\n",
       "      <th>ENSG00000272414</th>\n",
       "      <td>2.322388</td>\n",
       "      <td>3.255161</td>\n",
       "      <td>2.433613</td>\n",
       "      <td>3.634997</td>\n",
       "      <td>2.862201</td>\n",
       "      <td>3.375848</td>\n",
       "      <td>0.916291</td>\n",
       "      <td>1.915534</td>\n",
       "      <td>2.525729</td>\n",
       "      <td>3.378703</td>\n",
       "    </tr>\n",
       "    <tr>\n",
       "      <th>ENSG00000272573</th>\n",
       "      <td>3.517498</td>\n",
       "      <td>0.000000</td>\n",
       "      <td>4.324133</td>\n",
       "      <td>0.000000</td>\n",
       "      <td>1.686399</td>\n",
       "      <td>0.000000</td>\n",
       "      <td>2.646175</td>\n",
       "      <td>0.000000</td>\n",
       "      <td>3.250374</td>\n",
       "      <td>0.000000</td>\n",
       "    </tr>\n",
       "    <tr>\n",
       "      <th>ENSG00000272968</th>\n",
       "      <td>0.262364</td>\n",
       "      <td>0.000000</td>\n",
       "      <td>0.000000</td>\n",
       "      <td>0.000000</td>\n",
       "      <td>0.095310</td>\n",
       "      <td>0.000000</td>\n",
       "      <td>0.095310</td>\n",
       "      <td>0.000000</td>\n",
       "      <td>0.182322</td>\n",
       "      <td>0.000000</td>\n",
       "    </tr>\n",
       "    <tr>\n",
       "      <th>ENSG00000273045</th>\n",
       "      <td>0.587787</td>\n",
       "      <td>0.000000</td>\n",
       "      <td>0.095310</td>\n",
       "      <td>0.000000</td>\n",
       "      <td>0.182322</td>\n",
       "      <td>0.000000</td>\n",
       "      <td>1.098612</td>\n",
       "      <td>1.396407</td>\n",
       "      <td>0.832909</td>\n",
       "      <td>0.000000</td>\n",
       "    </tr>\n",
       "    <tr>\n",
       "      <th>ENSG00000273079</th>\n",
       "      <td>0.000000</td>\n",
       "      <td>0.264559</td>\n",
       "      <td>0.000000</td>\n",
       "      <td>0.132165</td>\n",
       "      <td>0.000000</td>\n",
       "      <td>0.630247</td>\n",
       "      <td>0.000000</td>\n",
       "      <td>0.000000</td>\n",
       "      <td>0.000000</td>\n",
       "      <td>0.279395</td>\n",
       "    </tr>\n",
       "  </tbody>\n",
       "</table>\n",
       "<p>12870 rows × 10 columns</p>\n",
       "</div>"
      ],
      "text/plain": [
       "ensembl_gene_id  Lung_Healthy  Lung_COVID19  Heart_Healthy  Heart_COVID19  \\\n",
       "ENSG00000000419      3.481240      2.071136       3.117950       1.284904   \n",
       "ENSG00000000460      0.405465      1.075107       0.182322       0.000000   \n",
       "ENSG00000000938      4.467057      4.004748       1.547563       2.386588   \n",
       "ENSG00000000971      4.306764      4.945073       5.101694       3.229056   \n",
       "ENSG00000001036      3.342862      3.070258       2.708050       1.681542   \n",
       "...                       ...           ...            ...            ...   \n",
       "ENSG00000272414      2.322388      3.255161       2.433613       3.634997   \n",
       "ENSG00000272573      3.517498      0.000000       4.324133       0.000000   \n",
       "ENSG00000272968      0.262364      0.000000       0.000000       0.000000   \n",
       "ENSG00000273045      0.587787      0.000000       0.095310       0.000000   \n",
       "ENSG00000273079      0.000000      0.264559       0.000000       0.132165   \n",
       "\n",
       "ensembl_gene_id  Liver_Healthy  Liver_COVID19  Kidney_Healthy  Kidney_COVID19  \\\n",
       "ENSG00000000419       2.906901       0.000000        3.068053        0.000000   \n",
       "ENSG00000000460       0.405465       0.354466        0.262364        0.000000   \n",
       "ENSG00000000938       1.648659       1.179541        1.686399        2.327418   \n",
       "ENSG00000000971       5.660875       4.119597        3.000720        2.890398   \n",
       "ENSG00000001036       2.785011       2.183939        3.077312        2.035016   \n",
       "...                        ...            ...             ...             ...   \n",
       "ENSG00000272414       2.862201       3.375848        0.916291        1.915534   \n",
       "ENSG00000272573       1.686399       0.000000        2.646175        0.000000   \n",
       "ENSG00000272968       0.095310       0.000000        0.095310        0.000000   \n",
       "ENSG00000273045       0.182322       0.000000        1.098612        1.396407   \n",
       "ENSG00000273079       0.000000       0.630247        0.000000        0.000000   \n",
       "\n",
       "ensembl_gene_id  Intestine_Healthy  Intestine_COVID19  \n",
       "ENSG00000000419           3.387774           2.430004  \n",
       "ENSG00000000460           0.470004           1.136047  \n",
       "ENSG00000000938           2.219203           1.936525  \n",
       "ENSG00000000971           3.758872           4.607376  \n",
       "ENSG00000001036           3.214868           3.264231  \n",
       "...                            ...                ...  \n",
       "ENSG00000272414           2.525729           3.378703  \n",
       "ENSG00000272573           3.250374           0.000000  \n",
       "ENSG00000272968           0.182322           0.000000  \n",
       "ENSG00000273045           0.832909           0.000000  \n",
       "ENSG00000273079           0.000000           0.279395  \n",
       "\n",
       "[12870 rows x 10 columns]"
      ]
     },
     "execution_count": 66,
     "metadata": {},
     "output_type": "execute_result"
    }
   ],
   "source": [
    "df2 = df + 1\n",
    "df2 = df2.apply(log)\n",
    "df2"
   ]
  },
  {
   "cell_type": "code",
   "execution_count": 59,
   "metadata": {},
   "outputs": [
    {
     "data": {
      "text/plain": [
       "ensembl_gene_id\n",
       "Lung_Healthy         0.0\n",
       "Lung_COVID19         0.0\n",
       "Heart_Healthy        0.0\n",
       "Heart_COVID19        0.0\n",
       "Liver_Healthy        0.0\n",
       "Liver_COVID19        0.0\n",
       "Kidney_Healthy       0.0\n",
       "Kidney_COVID19       0.0\n",
       "Intestine_Healthy    0.0\n",
       "Intestine_COVID19    0.0\n",
       "dtype: float64"
      ]
     },
     "execution_count": 59,
     "metadata": {},
     "output_type": "execute_result"
    }
   ],
   "source": [
    "df2.min()"
   ]
  },
  {
   "cell_type": "code",
   "execution_count": 67,
   "metadata": {},
   "outputs": [
    {
     "data": {
      "text/plain": [
       "ensembl_gene_id\n",
       "Lung_Healthy         10.036466\n",
       "Lung_COVID19          9.736603\n",
       "Heart_Healthy        11.396379\n",
       "Heart_COVID19        10.108393\n",
       "Liver_Healthy        10.904722\n",
       "Liver_COVID19        10.674982\n",
       "Kidney_Healthy       11.034662\n",
       "Kidney_COVID19       11.377361\n",
       "Intestine_Healthy    10.719746\n",
       "Intestine_COVID19    10.220986\n",
       "dtype: float64"
      ]
     },
     "execution_count": 67,
     "metadata": {},
     "output_type": "execute_result"
    }
   ],
   "source": [
    "df2.max()"
   ]
  },
  {
   "cell_type": "code",
   "execution_count": 68,
   "metadata": {},
   "outputs": [
    {
     "data": {
      "text/plain": [
       "11.396379289087335"
      ]
     },
     "execution_count": 68,
     "metadata": {},
     "output_type": "execute_result"
    }
   ],
   "source": [
    "df2.max().max()"
   ]
  },
  {
   "cell_type": "code",
   "execution_count": 69,
   "metadata": {},
   "outputs": [
    {
     "name": "stderr",
     "output_type": "stream",
     "text": [
      "C:\\Users\\biosy\\anaconda3\\envs\\troppo-dev\\lib\\site-packages\\ipykernel_launcher.py:1: UserWarning: \n",
      "\n",
      "`distplot` is a deprecated function and will be removed in seaborn v0.14.0.\n",
      "\n",
      "Please adapt your code to use either `displot` (a figure-level function with\n",
      "similar flexibility) or `histplot` (an axes-level function for histograms).\n",
      "\n",
      "For a guide to updating your code to use the new functions, please see\n",
      "https://gist.github.com/mwaskom/de44147ed2974457ad6372750bbe5751\n",
      "\n",
      "  \"\"\"Entry point for launching an IPython kernel.\n"
     ]
    },
    {
     "data": {
      "text/plain": [
       "<AxesSubplot:ylabel='Density'>"
      ]
     },
     "execution_count": 69,
     "metadata": {},
     "output_type": "execute_result"
    },
    {
     "data": {
      "image/png": "[encoded data removed]",
      "text/plain": [
       "<Figure size 432x288 with 1 Axes>"
      ]
     },
     "metadata": {
      "needs_background": "light"
     },
     "output_type": "display_data"
    }
   ],
   "source": [
    "sns.distplot(df2)"
   ]
  },
  {
   "cell_type": "code",
   "execution_count": 63,
   "metadata": {},
   "outputs": [
    {
     "data": {
      "text/plain": [
       "2.7998086193141676"
      ]
     },
     "execution_count": 63,
     "metadata": {},
     "output_type": "execute_result"
    }
   ],
   "source": [
    "max_expression = log(df2.max().max())\n",
    "max_expression"
   ]
  },
  {
   "cell_type": "code",
   "execution_count": 64,
   "metadata": {},
   "outputs": [
    {
     "data": {
      "text/plain": [
       "0.10    0.000000\n",
       "0.25    0.198969\n",
       "0.50    2.174038\n",
       "0.75    3.778649\n",
       "0.90    5.045975\n",
       "dtype: float64"
      ]
     },
     "execution_count": 64,
     "metadata": {},
     "output_type": "execute_result"
    }
   ],
   "source": [
    "qvalues = [0.1, 0.25, 0.5, 0.75, 0.9]\n",
    "quantiles = df2.quantile(qvalues)\n",
    "global_thresholds = quantiles.T.apply(lambda x: x.mean())\n",
    "\n",
    "global_thresholds"
   ]
  },
  {
   "cell_type": "code",
   "execution_count": 70,
   "metadata": {},
   "outputs": [],
   "source": [
    "df2.to_csv('C:/Users/biosy/Documents/TissueSpecific_Reconstruction_Pipeline/Pipeline/datasets/Desai-GTEx_log_ensembl.csv')"
   ]
  },
  {
   "cell_type": "code",
   "execution_count": null,
   "metadata": {},
   "outputs": [],
   "source": []
  }
 ],
 "metadata": {
  "kernelspec": {
   "display_name": "Python 3 (ipykernel)",
   "language": "python",
   "name": "python3"
  },
  "language_info": {
   "codemirror_mode": {
    "name": "ipython",
    "version": 3
   },
   "file_extension": ".py",
   "mimetype": "text/x-python",
   "name": "python",
   "nbconvert_exporter": "python",
   "pygments_lexer": "ipython3",
   "version": "3.7.13"
  }
 },
 "nbformat": 4,
 "nbformat_minor": 1
}
