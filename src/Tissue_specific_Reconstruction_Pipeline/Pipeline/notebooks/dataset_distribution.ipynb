{
 "cells": [
  {
   "cell_type": "code",
   "execution_count": 51,
   "metadata": {},
   "outputs": [],
   "source": [
    "import pandas as pd\n",
    "import seaborn as sns\n",
    "from numpy import log2, log"
   ]
  },
  {
   "cell_type": "code",
   "execution_count": 56,
   "metadata": {},
   "outputs": [
    {
     "data": {
      "text/html": [
       "<div>\n",
       "<style scoped>\n",
       "    .dataframe tbody tr th:only-of-type {\n",
       "        vertical-align: middle;\n",
       "    }\n",
       "\n",
       "    .dataframe tbody tr th {\n",
       "        vertical-align: top;\n",
       "    }\n",
       "\n",
       "    .dataframe thead th {\n",
       "        text-align: right;\n",
       "    }\n",
       "</style>\n",
       "<table border=\"1\" class=\"dataframe\">\n",
       "  <thead>\n",
       "    <tr style=\"text-align: right;\">\n",
       "      <th>ensembl_gene_id</th>\n",
       "      <th>Lung_Healthy</th>\n",
       "      <th>Lung_COVID19</th>\n",
       "      <th>Heart_Healthy</th>\n",
       "      <th>Heart_COVID19</th>\n",
       "      <th>Liver_Healthy</th>\n",
       "      <th>Liver_COVID19</th>\n",
       "      <th>Kidney_Healthy</th>\n",
       "      <th>Kidney_COVID19</th>\n",
       "      <th>Intestine_Healthy</th>\n",
       "      <th>Intestine_COVID19</th>\n",
       "    </tr>\n",
       "  </thead>\n",
       "  <tbody>\n",
       "    <tr>\n",
       "      <th>ENSG00000000419</th>\n",
       "      <td>31.5</td>\n",
       "      <td>6.933833</td>\n",
       "      <td>21.6</td>\n",
       "      <td>2.614319</td>\n",
       "      <td>17.3</td>\n",
       "      <td>0.000000</td>\n",
       "      <td>20.5</td>\n",
       "      <td>0.000000</td>\n",
       "      <td>28.6</td>\n",
       "      <td>10.358924</td>\n",
       "    </tr>\n",
       "    <tr>\n",
       "      <th>ENSG00000000460</th>\n",
       "      <td>0.5</td>\n",
       "      <td>1.930306</td>\n",
       "      <td>0.2</td>\n",
       "      <td>0.000000</td>\n",
       "      <td>0.5</td>\n",
       "      <td>0.425419</td>\n",
       "      <td>0.3</td>\n",
       "      <td>0.000000</td>\n",
       "      <td>0.6</td>\n",
       "      <td>2.114432</td>\n",
       "    </tr>\n",
       "    <tr>\n",
       "      <th>ENSG00000000938</th>\n",
       "      <td>86.1</td>\n",
       "      <td>53.857997</td>\n",
       "      <td>3.7</td>\n",
       "      <td>9.876315</td>\n",
       "      <td>4.2</td>\n",
       "      <td>2.252882</td>\n",
       "      <td>4.4</td>\n",
       "      <td>9.251434</td>\n",
       "      <td>8.2</td>\n",
       "      <td>5.934609</td>\n",
       "    </tr>\n",
       "    <tr>\n",
       "      <th>ENSG00000000971</th>\n",
       "      <td>73.2</td>\n",
       "      <td>139.481075</td>\n",
       "      <td>163.3</td>\n",
       "      <td>24.255803</td>\n",
       "      <td>286.4</td>\n",
       "      <td>60.534451</td>\n",
       "      <td>19.1</td>\n",
       "      <td>17.000469</td>\n",
       "      <td>41.9</td>\n",
       "      <td>99.220838</td>\n",
       "    </tr>\n",
       "    <tr>\n",
       "      <th>ENSG00000001036</th>\n",
       "      <td>27.3</td>\n",
       "      <td>20.547457</td>\n",
       "      <td>14.0</td>\n",
       "      <td>4.373835</td>\n",
       "      <td>15.2</td>\n",
       "      <td>7.881220</td>\n",
       "      <td>20.7</td>\n",
       "      <td>6.652378</td>\n",
       "      <td>23.9</td>\n",
       "      <td>25.159981</td>\n",
       "    </tr>\n",
       "    <tr>\n",
       "      <th>...</th>\n",
       "      <td>...</td>\n",
       "      <td>...</td>\n",
       "      <td>...</td>\n",
       "      <td>...</td>\n",
       "      <td>...</td>\n",
       "      <td>...</td>\n",
       "      <td>...</td>\n",
       "      <td>...</td>\n",
       "      <td>...</td>\n",
       "      <td>...</td>\n",
       "    </tr>\n",
       "    <tr>\n",
       "      <th>ENSG00000272414</th>\n",
       "      <td>9.2</td>\n",
       "      <td>24.923790</td>\n",
       "      <td>10.4</td>\n",
       "      <td>36.901739</td>\n",
       "      <td>16.5</td>\n",
       "      <td>28.249063</td>\n",
       "      <td>1.5</td>\n",
       "      <td>5.790564</td>\n",
       "      <td>11.5</td>\n",
       "      <td>28.332704</td>\n",
       "    </tr>\n",
       "    <tr>\n",
       "      <th>ENSG00000272573</th>\n",
       "      <td>32.7</td>\n",
       "      <td>0.000000</td>\n",
       "      <td>74.5</td>\n",
       "      <td>0.000000</td>\n",
       "      <td>4.4</td>\n",
       "      <td>0.000000</td>\n",
       "      <td>13.1</td>\n",
       "      <td>0.000000</td>\n",
       "      <td>24.8</td>\n",
       "      <td>0.000000</td>\n",
       "    </tr>\n",
       "    <tr>\n",
       "      <th>ENSG00000272968</th>\n",
       "      <td>0.3</td>\n",
       "      <td>0.000000</td>\n",
       "      <td>0.0</td>\n",
       "      <td>0.000000</td>\n",
       "      <td>0.1</td>\n",
       "      <td>0.000000</td>\n",
       "      <td>0.1</td>\n",
       "      <td>0.000000</td>\n",
       "      <td>0.2</td>\n",
       "      <td>0.000000</td>\n",
       "    </tr>\n",
       "    <tr>\n",
       "      <th>ENSG00000273045</th>\n",
       "      <td>0.8</td>\n",
       "      <td>0.000000</td>\n",
       "      <td>0.1</td>\n",
       "      <td>0.000000</td>\n",
       "      <td>0.2</td>\n",
       "      <td>0.000000</td>\n",
       "      <td>2.0</td>\n",
       "      <td>3.040656</td>\n",
       "      <td>1.3</td>\n",
       "      <td>0.000000</td>\n",
       "    </tr>\n",
       "    <tr>\n",
       "      <th>ENSG00000273079</th>\n",
       "      <td>0.0</td>\n",
       "      <td>0.302856</td>\n",
       "      <td>0.0</td>\n",
       "      <td>0.141296</td>\n",
       "      <td>0.0</td>\n",
       "      <td>0.878074</td>\n",
       "      <td>0.0</td>\n",
       "      <td>0.000000</td>\n",
       "      <td>0.0</td>\n",
       "      <td>0.322330</td>\n",
       "    </tr>\n",
       "  </tbody>\n",
       "</table>\n",
       "<p>12870 rows × 10 columns</p>\n",
       "</div>"
      ],
      "text/plain": [
       "ensembl_gene_id  Lung_Healthy  Lung_COVID19  Heart_Healthy  Heart_COVID19  \\\n",
       "ENSG00000000419          31.5      6.933833           21.6       2.614319   \n",
       "ENSG00000000460           0.5      1.930306            0.2       0.000000   \n",
       "ENSG00000000938          86.1     53.857997            3.7       9.876315   \n",
       "ENSG00000000971          73.2    139.481075          163.3      24.255803   \n",
       "ENSG00000001036          27.3     20.547457           14.0       4.373835   \n",
       "...                       ...           ...            ...            ...   \n",
       "ENSG00000272414           9.2     24.923790           10.4      36.901739   \n",
       "ENSG00000272573          32.7      0.000000           74.5       0.000000   \n",
       "ENSG00000272968           0.3      0.000000            0.0       0.000000   \n",
       "ENSG00000273045           0.8      0.000000            0.1       0.000000   \n",
       "ENSG00000273079           0.0      0.302856            0.0       0.141296   \n",
       "\n",
       "ensembl_gene_id  Liver_Healthy  Liver_COVID19  Kidney_Healthy  Kidney_COVID19  \\\n",
       "ENSG00000000419           17.3       0.000000            20.5        0.000000   \n",
       "ENSG00000000460            0.5       0.425419             0.3        0.000000   \n",
       "ENSG00000000938            4.2       2.252882             4.4        9.251434   \n",
       "ENSG00000000971          286.4      60.534451            19.1       17.000469   \n",
       "ENSG00000001036           15.2       7.881220            20.7        6.652378   \n",
       "...                        ...            ...             ...             ...   \n",
       "ENSG00000272414           16.5      28.249063             1.5        5.790564   \n",
       "ENSG00000272573            4.4       0.000000            13.1        0.000000   \n",
       "ENSG00000272968            0.1       0.000000             0.1        0.000000   \n",
       "ENSG00000273045            0.2       0.000000             2.0        3.040656   \n",
       "ENSG00000273079            0.0       0.878074             0.0        0.000000   \n",
       "\n",
       "ensembl_gene_id  Intestine_Healthy  Intestine_COVID19  \n",
       "ENSG00000000419               28.6          10.358924  \n",
       "ENSG00000000460                0.6           2.114432  \n",
       "ENSG00000000938                8.2           5.934609  \n",
       "ENSG00000000971               41.9          99.220838  \n",
       "ENSG00000001036               23.9          25.159981  \n",
       "...                            ...                ...  \n",
       "ENSG00000272414               11.5          28.332704  \n",
       "ENSG00000272573               24.8           0.000000  \n",
       "ENSG00000272968                0.2           0.000000  \n",
       "ENSG00000273045                1.3           0.000000  \n",
       "ENSG00000273079                0.0           0.322330  \n",
       "\n",
       "[12870 rows x 10 columns]"
      ]
     },
     "execution_count": 56,
     "metadata": {},
     "output_type": "execute_result"
    }
   ],
   "source": [
    "df = pd.read_csv('C:/Users/biosy/Documents/TissueSpecific_Reconstruction_Pipeline/Pipeline/datasets/Desai-GTEx_ensembl.csv', index_col=0).T\n",
    "df"
   ]
  },
  {
   "cell_type": "code",
   "execution_count": 57,
   "metadata": {},
   "outputs": [
    {
     "data": {
      "text/plain": [
       "ensembl_gene_id\n",
       "Lung_Healthy         37.979953\n",
       "Lung_COVID19         33.988934\n",
       "Heart_Healthy        67.880637\n",
       "Heart_COVID19        34.560679\n",
       "Liver_Healthy        53.513077\n",
       "Liver_COVID19        25.998408\n",
       "Kidney_Healthy       51.576379\n",
       "Kidney_COVID19       46.565056\n",
       "Intestine_Healthy    44.654421\n",
       "Intestine_COVID19    43.505784\n",
       "dtype: float64"
      ]
     },
     "execution_count": 57,
     "metadata": {},
     "output_type": "execute_result"
    }
   ],
   "source": [
    "df.mean()"
   ]
  },
  {
   "cell_type": "code",
   "execution_count": 26,
   "metadata": {},
   "outputs": [
    {
     "data": {
      "text/plain": [
       "41.06609482076314"
      ]
     },
     "execution_count": 26,
     "metadata": {},
     "output_type": "execute_result"
    }
   ],
   "source": [
    "df.mean().mean()"
   ]
  },
  {
   "cell_type": "code",
   "execution_count": 27,
   "metadata": {},
   "outputs": [
    {
     "data": {
      "text/plain": [
       "ensembl_gene_id\n",
       "Lung_Healthy         0.0\n",
       "Lung_COVID19         0.0\n",
       "Heart_Healthy        0.0\n",
       "Heart_COVID19        0.0\n",
       "Liver_Healthy        0.0\n",
       "Liver_COVID19        0.0\n",
       "Kidney_Healthy       0.0\n",
       "Kidney_COVID19       0.0\n",
       "Intestine_Healthy    0.0\n",
       "Intestine_COVID19    0.0\n",
       "dtype: float64"
      ]
     },
     "execution_count": 27,
     "metadata": {},
     "output_type": "execute_result"
    }
   ],
   "source": [
    "df.min()"
   ]
  },
  {
   "cell_type": "code",
   "execution_count": 28,
   "metadata": {},
   "outputs": [
    {
     "data": {
      "text/plain": [
       "ensembl_gene_id\n",
       "Lung_Healthy         15268.30000\n",
       "Lung_COVID19         16924.94201\n",
       "Heart_Healthy        64774.30000\n",
       "Heart_COVID19        24547.17916\n",
       "Liver_Healthy        37750.00000\n",
       "Liver_COVID19        43258.91152\n",
       "Kidney_Healthy       61984.90000\n",
       "Kidney_COVID19       87321.31215\n",
       "Intestine_Healthy    33459.10000\n",
       "Intestine_COVID19    27472.73001\n",
       "dtype: float64"
      ]
     },
     "execution_count": 28,
     "metadata": {},
     "output_type": "execute_result"
    }
   ],
   "source": [
    "df.max()"
   ]
  },
  {
   "cell_type": "code",
   "execution_count": 29,
   "metadata": {},
   "outputs": [
    {
     "data": {
      "text/plain": [
       "87321.31215"
      ]
     },
     "execution_count": 29,
     "metadata": {},
     "output_type": "execute_result"
    }
   ],
   "source": [
    "df.max().max()"
   ]
  },
  {
   "cell_type": "code",
   "execution_count": 23,
   "metadata": {},
   "outputs": [
    {
     "name": "stderr",
     "output_type": "stream",
     "text": [
      "C:\\Users\\biosy\\anaconda3\\envs\\troppo-dev\\lib\\site-packages\\ipykernel_launcher.py:1: UserWarning: \n",
      "\n",
      "`distplot` is a deprecated function and will be removed in seaborn v0.14.0.\n",
      "\n",
      "Please adapt your code to use either `displot` (a figure-level function with\n",
      "similar flexibility) or `histplot` (an axes-level function for histograms).\n",
      "\n",
      "For a guide to updating your code to use the new functions, please see\n",
      "https://gist.github.com/mwaskom/de44147ed2974457ad6372750bbe5751\n",
      "\n",
      "  \"\"\"Entry point for launching an IPython kernel.\n"
     ]
    },
    {
     "data": {
      "text/plain": [
       "<AxesSubplot:ylabel='Density'>"
      ]
     },
     "execution_count": 23,
     "metadata": {},
     "output_type": "execute_result"
    },
    {
     "data": {
      "image/png": "[encoded data removed]",
      "text/plain": [
       "<Figure size 432x288 with 1 Axes>"
      ]
     },
     "metadata": {
      "needs_background": "light"
     },
     "output_type": "display_data"
    }
   ],
   "source": [
    "sns.distplot(df)"
   ]
  },
  {
   "cell_type": "code",
   "execution_count": 71,
   "metadata": {},
   "outputs": [
    {
     "data": {
      "text/html": [
       "<div>\n",
       "<style scoped>\n",
       "    .dataframe tbody tr th:only-of-type {\n",
       "        vertical-align: middle;\n",
       "    }\n",
       "\n",
       "    .dataframe tbody tr th {\n",
       "        vertical-align: top;\n",
       "    }\n",
       "\n",
       "    .dataframe thead th {\n",
       "        text-align: right;\n",
       "    }\n",
       "</style>\n",
       "<table border=\"1\" class=\"dataframe\">\n",
       "  <thead>\n",
       "    <tr style=\"text-align: right;\">\n",
       "      <th>ensembl_gene_id</th>\n",
       "      <th>Lung_Healthy</th>\n",
       "      <th>Lung_COVID19</th>\n",
       "      <th>Heart_Healthy</th>\n",
       "      <th>Heart_COVID19</th>\n",
       "      <th>Liver_Healthy</th>\n",
       "      <th>Liver_COVID19</th>\n",
       "      <th>Kidney_Healthy</th>\n",
       "      <th>Kidney_COVID19</th>\n",
       "      <th>Intestine_Healthy</th>\n",
       "      <th>Intestine_COVID19</th>\n",
       "    </tr>\n",
       "  </thead>\n",
       "  <tbody>\n",
       "    <tr>\n",
       "      <th>ENSG00000000419</th>\n",
       "      <td>5.022368</td>\n",
       "      <td>2.988018</td>\n",
       "      <td>4.498251</td>\n",
       "      <td>1.853724</td>\n",
       "      <td>4.193772</td>\n",
       "      <td>0.000000</td>\n",
       "      <td>4.426265</td>\n",
       "      <td>0.000000</td>\n",
       "      <td>4.887525</td>\n",
       "      <td>3.505754</td>\n",
       "    </tr>\n",
       "    <tr>\n",
       "      <th>ENSG00000000460</th>\n",
       "      <td>0.584963</td>\n",
       "      <td>1.551051</td>\n",
       "      <td>0.263034</td>\n",
       "      <td>0.000000</td>\n",
       "      <td>0.584963</td>\n",
       "      <td>0.511386</td>\n",
       "      <td>0.378512</td>\n",
       "      <td>0.000000</td>\n",
       "      <td>0.678072</td>\n",
       "      <td>1.638969</td>\n",
       "    </tr>\n",
       "    <tr>\n",
       "      <th>ENSG00000000938</th>\n",
       "      <td>6.444601</td>\n",
       "      <td>5.777630</td>\n",
       "      <td>2.232661</td>\n",
       "      <td>3.443118</td>\n",
       "      <td>2.378512</td>\n",
       "      <td>1.701718</td>\n",
       "      <td>2.432959</td>\n",
       "      <td>3.357754</td>\n",
       "      <td>3.201634</td>\n",
       "      <td>2.793815</td>\n",
       "    </tr>\n",
       "    <tr>\n",
       "      <th>ENSG00000000971</th>\n",
       "      <td>6.213347</td>\n",
       "      <td>7.134232</td>\n",
       "      <td>7.360189</td>\n",
       "      <td>4.658543</td>\n",
       "      <td>8.166916</td>\n",
       "      <td>5.943322</td>\n",
       "      <td>4.329124</td>\n",
       "      <td>4.169963</td>\n",
       "      <td>5.422906</td>\n",
       "      <td>6.647039</td>\n",
       "    </tr>\n",
       "    <tr>\n",
       "      <th>ENSG00000001036</th>\n",
       "      <td>4.822730</td>\n",
       "      <td>4.429446</td>\n",
       "      <td>3.906891</td>\n",
       "      <td>2.425952</td>\n",
       "      <td>4.017922</td>\n",
       "      <td>3.150758</td>\n",
       "      <td>4.439623</td>\n",
       "      <td>2.935908</td>\n",
       "      <td>4.638074</td>\n",
       "      <td>4.709290</td>\n",
       "    </tr>\n",
       "    <tr>\n",
       "      <th>...</th>\n",
       "      <td>...</td>\n",
       "      <td>...</td>\n",
       "      <td>...</td>\n",
       "      <td>...</td>\n",
       "      <td>...</td>\n",
       "      <td>...</td>\n",
       "      <td>...</td>\n",
       "      <td>...</td>\n",
       "      <td>...</td>\n",
       "      <td>...</td>\n",
       "    </tr>\n",
       "    <tr>\n",
       "      <th>ENSG00000272414</th>\n",
       "      <td>3.350497</td>\n",
       "      <td>4.696205</td>\n",
       "      <td>3.510962</td>\n",
       "      <td>5.244192</td>\n",
       "      <td>4.129283</td>\n",
       "      <td>4.870318</td>\n",
       "      <td>1.321928</td>\n",
       "      <td>2.763531</td>\n",
       "      <td>3.643856</td>\n",
       "      <td>4.874438</td>\n",
       "    </tr>\n",
       "    <tr>\n",
       "      <th>ENSG00000272573</th>\n",
       "      <td>5.074677</td>\n",
       "      <td>0.000000</td>\n",
       "      <td>6.238405</td>\n",
       "      <td>0.000000</td>\n",
       "      <td>2.432959</td>\n",
       "      <td>0.000000</td>\n",
       "      <td>3.817623</td>\n",
       "      <td>0.000000</td>\n",
       "      <td>4.689299</td>\n",
       "      <td>0.000000</td>\n",
       "    </tr>\n",
       "    <tr>\n",
       "      <th>ENSG00000272968</th>\n",
       "      <td>0.378512</td>\n",
       "      <td>0.000000</td>\n",
       "      <td>0.000000</td>\n",
       "      <td>0.000000</td>\n",
       "      <td>0.137504</td>\n",
       "      <td>0.000000</td>\n",
       "      <td>0.137504</td>\n",
       "      <td>0.000000</td>\n",
       "      <td>0.263034</td>\n",
       "      <td>0.000000</td>\n",
       "    </tr>\n",
       "    <tr>\n",
       "      <th>ENSG00000273045</th>\n",
       "      <td>0.847997</td>\n",
       "      <td>0.000000</td>\n",
       "      <td>0.137504</td>\n",
       "      <td>0.000000</td>\n",
       "      <td>0.263034</td>\n",
       "      <td>0.000000</td>\n",
       "      <td>1.584963</td>\n",
       "      <td>2.014589</td>\n",
       "      <td>1.201634</td>\n",
       "      <td>0.000000</td>\n",
       "    </tr>\n",
       "    <tr>\n",
       "      <th>ENSG00000273079</th>\n",
       "      <td>0.000000</td>\n",
       "      <td>0.381678</td>\n",
       "      <td>0.000000</td>\n",
       "      <td>0.190673</td>\n",
       "      <td>0.000000</td>\n",
       "      <td>0.909254</td>\n",
       "      <td>0.000000</td>\n",
       "      <td>0.000000</td>\n",
       "      <td>0.000000</td>\n",
       "      <td>0.403082</td>\n",
       "    </tr>\n",
       "  </tbody>\n",
       "</table>\n",
       "<p>12870 rows × 10 columns</p>\n",
       "</div>"
      ],
      "text/plain": [
       "ensembl_gene_id  Lung_Healthy  Lung_COVID19  Heart_Healthy  Heart_COVID19  \\\n",
       "ENSG00000000419      5.022368      2.988018       4.498251       1.853724   \n",
       "ENSG00000000460      0.584963      1.551051       0.263034       0.000000   \n",
       "ENSG00000000938      6.444601      5.777630       2.232661       3.443118   \n",
       "ENSG00000000971      6.213347      7.134232       7.360189       4.658543   \n",
       "ENSG00000001036      4.822730      4.429446       3.906891       2.425952   \n",
       "...                       ...           ...            ...            ...   \n",
       "ENSG00000272414      3.350497      4.696205       3.510962       5.244192   \n",
       "ENSG00000272573      5.074677      0.000000       6.238405       0.000000   \n",
       "ENSG00000272968      0.378512      0.000000       0.000000       0.000000   \n",
       "ENSG00000273045      0.847997      0.000000       0.137504       0.000000   \n",
       "ENSG00000273079      0.000000      0.381678       0.000000       0.190673   \n",
       "\n",
       "ensembl_gene_id  Liver_Healthy  Liver_COVID19  Kidney_Healthy  Kidney_COVID19  \\\n",
       "ENSG00000000419       4.193772       0.000000        4.426265        0.000000   \n",
       "ENSG00000000460       0.584963       0.511386        0.378512        0.000000   \n",
       "ENSG00000000938       2.378512       1.701718        2.432959        3.357754   \n",
       "ENSG00000000971       8.166916       5.943322        4.329124        4.169963   \n",
       "ENSG00000001036       4.017922       3.150758        4.439623        2.935908   \n",
       "...                        ...            ...             ...             ...   \n",
       "ENSG00000272414       4.129283       4.870318        1.321928        2.763531   \n",
       "ENSG00000272573       2.432959       0.000000        3.817623        0.000000   \n",
       "ENSG00000272968       0.137504       0.000000        0.137504        0.000000   \n",
       "ENSG00000273045       0.263034       0.000000        1.584963        2.014589   \n",
       "ENSG00000273079       0.000000       0.909254        0.000000        0.000000   \n",
       "\n",
       "ensembl_gene_id  Intestine_Healthy  Intestine_COVID19  \n",
       "ENSG00000000419           4.887525           3.505754  \n",
       "ENSG00000000460           0.678072           1.638969  \n",
       "ENSG00000000938           3.201634           2.793815  \n",
       "ENSG00000000971           5.422906           6.647039  \n",
       "ENSG00000001036           4.638074           4.709290  \n",
       "...                            ...                ...  \n",
       "ENSG00000272414           3.643856           4.874438  \n",
       "ENSG00000272573           4.689299           0.000000  \n",
       "ENSG00000272968           0.263034           0.000000  \n",
       "ENSG00000273045           1.201634           0.000000  \n",
       "ENSG00000273079           0.000000           0.403082  \n",
       "\n",
       "[12870 rows x 10 columns]"
      ]
     },
     "execution_count": 71,
     "metadata": {},
     "output_type": "execute_result"
    }
   ],
   "source": [
    "df2 = df + 1\n",
    "df2 = df2.apply(log2)\n",
    "df2"
   ]
  },
  {
   "cell_type": "code",
   "execution_count": 72,
   "metadata": {},
   "outputs": [
    {
     "data": {
      "text/plain": [
       "ensembl_gene_id\n",
       "Lung_Healthy         0.0\n",
       "Lung_COVID19         0.0\n",
       "Heart_Healthy        0.0\n",
       "Heart_COVID19        0.0\n",
       "Liver_Healthy        0.0\n",
       "Liver_COVID19        0.0\n",
       "Kidney_Healthy       0.0\n",
       "Kidney_COVID19       0.0\n",
       "Intestine_Healthy    0.0\n",
       "Intestine_COVID19    0.0\n",
       "dtype: float64"
      ]
     },
     "execution_count": 72,
     "metadata": {},
     "output_type": "execute_result"
    }
   ],
   "source": [
    "df2.min()"
   ]
  },
  {
   "cell_type": "code",
   "execution_count": 73,
   "metadata": {},
   "outputs": [
    {
     "data": {
      "text/plain": [
       "ensembl_gene_id\n",
       "Lung_Healthy         14.479559\n",
       "Lung_COVID19         14.046949\n",
       "Heart_Healthy        16.441500\n",
       "Heart_COVID19        14.583328\n",
       "Liver_Healthy        15.732189\n",
       "Liver_COVID19        15.400743\n",
       "Kidney_Healthy       15.919652\n",
       "Kidney_COVID19       16.414063\n",
       "Intestine_Healthy    15.465324\n",
       "Intestine_COVID19    14.745765\n",
       "dtype: float64"
      ]
     },
     "execution_count": 73,
     "metadata": {},
     "output_type": "execute_result"
    }
   ],
   "source": [
    "df2.max()"
   ]
  },
  {
   "cell_type": "code",
   "execution_count": 74,
   "metadata": {},
   "outputs": [
    {
     "data": {
      "text/plain": [
       "16.44149988445599"
      ]
     },
     "execution_count": 74,
     "metadata": {},
     "output_type": "execute_result"
    }
   ],
   "source": [
    "df2.max().max()"
   ]
  },
  {
   "cell_type": "code",
   "execution_count": 75,
   "metadata": {},
   "outputs": [
    {
     "name": "stderr",
     "output_type": "stream",
     "text": [
      "C:\\Users\\biosy\\anaconda3\\envs\\troppo-dev\\lib\\site-packages\\ipykernel_launcher.py:1: UserWarning: \n",
      "\n",
      "`distplot` is a deprecated function and will be removed in seaborn v0.14.0.\n",
      "\n",
      "Please adapt your code to use either `displot` (a figure-level function with\n",
      "similar flexibility) or `histplot` (an axes-level function for histograms).\n",
      "\n",
      "For a guide to updating your code to use the new functions, please see\n",
      "https://gist.github.com/mwaskom/de44147ed2974457ad6372750bbe5751\n",
      "\n",
      "  \"\"\"Entry point for launching an IPython kernel.\n"
     ]
    },
    {
     "data": {
      "text/plain": [
       "<AxesSubplot:ylabel='Density'>"
      ]
     },
     "execution_count": 75,
     "metadata": {},
     "output_type": "execute_result"
    },
    {
     "data": {
      "image/png": "[encoded data removed]",
      "text/plain": [
       "<Figure size 432x288 with 1 Axes>"
      ]
     },
     "metadata": {
      "needs_background": "light"
     },
     "output_type": "display_data"
    }
   ],
   "source": [
    "sns.distplot(df2)"
   ]
  },
  {
   "cell_type": "code",
   "execution_count": 76,
   "metadata": {},
   "outputs": [
    {
     "data": {
      "text/plain": [
       "2.7998086193141676"
      ]
     },
     "execution_count": 76,
     "metadata": {},
     "output_type": "execute_result"
    }
   ],
   "source": [
    "max_expression = log(df2.max().max())\n",
    "max_expression"
   ]
  },
  {
   "cell_type": "code",
   "execution_count": 78,
   "metadata": {},
   "outputs": [
    {
     "data": {
      "text/plain": [
       "0.10    1.338424\n",
       "0.25    1.719433\n",
       "0.50    2.224249\n",
       "0.75    2.823593\n",
       "0.90    3.419471\n",
       "dtype: float64"
      ]
     },
     "execution_count": 78,
     "metadata": {},
     "output_type": "execute_result"
    }
   ],
   "source": [
    "qvalues = [0.1, 0.25, 0.5, 0.75, 0.9]\n",
    "quantiles = df2.T.quantile(qvalues)\n",
    "global_thresholds = quantiles.T.apply(lambda x: x.mean())\n",
    "\n",
    "global_thresholds"
   ]
  },
  {
   "cell_type": "code",
   "execution_count": 80,
   "metadata": {},
   "outputs": [],
   "source": [
    "df2.T.to_csv('C:/Users/biosy/Documents/TissueSpecific_Reconstruction_Pipeline/Pipeline/datasets/Desai-GTEx_ensembl.csv')"
   ]
  },
  {
   "cell_type": "code",
   "execution_count": null,
   "metadata": {},
   "outputs": [],
   "source": []
  }
 ],
 "metadata": {
  "kernelspec": {
   "display_name": "Python 3 (ipykernel)",
   "language": "python",
   "name": "python3"
  },
  "language_info": {
   "codemirror_mode": {
    "name": "ipython",
    "version": 3
   },
   "file_extension": ".py",
   "mimetype": "text/x-python",
   "name": "python",
   "nbconvert_exporter": "python",
   "pygments_lexer": "ipython3",
   "version": "3.7.13"
  }
 },
 "nbformat": 4,
 "nbformat_minor": 1
}
