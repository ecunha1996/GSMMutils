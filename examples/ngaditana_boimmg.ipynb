{
 "cells": [
  {
   "cell_type": "code",
   "execution_count": 3,
   "metadata": {
    "collapsed": true
   },
   "outputs": [],
   "source": [
    "import numpy as np\n",
    "import pandas as pd\n",
    "import os\n",
    "os.chdir(r\"C:\\Users\\Bisbii\\Desktop\\boimmg_ngaditana\")"
   ]
  },
  {
   "cell_type": "code",
   "execution_count": 30,
   "outputs": [],
   "source": [
    "stoichiometry = pd.read_csv('model_stoichiometry_old.csv')\n",
    "reactions = pd.read_csv('model_reaction_old.csv')\n",
    "compounds = pd.read_csv('model_compound_old.csv')"
   ],
   "metadata": {
    "collapsed": false
   }
  },
  {
   "cell_type": "code",
   "execution_count": 31,
   "outputs": [
    {
     "data": {
      "text/plain": "   idstoichiometry  stoichiometric_coefficient  \\\n0                1                        -1.0   \n1                2                        -1.0   \n2                3                        -1.0   \n3                4                        -1.0   \n4                5                        -1.0   \n\n   model_compartment_idcompartment  model_compound_idcompound  \\\n0                                1                       2628   \n1                                1                        100   \n2                                1                        222   \n3                                1                       3278   \n4                                1                         94   \n\n   model_reaction_idreaction  \n0                          3  \n1                          4  \n2                          1  \n3                          2  \n4                          5  ",
      "text/html": "<div>\n<style scoped>\n    .dataframe tbody tr th:only-of-type {\n        vertical-align: middle;\n    }\n\n    .dataframe tbody tr th {\n        vertical-align: top;\n    }\n\n    .dataframe thead th {\n        text-align: right;\n    }\n</style>\n<table border=\"1\" class=\"dataframe\">\n  <thead>\n    <tr style=\"text-align: right;\">\n      <th></th>\n      <th>idstoichiometry</th>\n      <th>stoichiometric_coefficient</th>\n      <th>model_compartment_idcompartment</th>\n      <th>model_compound_idcompound</th>\n      <th>model_reaction_idreaction</th>\n    </tr>\n  </thead>\n  <tbody>\n    <tr>\n      <th>0</th>\n      <td>1</td>\n      <td>-1.0</td>\n      <td>1</td>\n      <td>2628</td>\n      <td>3</td>\n    </tr>\n    <tr>\n      <th>1</th>\n      <td>2</td>\n      <td>-1.0</td>\n      <td>1</td>\n      <td>100</td>\n      <td>4</td>\n    </tr>\n    <tr>\n      <th>2</th>\n      <td>3</td>\n      <td>-1.0</td>\n      <td>1</td>\n      <td>222</td>\n      <td>1</td>\n    </tr>\n    <tr>\n      <th>3</th>\n      <td>4</td>\n      <td>-1.0</td>\n      <td>1</td>\n      <td>3278</td>\n      <td>2</td>\n    </tr>\n    <tr>\n      <th>4</th>\n      <td>5</td>\n      <td>-1.0</td>\n      <td>1</td>\n      <td>94</td>\n      <td>5</td>\n    </tr>\n  </tbody>\n</table>\n</div>"
     },
     "execution_count": 31,
     "metadata": {},
     "output_type": "execute_result"
    }
   ],
   "source": [
    "stoichiometry.head()"
   ],
   "metadata": {
    "collapsed": false
   }
  },
  {
   "cell_type": "code",
   "execution_count": 7,
   "outputs": [
    {
     "data": {
      "text/plain": "           boolean_rule  inModel  lowerBound notes  upperBound  \\\nidreaction                                                       \n22563               NaN        0           0   NaN        1000   \n28833               NaN        0           0   NaN        1000   \n28884               NaN        0           0   NaN        1000   \n28885               NaN        0           0   NaN        1000   \n28886               NaN        0           0   NaN        1000   \n\n            compartment_idcompartment  model_reaction_labels_idreaction_label  \\\nidreaction                                                                      \n22563                              15                                   11143   \n28833                              14                                   17419   \n28884                              14                                   17469   \n28885                              16                                   17687   \n28886                              16                                   17688   \n\n            idreaction_label  \\\nidreaction                     \n22563                  11143   \n28833                  17419   \n28884                  17469   \n28885                  17687   \n28886                  17688   \n\n                                                     equation  isGeneric  \\\nidreaction                                                                 \n22563       Dodecanoic acid + Linoleate + Octadecanoic aci...          0   \n28833       1-octadecanoyl-2-(9Z-octadecenoyl)-sn-glycero-...          0   \n28884       1,2-Diacyl-sn-glycerol + CDP-ethanolamine => P...          0   \n28885       ATP (cytop) + H2O (cytop) + Phosphatidylethano...          0   \n28886       ATP (e.r.) + H2O (e.r.) + Phosphatidylethanola...          0   \n\n            isNonEnzymatic  isSpontaneous                        name  source  \nidreaction                                                                     \n22563                    0              0  R_e-FreeFattyAcid_complete  MANUAL  \n28833                    0              0             R_e_PE_complete  MANUAL  \n28884                    0              0                    BMGR0001  MANUAL  \n28885                    0              0                    BMGR0219  MANUAL  \n28886                    0              0                    BMGR0220  MANUAL  ",
      "text/html": "<div>\n<style scoped>\n    .dataframe tbody tr th:only-of-type {\n        vertical-align: middle;\n    }\n\n    .dataframe tbody tr th {\n        vertical-align: top;\n    }\n\n    .dataframe thead th {\n        text-align: right;\n    }\n</style>\n<table border=\"1\" class=\"dataframe\">\n  <thead>\n    <tr style=\"text-align: right;\">\n      <th></th>\n      <th>boolean_rule</th>\n      <th>inModel</th>\n      <th>lowerBound</th>\n      <th>notes</th>\n      <th>upperBound</th>\n      <th>compartment_idcompartment</th>\n      <th>model_reaction_labels_idreaction_label</th>\n      <th>idreaction_label</th>\n      <th>equation</th>\n      <th>isGeneric</th>\n      <th>isNonEnzymatic</th>\n      <th>isSpontaneous</th>\n      <th>name</th>\n      <th>source</th>\n    </tr>\n    <tr>\n      <th>idreaction</th>\n      <th></th>\n      <th></th>\n      <th></th>\n      <th></th>\n      <th></th>\n      <th></th>\n      <th></th>\n      <th></th>\n      <th></th>\n      <th></th>\n      <th></th>\n      <th></th>\n      <th></th>\n      <th></th>\n    </tr>\n  </thead>\n  <tbody>\n    <tr>\n      <th>22563</th>\n      <td>NaN</td>\n      <td>0</td>\n      <td>0</td>\n      <td>NaN</td>\n      <td>1000</td>\n      <td>15</td>\n      <td>11143</td>\n      <td>11143</td>\n      <td>Dodecanoic acid + Linoleate + Octadecanoic aci...</td>\n      <td>0</td>\n      <td>0</td>\n      <td>0</td>\n      <td>R_e-FreeFattyAcid_complete</td>\n      <td>MANUAL</td>\n    </tr>\n    <tr>\n      <th>28833</th>\n      <td>NaN</td>\n      <td>0</td>\n      <td>0</td>\n      <td>NaN</td>\n      <td>1000</td>\n      <td>14</td>\n      <td>17419</td>\n      <td>17419</td>\n      <td>1-octadecanoyl-2-(9Z-octadecenoyl)-sn-glycero-...</td>\n      <td>0</td>\n      <td>0</td>\n      <td>0</td>\n      <td>R_e_PE_complete</td>\n      <td>MANUAL</td>\n    </tr>\n    <tr>\n      <th>28884</th>\n      <td>NaN</td>\n      <td>0</td>\n      <td>0</td>\n      <td>NaN</td>\n      <td>1000</td>\n      <td>14</td>\n      <td>17469</td>\n      <td>17469</td>\n      <td>1,2-Diacyl-sn-glycerol + CDP-ethanolamine =&gt; P...</td>\n      <td>0</td>\n      <td>0</td>\n      <td>0</td>\n      <td>BMGR0001</td>\n      <td>MANUAL</td>\n    </tr>\n    <tr>\n      <th>28885</th>\n      <td>NaN</td>\n      <td>0</td>\n      <td>0</td>\n      <td>NaN</td>\n      <td>1000</td>\n      <td>16</td>\n      <td>17687</td>\n      <td>17687</td>\n      <td>ATP (cytop) + H2O (cytop) + Phosphatidylethano...</td>\n      <td>0</td>\n      <td>0</td>\n      <td>0</td>\n      <td>BMGR0219</td>\n      <td>MANUAL</td>\n    </tr>\n    <tr>\n      <th>28886</th>\n      <td>NaN</td>\n      <td>0</td>\n      <td>0</td>\n      <td>NaN</td>\n      <td>1000</td>\n      <td>16</td>\n      <td>17688</td>\n      <td>17688</td>\n      <td>ATP (e.r.) + H2O (e.r.) + Phosphatidylethanola...</td>\n      <td>0</td>\n      <td>0</td>\n      <td>0</td>\n      <td>BMGR0220</td>\n      <td>MANUAL</td>\n    </tr>\n  </tbody>\n</table>\n</div>"
     },
     "execution_count": 7,
     "metadata": {},
     "output_type": "execute_result"
    }
   ],
   "source": [
    "reactions.head()"
   ],
   "metadata": {
    "collapsed": false
   }
  },
  {
   "cell_type": "code",
   "execution_count": 23,
   "outputs": [
    {
     "data": {
      "text/plain": "            charge entry_type external_identifier     formula  \\\nidcompound                                                      \n8820             0   COMPOUND             BMGC295  C37H72NO8P   \n8821             0   COMPOUND           BMGC61316    C35H66O5   \n8822             0   COMPOUND             BMGC290   C35H65O8P   \n8824             0   COMPOUND           BMGC12583  C37H70NO8P   \n8825             0   COMPOUND           BMGC61238    C35H64O5   \n\n            hasBiologicalRoles inchi  molecular_weight  \\\nidcompound                                               \n8820                       0.0   NaN               0.0   \n8821                       0.0   NaN               0.0   \n8822                       0.0   NaN               0.0   \n8824                       0.0   NaN               0.0   \n8825                       0.0   NaN               0.0   \n\n                                                         name neutral_formula  \\\nidcompound                                                                      \n8820        1-hexadecanoyl-2-(9Z-hexadecenoyl)-sn-glycero-...             NaN   \n8821           1-hexadecanoyl-2-(9Z-hexadecenoyl)-sn-glycerol             NaN   \n8822        1-hexadecanoyl-2-(9Z-hexadecenoyl)-sn-glycero-...             NaN   \n8824        1,2-di-(9Z-hexadecenoyl)-sn-glycero-3-phosphoe...             NaN   \n8825                     1,2-di-(9Z-hexadecenoyl)-sn-glycerol             NaN   \n\n           smiles  \nidcompound         \n8820          NaN  \n8821          NaN  \n8822          NaN  \n8824          NaN  \n8825          NaN  ",
      "text/html": "<div>\n<style scoped>\n    .dataframe tbody tr th:only-of-type {\n        vertical-align: middle;\n    }\n\n    .dataframe tbody tr th {\n        vertical-align: top;\n    }\n\n    .dataframe thead th {\n        text-align: right;\n    }\n</style>\n<table border=\"1\" class=\"dataframe\">\n  <thead>\n    <tr style=\"text-align: right;\">\n      <th></th>\n      <th>charge</th>\n      <th>entry_type</th>\n      <th>external_identifier</th>\n      <th>formula</th>\n      <th>hasBiologicalRoles</th>\n      <th>inchi</th>\n      <th>molecular_weight</th>\n      <th>name</th>\n      <th>neutral_formula</th>\n      <th>smiles</th>\n    </tr>\n    <tr>\n      <th>idcompound</th>\n      <th></th>\n      <th></th>\n      <th></th>\n      <th></th>\n      <th></th>\n      <th></th>\n      <th></th>\n      <th></th>\n      <th></th>\n      <th></th>\n    </tr>\n  </thead>\n  <tbody>\n    <tr>\n      <th>8820</th>\n      <td>0</td>\n      <td>COMPOUND</td>\n      <td>BMGC295</td>\n      <td>C37H72NO8P</td>\n      <td>0.0</td>\n      <td>NaN</td>\n      <td>0.0</td>\n      <td>1-hexadecanoyl-2-(9Z-hexadecenoyl)-sn-glycero-...</td>\n      <td>NaN</td>\n      <td>NaN</td>\n    </tr>\n    <tr>\n      <th>8821</th>\n      <td>0</td>\n      <td>COMPOUND</td>\n      <td>BMGC61316</td>\n      <td>C35H66O5</td>\n      <td>0.0</td>\n      <td>NaN</td>\n      <td>0.0</td>\n      <td>1-hexadecanoyl-2-(9Z-hexadecenoyl)-sn-glycerol</td>\n      <td>NaN</td>\n      <td>NaN</td>\n    </tr>\n    <tr>\n      <th>8822</th>\n      <td>0</td>\n      <td>COMPOUND</td>\n      <td>BMGC290</td>\n      <td>C35H65O8P</td>\n      <td>0.0</td>\n      <td>NaN</td>\n      <td>0.0</td>\n      <td>1-hexadecanoyl-2-(9Z-hexadecenoyl)-sn-glycero-...</td>\n      <td>NaN</td>\n      <td>NaN</td>\n    </tr>\n    <tr>\n      <th>8824</th>\n      <td>0</td>\n      <td>COMPOUND</td>\n      <td>BMGC12583</td>\n      <td>C37H70NO8P</td>\n      <td>0.0</td>\n      <td>NaN</td>\n      <td>0.0</td>\n      <td>1,2-di-(9Z-hexadecenoyl)-sn-glycero-3-phosphoe...</td>\n      <td>NaN</td>\n      <td>NaN</td>\n    </tr>\n    <tr>\n      <th>8825</th>\n      <td>0</td>\n      <td>COMPOUND</td>\n      <td>BMGC61238</td>\n      <td>C35H64O5</td>\n      <td>0.0</td>\n      <td>NaN</td>\n      <td>0.0</td>\n      <td>1,2-di-(9Z-hexadecenoyl)-sn-glycerol</td>\n      <td>NaN</td>\n      <td>NaN</td>\n    </tr>\n  </tbody>\n</table>\n</div>"
     },
     "execution_count": 23,
     "metadata": {},
     "output_type": "execute_result"
    }
   ],
   "source": [
    "compounds.head()"
   ],
   "metadata": {
    "collapsed": false
   }
  },
  {
   "cell_type": "code",
   "execution_count": 32,
   "outputs": [],
   "source": [
    "compartments_map = {4: 37, 5: 39, 6: 38, 7: 40, 8: 42, 9: 41, 10: 43, 11: 44, 12: 45, 13: 47, 14: 46, 15: 48, 16: 49, 17: 50, 18: 51, 19: 52,20: 53, 22:54, 25: 57}"
   ],
   "metadata": {
    "collapsed": false
   }
  },
  {
   "cell_type": "code",
   "execution_count": 33,
   "outputs": [],
   "source": [
    "reactions['compartment_idcompartment'] = reactions['compartment_idcompartment'].replace(compartments_map)"
   ],
   "metadata": {
    "collapsed": false
   }
  },
  {
   "cell_type": "code",
   "execution_count": 10,
   "outputs": [
    {
     "data": {
      "text/plain": "   idreaction boolean_rule  inModel  lowerBound notes  upperBound  \\\n0       22563          NaN        0           0   NaN        1000   \n1       28833          NaN        0           0   NaN        1000   \n2       28884          NaN        0           0   NaN        1000   \n3       28885          NaN        0           0   NaN        1000   \n4       28886          NaN        0           0   NaN        1000   \n\n   compartment_idcompartment  model_reaction_labels_idreaction_label  \\\n0                         48                                   11143   \n1                         46                                   17419   \n2                         46                                   17469   \n3                         49                                   17687   \n4                         49                                   17688   \n\n   idreaction_label                                           equation  \\\n0             11143  Dodecanoic acid + Linoleate + Octadecanoic aci...   \n1             17419  1-octadecanoyl-2-(9Z-octadecenoyl)-sn-glycero-...   \n2             17469  1,2-Diacyl-sn-glycerol + CDP-ethanolamine => P...   \n3             17687  ATP (cytop) + H2O (cytop) + Phosphatidylethano...   \n4             17688  ATP (e.r.) + H2O (e.r.) + Phosphatidylethanola...   \n\n   isGeneric  isNonEnzymatic  isSpontaneous                        name  \\\n0          0               0              0  R_e-FreeFattyAcid_complete   \n1          0               0              0             R_e_PE_complete   \n2          0               0              0                    BMGR0001   \n3          0               0              0                    BMGR0219   \n4          0               0              0                    BMGR0220   \n\n   source  \n0  MANUAL  \n1  MANUAL  \n2  MANUAL  \n3  MANUAL  \n4  MANUAL  ",
      "text/html": "<div>\n<style scoped>\n    .dataframe tbody tr th:only-of-type {\n        vertical-align: middle;\n    }\n\n    .dataframe tbody tr th {\n        vertical-align: top;\n    }\n\n    .dataframe thead th {\n        text-align: right;\n    }\n</style>\n<table border=\"1\" class=\"dataframe\">\n  <thead>\n    <tr style=\"text-align: right;\">\n      <th></th>\n      <th>idreaction</th>\n      <th>boolean_rule</th>\n      <th>inModel</th>\n      <th>lowerBound</th>\n      <th>notes</th>\n      <th>upperBound</th>\n      <th>compartment_idcompartment</th>\n      <th>model_reaction_labels_idreaction_label</th>\n      <th>idreaction_label</th>\n      <th>equation</th>\n      <th>isGeneric</th>\n      <th>isNonEnzymatic</th>\n      <th>isSpontaneous</th>\n      <th>name</th>\n      <th>source</th>\n    </tr>\n  </thead>\n  <tbody>\n    <tr>\n      <th>0</th>\n      <td>22563</td>\n      <td>NaN</td>\n      <td>0</td>\n      <td>0</td>\n      <td>NaN</td>\n      <td>1000</td>\n      <td>48</td>\n      <td>11143</td>\n      <td>11143</td>\n      <td>Dodecanoic acid + Linoleate + Octadecanoic aci...</td>\n      <td>0</td>\n      <td>0</td>\n      <td>0</td>\n      <td>R_e-FreeFattyAcid_complete</td>\n      <td>MANUAL</td>\n    </tr>\n    <tr>\n      <th>1</th>\n      <td>28833</td>\n      <td>NaN</td>\n      <td>0</td>\n      <td>0</td>\n      <td>NaN</td>\n      <td>1000</td>\n      <td>46</td>\n      <td>17419</td>\n      <td>17419</td>\n      <td>1-octadecanoyl-2-(9Z-octadecenoyl)-sn-glycero-...</td>\n      <td>0</td>\n      <td>0</td>\n      <td>0</td>\n      <td>R_e_PE_complete</td>\n      <td>MANUAL</td>\n    </tr>\n    <tr>\n      <th>2</th>\n      <td>28884</td>\n      <td>NaN</td>\n      <td>0</td>\n      <td>0</td>\n      <td>NaN</td>\n      <td>1000</td>\n      <td>46</td>\n      <td>17469</td>\n      <td>17469</td>\n      <td>1,2-Diacyl-sn-glycerol + CDP-ethanolamine =&gt; P...</td>\n      <td>0</td>\n      <td>0</td>\n      <td>0</td>\n      <td>BMGR0001</td>\n      <td>MANUAL</td>\n    </tr>\n    <tr>\n      <th>3</th>\n      <td>28885</td>\n      <td>NaN</td>\n      <td>0</td>\n      <td>0</td>\n      <td>NaN</td>\n      <td>1000</td>\n      <td>49</td>\n      <td>17687</td>\n      <td>17687</td>\n      <td>ATP (cytop) + H2O (cytop) + Phosphatidylethano...</td>\n      <td>0</td>\n      <td>0</td>\n      <td>0</td>\n      <td>BMGR0219</td>\n      <td>MANUAL</td>\n    </tr>\n    <tr>\n      <th>4</th>\n      <td>28886</td>\n      <td>NaN</td>\n      <td>0</td>\n      <td>0</td>\n      <td>NaN</td>\n      <td>1000</td>\n      <td>49</td>\n      <td>17688</td>\n      <td>17688</td>\n      <td>ATP (e.r.) + H2O (e.r.) + Phosphatidylethanola...</td>\n      <td>0</td>\n      <td>0</td>\n      <td>0</td>\n      <td>BMGR0220</td>\n      <td>MANUAL</td>\n    </tr>\n  </tbody>\n</table>\n</div>"
     },
     "execution_count": 10,
     "metadata": {},
     "output_type": "execute_result"
    }
   ],
   "source": [
    "reactions.head()"
   ],
   "metadata": {
    "collapsed": false
   }
  },
  {
   "cell_type": "code",
   "execution_count": 7,
   "outputs": [],
   "source": [
    "model_compound_new = pd.read_csv('model_compound_new.csv')"
   ],
   "metadata": {
    "collapsed": false
   }
  },
  {
   "cell_type": "code",
   "execution_count": 21,
   "outputs": [
    {
     "data": {
      "text/plain": "            charge entry_type external_identifier              formula  \\\nidcompound                                                               \n1              NaN   COMPOUND              C00420  C12H22O11(C6H10O5)n   \n2              NaN   COMPOUND              C01752              C10H8O4   \n3              NaN   COMPOUND              C01753              C29H50O   \n4              NaN   COMPOUND              C01755                  CNS   \n5              NaN   COMPOUND              C01756              C5H4N4S   \n\n            hasBiologicalRoles inchi  molecular_weight             name  \\\nidcompound                                                                \n1                          0.0   NaN               NaN   Polysaccharide   \n2                          0.0   NaN          192.1681       Scopoletin   \n3                          0.0   NaN          414.7067  beta-Sitosterol   \n4                          0.0   NaN           59.0903      Thiocyanate   \n5                          0.0   NaN          152.1771       Thiopurine   \n\n           neutral_formula smiles  \nidcompound                         \n1                      NaN    NaN  \n2                      NaN    NaN  \n3                      NaN    NaN  \n4                      NaN    NaN  \n5                      NaN    NaN  ",
      "text/html": "<div>\n<style scoped>\n    .dataframe tbody tr th:only-of-type {\n        vertical-align: middle;\n    }\n\n    .dataframe tbody tr th {\n        vertical-align: top;\n    }\n\n    .dataframe thead th {\n        text-align: right;\n    }\n</style>\n<table border=\"1\" class=\"dataframe\">\n  <thead>\n    <tr style=\"text-align: right;\">\n      <th></th>\n      <th>charge</th>\n      <th>entry_type</th>\n      <th>external_identifier</th>\n      <th>formula</th>\n      <th>hasBiologicalRoles</th>\n      <th>inchi</th>\n      <th>molecular_weight</th>\n      <th>name</th>\n      <th>neutral_formula</th>\n      <th>smiles</th>\n    </tr>\n    <tr>\n      <th>idcompound</th>\n      <th></th>\n      <th></th>\n      <th></th>\n      <th></th>\n      <th></th>\n      <th></th>\n      <th></th>\n      <th></th>\n      <th></th>\n      <th></th>\n    </tr>\n  </thead>\n  <tbody>\n    <tr>\n      <th>1</th>\n      <td>NaN</td>\n      <td>COMPOUND</td>\n      <td>C00420</td>\n      <td>C12H22O11(C6H10O5)n</td>\n      <td>0.0</td>\n      <td>NaN</td>\n      <td>NaN</td>\n      <td>Polysaccharide</td>\n      <td>NaN</td>\n      <td>NaN</td>\n    </tr>\n    <tr>\n      <th>2</th>\n      <td>NaN</td>\n      <td>COMPOUND</td>\n      <td>C01752</td>\n      <td>C10H8O4</td>\n      <td>0.0</td>\n      <td>NaN</td>\n      <td>192.1681</td>\n      <td>Scopoletin</td>\n      <td>NaN</td>\n      <td>NaN</td>\n    </tr>\n    <tr>\n      <th>3</th>\n      <td>NaN</td>\n      <td>COMPOUND</td>\n      <td>C01753</td>\n      <td>C29H50O</td>\n      <td>0.0</td>\n      <td>NaN</td>\n      <td>414.7067</td>\n      <td>beta-Sitosterol</td>\n      <td>NaN</td>\n      <td>NaN</td>\n    </tr>\n    <tr>\n      <th>4</th>\n      <td>NaN</td>\n      <td>COMPOUND</td>\n      <td>C01755</td>\n      <td>CNS</td>\n      <td>0.0</td>\n      <td>NaN</td>\n      <td>59.0903</td>\n      <td>Thiocyanate</td>\n      <td>NaN</td>\n      <td>NaN</td>\n    </tr>\n    <tr>\n      <th>5</th>\n      <td>NaN</td>\n      <td>COMPOUND</td>\n      <td>C01756</td>\n      <td>C5H4N4S</td>\n      <td>0.0</td>\n      <td>NaN</td>\n      <td>152.1771</td>\n      <td>Thiopurine</td>\n      <td>NaN</td>\n      <td>NaN</td>\n    </tr>\n  </tbody>\n</table>\n</div>"
     },
     "execution_count": 21,
     "metadata": {},
     "output_type": "execute_result"
    }
   ],
   "source": [
    "model_compound_new.head()"
   ],
   "metadata": {
    "collapsed": false
   }
  },
  {
   "cell_type": "code",
   "execution_count": 34,
   "outputs": [],
   "source": [
    "# get map idcompound from compounds to model_compound_new matching by external identifier\n",
    "idcompound_map = {}\n",
    "for i in range(len(compounds)):\n",
    "    idcompound_map[compounds.iloc[i]['idcompound']] = model_compound_new[model_compound_new['external_identifier'] == compounds.iloc[i]['external_identifier']].iloc[0]['idcompound']"
   ],
   "metadata": {
    "collapsed": false
   }
  },
  {
   "cell_type": "code",
   "execution_count": 35,
   "outputs": [],
   "source": [
    "stoichiometry['model_compound_idcompound'] = stoichiometry['model_compound_idcompound'].replace(idcompound_map)"
   ],
   "metadata": {
    "collapsed": false
   }
  },
  {
   "cell_type": "code",
   "execution_count": 36,
   "outputs": [
    {
     "data": {
      "text/plain": "   idstoichiometry  stoichiometric_coefficient  \\\n0                1                        -1.0   \n1                2                        -1.0   \n2                3                        -1.0   \n3                4                        -1.0   \n4                5                        -1.0   \n\n   model_compartment_idcompartment  model_compound_idcompound  \\\n0                                1                       2628   \n1                                1                        100   \n2                                1                        222   \n3                                1                       3278   \n4                                1                         94   \n\n   model_reaction_idreaction  \n0                          3  \n1                          4  \n2                          1  \n3                          2  \n4                          5  ",
      "text/html": "<div>\n<style scoped>\n    .dataframe tbody tr th:only-of-type {\n        vertical-align: middle;\n    }\n\n    .dataframe tbody tr th {\n        vertical-align: top;\n    }\n\n    .dataframe thead th {\n        text-align: right;\n    }\n</style>\n<table border=\"1\" class=\"dataframe\">\n  <thead>\n    <tr style=\"text-align: right;\">\n      <th></th>\n      <th>idstoichiometry</th>\n      <th>stoichiometric_coefficient</th>\n      <th>model_compartment_idcompartment</th>\n      <th>model_compound_idcompound</th>\n      <th>model_reaction_idreaction</th>\n    </tr>\n  </thead>\n  <tbody>\n    <tr>\n      <th>0</th>\n      <td>1</td>\n      <td>-1.0</td>\n      <td>1</td>\n      <td>2628</td>\n      <td>3</td>\n    </tr>\n    <tr>\n      <th>1</th>\n      <td>2</td>\n      <td>-1.0</td>\n      <td>1</td>\n      <td>100</td>\n      <td>4</td>\n    </tr>\n    <tr>\n      <th>2</th>\n      <td>3</td>\n      <td>-1.0</td>\n      <td>1</td>\n      <td>222</td>\n      <td>1</td>\n    </tr>\n    <tr>\n      <th>3</th>\n      <td>4</td>\n      <td>-1.0</td>\n      <td>1</td>\n      <td>3278</td>\n      <td>2</td>\n    </tr>\n    <tr>\n      <th>4</th>\n      <td>5</td>\n      <td>-1.0</td>\n      <td>1</td>\n      <td>94</td>\n      <td>5</td>\n    </tr>\n  </tbody>\n</table>\n</div>"
     },
     "execution_count": 36,
     "metadata": {},
     "output_type": "execute_result"
    }
   ],
   "source": [
    "stoichiometry.head()"
   ],
   "metadata": {
    "collapsed": false
   }
  },
  {
   "cell_type": "code",
   "execution_count": 45,
   "outputs": [
    {
     "data": {
      "text/plain": "Index(['idreaction', 'boolean_rule', 'inModel', 'lowerBound', 'notes',\n       'upperBound', 'compartment_idcompartment',\n       'model_reaction_labels_idreaction_label', 'idreaction_label',\n       'equation', 'isGeneric', 'isNonEnzymatic', 'isSpontaneous', 'name',\n       'source'],\n      dtype='object')"
     },
     "execution_count": 45,
     "metadata": {},
     "output_type": "execute_result"
    }
   ],
   "source": [
    "reactions.columns"
   ],
   "metadata": {
    "collapsed": false
   }
  },
  {
   "cell_type": "code",
   "execution_count": 10,
   "outputs": [],
   "source": [
    "model_reaction_labels = reactions[['idreaction_label', 'equation', 'name', 'source']]"
   ],
   "metadata": {
    "collapsed": false
   }
  },
  {
   "cell_type": "code",
   "execution_count": 48,
   "outputs": [],
   "source": [
    "model_reaction_labels.to_csv('model_reaction_labels.csv', index=False)"
   ],
   "metadata": {
    "collapsed": false
   }
  },
  {
   "cell_type": "code",
   "execution_count": 11,
   "outputs": [
    {
     "data": {
      "text/plain": "   idreaction_label                                           equation  \\\n0                 1        Choloyl-CoA + Glycine => CoA + Glycocholate   \n1                 2  Propanoyl-CoA + Choloyl-CoA => CoA + 3alpha,7a...   \n2                 3  UDP-glucose + trans-2-Hydroxycinnamate <=> UDP...   \n3                 4  11beta,21-Dihydroxy-3,20-oxo-5beta-pregnan-18-...   \n4                 5    Actinomycin + H2O <=> Actinomycinic monolactone   \n\n   isGeneric  isNonEnzymatic  isSpontaneous    name source  \n0        0.0             0.0            0.0  R03718   KEGG  \n1        0.0             0.0            0.0  R03719   KEGG  \n2        0.0             0.0            0.0  R03710   KEGG  \n3        0.0             0.0            0.0  R03713   KEGG  \n4        0.0             0.0            0.0  R03711   KEGG  ",
      "text/html": "<div>\n<style scoped>\n    .dataframe tbody tr th:only-of-type {\n        vertical-align: middle;\n    }\n\n    .dataframe tbody tr th {\n        vertical-align: top;\n    }\n\n    .dataframe thead th {\n        text-align: right;\n    }\n</style>\n<table border=\"1\" class=\"dataframe\">\n  <thead>\n    <tr style=\"text-align: right;\">\n      <th></th>\n      <th>idreaction_label</th>\n      <th>equation</th>\n      <th>isGeneric</th>\n      <th>isNonEnzymatic</th>\n      <th>isSpontaneous</th>\n      <th>name</th>\n      <th>source</th>\n    </tr>\n  </thead>\n  <tbody>\n    <tr>\n      <th>0</th>\n      <td>1</td>\n      <td>Choloyl-CoA + Glycine =&gt; CoA + Glycocholate</td>\n      <td>0.0</td>\n      <td>0.0</td>\n      <td>0.0</td>\n      <td>R03718</td>\n      <td>KEGG</td>\n    </tr>\n    <tr>\n      <th>1</th>\n      <td>2</td>\n      <td>Propanoyl-CoA + Choloyl-CoA =&gt; CoA + 3alpha,7a...</td>\n      <td>0.0</td>\n      <td>0.0</td>\n      <td>0.0</td>\n      <td>R03719</td>\n      <td>KEGG</td>\n    </tr>\n    <tr>\n      <th>2</th>\n      <td>3</td>\n      <td>UDP-glucose + trans-2-Hydroxycinnamate &lt;=&gt; UDP...</td>\n      <td>0.0</td>\n      <td>0.0</td>\n      <td>0.0</td>\n      <td>R03710</td>\n      <td>KEGG</td>\n    </tr>\n    <tr>\n      <th>3</th>\n      <td>4</td>\n      <td>11beta,21-Dihydroxy-3,20-oxo-5beta-pregnan-18-...</td>\n      <td>0.0</td>\n      <td>0.0</td>\n      <td>0.0</td>\n      <td>R03713</td>\n      <td>KEGG</td>\n    </tr>\n    <tr>\n      <th>4</th>\n      <td>5</td>\n      <td>Actinomycin + H2O &lt;=&gt; Actinomycinic monolactone</td>\n      <td>0.0</td>\n      <td>0.0</td>\n      <td>0.0</td>\n      <td>R03711</td>\n      <td>KEGG</td>\n    </tr>\n  </tbody>\n</table>\n</div>"
     },
     "execution_count": 11,
     "metadata": {},
     "output_type": "execute_result"
    }
   ],
   "source": [
    "model_reaction_labels_new = pd.read_csv('model_reaction_labels_new.csv')\n",
    "model_reaction_labels_new.head()"
   ],
   "metadata": {
    "collapsed": false
   }
  },
  {
   "cell_type": "code",
   "execution_count": 12,
   "outputs": [],
   "source": [
    "idreaction_label_map = {}\n",
    "for i in range(len(model_reaction_labels)):\n",
    "    idreaction_label_map[model_reaction_labels.iloc[i]['idreaction_label']] = model_reaction_labels_new[model_reaction_labels_new['name'] == model_reaction_labels.iloc[i]['name']].iloc[0]['idreaction_label']"
   ],
   "metadata": {
    "collapsed": false
   }
  },
  {
   "cell_type": "code",
   "execution_count": 13,
   "outputs": [
    {
     "data": {
      "text/plain": "   idreaction boolean_rule  inModel  lowerBound  upperBound  \\\n0       22563          NaN        0           0        1000   \n1       28833          NaN        0           0        1000   \n2       28884          NaN        0           0        1000   \n3       28885          NaN        0           0        1000   \n4       28886          NaN        0           0        1000   \n\n   compartment_idcompartment notes  model_reaction_labels_idreaction_label  \n0                         48   NaN                                   11143  \n1                         46   NaN                                   17419  \n2                         46   NaN                                   17469  \n3                         49   NaN                                   17687  \n4                         49   NaN                                   17688  ",
      "text/html": "<div>\n<style scoped>\n    .dataframe tbody tr th:only-of-type {\n        vertical-align: middle;\n    }\n\n    .dataframe tbody tr th {\n        vertical-align: top;\n    }\n\n    .dataframe thead th {\n        text-align: right;\n    }\n</style>\n<table border=\"1\" class=\"dataframe\">\n  <thead>\n    <tr style=\"text-align: right;\">\n      <th></th>\n      <th>idreaction</th>\n      <th>boolean_rule</th>\n      <th>inModel</th>\n      <th>lowerBound</th>\n      <th>upperBound</th>\n      <th>compartment_idcompartment</th>\n      <th>notes</th>\n      <th>model_reaction_labels_idreaction_label</th>\n    </tr>\n  </thead>\n  <tbody>\n    <tr>\n      <th>0</th>\n      <td>22563</td>\n      <td>NaN</td>\n      <td>0</td>\n      <td>0</td>\n      <td>1000</td>\n      <td>48</td>\n      <td>NaN</td>\n      <td>11143</td>\n    </tr>\n    <tr>\n      <th>1</th>\n      <td>28833</td>\n      <td>NaN</td>\n      <td>0</td>\n      <td>0</td>\n      <td>1000</td>\n      <td>46</td>\n      <td>NaN</td>\n      <td>17419</td>\n    </tr>\n    <tr>\n      <th>2</th>\n      <td>28884</td>\n      <td>NaN</td>\n      <td>0</td>\n      <td>0</td>\n      <td>1000</td>\n      <td>46</td>\n      <td>NaN</td>\n      <td>17469</td>\n    </tr>\n    <tr>\n      <th>3</th>\n      <td>28885</td>\n      <td>NaN</td>\n      <td>0</td>\n      <td>0</td>\n      <td>1000</td>\n      <td>49</td>\n      <td>NaN</td>\n      <td>17687</td>\n    </tr>\n    <tr>\n      <th>4</th>\n      <td>28886</td>\n      <td>NaN</td>\n      <td>0</td>\n      <td>0</td>\n      <td>1000</td>\n      <td>49</td>\n      <td>NaN</td>\n      <td>17688</td>\n    </tr>\n  </tbody>\n</table>\n</div>"
     },
     "execution_count": 13,
     "metadata": {},
     "output_type": "execute_result"
    }
   ],
   "source": [
    "model_reaction = reactions[['idreaction', 'boolean_rule', 'inModel','lowerBound', 'upperBound', 'compartment_idcompartment', 'notes', 'model_reaction_labels_idreaction_label']]\n",
    "model_reaction.head()"
   ],
   "metadata": {
    "collapsed": false
   }
  },
  {
   "cell_type": "code",
   "execution_count": 14,
   "outputs": [
    {
     "name": "stderr",
     "output_type": "stream",
     "text": [
      "C:\\Users\\Bisbii\\AppData\\Local\\Temp/ipykernel_26580/3080443213.py:1: SettingWithCopyWarning: \n",
      "A value is trying to be set on a copy of a slice from a DataFrame.\n",
      "Try using .loc[row_indexer,col_indexer] = value instead\n",
      "\n",
      "See the caveats in the documentation: https://pandas.pydata.org/pandas-docs/stable/user_guide/indexing.html#returning-a-view-versus-a-copy\n",
      "  model_reaction['model_reaction_labels_idreaction_label'] = model_reaction['model_reaction_labels_idreaction_label'].replace(idreaction_label_map)\n"
     ]
    }
   ],
   "source": [
    "model_reaction['model_reaction_labels_idreaction_label'] = model_reaction['model_reaction_labels_idreaction_label'].replace(idreaction_label_map)"
   ],
   "metadata": {
    "collapsed": false
   }
  },
  {
   "cell_type": "code",
   "execution_count": 32,
   "outputs": [
    {
     "data": {
      "text/plain": "   idreaction boolean_rule  inModel  lowerBound  upperBound  \\\n0       22563          NaN        0           0        1000   \n1       28833          NaN        0           0        1000   \n2       28884          NaN        0           0        1000   \n3       28885          NaN        0           0        1000   \n4       28886          NaN        0           0        1000   \n\n   compartment_idcompartment notes  model_reaction_labels_idreaction_label  \n0                         48   NaN                                   20896  \n1                         46   NaN                                   20897  \n2                         46   NaN                                   20898  \n3                         49   NaN                                   20899  \n4                         49   NaN                                   20900  ",
      "text/html": "<div>\n<style scoped>\n    .dataframe tbody tr th:only-of-type {\n        vertical-align: middle;\n    }\n\n    .dataframe tbody tr th {\n        vertical-align: top;\n    }\n\n    .dataframe thead th {\n        text-align: right;\n    }\n</style>\n<table border=\"1\" class=\"dataframe\">\n  <thead>\n    <tr style=\"text-align: right;\">\n      <th></th>\n      <th>idreaction</th>\n      <th>boolean_rule</th>\n      <th>inModel</th>\n      <th>lowerBound</th>\n      <th>upperBound</th>\n      <th>compartment_idcompartment</th>\n      <th>notes</th>\n      <th>model_reaction_labels_idreaction_label</th>\n    </tr>\n  </thead>\n  <tbody>\n    <tr>\n      <th>0</th>\n      <td>22563</td>\n      <td>NaN</td>\n      <td>0</td>\n      <td>0</td>\n      <td>1000</td>\n      <td>48</td>\n      <td>NaN</td>\n      <td>20896</td>\n    </tr>\n    <tr>\n      <th>1</th>\n      <td>28833</td>\n      <td>NaN</td>\n      <td>0</td>\n      <td>0</td>\n      <td>1000</td>\n      <td>46</td>\n      <td>NaN</td>\n      <td>20897</td>\n    </tr>\n    <tr>\n      <th>2</th>\n      <td>28884</td>\n      <td>NaN</td>\n      <td>0</td>\n      <td>0</td>\n      <td>1000</td>\n      <td>46</td>\n      <td>NaN</td>\n      <td>20898</td>\n    </tr>\n    <tr>\n      <th>3</th>\n      <td>28885</td>\n      <td>NaN</td>\n      <td>0</td>\n      <td>0</td>\n      <td>1000</td>\n      <td>49</td>\n      <td>NaN</td>\n      <td>20899</td>\n    </tr>\n    <tr>\n      <th>4</th>\n      <td>28886</td>\n      <td>NaN</td>\n      <td>0</td>\n      <td>0</td>\n      <td>1000</td>\n      <td>49</td>\n      <td>NaN</td>\n      <td>20900</td>\n    </tr>\n  </tbody>\n</table>\n</div>"
     },
     "execution_count": 32,
     "metadata": {},
     "output_type": "execute_result"
    }
   ],
   "source": [
    "model_reaction.head()"
   ],
   "metadata": {
    "collapsed": false
   }
  },
  {
   "cell_type": "code",
   "execution_count": 33,
   "outputs": [],
   "source": [
    "model_reaction.to_csv('model_reaction.csv', index=False)"
   ],
   "metadata": {
    "collapsed": false
   }
  },
  {
   "cell_type": "code",
   "execution_count": 15,
   "outputs": [
    {
     "data": {
      "text/plain": "(6666, 8)"
     },
     "execution_count": 15,
     "metadata": {},
     "output_type": "execute_result"
    }
   ],
   "source": [
    "model_reaction.shape"
   ],
   "metadata": {
    "collapsed": false
   }
  },
  {
   "cell_type": "code",
   "execution_count": 22,
   "outputs": [],
   "source": [
    "model_reaction_new = pd.read_csv('model_reaction_new.csv')\n",
    "model_reaction_new = model_reaction_new.loc[model_reaction_new['model_reaction_labels_idreaction_label'].isin(model_reaction['model_reaction_labels_idreaction_label'])]"
   ],
   "metadata": {
    "collapsed": false
   }
  },
  {
   "cell_type": "code",
   "execution_count": 27,
   "outputs": [],
   "source": [
    "idreaction_map = {}\n",
    "for i in range(len(model_reaction)):\n",
    "    idreaction_map[model_reaction.iloc[i]['idreaction']] = model_reaction_new[model_reaction_new['model_reaction_labels_idreaction_label'] == model_reaction.iloc[i]['model_reaction_labels_idreaction_label']].iloc[0]['idreaction']"
   ],
   "metadata": {
    "collapsed": false
   }
  },
  {
   "cell_type": "code",
   "execution_count": 37,
   "outputs": [],
   "source": [
    "stoichiometry['model_reaction_idreaction'] = stoichiometry['model_reaction_idreaction'].replace(idreaction_map)"
   ],
   "metadata": {
    "collapsed": false
   }
  },
  {
   "cell_type": "code",
   "execution_count": 38,
   "outputs": [],
   "source": [
    "stoichiometry['model_compartment_idcompartment'] = stoichiometry['model_compartment_idcompartment'].replace(compartments_map)"
   ],
   "metadata": {
    "collapsed": false
   }
  },
  {
   "cell_type": "code",
   "execution_count": 39,
   "outputs": [
    {
     "data": {
      "text/plain": "   idstoichiometry  stoichiometric_coefficient  \\\n0                1                        -1.0   \n1                2                        -1.0   \n2                3                        -1.0   \n3                4                        -1.0   \n4                5                        -1.0   \n\n   model_compartment_idcompartment  model_compound_idcompound  \\\n0                                1                       2628   \n1                                1                        100   \n2                                1                        222   \n3                                1                       3278   \n4                                1                         94   \n\n   model_reaction_idreaction  \n0                          3  \n1                          4  \n2                          1  \n3                          2  \n4                          5  ",
      "text/html": "<div>\n<style scoped>\n    .dataframe tbody tr th:only-of-type {\n        vertical-align: middle;\n    }\n\n    .dataframe tbody tr th {\n        vertical-align: top;\n    }\n\n    .dataframe thead th {\n        text-align: right;\n    }\n</style>\n<table border=\"1\" class=\"dataframe\">\n  <thead>\n    <tr style=\"text-align: right;\">\n      <th></th>\n      <th>idstoichiometry</th>\n      <th>stoichiometric_coefficient</th>\n      <th>model_compartment_idcompartment</th>\n      <th>model_compound_idcompound</th>\n      <th>model_reaction_idreaction</th>\n    </tr>\n  </thead>\n  <tbody>\n    <tr>\n      <th>0</th>\n      <td>1</td>\n      <td>-1.0</td>\n      <td>1</td>\n      <td>2628</td>\n      <td>3</td>\n    </tr>\n    <tr>\n      <th>1</th>\n      <td>2</td>\n      <td>-1.0</td>\n      <td>1</td>\n      <td>100</td>\n      <td>4</td>\n    </tr>\n    <tr>\n      <th>2</th>\n      <td>3</td>\n      <td>-1.0</td>\n      <td>1</td>\n      <td>222</td>\n      <td>1</td>\n    </tr>\n    <tr>\n      <th>3</th>\n      <td>4</td>\n      <td>-1.0</td>\n      <td>1</td>\n      <td>3278</td>\n      <td>2</td>\n    </tr>\n    <tr>\n      <th>4</th>\n      <td>5</td>\n      <td>-1.0</td>\n      <td>1</td>\n      <td>94</td>\n      <td>5</td>\n    </tr>\n  </tbody>\n</table>\n</div>"
     },
     "execution_count": 39,
     "metadata": {},
     "output_type": "execute_result"
    }
   ],
   "source": [
    "stoichiometry.head()"
   ],
   "metadata": {
    "collapsed": false
   }
  },
  {
   "cell_type": "code",
   "execution_count": 40,
   "outputs": [],
   "source": [
    "stoichiometry.to_csv('model_stoichiometry_new.csv', index=False)"
   ],
   "metadata": {
    "collapsed": false
   }
  }
 ],
 "metadata": {
  "kernelspec": {
   "display_name": "Python 3",
   "language": "python",
   "name": "python3"
  },
  "language_info": {
   "codemirror_mode": {
    "name": "ipython",
    "version": 2
   },
   "file_extension": ".py",
   "mimetype": "text/x-python",
   "name": "python",
   "nbconvert_exporter": "python",
   "pygments_lexer": "ipython2",
   "version": "2.7.6"
  }
 },
 "nbformat": 4,
 "nbformat_minor": 0
}
