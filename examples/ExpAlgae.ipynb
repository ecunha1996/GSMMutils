{
 "cells": [
  {
   "cell_type": "code",
   "execution_count": 19,
   "outputs": [],
   "source": [
    "import sys\n",
    "\n",
    "from cobra.io import read_sbml_model\n",
    "\n",
    "sys.path.insert(0, r\"C:\\Users\\Bisbii\\PythonProjects\\ExpAlgae\\src\")\n",
    "from ExpAlgae.model.COBRAmodel import *\n",
    "from cobra.flux_analysis import pfba, find_blocked_reactions, flux_variability_analysis as fva\n",
    "from mewpy.model.gecko import GeckoModel\n",
    "from reframed.io.sbml import load_cbmodel"
   ],
   "metadata": {
    "collapsed": false
   }
  },
  {
   "cell_type": "code",
   "execution_count": 31,
   "outputs": [
    {
     "name": "stdout",
     "output_type": "stream",
     "text": [
      "Loading\n",
      "\n",
      "Reactions: 4588\n",
      "Metabolites: 3656\n",
      "Genes: 1690\n",
      "Model loaded\n"
     ]
    }
   ],
   "source": [
    "data_directory = \"../data\"\n",
    "model = MyModel(join(data_directory, \"models/model_with_trials.xml\"), \"e_Biomass__cytop\")\n",
    "model.add_medium(join(data_directory, \"media.xlsx\"), \"base_medium\")"
   ],
   "metadata": {
    "collapsed": false
   }
  },
  {
   "cell_type": "code",
   "execution_count": 32,
   "outputs": [],
   "source": [
    "model.reactions.DM_C00404__vacu.bounds = (-0.01, 1000)"
   ],
   "metadata": {
    "collapsed": false
   }
  },
  {
   "cell_type": "code",
   "execution_count": 34,
   "outputs": [
    {
     "data": {
      "text/plain": "                      Flux\nH2O            1500.000000\nH+               99.382549\nPolyphosphate     2.939357",
      "text/html": "<div>\n<style scoped>\n    .dataframe tbody tr th:only-of-type {\n        vertical-align: middle;\n    }\n\n    .dataframe tbody tr th {\n        vertical-align: top;\n    }\n\n    .dataframe thead th {\n        text-align: right;\n    }\n</style>\n<table border=\"1\" class=\"dataframe\">\n  <thead>\n    <tr style=\"text-align: right;\">\n      <th></th>\n      <th>Flux</th>\n    </tr>\n  </thead>\n  <tbody>\n    <tr>\n      <th>H2O</th>\n      <td>1500.000000</td>\n    </tr>\n    <tr>\n      <th>H+</th>\n      <td>99.382549</td>\n    </tr>\n    <tr>\n      <th>Polyphosphate</th>\n      <td>2.939357</td>\n    </tr>\n  </tbody>\n</table>\n</div>"
     },
     "execution_count": 34,
     "metadata": {},
     "output_type": "execute_result"
    }
   ],
   "source": [
    "model.test_reaction(\"R03042__vacu\")"
   ],
   "metadata": {
    "collapsed": false
   }
  },
  {
   "cell_type": "code",
   "execution_count": 36,
   "outputs": [
    {
     "data": {
      "text/plain": "                  minimum   maximum\nDM_C00404__vacu -0.001315  1.559168",
      "text/html": "<div>\n<style scoped>\n    .dataframe tbody tr th:only-of-type {\n        vertical-align: middle;\n    }\n\n    .dataframe tbody tr th {\n        vertical-align: top;\n    }\n\n    .dataframe thead th {\n        text-align: right;\n    }\n</style>\n<table border=\"1\" class=\"dataframe\">\n  <thead>\n    <tr style=\"text-align: right;\">\n      <th></th>\n      <th>minimum</th>\n      <th>maximum</th>\n    </tr>\n  </thead>\n  <tbody>\n    <tr>\n      <th>DM_C00404__vacu</th>\n      <td>-0.001315</td>\n      <td>1.559168</td>\n    </tr>\n  </tbody>\n</table>\n</div>"
     },
     "execution_count": 36,
     "metadata": {},
     "output_type": "execute_result"
    }
   ],
   "source": [
    "fva(model, ['DM_C00404__vacu'], fraction_of_optimum=0.9)"
   ],
   "metadata": {
    "collapsed": false
   }
  },
  {
   "cell_type": "code",
   "execution_count": 35,
   "outputs": [
    {
     "name": "stdout",
     "output_type": "stream",
     "text": [
      "Runnning pFBA\n",
      "Objective\n",
      "=========\n",
      "1.0 e_Biomass_trial4__cytop = 1.7567534842773915\n",
      "\n",
      "Uptake\n",
      "------\n",
      "  Metabolite       Reaction      Flux  C-Number C-Flux\n",
      "C00001__extr EX_C00001__dra     59.12         0  0.00%\n",
      "C00009__extr EX_C00009__dra     0.266         0  0.00%\n",
      "C00011__extr EX_C00011__dra     72.03         1 99.77%\n",
      "C00059__extr EX_C00059__dra    0.1616         0  0.00%\n",
      "C00080__extr EX_C00080__dra    0.4334         0  0.00%\n",
      "C00120__extr EX_C00120__dra  0.006345        10  0.09%\n",
      "C00205__extr EX_C00205__dra      5000         0  0.00%\n",
      "C00244__extr EX_C00244__dra     3.861         0  0.00%\n",
      "C00305__extr EX_C00305__dra  0.000419         0  0.00%\n",
      "C00378__extr EX_C00378__dra  0.003645        12  0.06%\n",
      "C02823__extr EX_C02823__dra 0.0009812        63  0.09%\n",
      "C14818__extr EX_C14818__dra   0.02017         0  0.00%\n",
      "\n",
      "Secretion\n",
      "---------\n",
      "      Metabolite            Reaction       Flux  C-Number  C-Flux\n",
      "photon298__cytop DM_photon298__cytop     -1.111         0   0.00%\n",
      "  photon438__lum   DM_photon438__lum     -164.8         0   0.00%\n",
      " photon450__chlo  DM_photon450__chlo     -136.8         0   0.00%\n",
      " photon490__chlo  DM_photon490__chlo     -759.3         0   0.00%\n",
      " photon646__chlo  DM_photon646__chlo      -1284         0   0.00%\n",
      "    C00007__extr      EX_C00007__dra     -87.61         0   0.00%\n",
      "    C00177__extr      EX_C00177__dra -0.0009812         1 100.00%\n",
      "\n"
     ]
    }
   ],
   "source": [
    "with model:\n",
    "    model.exchanges.EX_C00205__dra.bounds = (-5000, 1000)\n",
    "    model.exchanges.EX_C00011__dra.bounds = (-100, 1000)\n",
    "    print(model.summary())"
   ],
   "metadata": {
    "collapsed": false
   }
  },
  {
   "cell_type": "code",
   "execution_count": 6,
   "outputs": [
    {
     "name": "stdout",
     "output_type": "stream",
     "text": [
      "Runnning pFBA\n"
     ]
    },
    {
     "data": {
      "text/plain": "<cobra.summary.model_summary.ModelSummary at 0x134ae487af0>",
      "text/html": "<h3>Objective</h3><p>1.0 e_Biomass_trial4__cytop = 3.519131428852129</p><h4>Uptake</h4><table border=\"1\" class=\"dataframe\">\n  <thead>\n    <tr style=\"text-align: right;\">\n      <th>Metabolite</th>\n      <th>Reaction</th>\n      <th>Flux</th>\n      <th>C-Number</th>\n      <th>C-Flux</th>\n    </tr>\n  </thead>\n  <tbody>\n    <tr>\n      <td>C00001__extr</td>\n      <td>EX_C00001__dra</td>\n      <td>118.4</td>\n      <td>0</td>\n      <td>0.00%</td>\n    </tr>\n    <tr>\n      <td>C00009__extr</td>\n      <td>EX_C00009__dra</td>\n      <td>0.5328</td>\n      <td>0</td>\n      <td>0.00%</td>\n    </tr>\n    <tr>\n      <td>C00011__extr</td>\n      <td>EX_C00011__dra</td>\n      <td>144.3</td>\n      <td>1</td>\n      <td>99.77%</td>\n    </tr>\n    <tr>\n      <td>C00059__extr</td>\n      <td>EX_C00059__dra</td>\n      <td>0.3238</td>\n      <td>0</td>\n      <td>0.00%</td>\n    </tr>\n    <tr>\n      <td>C00080__extr</td>\n      <td>EX_C00080__dra</td>\n      <td>0.8681</td>\n      <td>0</td>\n      <td>0.00%</td>\n    </tr>\n    <tr>\n      <td>C00120__extr</td>\n      <td>EX_C00120__dra</td>\n      <td>0.01271</td>\n      <td>10</td>\n      <td>0.09%</td>\n    </tr>\n    <tr>\n      <td>C00205__extr</td>\n      <td>EX_C00205__dra</td>\n      <td>1E+04</td>\n      <td>0</td>\n      <td>0.00%</td>\n    </tr>\n    <tr>\n      <td>C00244__extr</td>\n      <td>EX_C00244__dra</td>\n      <td>7.734</td>\n      <td>0</td>\n      <td>0.00%</td>\n    </tr>\n    <tr>\n      <td>C00305__extr</td>\n      <td>EX_C00305__dra</td>\n      <td>0.0008394</td>\n      <td>0</td>\n      <td>0.00%</td>\n    </tr>\n    <tr>\n      <td>C00378__extr</td>\n      <td>EX_C00378__dra</td>\n      <td>0.007301</td>\n      <td>12</td>\n      <td>0.06%</td>\n    </tr>\n    <tr>\n      <td>C02823__extr</td>\n      <td>EX_C02823__dra</td>\n      <td>0.001966</td>\n      <td>63</td>\n      <td>0.09%</td>\n    </tr>\n    <tr>\n      <td>C14818__extr</td>\n      <td>EX_C14818__dra</td>\n      <td>0.0404</td>\n      <td>0</td>\n      <td>0.00%</td>\n    </tr>\n  </tbody>\n</table><h4>Secretion</h4><table border=\"1\" class=\"dataframe\">\n  <thead>\n    <tr style=\"text-align: right;\">\n      <th>Metabolite</th>\n      <th>Reaction</th>\n      <th>Flux</th>\n      <th>C-Number</th>\n      <th>C-Flux</th>\n    </tr>\n  </thead>\n  <tbody>\n    <tr>\n      <td>photon298__cytop</td>\n      <td>DM_photon298__cytop</td>\n      <td>-2.222</td>\n      <td>0</td>\n      <td>0.00%</td>\n    </tr>\n    <tr>\n      <td>photon450__chlo</td>\n      <td>DM_photon450__chlo</td>\n      <td>-273.5</td>\n      <td>0</td>\n      <td>0.00%</td>\n    </tr>\n    <tr>\n      <td>photon490__chlo</td>\n      <td>DM_photon490__chlo</td>\n      <td>-1519</td>\n      <td>0</td>\n      <td>0.00%</td>\n    </tr>\n    <tr>\n      <td>photon646__chlo</td>\n      <td>DM_photon646__chlo</td>\n      <td>-2568</td>\n      <td>0</td>\n      <td>0.00%</td>\n    </tr>\n    <tr>\n      <td>photon673__lum</td>\n      <td>DM_photon673__lum</td>\n      <td>-329.7</td>\n      <td>0</td>\n      <td>0.00%</td>\n    </tr>\n    <tr>\n      <td>C00007__extr</td>\n      <td>EX_C00007__dra</td>\n      <td>-175.5</td>\n      <td>0</td>\n      <td>0.00%</td>\n    </tr>\n    <tr>\n      <td>C00177__extr</td>\n      <td>EX_C00177__dra</td>\n      <td>-0.001966</td>\n      <td>1</td>\n      <td>100.00%</td>\n    </tr>\n  </tbody>\n</table>"
     },
     "execution_count": 6,
     "metadata": {},
     "output_type": "execute_result"
    }
   ],
   "source": [
    "model.exchanges.EX_C00011__dra.bounds = (-1000, 1000)\n",
    "model.exchanges.EX_C00205__dra.bounds = (-10000, 1000)\n",
    "model.summary()"
   ],
   "metadata": {
    "collapsed": false
   }
  },
  {
   "cell_type": "code",
   "execution_count": 35,
   "outputs": [
    {
     "data": {
      "text/plain": "<cobra.summary.metabolite_summary.MetaboliteSummary at 0x15ddd73a7c0>",
      "text/html": "<h3>C02094__chlo</h3><p>C40H56</p><h4>Producing Reactions</h4><table border=\"1\" class=\"dataframe\">\n  <thead>\n    <tr style=\"text-align: right;\">\n      <th>Percent</th>\n      <th>Flux</th>\n      <th>Reaction</th>\n      <th>Definition</th>\n    </tr>\n  </thead>\n  <tbody>\n    <tr>\n      <td>100.00%</td>\n      <td>0.006754</td>\n      <td>R03824__chlo</td>\n      <td>C05435__chlo --&gt; C02094__chlo</td>\n    </tr>\n  </tbody>\n</table><h4>Consuming Reactions</h4><table border=\"1\" class=\"dataframe\">\n  <thead>\n    <tr style=\"text-align: right;\">\n      <th>Percent</th>\n      <th>Flux</th>\n      <th>Reaction</th>\n      <th>Definition</th>\n    </tr>\n  </thead>\n  <tbody>\n    <tr>\n      <td>4.87%</td>\n      <td>-0.0003291</td>\n      <td>R00032__chlo</td>\n      <td>C00007__chlo + C02094__chlo --&gt; 2.0 C00376__chlo</td>\n    </tr>\n    <tr>\n      <td>9.26%</td>\n      <td>-0.0006255</td>\n      <td>R07558__chlo</td>\n      <td>C00007__chlo + 2.0 C00080__chlo + 2.0 C00138__chlo + C02094__chlo --&gt; C00001__chlo + 2.0 C00139__chlo + C08591__chlo</td>\n    </tr>\n    <tr>\n      <td>60.52%</td>\n      <td>-0.004088</td>\n      <td>R09747__chlo</td>\n      <td>2.0 C00007__chlo + 4.0 C00080__chlo + 4.0 C00138__chlo + C02094__chlo --&gt; 2.0 C00001__chlo + 4.0 C00139__chlo + C06098__chlo</td>\n    </tr>\n    <tr>\n      <td>25.27%</td>\n      <td>-0.001707</td>\n      <td>R10282__chlo</td>\n      <td>C02094__chlo --&gt; C20484__chlo</td>\n    </tr>\n    <tr>\n      <td>0.07%</td>\n      <td>-4.967E-06</td>\n      <td>e_Pigment_trial4__chlo</td>\n      <td>0.0013 C02094__chlo + 0.0077 C05306__chlo + 0.0048 C05307__chlo + 0.0008 C05432__chlo + 0.0253 C05433__chlo + 0.0162 C06098__chlo + 0.0014 C08579__chlo + 0.1637 C08591__chlo + 0.0025 C08601__chlo + 0.0031 C08606__chlo + 1.0492 C08614__chlo + 0.4467 C20484__chlo --&gt; e_Pigment__chlo</td>\n    </tr>\n  </tbody>\n</table>"
     },
     "execution_count": 35,
     "metadata": {},
     "output_type": "execute_result"
    }
   ],
   "source": [
    "model.metabolites.C02094__chlo.summary()"
   ],
   "metadata": {
    "collapsed": false
   }
  },
  {
   "cell_type": "code",
   "execution_count": null,
   "outputs": [],
   "source": [
    "model.metabolites.C00065__mito.summary(fva=1.0)"
   ],
   "metadata": {
    "collapsed": false
   }
  },
  {
   "cell_type": "code",
   "execution_count": null,
   "outputs": [],
   "source": [
    "with model:\n",
    "    # model.create_sink(\"C00148__mito\")\n",
    "    print(fva(model, ['R02236__cytop'], fraction_of_optimum=0.0))"
   ],
   "metadata": {
    "collapsed": false
   }
  },
  {
   "cell_type": "code",
   "execution_count": null,
   "outputs": [],
   "source": [
    "model.test_reaction(\"R02236__cytop\")"
   ],
   "metadata": {
    "collapsed": false
   }
  },
  {
   "cell_type": "code",
   "execution_count": null,
   "outputs": [],
   "source": [
    "model.metabolites.C00025__mito.summary(fva = 1.0)"
   ],
   "metadata": {
    "collapsed": false
   }
  },
  {
   "cell_type": "code",
   "execution_count": null,
   "outputs": [],
   "source": [
    "model.summary()"
   ],
   "metadata": {
    "collapsed": false
   }
  },
  {
   "cell_type": "code",
   "execution_count": null,
   "outputs": [],
   "source": [
    "#create copy reactions\n",
    "with model:\n",
    "    carbohydrate_copy = model.reactions.e_Carbohydrate__cytop.copy()\n",
    "    carbohydrate_copy.id = 'e_Carbohydrate_no_starch__cytop'\n",
    "    biomass_copy = model.reactions.e_Biomass__cytop.copy()\n",
    "    biomass_copy.id = 'e_ActiveBiomass__cytop'\n",
    "    model.add_reactions([carbohydrate_copy, biomass_copy])\n",
    "    model.objective = 'e_ActiveBiomass__cytop'\n",
    "    model.reactions.e_Carbohydrate__cytop.bounds = (0, 0)\n",
    "    #remove starch from e_carbohydrate\n",
    "    carbohydrate_copy.add_metabolites({model.metabolites.C00369__chlo: -carbohydrate_copy.metabolites[model.metabolites.C00369__chlo]})\n",
    "\n",
    "    #adjust other carbohydrates\n",
    "    carbohydrate_copy.add_metabolites({model.metabolites.C00052__cytop:  -3.35762291 - carbohydrate_copy.metabolites[model.metabolites.C00052__cytop]})\n",
    "    carbohydrate_copy.add_metabolites({model.metabolites.C00096__cytop:  -1.58181346 - carbohydrate_copy.metabolites[model.metabolites.C00096__cytop]})\n",
    "    carbohydrate_copy.add_metabolites({model.metabolites.C00935__cytop:  -2.52493299 - carbohydrate_copy.metabolites[model.metabolites.C00935__cytop]})\n",
    "\n",
    "    carbohydrate_copy.add_metabolites({model.metabolites.C00015__cytop:  5.8825559 - carbohydrate_copy.metabolites[model.metabolites.C00015__cytop]})\n",
    "    carbohydrate_copy.add_metabolites({model.metabolites.C00035__cytop:  1.58181346 - carbohydrate_copy.metabolites[model.metabolites.C00035__cytop]})\n",
    "    carbohydrate_copy.add_metabolites({model.metabolites.C00001__cytop:  7.46436936 - carbohydrate_copy.metabolites[model.metabolites.C00001__cytop]})\n",
    "\n",
    "    print(carbohydrate_copy.metabolites)\n",
    "\n",
    "    biomass_copy.add_metabolites({model.metabolites.e_Carbohydrate__cytop:  -0.203306526 - biomass_copy.metabolites[model.metabolites.e_Carbohydrate__cytop]})\n",
    "    print(biomass_copy.metabolites)\n",
    "    print(model.optimize().objective_value*0.7083)\n",
    "\n",
    "    # total = abs(sum([biomass_copy.metabolites[met] for met in biomass_copy.reactants if biomass_copy.metabolites[met] > -10]))\n",
    "    # for  met in biomass_copy.reactants:\n",
    "    #     if biomass_copy.metabolites[met] > -10:\n",
    "    #         print(met.id)\n",
    "    #         new_st = biomass_copy.metabolites[met]/total\n",
    "    #         print(new_st)\n",
    "    #         print(biomass_copy.metabolites[met])\n",
    "    #         biomass_copy.add_metabolites({model.metabolites.get_by_id(met.id):  new_st - biomass_copy.metabolites[met]})\n",
    "    #         print(biomass_copy.metabolites[met])\n",
    "    # print(sum([biomass_copy.metabolites[met] for met in biomass_copy.reactants if biomass_copy.metabolites[met] > -10]))\n",
    "    # print(model.optimize().objective_value)\n",
    "    model.write(os.path.join(data_directory, \"models/model_dfba.xml\"))"
   ],
   "metadata": {
    "collapsed": false
   }
  },
  {
   "cell_type": "code",
   "execution_count": null,
   "outputs": [],
   "source": [
    "data_directory = \"../data\"\n",
    "model = MyModel(join(data_directory, \"model_dfba.xml\"), \"e_Biomass_trial4__cytop\")\n",
    "model.add_medium(join(data_directory, \"media.xlsx\"), \"base_medium\")\n",
    "model.setup_condition(\"4\")"
   ],
   "metadata": {
    "collapsed": false
   }
  },
  {
   "cell_type": "code",
   "execution_count": null,
   "outputs": [],
   "source": [
    "pfba_sol = pfba(model)\n",
    "model.summary(pfba_sol)"
   ],
   "metadata": {
    "collapsed": false
   }
  },
  {
   "cell_type": "code",
   "execution_count": null,
   "outputs": [],
   "source": [
    "with model:\n",
    "    model.reactions.DM_C00369__chlo.bounds = (0.00147, 1000)\n",
    "    pfba_sol = pfba(model)\n",
    "    # print(model.metabolites.C00369__chlo.summary(pfba_sol))\n",
    "    print(model.summary(pfba_sol))"
   ],
   "metadata": {
    "collapsed": false
   }
  },
  {
   "cell_type": "code",
   "execution_count": null,
   "outputs": [],
   "source": [
    "sum([model.reactions.e_Biomass_trial4__cytop.metabolites[reactant] for reactant in model.reactions.e_Biomass_trial4__cytop.metabolites if model.reactions.e_Biomass_trial4__cytop.metabolites[reactant] < 0 and model.reactions.e_Biomass_trial4__cytop.metabolites[reactant]>-1])"
   ],
   "metadata": {
    "collapsed": false
   }
  },
  {
   "cell_type": "code",
   "execution_count": null,
   "outputs": [],
   "source": [
    "original_sol = model.optimize().objective_value"
   ],
   "metadata": {
    "collapsed": false
   }
  },
  {
   "cell_type": "code",
   "execution_count": null,
   "outputs": [],
   "source": [
    "model.summary()"
   ],
   "metadata": {
    "collapsed": false
   }
  },
  {
   "cell_type": "code",
   "execution_count": null,
   "outputs": [],
   "source": [
    "model.metabolites.C00116__cytop.formula_weight"
   ],
   "metadata": {
    "collapsed": false
   }
  },
  {
   "cell_type": "code",
   "execution_count": null,
   "outputs": [],
   "source": [
    "fva(model, [\"T_SUCBZth__chlomem\"])"
   ],
   "metadata": {
    "collapsed": false
   }
  },
  {
   "cell_type": "code",
   "execution_count": null,
   "outputs": [],
   "source": [
    "with model:\n",
    "    # model.biomass_reaction = model.bio_reaction.id\n",
    "    # model.reactions.e_Carbohydrate__cytop.add_metabolites({model.metabolites.C00369__chlo: -model.reactions.e_Carbohydrate__cytop.metabolites[model.metabolites.C00369__chlo]})\n",
    "    # model.reactions.e_Biomass_trial4__cytop\n",
    "    # model.reactions.e_Acid__cytop.add_metabolites({model.metabolites.C00116__cytop: -model.reactions.e_Acid__cytop.metabolites[model.metabolites.C00116__cytop]})\n",
    "    # model.reactions.DM_C00369__chlo.bounds = (0.305381773/model.metabolites.C00369__chlo.formula_weight*1000*original_sol, 1000)\n",
    "    # model.reactions.DM_C00369__chlo.bounds = (0.00147, 1000)\n",
    "    # [setattr(x, 'objective_coefficient', 0) for x in model.reactions if x.objective_coefficient != 0]\n",
    "    # model.reactions.EX_e_Biomass__dra.objective_coefficient = 0.7\n",
    "    # model.reactions.DM_C00369__chlo.objective_coefficient = 0.3\n",
    "    # model.objective = \"e_Biomass__cytop\"\n",
    "    sol = pfba(model)\n",
    "    print(model.summary(solution=sol))\n",
    "    # print(model.metabolites.C00369__chlo.summary(sol))"
   ],
   "metadata": {
    "collapsed": false
   }
  },
  {
   "cell_type": "code",
   "execution_count": null,
   "outputs": [],
   "source": [
    "total = sum([reactant for reactant in model.reactions.e_Biomass__cytop.metabolites if model.reactions.e_Biomass__cytop.metabolites[reactant] < 0 and model.reactions.e_Biomass__cytop.metabolites[reactant]>-1])\n",
    "for reactant in model.reactions.e_Biomass__cytop.reactants:\n",
    "    st ="
   ],
   "metadata": {
    "collapsed": false
   }
  },
  {
   "cell_type": "markdown",
   "source": [],
   "metadata": {
    "collapsed": false
   }
  },
  {
   "cell_type": "markdown",
   "source": [
    "model.reactions.DM_C00369__chlo"
   ],
   "metadata": {
    "collapsed": false
   }
  },
  {
   "cell_type": "markdown",
   "source": [
    "model.reactions.e_Lipid__cytop.add_metabolites({model.metabolites.C00422__lip: 0.13})"
   ],
   "metadata": {
    "collapsed": false
   }
  },
  {
   "cell_type": "markdown",
   "source": [
    "model.reactions.e_Lipid__cytop.metabolites"
   ],
   "metadata": {
    "collapsed": false
   }
  },
  {
   "cell_type": "markdown",
   "source": [
    "model.reactions.e_Carbohydrate__cytop.metabolites"
   ],
   "metadata": {
    "collapsed": false
   }
  },
  {
   "cell_type": "markdown",
   "source": [
    "0.3212*(1-(0.0123373*48660.08/1000*0.50869+0.13*904.7821/1000*0.11407))"
   ],
   "metadata": {
    "collapsed": false
   }
  },
  {
   "cell_type": "markdown",
   "source": [
    "(1-(0.0123373*48660.08/1000*0.50869+0.13*904.7821/1000*0.11407))"
   ],
   "metadata": {
    "collapsed": false
   }
  },
  {
   "cell_type": "markdown",
   "source": [
    "model.reactions.DM_C00369__chlo.bounds = (0.3/48660.08*1000*0.21, 1000)"
   ],
   "metadata": {
    "collapsed": false
   }
  },
  {
   "cell_type": "markdown",
   "source": [
    "model.reactions.DM_C00369__chlo"
   ],
   "metadata": {
    "collapsed": false
   }
  },
  {
   "cell_type": "markdown",
   "source": [
    "model.summary()"
   ],
   "metadata": {
    "collapsed": false
   }
  }
 ],
 "metadata": {
  "kernelspec": {
   "display_name": "Python 3 (ipykernel)",
   "language": "python",
   "name": "python3"
  },
  "language_info": {
   "codemirror_mode": {
    "name": "ipython",
    "version": 3
   },
   "file_extension": ".py",
   "mimetype": "text/x-python",
   "name": "python",
   "nbconvert_exporter": "python",
   "pygments_lexer": "ipython3",
   "version": "3.9.6"
  }
 },
 "nbformat": 4,
 "nbformat_minor": 1
}
