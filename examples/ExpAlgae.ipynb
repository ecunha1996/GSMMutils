{
 "cells": [
  {
   "cell_type": "code",
   "execution_count": 2,
   "outputs": [],
   "source": [
    "import sys\n",
    "\n",
    "import cobra.manipulation.delete\n",
    "from cobra.io import read_sbml_model\n",
    "\n",
    "sys.path.insert(0, r\"C:\\Users\\Bisbii\\PythonProjects\\ExpAlgae\\src\")\n",
    "from ExpGSMM.model.COBRAmodel import *\n",
    "from cobra.flux_analysis import pfba, find_blocked_reactions, flux_variability_analysis as fva"
   ],
   "metadata": {
    "collapsed": false,
    "ExecuteTime": {
     "end_time": "2023-05-09T14:21:22.871029200Z",
     "start_time": "2023-05-09T14:21:19.631166200Z"
    }
   }
  },
  {
   "cell_type": "code",
   "execution_count": 5,
   "outputs": [],
   "source": [
    "data_directory = \"../data\"\n",
    "dmodel = MyModel(join(data_directory, \"models/model_dfba.xml\"), \"e_ActiveBiomass__cytop\")"
   ],
   "metadata": {
    "collapsed": false,
    "ExecuteTime": {
     "end_time": "2023-05-09T14:21:27.470294400Z",
     "start_time": "2023-05-09T14:21:27.458086800Z"
    }
   }
  },
  {
   "cell_type": "code",
   "execution_count": 6,
   "outputs": [
    {
     "name": "stdout",
     "output_type": "stream",
     "text": [
      "Loading\n",
      "\n"
     ]
    },
    {
     "name": "stderr",
     "output_type": "stream",
     "text": [
      "Could not identify an external compartment by name and choosing one with the most boundary reactions. That might be complete nonsense or change suddenly. Consider renaming your compartments using `Model.compartments` to fix this.\n"
     ]
    },
    {
     "name": "stdout",
     "output_type": "stream",
     "text": [
      "Reactions: 2268\n",
      "Metabolites: 3360\n",
      "Genes: 1521\n",
      "Model loaded\n"
     ]
    }
   ],
   "source": [
    "nacl_model = MyModel(join(data_directory, \"omics/nacl_h2o2_sorb/nacl/Dsalina_nacl_Local2_2_4_4_fastcore_t2_8.xml\"), \"e_Biomass__cytop\")"
   ],
   "metadata": {
    "collapsed": false,
    "ExecuteTime": {
     "end_time": "2023-05-09T14:21:32.502023100Z",
     "start_time": "2023-05-09T14:21:29.176819300Z"
    }
   }
  },
  {
   "cell_type": "code",
   "execution_count": 12,
   "outputs": [
    {
     "name": "stdout",
     "output_type": "stream",
     "text": [
      "Runnning pFBA\n"
     ]
    },
    {
     "data": {
      "text/plain": "<cobra.summary.model_summary.ModelSummary at 0x174d1b0ab50>",
      "text/html": "<h3>Objective</h3><p>1.0 e_Biomass__cytop = 0.039779809448672335</p><h4>Uptake</h4><table border=\"1\" class=\"dataframe\">\n  <thead>\n    <tr style=\"text-align: right;\">\n      <th>Metabolite</th>\n      <th>Reaction</th>\n      <th>Flux</th>\n      <th>C-Number</th>\n      <th>C-Flux</th>\n    </tr>\n  </thead>\n  <tbody>\n    <tr>\n      <td>C00369__chlo</td>\n      <td>DM_C00369__chlo</td>\n      <td>0.001</td>\n      <td>1800</td>\n      <td>99.78%</td>\n    </tr>\n    <tr>\n      <td>C00009__extr</td>\n      <td>EX_C00009__dra</td>\n      <td>0.00627</td>\n      <td>0</td>\n      <td>0.00%</td>\n    </tr>\n    <tr>\n      <td>C00059__extr</td>\n      <td>EX_C00059__dra</td>\n      <td>0.00417</td>\n      <td>0</td>\n      <td>0.00%</td>\n    </tr>\n    <tr>\n      <td>C00080__extr</td>\n      <td>EX_C00080__dra</td>\n      <td>0.01058</td>\n      <td>0</td>\n      <td>0.00%</td>\n    </tr>\n    <tr>\n      <td>C00120__extr</td>\n      <td>EX_C00120__dra</td>\n      <td>0.0001506</td>\n      <td>10</td>\n      <td>0.08%</td>\n    </tr>\n    <tr>\n      <td>C00205__extr</td>\n      <td>EX_C00205__dra</td>\n      <td>42.28</td>\n      <td>0</td>\n      <td>0.00%</td>\n    </tr>\n    <tr>\n      <td>C00244__extr</td>\n      <td>EX_C00244__dra</td>\n      <td>0.103</td>\n      <td>0</td>\n      <td>0.00%</td>\n    </tr>\n    <tr>\n      <td>C00305__extr</td>\n      <td>EX_C00305__dra</td>\n      <td>1.086E-06</td>\n      <td>0</td>\n      <td>0.00%</td>\n    </tr>\n    <tr>\n      <td>C00378__extr</td>\n      <td>EX_C00378__dra</td>\n      <td>8.65E-05</td>\n      <td>12</td>\n      <td>0.06%</td>\n    </tr>\n    <tr>\n      <td>C02823__extr</td>\n      <td>EX_C02823__dra</td>\n      <td>2.329E-05</td>\n      <td>63</td>\n      <td>0.08%</td>\n    </tr>\n    <tr>\n      <td>C14818__extr</td>\n      <td>EX_C14818__dra</td>\n      <td>0.0004786</td>\n      <td>0</td>\n      <td>0.00%</td>\n    </tr>\n  </tbody>\n</table><h4>Secretion</h4><table border=\"1\" class=\"dataframe\">\n  <thead>\n    <tr style=\"text-align: right;\">\n      <th>Metabolite</th>\n      <th>Reaction</th>\n      <th>Flux</th>\n      <th>C-Number</th>\n      <th>C-Flux</th>\n    </tr>\n  </thead>\n  <tbody>\n    <tr>\n      <td>photon298__cytop</td>\n      <td>DM_photon298__cytop</td>\n      <td>-0.009394</td>\n      <td>0</td>\n      <td>0.00%</td>\n    </tr>\n    <tr>\n      <td>photon438__lum</td>\n      <td>DM_photon438__lum</td>\n      <td>-1.319</td>\n      <td>0</td>\n      <td>0.00%</td>\n    </tr>\n    <tr>\n      <td>photon450__chlo</td>\n      <td>DM_photon450__chlo</td>\n      <td>-1.156</td>\n      <td>0</td>\n      <td>0.00%</td>\n    </tr>\n    <tr>\n      <td>photon490__chlo</td>\n      <td>DM_photon490__chlo</td>\n      <td>-6.42</td>\n      <td>0</td>\n      <td>0.00%</td>\n    </tr>\n    <tr>\n      <td>photon646__chlo</td>\n      <td>DM_photon646__chlo</td>\n      <td>-10.86</td>\n      <td>0</td>\n      <td>0.00%</td>\n    </tr>\n    <tr>\n      <td>C00001__extr</td>\n      <td>EX_C00001__dra</td>\n      <td>-0.1782</td>\n      <td>0</td>\n      <td>0.00%</td>\n    </tr>\n    <tr>\n      <td>C00007__extr</td>\n      <td>EX_C00007__dra</td>\n      <td>-0.1925</td>\n      <td>0</td>\n      <td>0.00%</td>\n    </tr>\n    <tr>\n      <td>C00011__extr</td>\n      <td>EX_C00011__dra</td>\n      <td>-0.1943</td>\n      <td>1</td>\n      <td>99.99%</td>\n    </tr>\n    <tr>\n      <td>C00177__extr</td>\n      <td>EX_C00177__dra</td>\n      <td>-2.329E-05</td>\n      <td>1</td>\n      <td>0.01%</td>\n    </tr>\n  </tbody>\n</table>"
     },
     "execution_count": 12,
     "metadata": {},
     "output_type": "execute_result"
    }
   ],
   "source": [
    "nacl_model.summary()"
   ],
   "metadata": {
    "collapsed": false,
    "ExecuteTime": {
     "end_time": "2023-05-09T14:22:34.084139800Z",
     "start_time": "2023-05-09T14:22:32.240922100Z"
    }
   }
  },
  {
   "cell_type": "code",
   "execution_count": 35,
   "outputs": [
    {
     "name": "stdout",
     "output_type": "stream",
     "text": [
      "Runnning pFBA\n"
     ]
    },
    {
     "name": "stderr",
     "output_type": "stream",
     "text": [
      "Could not identify an external compartment by name and choosing one with the most boundary reactions. That might be complete nonsense or change suddenly. Consider renaming your compartments using `Model.compartments` to fix this.\n",
      "Could not identify an external compartment by name and choosing one with the most boundary reactions. That might be complete nonsense or change suddenly. Consider renaming your compartments using `Model.compartments` to fix this.\n"
     ]
    },
    {
     "name": "stdout",
     "output_type": "stream",
     "text": [
      "Objective\n",
      "=========\n",
      "1.0 e_ActiveBiomass__cytop = 0.18193277555723875\n",
      "\n",
      "Uptake\n",
      "------\n",
      "  Metabolite       Reaction      Flux  C-Number C-Flux\n",
      "C00001__extr EX_C00001__dra     5.836         0  0.00%\n",
      "C00009__extr EX_C00009__dra   0.05346         0  0.00%\n",
      "C00011__extr EX_C00011__dra      8.21         1 99.58%\n",
      "C00059__extr EX_C00059__dra   0.03554         0  0.00%\n",
      "C00080__extr EX_C00080__dra   0.09017         0  0.00%\n",
      "C00120__extr EX_C00120__dra  0.001289        10  0.16%\n",
      "C00205__extr EX_C00205__dra     629.9         0  0.00%\n",
      "C00244__extr EX_C00244__dra    0.8778         0  0.00%\n",
      "C00378__extr EX_C00378__dra 0.0007412        12  0.11%\n",
      "C02823__extr EX_C02823__dra 0.0001986        63  0.15%\n",
      "C14818__extr EX_C14818__dra  0.004079         0  0.00%\n",
      "\n",
      "Secretion\n",
      "---------\n",
      "      Metabolite            Reaction       Flux  C-Number  C-Flux\n",
      "photon298__cytop DM_photon298__cytop      -0.14         0   0.00%\n",
      "  photon438__lum   DM_photon438__lum     -20.32         0   0.00%\n",
      " photon450__chlo  DM_photon450__chlo     -17.23         0   0.00%\n",
      " photon490__chlo  DM_photon490__chlo     -95.66         0   0.00%\n",
      " photon646__chlo  DM_photon646__chlo     -161.8         0   0.00%\n",
      "    C00007__extr      EX_C00007__dra     -11.18         0   0.00%\n",
      "    C00177__extr      EX_C00177__dra -0.0001986         1 100.00%\n",
      "\n",
      "Runnning pFBA\n",
      "Objective\n",
      "=========\n",
      "1.0 e_ActiveBiomass__cytop = 0.1819327755572385\n",
      "\n",
      "Uptake\n",
      "------\n",
      "  Metabolite        Reaction      Flux  C-Number C-Flux\n",
      "C00404__vacu DM_C00404__vacu  0.002139         0  0.00%\n",
      "C00001__extr  EX_C00001__dra     5.861         0  0.00%\n",
      "C00011__extr  EX_C00011__dra      8.21         1 99.58%\n",
      "C00059__extr  EX_C00059__dra   0.03554         0  0.00%\n",
      "C00080__extr  EX_C00080__dra   0.03671         0  0.00%\n",
      "C00120__extr  EX_C00120__dra  0.001289        10  0.16%\n",
      "C00205__extr  EX_C00205__dra     629.9         0  0.00%\n",
      "C00244__extr  EX_C00244__dra    0.8778         0  0.00%\n",
      "C00378__extr  EX_C00378__dra 0.0007412        12  0.11%\n",
      "C02823__extr  EX_C02823__dra 0.0001986        63  0.15%\n",
      "C14818__extr  EX_C14818__dra  0.004079         0  0.00%\n",
      "\n",
      "Secretion\n",
      "---------\n",
      "      Metabolite            Reaction       Flux  C-Number  C-Flux\n",
      "photon298__cytop DM_photon298__cytop      -0.14         0   0.00%\n",
      "  photon438__lum   DM_photon438__lum     -20.35         0   0.00%\n",
      " photon450__chlo  DM_photon450__chlo     -17.23         0   0.00%\n",
      " photon490__chlo  DM_photon490__chlo     -95.65         0   0.00%\n",
      " photon646__chlo  DM_photon646__chlo     -161.8         0   0.00%\n",
      "    C00007__extr      EX_C00007__dra     -11.16         0   0.00%\n",
      "    C00177__extr      EX_C00177__dra -0.0001986         1 100.00%\n",
      "\n"
     ]
    }
   ],
   "source": [
    "with dmodel:\n",
    "    print(dmodel.summary())\n",
    "    dmodel.demands.DM_C00404__vacu.bounds = (-0.005, 1000)\n",
    "    dmodel.exchanges.EX_C00009__dra.bounds = (0, 1000)\n",
    "    print(dmodel.summary())"
   ],
   "metadata": {
    "collapsed": false,
    "ExecuteTime": {
     "start_time": "2023-04-26T18:11:43.051489Z",
     "end_time": "2023-04-26T18:11:49.369598Z"
    }
   }
  },
  {
   "cell_type": "code",
   "execution_count": 7,
   "outputs": [
    {
     "data": {
      "text/plain": "<cobra.summary.metabolite_summary.MetaboliteSummary at 0x27cf3793d60>",
      "text/html": "<h3>C01389__chlo</h3><p>C20H40O</p><h4>Producing Reactions</h4><table border=\"1\" class=\"dataframe\">\n  <thead>\n    <tr style=\"text-align: right;\">\n      <th>Percent</th>\n      <th>Flux</th>\n      <th>Range</th>\n      <th>Reaction</th>\n      <th>Definition</th>\n    </tr>\n  </thead>\n  <tbody>\n    <tr>\n      <td></td>\n      <td>0</td>\n      <td>[0;  20.1]</td>\n      <td>R05618__chlo</td>\n      <td>C00001__chlo + C05306__chlo --&gt; 2.0 C00080__chlo + C01389__chlo + C02139__chlo</td>\n    </tr>\n    <tr>\n      <td></td>\n      <td>0</td>\n      <td>[0;  20.1]</td>\n      <td>R09068__chlo</td>\n      <td>C00001__chlo + C05307__chlo --&gt; C00080__chlo + C01389__chlo + C16541__chlo</td>\n    </tr>\n  </tbody>\n</table><h4>Consuming Reactions</h4><table border=\"1\" class=\"dataframe\">\n  <thead>\n    <tr style=\"text-align: right;\">\n      <th>Percent</th>\n      <th>Flux</th>\n      <th>Range</th>\n      <th>Reaction</th>\n      <th>Definition</th>\n    </tr>\n  </thead>\n  <tbody>\n    <tr>\n      <td></td>\n      <td>0</td>\n      <td>[-20.1;  0]</td>\n      <td>R10659__chlo</td>\n      <td>C00063__chlo + C01389__chlo --&gt; C00080__chlo + C00112__chlo + C20764__chlo</td>\n    </tr>\n  </tbody>\n</table>"
     },
     "execution_count": 7,
     "metadata": {},
     "output_type": "execute_result"
    }
   ],
   "source": [
    "dmodel.metabolites.C01389__chlo.summary(fva = 1.0)"
   ],
   "metadata": {
    "collapsed": false,
    "ExecuteTime": {
     "start_time": "2023-04-17T13:09:31.990939Z",
     "end_time": "2023-04-17T13:09:56.815328Z"
    }
   }
  },
  {
   "cell_type": "code",
   "execution_count": 16,
   "outputs": [
    {
     "name": "stdout",
     "output_type": "stream",
     "text": [
      "(1.0, {'C': 43.88272415658298, 'N': 2.616595001909996, 'O': 22.520446557234997, 'P': 0.16338696629600014, 'S': 0.112544626612, 'H': 65.92181810794798})\n",
      "Error! Sum of Elemental mass percentage is different from 1! (0.999)\n"
     ]
    },
    {
     "data": {
      "text/plain": "0.527"
     },
     "execution_count": 16,
     "metadata": {},
     "output_type": "execute_result"
    }
   ],
   "source": [
    "from ExpGSMM.utils.utils import get_element_in_biomass\n",
    "\n",
    "get_element_in_biomass(dmodel, \"N\", 'e_Biomass__cytop')"
   ],
   "metadata": {
    "collapsed": false,
    "ExecuteTime": {
     "start_time": "2023-04-26T16:15:20.386611Z",
     "end_time": "2023-04-26T16:15:20.427997Z"
    }
   }
  },
  {
   "cell_type": "code",
   "execution_count": 37,
   "outputs": [
    {
     "data": {
      "text/plain": "0.515"
     },
     "execution_count": 37,
     "metadata": {},
     "output_type": "execute_result"
    }
   ],
   "source": [
    "0.0309/60*1000"
   ],
   "metadata": {
    "collapsed": false,
    "ExecuteTime": {
     "start_time": "2023-04-26T18:15:08.660244Z",
     "end_time": "2023-04-26T18:15:08.676493Z"
    }
   }
  },
  {
   "cell_type": "code",
   "execution_count": 11,
   "outputs": [
    {
     "name": "stdout",
     "output_type": "stream",
     "text": [
      "(1.001, {'C': 45.31399797765508, 'N': 4.8696900171000586, 'O': 18.745534855713114, 'P': 0.2949523924470796, 'S': 0.20650366652204, 'H': 70.84365210840832})\n",
      "Error! Sum of Elemental mass percentage is different from 1! (0.999)\n"
     ]
    },
    {
     "data": {
      "text/plain": "0.068"
     },
     "execution_count": 11,
     "metadata": {},
     "output_type": "execute_result"
    }
   ],
   "source": [
    "from ExpGSMM.utils.utils import get_element_in_biomass\n",
    "\n",
    "get_element_in_biomass(dmodel, \"P\", 'e_ActiveBiomass__cytop')"
   ],
   "metadata": {
    "collapsed": false,
    "ExecuteTime": {
     "start_time": "2023-04-26T16:04:52.634511Z",
     "end_time": "2023-04-26T16:04:52.674232Z"
    }
   }
  },
  {
   "cell_type": "code",
   "execution_count": 18,
   "outputs": [
    {
     "data": {
      "text/plain": "1.2947032098"
     },
     "execution_count": 18,
     "metadata": {},
     "output_type": "execute_result"
    }
   ],
   "source": [
    "4.18/100*Metabolite(formula='P').formula_weight"
   ],
   "metadata": {
    "collapsed": false,
    "ExecuteTime": {
     "start_time": "2023-04-26T16:22:17.236074Z",
     "end_time": "2023-04-26T16:22:17.251458Z"
    }
   }
  },
  {
   "cell_type": "code",
   "execution_count": 19,
   "outputs": [
    {
     "data": {
      "text/plain": "0.037168513199999996"
     },
     "execution_count": 19,
     "metadata": {},
     "output_type": "execute_result"
    }
   ],
   "source": [
    "0.12/100*Metabolite(formula='P').formula_weight"
   ],
   "metadata": {
    "collapsed": false,
    "ExecuteTime": {
     "start_time": "2023-04-26T16:22:30.189527Z",
     "end_time": "2023-04-26T16:22:30.201432Z"
    }
   }
  },
  {
   "cell_type": "code",
   "execution_count": 30,
   "outputs": [
    {
     "data": {
      "text/plain": "0.07270522129382995"
     },
     "execution_count": 30,
     "metadata": {},
     "output_type": "execute_result"
    }
   ],
   "source": [
    "1- 0.295 * (0.107688/0.137035) / 0.25"
   ],
   "metadata": {
    "collapsed": false,
    "ExecuteTime": {
     "start_time": "2023-04-26T17:20:57.152103Z",
     "end_time": "2023-04-26T17:20:57.174206Z"
    }
   }
  },
  {
   "cell_type": "code",
   "execution_count": 33,
   "outputs": [
    {
     "name": "stderr",
     "output_type": "stream",
     "text": [
      "Could not identify an external compartment by name and choosing one with the most boundary reactions. That might be complete nonsense or change suddenly. Consider renaming your compartments using `Model.compartments` to fix this.\n",
      "Could not identify an external compartment by name and choosing one with the most boundary reactions. That might be complete nonsense or change suddenly. Consider renaming your compartments using `Model.compartments` to fix this.\n"
     ]
    },
    {
     "name": "stdout",
     "output_type": "stream",
     "text": [
      "Runnning pFBA\n"
     ]
    },
    {
     "data": {
      "text/plain": "<cobra.summary.model_summary.ModelSummary at 0x23cdf72f460>",
      "text/html": "<h3>Objective</h3><p>1.0 e_ActiveBiomass__cytop = 0.18193277555723877</p><h4>Uptake</h4><table border=\"1\" class=\"dataframe\">\n  <thead>\n    <tr style=\"text-align: right;\">\n      <th>Metabolite</th>\n      <th>Reaction</th>\n      <th>Flux</th>\n      <th>C-Number</th>\n      <th>C-Flux</th>\n    </tr>\n  </thead>\n  <tbody>\n    <tr>\n      <td>C00404__vacu</td>\n      <td>DM_C00404__vacu</td>\n      <td>0.002139</td>\n      <td>0</td>\n      <td>0.00%</td>\n    </tr>\n    <tr>\n      <td>C00001__extr</td>\n      <td>EX_C00001__dra</td>\n      <td>5.861</td>\n      <td>0</td>\n      <td>0.00%</td>\n    </tr>\n    <tr>\n      <td>C00011__extr</td>\n      <td>EX_C00011__dra</td>\n      <td>8.21</td>\n      <td>1</td>\n      <td>99.58%</td>\n    </tr>\n    <tr>\n      <td>C00059__extr</td>\n      <td>EX_C00059__dra</td>\n      <td>0.03554</td>\n      <td>0</td>\n      <td>0.00%</td>\n    </tr>\n    <tr>\n      <td>C00080__extr</td>\n      <td>EX_C00080__dra</td>\n      <td>0.03671</td>\n      <td>0</td>\n      <td>0.00%</td>\n    </tr>\n    <tr>\n      <td>C00120__extr</td>\n      <td>EX_C00120__dra</td>\n      <td>0.001289</td>\n      <td>10</td>\n      <td>0.16%</td>\n    </tr>\n    <tr>\n      <td>C00205__extr</td>\n      <td>EX_C00205__dra</td>\n      <td>629.9</td>\n      <td>0</td>\n      <td>0.00%</td>\n    </tr>\n    <tr>\n      <td>C00244__extr</td>\n      <td>EX_C00244__dra</td>\n      <td>0.8778</td>\n      <td>0</td>\n      <td>0.00%</td>\n    </tr>\n    <tr>\n      <td>C00378__extr</td>\n      <td>EX_C00378__dra</td>\n      <td>0.0007412</td>\n      <td>12</td>\n      <td>0.11%</td>\n    </tr>\n    <tr>\n      <td>C02823__extr</td>\n      <td>EX_C02823__dra</td>\n      <td>0.0001986</td>\n      <td>63</td>\n      <td>0.15%</td>\n    </tr>\n    <tr>\n      <td>C14818__extr</td>\n      <td>EX_C14818__dra</td>\n      <td>0.004079</td>\n      <td>0</td>\n      <td>0.00%</td>\n    </tr>\n  </tbody>\n</table><h4>Secretion</h4><table border=\"1\" class=\"dataframe\">\n  <thead>\n    <tr style=\"text-align: right;\">\n      <th>Metabolite</th>\n      <th>Reaction</th>\n      <th>Flux</th>\n      <th>C-Number</th>\n      <th>C-Flux</th>\n    </tr>\n  </thead>\n  <tbody>\n    <tr>\n      <td>photon298__cytop</td>\n      <td>DM_photon298__cytop</td>\n      <td>-0.14</td>\n      <td>0</td>\n      <td>0.00%</td>\n    </tr>\n    <tr>\n      <td>photon438__lum</td>\n      <td>DM_photon438__lum</td>\n      <td>-20.35</td>\n      <td>0</td>\n      <td>0.00%</td>\n    </tr>\n    <tr>\n      <td>photon450__chlo</td>\n      <td>DM_photon450__chlo</td>\n      <td>-17.23</td>\n      <td>0</td>\n      <td>0.00%</td>\n    </tr>\n    <tr>\n      <td>photon490__chlo</td>\n      <td>DM_photon490__chlo</td>\n      <td>-95.65</td>\n      <td>0</td>\n      <td>0.00%</td>\n    </tr>\n    <tr>\n      <td>photon646__chlo</td>\n      <td>DM_photon646__chlo</td>\n      <td>-161.8</td>\n      <td>0</td>\n      <td>0.00%</td>\n    </tr>\n    <tr>\n      <td>C00007__extr</td>\n      <td>EX_C00007__dra</td>\n      <td>-11.16</td>\n      <td>0</td>\n      <td>0.00%</td>\n    </tr>\n    <tr>\n      <td>C00177__extr</td>\n      <td>EX_C00177__dra</td>\n      <td>-0.0001986</td>\n      <td>1</td>\n      <td>100.00%</td>\n    </tr>\n  </tbody>\n</table>"
     },
     "execution_count": 33,
     "metadata": {},
     "output_type": "execute_result"
    }
   ],
   "source": [
    "dmodel.exchanges.EX_C00009__dra.bounds = (0, 1000)\n",
    "dmodel.demands.DM_C00404__vacu.bounds = (-0.005, 1000)\n",
    "dmodel.summary()"
   ],
   "metadata": {
    "collapsed": false,
    "ExecuteTime": {
     "start_time": "2023-04-26T18:11:02.471498Z",
     "end_time": "2023-04-26T18:11:05.348040Z"
    }
   }
  },
  {
   "cell_type": "code",
   "execution_count": 45,
   "outputs": [
    {
     "data": {
      "text/plain": "<Reaction e_ActiveBiomass__cytop at 0x1dc1ba5a910>",
      "text/html": "\n        <table>\n            <tr>\n                <td><strong>Reaction identifier</strong></td><td>e_ActiveBiomass__cytop</td>\n            </tr><tr>\n                <td><strong>Name</strong></td><td>39.2 ATP (cytop) + 39.2 H2O (cytop) + 0 e-Sterol (cytop) + 0.2 e-Protein (cytop) + 0 e-DNA...</td>\n            </tr><tr>\n                <td><strong>Memory address</strong></td>\n                <td>0x01dc1ba5a910</td>\n            </tr><tr>\n                <td><strong>Stoichiometry</strong></td>\n                <td>\n                    <p style='text-align:right'>39.24 C00001__cytop + 39.24 C00002__cytop + 0.01248 e_Acid__cytop + 0.36847 e_Carbohydrate__cytop + 0.04311 e_Cofactor__cytop + 0.01863 e_DNA__cytop + 0.18237 e_Lipid__cytop + 0.03204...</p>\n                    <p style='text-align:right'>39.24 H2O + 39.24 ATP + 0.01248 e-Acid + 0.36847 e-Carbohydrate + 0.04311 e-Cofactor + 0.01863 e-DNA + 0.18237 e-Lipid + 0.03204 e-Pigment + 0.30308 e-Protein + 0.03726 e-RNA + 0.00257 e-Sterol -->...</p>\n                </td>\n            </tr><tr>\n                <td><strong>GPR</strong></td><td></td>\n            </tr><tr>\n                <td><strong>Lower bound</strong></td><td>0.0</td>\n            </tr><tr>\n                <td><strong>Upper bound</strong></td><td>10000.0</td>\n            </tr>\n        </table>\n        "
     },
     "execution_count": 45,
     "metadata": {},
     "output_type": "execute_result"
    }
   ],
   "source": [
    "dmodel.reactions.e_ActiveBiomass__cytop"
   ],
   "metadata": {
    "collapsed": false,
    "ExecuteTime": {
     "start_time": "2023-04-13T15:49:36.214783Z",
     "end_time": "2023-04-13T15:49:36.226926Z"
    }
   }
  },
  {
   "cell_type": "code",
   "execution_count": 66,
   "outputs": [
    {
     "data": {
      "text/plain": "<cobra.summary.metabolite_summary.MetaboliteSummary at 0x1dc131c6b80>",
      "text/html": "<h3>C00009__cytop</h3><p>HO4P</p><h4>Producing Reactions</h4><table border=\"1\" class=\"dataframe\">\n  <thead>\n    <tr style=\"text-align: right;\">\n      <th>Percent</th>\n      <th>Flux</th>\n      <th>Reaction</th>\n      <th>Definition</th>\n    </tr>\n  </thead>\n  <tbody>\n    <tr>\n      <td>22.48%</td>\n      <td>2.85</td>\n      <td>ATPm__cytop</td>\n      <td>C00001__cytop + C00002__cytop --&gt; C00008__cytop + C00009__cytop + C00080__cytop</td>\n    </tr>\n    <tr>\n      <td>20.63%</td>\n      <td>2.615</td>\n      <td>R00004__cytop</td>\n      <td>C00001__cytop + C00013__cytop --&gt; 2.0 C00009__cytop + C00080__cytop</td>\n    </tr>\n    <tr>\n      <td>0.00%</td>\n      <td>0.0001169</td>\n      <td>R00138__cytop</td>\n      <td>C00001__cytop + C00536__cytop --&gt; C00009__cytop + C00013__cytop</td>\n    </tr>\n    <tr>\n      <td>0.13%</td>\n      <td>0.01587</td>\n      <td>R00177__cytop</td>\n      <td>C00001__cytop + C00002__cytop + C00073__cytop --&gt; C00009__cytop + C00013__cytop + C00019__cytop + C00080__cytop</td>\n    </tr>\n    <tr>\n      <td>0.18%</td>\n      <td>0.02266</td>\n      <td>R00253__cytop</td>\n      <td>C00002__cytop + C00014__cytop + C00025__cytop --&gt; C00008__cytop + C00009__cytop + C00064__cytop + C00080__cytop</td>\n    </tr>\n    <tr>\n      <td>5.60%</td>\n      <td>0.7094</td>\n      <td>R00345__cytop</td>\n      <td>C00001__cytop + C00011__cytop + C00074__cytop --&gt; C00009__cytop + C00036__cytop + C00080__cytop</td>\n    </tr>\n    <tr>\n      <td>0.03%</td>\n      <td>0.004017</td>\n      <td>R00571__cytop</td>\n      <td>C00002__cytop + C00014__cytop + C00075__cytop --&gt; C00008__cytop + C00009__cytop + C00063__cytop + 2.0 C00080__cytop</td>\n    </tr>\n    <tr>\n      <td>0.15%</td>\n      <td>0.01954</td>\n      <td>R00742__cytop</td>\n      <td>C00002__cytop + C00024__cytop + C00288__cytop --&gt; C00008__cytop + C00009__cytop + C00080__cytop + C00083__cytop</td>\n    </tr>\n    <tr>\n      <td>0.00%</td>\n      <td>0.0003917</td>\n      <td>R00943__cytop</td>\n      <td>C00002__cytop + C00058__cytop + C00101__cytop --&gt; C00008__cytop + C00009__cytop + C00234__cytop</td>\n    </tr>\n    <tr>\n      <td>0.01%</td>\n      <td>0.0007284</td>\n      <td>R01187__cytop</td>\n      <td>C00001__cytop + C04006__cytop --&gt; C00009__cytop + C00137__cytop</td>\n    </tr>\n    <tr>\n      <td>0.03%</td>\n      <td>0.0037</td>\n      <td>R01561__cytop</td>\n      <td>C00009__cytop + C00212__cytop &lt;=&gt; C00147__cytop + C00620__cytop</td>\n    </tr>\n    <tr>\n      <td>0.17%</td>\n      <td>0.02136</td>\n      <td>R03313__cytop</td>\n      <td>C00005__cytop + C00080__cytop + C03287__cytop --&gt; C00006__cytop + C00009__cytop + C01165__cytop</td>\n    </tr>\n    <tr>\n      <td>0.02%</td>\n      <td>0.002424</td>\n      <td>R04620__cytop</td>\n      <td>3.0 C00001__cytop + C04895__cytop --&gt; 3.0 C00009__cytop + 2.0 C00080__cytop + C04874__cytop</td>\n    </tr>\n    <tr>\n      <td>5.35%</td>\n      <td>0.6782</td>\n      <td>R04780__cytop</td>\n      <td>C00001__cytop + C05378__cytop --&gt; C00009__cytop + C05345__cytop</td>\n    </tr>\n    <tr>\n      <td>0.02%</td>\n      <td>0.00191</td>\n      <td>R07395__cytop</td>\n      <td>C00001__cytop + C15650__cytop --&gt; C00009__cytop + C15606__cytop</td>\n    </tr>\n    <tr>\n      <td>0.01%</td>\n      <td>0.001054</td>\n      <td>R07674__cytop</td>\n      <td>C00001__cytop + C15926__cytop --&gt; C00009__cytop + C01825__cytop</td>\n    </tr>\n    <tr>\n      <td>0.01%</td>\n      <td>0.0007532</td>\n      <td>R10089__cytop</td>\n      <td>C00064__cytop + C00117__cytop + C00118__cytop --&gt; 3.0 C00001__cytop + C00009__cytop + C00018__cytop + C00025__cytop + C00080__cytop</td>\n    </tr>\n    <tr>\n      <td>0.25%</td>\n      <td>0.03147</td>\n      <td>TO1000009_CYTMEM__plas</td>\n      <td>C00009__extr + C00080__extr --&gt; C00009__cytop + C00080__cytop</td>\n    </tr>\n    <tr>\n      <td>2.89%</td>\n      <td>0.3657</td>\n      <td>TR2000079_CHLOMEM__chlomem</td>\n      <td>C00009__chlo + C00668__cytop --&gt; C00009__cytop + C00668__chlo</td>\n    </tr>\n    <tr>\n      <td>8.42%</td>\n      <td>1.067</td>\n      <td>TZ2900024_CHLOMEM__chlomem</td>\n      <td>C00002__cytop + C00008__chlo + C00009__chlo --&gt; C00002__chlo + C00008__cytop + C00009__cytop</td>\n    </tr>\n    <tr>\n      <td>0.05%</td>\n      <td>0.006013</td>\n      <td>T_ABCFA120tx__permem</td>\n      <td>C00001__cytop + C00002__cytop + C02679__cytop --&gt; C00008__cytop + C00009__cytop + C00080__cytop + C02679__pero</td>\n    </tr>\n    <tr>\n      <td>0.01%</td>\n      <td>0.001121</td>\n      <td>T_ABCFACOA182th__chlomem</td>\n      <td>C00001__cytop + C00002__cytop + C02050__cytop --&gt; C00008__cytop + C00009__cytop + C00080__cytop + C02050__chlo</td>\n    </tr>\n    <tr>\n      <td>0.43%</td>\n      <td>0.05455</td>\n      <td>T_PIter__ermem</td>\n      <td>C00009__cytop &lt;=&gt; C00009__er</td>\n    </tr>\n    <tr>\n      <td>33.15%</td>\n      <td>4.202</td>\n      <td>e_ActiveBiomass__cytop</td>\n      <td>39.24 C00001__cytop + 39.24 C00002__cytop + 0.01248 e_Acid__cytop + 0.36847 e_Carbohydrate__cytop + 0.04311 e_Cofactor__cytop + 0.01863 e_DNA__cytop + 0.18237 e_Lipid__cytop + 0.03204 e_Pigment__chlo + 0.30308 e_Protein__cytop + 0.03726 e_RNA__cytop + 0.00257 e_Sterol__cytop --&gt; 39.24 C00008__cytop + 39.24 C00009__cytop + 39.24 C00080__cytop</td>\n    </tr>\n  </tbody>\n</table><h4>Consuming Reactions</h4><table border=\"1\" class=\"dataframe\">\n  <thead>\n    <tr style=\"text-align: right;\">\n      <th>Percent</th>\n      <th>Flux</th>\n      <th>Reaction</th>\n      <th>Definition</th>\n    </tr>\n  </thead>\n  <tbody>\n    <tr>\n      <td>78.49%</td>\n      <td>-9.949</td>\n      <td>TO1000009_MITMEM__mitmem</td>\n      <td>C00009__cytop + C00080__cytop --&gt; C00009__mito + C00080__mito</td>\n    </tr>\n    <tr>\n      <td>0.24%</td>\n      <td>-0.03086</td>\n      <td>TO1100009_MITMEM__mitmem</td>\n      <td>C00009__cytop + C01330__cytop --&gt; C00009__mito + C01330__mito</td>\n    </tr>\n    <tr>\n      <td>2.39%</td>\n      <td>-0.3035</td>\n      <td>TR2000009_CYTMEM__mitmem</td>\n      <td>C00009__cytop --&gt; C00009__mito</td>\n    </tr>\n    <tr>\n      <td>7.92%</td>\n      <td>-1.004</td>\n      <td>TR2000078_CHLOMEM__chlomem</td>\n      <td>C00009__cytop + C00111__chlo --&gt; C00009__chlo + C00111__cytop</td>\n    </tr>\n    <tr>\n      <td>5.60%</td>\n      <td>-0.7094</td>\n      <td>TR2000081_CHLOMEM__chlomem</td>\n      <td>C00009__cytop + C00197__chlo --&gt; C00009__chlo + C00197__cytop</td>\n    </tr>\n    <tr>\n      <td>5.36%</td>\n      <td>-0.679</td>\n      <td>TR2000082_CHLOMEM__chlomem</td>\n      <td>C00009__cytop + C00118__chlo --&gt; C00009__chlo + C00118__cytop</td>\n    </tr>\n  </tbody>\n</table>"
     },
     "execution_count": 66,
     "metadata": {},
     "output_type": "execute_result"
    }
   ],
   "source": [
    "dmodel.metabolites.C00009__cytop.summary()"
   ],
   "metadata": {
    "collapsed": false,
    "ExecuteTime": {
     "start_time": "2023-04-13T17:09:14.604829Z",
     "end_time": "2023-04-13T17:09:17.881193Z"
    }
   }
  },
  {
   "cell_type": "code",
   "execution_count": 60,
   "outputs": [],
   "source": [
    "dmodel.exchanges.EX_C00011__dra.lower_bound = -8.21\n",
    "dmodel.demands.DM_C00369__chlo.bounds = (0.001219, 1000)\n",
    "dmodel.demands.DM_C00116__cytop.bounds = (0.3252, 1000)\n",
    "dmodel.demands.DM_C00422__lip.bounds = (0.002879, 1000)\n",
    "dmodel.demands.DM_C02094__chlo.bounds = (0.0007998, 1000)\n",
    "dmodel.demands.DM_C05306__chlo.bounds = (0.0001095, 1000)\n",
    "dmodel.demands.DM_C05307__chlo.bounds = (3.683E-05, 1000)"
   ],
   "metadata": {
    "collapsed": false,
    "ExecuteTime": {
     "start_time": "2023-04-13T15:51:03.657323Z",
     "end_time": "2023-04-13T15:51:03.808756Z"
    }
   }
  },
  {
   "cell_type": "code",
   "execution_count": 62,
   "outputs": [
    {
     "data": {
      "text/plain": "0.10707593093435432"
     },
     "execution_count": 62,
     "metadata": {},
     "output_type": "execute_result"
    }
   ],
   "source": [
    "sol = dmodel.optimize()\n",
    "sol.objective_value"
   ],
   "metadata": {
    "collapsed": false,
    "ExecuteTime": {
     "start_time": "2023-04-13T15:51:10.737656Z",
     "end_time": "2023-04-13T15:51:10.779746Z"
    }
   }
  },
  {
   "cell_type": "code",
   "execution_count": 59,
   "outputs": [
    {
     "data": {
      "text/plain": "-8.813"
     },
     "execution_count": 59,
     "metadata": {},
     "output_type": "execute_result"
    }
   ],
   "source": [
    "dmodel.exchanges.EX_C00011__dra.lower_bound"
   ],
   "metadata": {
    "collapsed": false,
    "ExecuteTime": {
     "start_time": "2023-04-13T15:50:57.646383Z",
     "end_time": "2023-04-13T15:50:57.657168Z"
    }
   }
  },
  {
   "cell_type": "code",
   "execution_count": 63,
   "outputs": [
    {
     "data": {
      "text/plain": "0.19950589299205432"
     },
     "execution_count": 63,
     "metadata": {},
     "output_type": "execute_result"
    }
   ],
   "source": [
    "sol['e_ActiveBiomass__cytop'] + sol['DM_C00369__chlo']*48660.20/1000 + sol['DM_C00116__cytop']*92.09/1000 + sol['DM_C00422__lip']*904.78/1000 + sol['DM_C02094__chlo']*536.87/1000 + sol['DM_C05306__chlo']*893.49/1000 + sol['DM_C05307__chlo']*907.49/1000"
   ],
   "metadata": {
    "collapsed": false,
    "ExecuteTime": {
     "start_time": "2023-04-13T15:51:12.617509Z",
     "end_time": "2023-04-13T15:51:12.654388Z"
    }
   }
  },
  {
   "cell_type": "code",
   "execution_count": 65,
   "outputs": [
    {
     "name": "stdout",
     "output_type": "stream",
     "text": [
      "Runnning pFBA\n"
     ]
    },
    {
     "data": {
      "text/plain": "<cobra.summary.model_summary.ModelSummary at 0x1dc1d24f1c0>",
      "text/html": "<h3>Objective</h3><p>1.0 e_ActiveBiomass__cytop = 0.10707593093435432</p><h4>Uptake</h4><table border=\"1\" class=\"dataframe\">\n  <thead>\n    <tr style=\"text-align: right;\">\n      <th>Metabolite</th>\n      <th>Reaction</th>\n      <th>Flux</th>\n      <th>C-Number</th>\n      <th>C-Flux</th>\n    </tr>\n  </thead>\n  <tbody>\n    <tr>\n      <td>C00001__extr</td>\n      <td>EX_C00001__dra</td>\n      <td>6.744</td>\n      <td>0</td>\n      <td>0.00%</td>\n    </tr>\n    <tr>\n      <td>C00009__extr</td>\n      <td>EX_C00009__dra</td>\n      <td>0.03147</td>\n      <td>0</td>\n      <td>0.00%</td>\n    </tr>\n    <tr>\n      <td>C00011__extr</td>\n      <td>EX_C00011__dra</td>\n      <td>8.21</td>\n      <td>1</td>\n      <td>99.75%</td>\n    </tr>\n    <tr>\n      <td>C00059__extr</td>\n      <td>EX_C00059__dra</td>\n      <td>0.02302</td>\n      <td>0</td>\n      <td>0.00%</td>\n    </tr>\n    <tr>\n      <td>C00080__extr</td>\n      <td>EX_C00080__dra</td>\n      <td>0.05517</td>\n      <td>0</td>\n      <td>0.00%</td>\n    </tr>\n    <tr>\n      <td>C00120__extr</td>\n      <td>EX_C00120__dra</td>\n      <td>0.0007589</td>\n      <td>10</td>\n      <td>0.09%</td>\n    </tr>\n    <tr>\n      <td>C00205__extr</td>\n      <td>EX_C00205__dra</td>\n      <td>571.1</td>\n      <td>0</td>\n      <td>0.00%</td>\n    </tr>\n    <tr>\n      <td>C00244__extr</td>\n      <td>EX_C00244__dra</td>\n      <td>0.5172</td>\n      <td>0</td>\n      <td>0.00%</td>\n    </tr>\n    <tr>\n      <td>C00305__extr</td>\n      <td>EX_C00305__dra</td>\n      <td>0.0001463</td>\n      <td>0</td>\n      <td>0.00%</td>\n    </tr>\n    <tr>\n      <td>C00378__extr</td>\n      <td>EX_C00378__dra</td>\n      <td>0.0004362</td>\n      <td>12</td>\n      <td>0.06%</td>\n    </tr>\n    <tr>\n      <td>C02823__extr</td>\n      <td>EX_C02823__dra</td>\n      <td>0.0001169</td>\n      <td>63</td>\n      <td>0.09%</td>\n    </tr>\n    <tr>\n      <td>C14818__extr</td>\n      <td>EX_C14818__dra</td>\n      <td>0.004501</td>\n      <td>0</td>\n      <td>0.00%</td>\n    </tr>\n  </tbody>\n</table><h4>Secretion</h4><table border=\"1\" class=\"dataframe\">\n  <thead>\n    <tr style=\"text-align: right;\">\n      <th>Metabolite</th>\n      <th>Reaction</th>\n      <th>Flux</th>\n      <th>C-Number</th>\n      <th>C-Flux</th>\n    </tr>\n  </thead>\n  <tbody>\n    <tr>\n      <td>C00116__cytop</td>\n      <td>DM_C00116__cytop</td>\n      <td>-0.3252</td>\n      <td>3</td>\n      <td>30.23%</td>\n    </tr>\n    <tr>\n      <td>C00369__chlo</td>\n      <td>DM_C00369__chlo</td>\n      <td>-0.001219</td>\n      <td>1800</td>\n      <td>67.99%</td>\n    </tr>\n    <tr>\n      <td>C00422__lip</td>\n      <td>DM_C00422__lip</td>\n      <td>-0.002879</td>\n      <td>6</td>\n      <td>0.54%</td>\n    </tr>\n    <tr>\n      <td>C02094__chlo</td>\n      <td>DM_C02094__chlo</td>\n      <td>-0.0007998</td>\n      <td>40</td>\n      <td>0.99%</td>\n    </tr>\n    <tr>\n      <td>C05306__chlo</td>\n      <td>DM_C05306__chlo</td>\n      <td>-0.0001095</td>\n      <td>55</td>\n      <td>0.19%</td>\n    </tr>\n    <tr>\n      <td>C05307__chlo</td>\n      <td>DM_C05307__chlo</td>\n      <td>-3.683E-05</td>\n      <td>55</td>\n      <td>0.06%</td>\n    </tr>\n    <tr>\n      <td>photon298__cytop</td>\n      <td>DM_photon298__cytop</td>\n      <td>-0.1269</td>\n      <td>0</td>\n      <td>0.00%</td>\n    </tr>\n    <tr>\n      <td>photon450__chlo</td>\n      <td>DM_photon450__chlo</td>\n      <td>-15.62</td>\n      <td>0</td>\n      <td>0.00%</td>\n    </tr>\n    <tr>\n      <td>photon490__chlo</td>\n      <td>DM_photon490__chlo</td>\n      <td>-86.72</td>\n      <td>0</td>\n      <td>0.00%</td>\n    </tr>\n    <tr>\n      <td>photon646__chlo</td>\n      <td>DM_photon646__chlo</td>\n      <td>-146.7</td>\n      <td>0</td>\n      <td>0.00%</td>\n    </tr>\n    <tr>\n      <td>photon673__lum</td>\n      <td>DM_photon673__lum</td>\n      <td>-18.73</td>\n      <td>0</td>\n      <td>0.00%</td>\n    </tr>\n    <tr>\n      <td>C00007__extr</td>\n      <td>EX_C00007__dra</td>\n      <td>-10.2</td>\n      <td>0</td>\n      <td>0.00%</td>\n    </tr>\n    <tr>\n      <td>C00177__extr</td>\n      <td>EX_C00177__dra</td>\n      <td>-0.0001169</td>\n      <td>1</td>\n      <td>0.00%</td>\n    </tr>\n  </tbody>\n</table>"
     },
     "execution_count": 65,
     "metadata": {},
     "output_type": "execute_result"
    }
   ],
   "source": [
    "dmodel.summary()"
   ],
   "metadata": {
    "collapsed": false,
    "ExecuteTime": {
     "start_time": "2023-04-13T16:25:14.850697Z",
     "end_time": "2023-04-13T16:25:18.186301Z"
    }
   }
  },
  {
   "cell_type": "code",
   "execution_count": 7,
   "outputs": [
    {
     "data": {
      "text/plain": "0.030850355562195807"
     },
     "execution_count": 7,
     "metadata": {},
     "output_type": "execute_result"
    }
   ],
   "source": [
    "0.158*model.optimize().objective_value"
   ],
   "metadata": {
    "collapsed": false,
    "ExecuteTime": {
     "start_time": "2023-04-11T16:05:04.937984Z",
     "end_time": "2023-04-11T16:05:04.976630Z"
    }
   }
  },
  {
   "cell_type": "code",
   "execution_count": 5,
   "outputs": [
    {
     "data": {
      "text/plain": "-0.030799368290332287"
     },
     "execution_count": 5,
     "metadata": {},
     "output_type": "execute_result"
    }
   ],
   "source": [
    "model.optimize()['EX_C00009__dra']"
   ],
   "metadata": {
    "collapsed": false,
    "ExecuteTime": {
     "start_time": "2023-04-11T16:04:45.362744Z",
     "end_time": "2023-04-11T16:04:45.402809Z"
    }
   }
  },
  {
   "cell_type": "code",
   "execution_count": 8,
   "outputs": [
    {
     "data": {
      "text/plain": "<cobra.summary.metabolite_summary.MetaboliteSummary at 0x1dc1241fd90>",
      "text/html": "<h3>C05307__chlo</h3><p>C55H70MgN4O6</p><h4>Producing Reactions</h4><table border=\"1\" class=\"dataframe\">\n  <thead>\n    <tr style=\"text-align: right;\">\n      <th>Percent</th>\n      <th>Flux</th>\n      <th>Reaction</th>\n      <th>Definition</th>\n    </tr>\n  </thead>\n  <tbody>\n    <tr>\n      <td>100.00%</td>\n      <td>3.683E-05</td>\n      <td>R09067__chlo</td>\n      <td>C00080__chlo + C05427__chlo + C16541__chlo --&gt; C00013__chlo + C05307__chlo</td>\n    </tr>\n  </tbody>\n</table><h4>Consuming Reactions</h4><table border=\"1\" class=\"dataframe\">\n  <thead>\n    <tr style=\"text-align: right;\">\n      <th>Percent</th>\n      <th>Flux</th>\n      <th>Reaction</th>\n      <th>Definition</th>\n    </tr>\n  </thead>\n  <tbody>\n    <tr>\n      <td>100.00%</td>\n      <td>-3.683E-05</td>\n      <td>e_Pigment__chlo</td>\n      <td>0.20048 C02094__chlo + 0.0274349 C05306__chlo + 0.00923223 C05307__chlo + 0.000667831 C05432__chlo + 0.020883 C05433__chlo + 0.01342 C06098__chlo + 0.00118074 C08579__chlo + 0.135411 C08591__chlo + 0.0764899 C08601__chlo + 0.00259637 C08606__chlo + 0.867625 C08614__chlo + 0.369372 C20484__chlo --&gt; e_Pigment__chlo</td>\n    </tr>\n  </tbody>\n</table>"
     },
     "execution_count": 8,
     "metadata": {},
     "output_type": "execute_result"
    }
   ],
   "source": [
    "model.metabolites.C05307__chlo.summary()"
   ],
   "metadata": {
    "collapsed": false,
    "ExecuteTime": {
     "start_time": "2023-04-13T14:46:37.530996Z",
     "end_time": "2023-04-13T14:46:44.652414Z"
    }
   }
  },
  {
   "cell_type": "code",
   "execution_count": 8,
   "outputs": [
    {
     "name": "stdout",
     "output_type": "stream",
     "text": [
      "Runnning pFBA\n"
     ]
    },
    {
     "data": {
      "text/plain": "<cobra.summary.model_summary.ModelSummary at 0x2e46a4cb790>",
      "text/html": "<h3>Objective</h3><p>1.0 e_ActiveBiomass__cytop = 0.19673002745580706</p><h4>Uptake</h4><table border=\"1\" class=\"dataframe\">\n  <thead>\n    <tr style=\"text-align: right;\">\n      <th>Metabolite</th>\n      <th>Reaction</th>\n      <th>Flux</th>\n      <th>C-Number</th>\n      <th>C-Flux</th>\n    </tr>\n  </thead>\n  <tbody>\n    <tr>\n      <td>C00001__extr</td>\n      <td>EX_C00001__dra</td>\n      <td>3.386</td>\n      <td>0</td>\n      <td>0.00%</td>\n    </tr>\n    <tr>\n      <td>C00009__extr</td>\n      <td>EX_C00009__dra</td>\n      <td>0.031</td>\n      <td>0</td>\n      <td>0.00%</td>\n    </tr>\n    <tr>\n      <td>C00011__extr</td>\n      <td>EX_C00011__dra</td>\n      <td>4.764</td>\n      <td>1</td>\n      <td>99.59%</td>\n    </tr>\n    <tr>\n      <td>C00059__extr</td>\n      <td>EX_C00059__dra</td>\n      <td>0.02062</td>\n      <td>0</td>\n      <td>0.00%</td>\n    </tr>\n    <tr>\n      <td>C00080__extr</td>\n      <td>EX_C00080__dra</td>\n      <td>0.0523</td>\n      <td>0</td>\n      <td>0.00%</td>\n    </tr>\n    <tr>\n      <td>C00120__extr</td>\n      <td>EX_C00120__dra</td>\n      <td>0.0007447</td>\n      <td>10</td>\n      <td>0.16%</td>\n    </tr>\n    <tr>\n      <td>C00205__extr</td>\n      <td>EX_C00205__dra</td>\n      <td>392.6</td>\n      <td>0</td>\n      <td>0.00%</td>\n    </tr>\n    <tr>\n      <td>C00244__extr</td>\n      <td>EX_C00244__dra</td>\n      <td>0.5095</td>\n      <td>0</td>\n      <td>0.00%</td>\n    </tr>\n    <tr>\n      <td>C00378__extr</td>\n      <td>EX_C00378__dra</td>\n      <td>0.0004278</td>\n      <td>12</td>\n      <td>0.11%</td>\n    </tr>\n    <tr>\n      <td>C02823__extr</td>\n      <td>EX_C02823__dra</td>\n      <td>0.0001152</td>\n      <td>63</td>\n      <td>0.15%</td>\n    </tr>\n    <tr>\n      <td>C14818__extr</td>\n      <td>EX_C14818__dra</td>\n      <td>0.002367</td>\n      <td>0</td>\n      <td>0.00%</td>\n    </tr>\n  </tbody>\n</table><h4>Secretion</h4><table border=\"1\" class=\"dataframe\">\n  <thead>\n    <tr style=\"text-align: right;\">\n      <th>Metabolite</th>\n      <th>Reaction</th>\n      <th>Flux</th>\n      <th>C-Number</th>\n      <th>C-Flux</th>\n    </tr>\n  </thead>\n  <tbody>\n    <tr>\n      <td>photon298__cytop</td>\n      <td>DM_photon298__cytop</td>\n      <td>-0.08724</td>\n      <td>0</td>\n      <td>0.00%</td>\n    </tr>\n    <tr>\n      <td>photon450__chlo</td>\n      <td>DM_photon450__chlo</td>\n      <td>-10.74</td>\n      <td>0</td>\n      <td>0.00%</td>\n    </tr>\n    <tr>\n      <td>photon490__chlo</td>\n      <td>DM_photon490__chlo</td>\n      <td>-59.62</td>\n      <td>0</td>\n      <td>0.00%</td>\n    </tr>\n    <tr>\n      <td>photon646__chlo</td>\n      <td>DM_photon646__chlo</td>\n      <td>-100.8</td>\n      <td>0</td>\n      <td>0.00%</td>\n    </tr>\n    <tr>\n      <td>photon673__lum</td>\n      <td>DM_photon673__lum</td>\n      <td>-12.71</td>\n      <td>0</td>\n      <td>0.00%</td>\n    </tr>\n    <tr>\n      <td>C00007__extr</td>\n      <td>EX_C00007__dra</td>\n      <td>-6.486</td>\n      <td>0</td>\n      <td>0.00%</td>\n    </tr>\n    <tr>\n      <td>C00177__extr</td>\n      <td>EX_C00177__dra</td>\n      <td>-0.0001152</td>\n      <td>1</td>\n      <td>100.00%</td>\n    </tr>\n  </tbody>\n</table>"
     },
     "execution_count": 8,
     "metadata": {},
     "output_type": "execute_result"
    }
   ],
   "source": [
    "model.summary()"
   ],
   "metadata": {
    "collapsed": false,
    "ExecuteTime": {
     "start_time": "2023-04-11T11:44:55.266851Z",
     "end_time": "2023-04-11T11:44:58.287776Z"
    }
   }
  },
  {
   "cell_type": "code",
   "execution_count": 5,
   "outputs": [
    {
     "name": "stdout",
     "output_type": "stream",
     "text": [
      "Loading\n",
      "\n",
      "Reactions: 4591\n",
      "Metabolites: 3658\n",
      "Genes: 1690\n",
      "Model loaded\n"
     ]
    }
   ],
   "source": [
    "data_directory = \"../data\"\n",
    "model = MyModel(join(data_directory, \"models/model_with_trials.xml\"), \"e_Biomass__cytop\")\n",
    "model.add_medium(join(data_directory, \"media.xlsx\"), \"base_medium\")\n",
    "model.setup_condition(\"default\")"
   ],
   "metadata": {
    "collapsed": false,
    "ExecuteTime": {
     "start_time": "2023-04-13T14:44:21.310706Z",
     "end_time": "2023-04-13T14:44:34.255753Z"
    }
   }
  },
  {
   "cell_type": "code",
   "execution_count": 6,
   "outputs": [
    {
     "data": {
      "text/plain": "<cobra.summary.metabolite_summary.MetaboliteSummary at 0x1dc14f9fdc0>",
      "text/html": "<h3>C02094__chlo</h3><p>C40H56</p><h4>Producing Reactions</h4><table border=\"1\" class=\"dataframe\">\n  <thead>\n    <tr style=\"text-align: right;\">\n      <th>Percent</th>\n      <th>Flux</th>\n      <th>Reaction</th>\n      <th>Definition</th>\n    </tr>\n  </thead>\n  <tbody>\n    <tr>\n      <td>100.00%</td>\n      <td>0.006688</td>\n      <td>R03824__chlo</td>\n      <td>C05435__chlo --&gt; C02094__chlo</td>\n    </tr>\n  </tbody>\n</table><h4>Consuming Reactions</h4><table border=\"1\" class=\"dataframe\">\n  <thead>\n    <tr style=\"text-align: right;\">\n      <th>Percent</th>\n      <th>Flux</th>\n      <th>Reaction</th>\n      <th>Definition</th>\n    </tr>\n  </thead>\n  <tbody>\n    <tr>\n      <td>5.14%</td>\n      <td>-0.0003439</td>\n      <td>R00032__chlo</td>\n      <td>C00007__chlo + C02094__chlo --&gt; 2.0 C00376__chlo</td>\n    </tr>\n    <tr>\n      <td>8.08%</td>\n      <td>-0.0005402</td>\n      <td>R07558__chlo</td>\n      <td>C00007__chlo + 2.0 C00080__chlo + 2.0 C00138__chlo + C02094__chlo --&gt; C00001__chlo + 2.0 C00139__chlo + C08591__chlo</td>\n    </tr>\n    <tr>\n      <td>52.78%</td>\n      <td>-0.00353</td>\n      <td>R09747__chlo</td>\n      <td>2.0 C00007__chlo + 4.0 C00080__chlo + 4.0 C00138__chlo + C02094__chlo --&gt; 2.0 C00001__chlo + 4.0 C00139__chlo + C06098__chlo</td>\n    </tr>\n    <tr>\n      <td>22.04%</td>\n      <td>-0.001474</td>\n      <td>R10282__chlo</td>\n      <td>C02094__chlo --&gt; C20484__chlo</td>\n    </tr>\n    <tr>\n      <td>11.96%</td>\n      <td>-0.0007998</td>\n      <td>e_Pigment__chlo</td>\n      <td>0.20048 C02094__chlo + 0.0274349 C05306__chlo + 0.00923223 C05307__chlo + 0.000667831 C05432__chlo + 0.020883 C05433__chlo + 0.01342 C06098__chlo + 0.00118074 C08579__chlo + 0.135411 C08591__chlo + 0.0764899 C08601__chlo + 0.00259637 C08606__chlo + 0.867625 C08614__chlo + 0.369372 C20484__chlo --&gt; e_Pigment__chlo</td>\n    </tr>\n  </tbody>\n</table>"
     },
     "execution_count": 6,
     "metadata": {},
     "output_type": "execute_result"
    }
   ],
   "source": [
    "model.metabolites.C02094__chlo.summary()"
   ],
   "metadata": {
    "collapsed": false,
    "ExecuteTime": {
     "start_time": "2023-04-13T14:44:34.251407Z",
     "end_time": "2023-04-13T14:44:42.809347Z"
    }
   }
  },
  {
   "cell_type": "code",
   "execution_count": 5,
   "outputs": [
    {
     "name": "stdout",
     "output_type": "stream",
     "text": [
      "Runnning pFBA\n"
     ]
    },
    {
     "data": {
      "text/plain": "<cobra.summary.model_summary.ModelSummary at 0x16b9687f7f0>",
      "text/html": "<h3>Objective</h3><p>1.0 e_Biomass__cytop = 0.19957008881966418</p><h4>Uptake</h4><table border=\"1\" class=\"dataframe\">\n  <thead>\n    <tr style=\"text-align: right;\">\n      <th>Metabolite</th>\n      <th>Reaction</th>\n      <th>Flux</th>\n      <th>C-Number</th>\n      <th>C-Flux</th>\n    </tr>\n  </thead>\n  <tbody>\n    <tr>\n      <td>C00001__extr</td>\n      <td>EX_C00001__dra</td>\n      <td>6.745</td>\n      <td>0</td>\n      <td>0.00%</td>\n    </tr>\n    <tr>\n      <td>C00009__extr</td>\n      <td>EX_C00009__dra</td>\n      <td>0.03146</td>\n      <td>0</td>\n      <td>0.00%</td>\n    </tr>\n    <tr>\n      <td>C00011__extr</td>\n      <td>EX_C00011__dra</td>\n      <td>8.21</td>\n      <td>1</td>\n      <td>99.76%</td>\n    </tr>\n    <tr>\n      <td>C00059__extr</td>\n      <td>EX_C00059__dra</td>\n      <td>0.02092</td>\n      <td>0</td>\n      <td>0.00%</td>\n    </tr>\n    <tr>\n      <td>C00080__extr</td>\n      <td>EX_C00080__dra</td>\n      <td>0.05307</td>\n      <td>0</td>\n      <td>0.00%</td>\n    </tr>\n    <tr>\n      <td>C00120__extr</td>\n      <td>EX_C00120__dra</td>\n      <td>0.0007555</td>\n      <td>10</td>\n      <td>0.09%</td>\n    </tr>\n    <tr>\n      <td>C00205__extr</td>\n      <td>EX_C00205__dra</td>\n      <td>591.1</td>\n      <td>0</td>\n      <td>0.00%</td>\n    </tr>\n    <tr>\n      <td>C00244__extr</td>\n      <td>EX_C00244__dra</td>\n      <td>0.5171</td>\n      <td>0</td>\n      <td>0.00%</td>\n    </tr>\n    <tr>\n      <td>C00305__extr</td>\n      <td>EX_C00305__dra</td>\n      <td>6.306E-05</td>\n      <td>0</td>\n      <td>0.00%</td>\n    </tr>\n    <tr>\n      <td>C00378__extr</td>\n      <td>EX_C00378__dra</td>\n      <td>0.000434</td>\n      <td>12</td>\n      <td>0.06%</td>\n    </tr>\n    <tr>\n      <td>C02823__extr</td>\n      <td>EX_C02823__dra</td>\n      <td>0.0001168</td>\n      <td>63</td>\n      <td>0.09%</td>\n    </tr>\n    <tr>\n      <td>C14818__extr</td>\n      <td>EX_C14818__dra</td>\n      <td>0.002401</td>\n      <td>0</td>\n      <td>0.00%</td>\n    </tr>\n  </tbody>\n</table><h4>Secretion</h4><table border=\"1\" class=\"dataframe\">\n  <thead>\n    <tr style=\"text-align: right;\">\n      <th>Metabolite</th>\n      <th>Reaction</th>\n      <th>Flux</th>\n      <th>C-Number</th>\n      <th>C-Flux</th>\n    </tr>\n  </thead>\n  <tbody>\n    <tr>\n      <td>photon298__cytop</td>\n      <td>DM_photon298__cytop</td>\n      <td>-0.1313</td>\n      <td>0</td>\n      <td>0.00%</td>\n    </tr>\n    <tr>\n      <td>photon438__lum</td>\n      <td>DM_photon438__lum</td>\n      <td>-19.41</td>\n      <td>0</td>\n      <td>0.00%</td>\n    </tr>\n    <tr>\n      <td>photon450__chlo</td>\n      <td>DM_photon450__chlo</td>\n      <td>-16.17</td>\n      <td>0</td>\n      <td>0.00%</td>\n    </tr>\n    <tr>\n      <td>photon490__chlo</td>\n      <td>DM_photon490__chlo</td>\n      <td>-89.76</td>\n      <td>0</td>\n      <td>0.00%</td>\n    </tr>\n    <tr>\n      <td>photon646__chlo</td>\n      <td>DM_photon646__chlo</td>\n      <td>-151.8</td>\n      <td>0</td>\n      <td>0.00%</td>\n    </tr>\n    <tr>\n      <td>C00007__extr</td>\n      <td>EX_C00007__dra</td>\n      <td>-10.2</td>\n      <td>0</td>\n      <td>0.00%</td>\n    </tr>\n    <tr>\n      <td>C00177__extr</td>\n      <td>EX_C00177__dra</td>\n      <td>-0.0001168</td>\n      <td>1</td>\n      <td>100.00%</td>\n    </tr>\n  </tbody>\n</table>"
     },
     "execution_count": 5,
     "metadata": {},
     "output_type": "execute_result"
    }
   ],
   "source": [
    "model.summary()"
   ],
   "metadata": {
    "collapsed": false,
    "ExecuteTime": {
     "start_time": "2023-04-08T17:01:42.507668Z",
     "end_time": "2023-04-08T17:01:46.852277Z"
    }
   }
  },
  {
   "cell_type": "code",
   "execution_count": 32,
   "outputs": [],
   "source": [
    "model.reactions.DM_C00404__vacu.bounds = (-0.01, 1000)"
   ],
   "metadata": {
    "collapsed": false
   }
  },
  {
   "cell_type": "code",
   "execution_count": 34,
   "outputs": [
    {
     "data": {
      "text/plain": "                      Flux\nH2O            1500.000000\nH+               99.382549\nPolyphosphate     2.939357",
      "text/html": "<div>\n<style scoped>\n    .dataframe tbody tr th:only-of-type {\n        vertical-align: middle;\n    }\n\n    .dataframe tbody tr th {\n        vertical-align: top;\n    }\n\n    .dataframe thead th {\n        text-align: right;\n    }\n</style>\n<table border=\"1\" class=\"dataframe\">\n  <thead>\n    <tr style=\"text-align: right;\">\n      <th></th>\n      <th>Flux</th>\n    </tr>\n  </thead>\n  <tbody>\n    <tr>\n      <th>H2O</th>\n      <td>1500.000000</td>\n    </tr>\n    <tr>\n      <th>H+</th>\n      <td>99.382549</td>\n    </tr>\n    <tr>\n      <th>Polyphosphate</th>\n      <td>2.939357</td>\n    </tr>\n  </tbody>\n</table>\n</div>"
     },
     "execution_count": 34,
     "metadata": {},
     "output_type": "execute_result"
    }
   ],
   "source": [
    "model.test_reaction(\"R03042__vacu\")"
   ],
   "metadata": {
    "collapsed": false
   }
  },
  {
   "cell_type": "code",
   "execution_count": 36,
   "outputs": [
    {
     "data": {
      "text/plain": "                  minimum   maximum\nDM_C00404__vacu -0.001315  1.559168",
      "text/html": "<div>\n<style scoped>\n    .dataframe tbody tr th:only-of-type {\n        vertical-align: middle;\n    }\n\n    .dataframe tbody tr th {\n        vertical-align: top;\n    }\n\n    .dataframe thead th {\n        text-align: right;\n    }\n</style>\n<table border=\"1\" class=\"dataframe\">\n  <thead>\n    <tr style=\"text-align: right;\">\n      <th></th>\n      <th>minimum</th>\n      <th>maximum</th>\n    </tr>\n  </thead>\n  <tbody>\n    <tr>\n      <th>DM_C00404__vacu</th>\n      <td>-0.001315</td>\n      <td>1.559168</td>\n    </tr>\n  </tbody>\n</table>\n</div>"
     },
     "execution_count": 36,
     "metadata": {},
     "output_type": "execute_result"
    }
   ],
   "source": [
    "fva(model, ['DM_C00404__vacu'], fraction_of_optimum=0.9)"
   ],
   "metadata": {
    "collapsed": false
   }
  },
  {
   "cell_type": "code",
   "execution_count": 35,
   "outputs": [
    {
     "name": "stdout",
     "output_type": "stream",
     "text": [
      "Runnning pFBA\n",
      "Objective\n",
      "=========\n",
      "1.0 e_Biomass_trial4__cytop = 1.7567534842773915\n",
      "\n",
      "Uptake\n",
      "------\n",
      "  Metabolite       Reaction      Flux  C-Number C-Flux\n",
      "C00001__extr EX_C00001__dra     59.12         0  0.00%\n",
      "C00009__extr EX_C00009__dra     0.266         0  0.00%\n",
      "C00011__extr EX_C00011__dra     72.03         1 99.77%\n",
      "C00059__extr EX_C00059__dra    0.1616         0  0.00%\n",
      "C00080__extr EX_C00080__dra    0.4334         0  0.00%\n",
      "C00120__extr EX_C00120__dra  0.006345        10  0.09%\n",
      "C00205__extr EX_C00205__dra      5000         0  0.00%\n",
      "C00244__extr EX_C00244__dra     3.861         0  0.00%\n",
      "C00305__extr EX_C00305__dra  0.000419         0  0.00%\n",
      "C00378__extr EX_C00378__dra  0.003645        12  0.06%\n",
      "C02823__extr EX_C02823__dra 0.0009812        63  0.09%\n",
      "C14818__extr EX_C14818__dra   0.02017         0  0.00%\n",
      "\n",
      "Secretion\n",
      "---------\n",
      "      Metabolite            Reaction       Flux  C-Number  C-Flux\n",
      "photon298__cytop DM_photon298__cytop     -1.111         0   0.00%\n",
      "  photon438__lum   DM_photon438__lum     -164.8         0   0.00%\n",
      " photon450__chlo  DM_photon450__chlo     -136.8         0   0.00%\n",
      " photon490__chlo  DM_photon490__chlo     -759.3         0   0.00%\n",
      " photon646__chlo  DM_photon646__chlo      -1284         0   0.00%\n",
      "    C00007__extr      EX_C00007__dra     -87.61         0   0.00%\n",
      "    C00177__extr      EX_C00177__dra -0.0009812         1 100.00%\n",
      "\n"
     ]
    }
   ],
   "source": [
    "with model:\n",
    "    model.exchanges.EX_C00205__dra.bounds = (-5000, 1000)\n",
    "    model.exchanges.EX_C00011__dra.bounds = (-100, 1000)\n",
    "    print(model.summary())"
   ],
   "metadata": {
    "collapsed": false
   }
  },
  {
   "cell_type": "code",
   "execution_count": 6,
   "outputs": [
    {
     "name": "stdout",
     "output_type": "stream",
     "text": [
      "Runnning pFBA\n"
     ]
    },
    {
     "data": {
      "text/plain": "<cobra.summary.model_summary.ModelSummary at 0x134ae487af0>",
      "text/html": "<h3>Objective</h3><p>1.0 e_Biomass_trial4__cytop = 3.519131428852129</p><h4>Uptake</h4><table border=\"1\" class=\"dataframe\">\n  <thead>\n    <tr style=\"text-align: right;\">\n      <th>Metabolite</th>\n      <th>Reaction</th>\n      <th>Flux</th>\n      <th>C-Number</th>\n      <th>C-Flux</th>\n    </tr>\n  </thead>\n  <tbody>\n    <tr>\n      <td>C00001__extr</td>\n      <td>EX_C00001__dra</td>\n      <td>118.4</td>\n      <td>0</td>\n      <td>0.00%</td>\n    </tr>\n    <tr>\n      <td>C00009__extr</td>\n      <td>EX_C00009__dra</td>\n      <td>0.5328</td>\n      <td>0</td>\n      <td>0.00%</td>\n    </tr>\n    <tr>\n      <td>C00011__extr</td>\n      <td>EX_C00011__dra</td>\n      <td>144.3</td>\n      <td>1</td>\n      <td>99.77%</td>\n    </tr>\n    <tr>\n      <td>C00059__extr</td>\n      <td>EX_C00059__dra</td>\n      <td>0.3238</td>\n      <td>0</td>\n      <td>0.00%</td>\n    </tr>\n    <tr>\n      <td>C00080__extr</td>\n      <td>EX_C00080__dra</td>\n      <td>0.8681</td>\n      <td>0</td>\n      <td>0.00%</td>\n    </tr>\n    <tr>\n      <td>C00120__extr</td>\n      <td>EX_C00120__dra</td>\n      <td>0.01271</td>\n      <td>10</td>\n      <td>0.09%</td>\n    </tr>\n    <tr>\n      <td>C00205__extr</td>\n      <td>EX_C00205__dra</td>\n      <td>1E+04</td>\n      <td>0</td>\n      <td>0.00%</td>\n    </tr>\n    <tr>\n      <td>C00244__extr</td>\n      <td>EX_C00244__dra</td>\n      <td>7.734</td>\n      <td>0</td>\n      <td>0.00%</td>\n    </tr>\n    <tr>\n      <td>C00305__extr</td>\n      <td>EX_C00305__dra</td>\n      <td>0.0008394</td>\n      <td>0</td>\n      <td>0.00%</td>\n    </tr>\n    <tr>\n      <td>C00378__extr</td>\n      <td>EX_C00378__dra</td>\n      <td>0.007301</td>\n      <td>12</td>\n      <td>0.06%</td>\n    </tr>\n    <tr>\n      <td>C02823__extr</td>\n      <td>EX_C02823__dra</td>\n      <td>0.001966</td>\n      <td>63</td>\n      <td>0.09%</td>\n    </tr>\n    <tr>\n      <td>C14818__extr</td>\n      <td>EX_C14818__dra</td>\n      <td>0.0404</td>\n      <td>0</td>\n      <td>0.00%</td>\n    </tr>\n  </tbody>\n</table><h4>Secretion</h4><table border=\"1\" class=\"dataframe\">\n  <thead>\n    <tr style=\"text-align: right;\">\n      <th>Metabolite</th>\n      <th>Reaction</th>\n      <th>Flux</th>\n      <th>C-Number</th>\n      <th>C-Flux</th>\n    </tr>\n  </thead>\n  <tbody>\n    <tr>\n      <td>photon298__cytop</td>\n      <td>DM_photon298__cytop</td>\n      <td>-2.222</td>\n      <td>0</td>\n      <td>0.00%</td>\n    </tr>\n    <tr>\n      <td>photon450__chlo</td>\n      <td>DM_photon450__chlo</td>\n      <td>-273.5</td>\n      <td>0</td>\n      <td>0.00%</td>\n    </tr>\n    <tr>\n      <td>photon490__chlo</td>\n      <td>DM_photon490__chlo</td>\n      <td>-1519</td>\n      <td>0</td>\n      <td>0.00%</td>\n    </tr>\n    <tr>\n      <td>photon646__chlo</td>\n      <td>DM_photon646__chlo</td>\n      <td>-2568</td>\n      <td>0</td>\n      <td>0.00%</td>\n    </tr>\n    <tr>\n      <td>photon673__lum</td>\n      <td>DM_photon673__lum</td>\n      <td>-329.7</td>\n      <td>0</td>\n      <td>0.00%</td>\n    </tr>\n    <tr>\n      <td>C00007__extr</td>\n      <td>EX_C00007__dra</td>\n      <td>-175.5</td>\n      <td>0</td>\n      <td>0.00%</td>\n    </tr>\n    <tr>\n      <td>C00177__extr</td>\n      <td>EX_C00177__dra</td>\n      <td>-0.001966</td>\n      <td>1</td>\n      <td>100.00%</td>\n    </tr>\n  </tbody>\n</table>"
     },
     "execution_count": 6,
     "metadata": {},
     "output_type": "execute_result"
    }
   ],
   "source": [
    "model.exchanges.EX_C00011__dra.bounds = (-1000, 1000)\n",
    "model.exchanges.EX_C00205__dra.bounds = (-10000, 1000)\n",
    "model.summary()"
   ],
   "metadata": {
    "collapsed": false
   }
  },
  {
   "cell_type": "code",
   "execution_count": 35,
   "outputs": [
    {
     "data": {
      "text/plain": "<cobra.summary.metabolite_summary.MetaboliteSummary at 0x15ddd73a7c0>",
      "text/html": "<h3>C02094__chlo</h3><p>C40H56</p><h4>Producing Reactions</h4><table border=\"1\" class=\"dataframe\">\n  <thead>\n    <tr style=\"text-align: right;\">\n      <th>Percent</th>\n      <th>Flux</th>\n      <th>Reaction</th>\n      <th>Definition</th>\n    </tr>\n  </thead>\n  <tbody>\n    <tr>\n      <td>100.00%</td>\n      <td>0.006754</td>\n      <td>R03824__chlo</td>\n      <td>C05435__chlo --&gt; C02094__chlo</td>\n    </tr>\n  </tbody>\n</table><h4>Consuming Reactions</h4><table border=\"1\" class=\"dataframe\">\n  <thead>\n    <tr style=\"text-align: right;\">\n      <th>Percent</th>\n      <th>Flux</th>\n      <th>Reaction</th>\n      <th>Definition</th>\n    </tr>\n  </thead>\n  <tbody>\n    <tr>\n      <td>4.87%</td>\n      <td>-0.0003291</td>\n      <td>R00032__chlo</td>\n      <td>C00007__chlo + C02094__chlo --&gt; 2.0 C00376__chlo</td>\n    </tr>\n    <tr>\n      <td>9.26%</td>\n      <td>-0.0006255</td>\n      <td>R07558__chlo</td>\n      <td>C00007__chlo + 2.0 C00080__chlo + 2.0 C00138__chlo + C02094__chlo --&gt; C00001__chlo + 2.0 C00139__chlo + C08591__chlo</td>\n    </tr>\n    <tr>\n      <td>60.52%</td>\n      <td>-0.004088</td>\n      <td>R09747__chlo</td>\n      <td>2.0 C00007__chlo + 4.0 C00080__chlo + 4.0 C00138__chlo + C02094__chlo --&gt; 2.0 C00001__chlo + 4.0 C00139__chlo + C06098__chlo</td>\n    </tr>\n    <tr>\n      <td>25.27%</td>\n      <td>-0.001707</td>\n      <td>R10282__chlo</td>\n      <td>C02094__chlo --&gt; C20484__chlo</td>\n    </tr>\n    <tr>\n      <td>0.07%</td>\n      <td>-4.967E-06</td>\n      <td>e_Pigment_trial4__chlo</td>\n      <td>0.0013 C02094__chlo + 0.0077 C05306__chlo + 0.0048 C05307__chlo + 0.0008 C05432__chlo + 0.0253 C05433__chlo + 0.0162 C06098__chlo + 0.0014 C08579__chlo + 0.1637 C08591__chlo + 0.0025 C08601__chlo + 0.0031 C08606__chlo + 1.0492 C08614__chlo + 0.4467 C20484__chlo --&gt; e_Pigment__chlo</td>\n    </tr>\n  </tbody>\n</table>"
     },
     "execution_count": 35,
     "metadata": {},
     "output_type": "execute_result"
    }
   ],
   "source": [
    "model.metabolites.C02094__chlo.summary()"
   ],
   "metadata": {
    "collapsed": false
   }
  },
  {
   "cell_type": "code",
   "execution_count": null,
   "outputs": [],
   "source": [
    "model.metabolites.C00065__mito.summary(fva=1.0)"
   ],
   "metadata": {
    "collapsed": false
   }
  },
  {
   "cell_type": "code",
   "execution_count": null,
   "outputs": [],
   "source": [
    "with model:\n",
    "    # model.create_sink(\"C00148__mito\")\n",
    "    print(fva(model, ['R02236__cytop'], fraction_of_optimum=0.0))"
   ],
   "metadata": {
    "collapsed": false
   }
  },
  {
   "cell_type": "code",
   "execution_count": null,
   "outputs": [],
   "source": [
    "model.test_reaction(\"R02236__cytop\")"
   ],
   "metadata": {
    "collapsed": false
   }
  },
  {
   "cell_type": "code",
   "execution_count": null,
   "outputs": [],
   "source": [
    "model.metabolites.C00025__mito.summary(fva = 1.0)"
   ],
   "metadata": {
    "collapsed": false
   }
  },
  {
   "cell_type": "code",
   "execution_count": null,
   "outputs": [],
   "source": [
    "model.summary()"
   ],
   "metadata": {
    "collapsed": false
   }
  },
  {
   "cell_type": "code",
   "execution_count": null,
   "outputs": [],
   "source": [
    "#create copy reactions\n",
    "with model:\n",
    "    carbohydrate_copy = model.reactions.e_Carbohydrate__cytop.copy()\n",
    "    carbohydrate_copy.id = 'e_Carbohydrate_no_starch__cytop'\n",
    "    biomass_copy = model.reactions.e_Biomass__cytop.copy()\n",
    "    biomass_copy.id = 'e_ActiveBiomass__cytop'\n",
    "    model.add_reactions([carbohydrate_copy, biomass_copy])\n",
    "    model.objective = 'e_ActiveBiomass__cytop'\n",
    "    model.reactions.e_Carbohydrate__cytop.bounds = (0, 0)\n",
    "    #remove starch from e_carbohydrate\n",
    "    carbohydrate_copy.add_metabolites({model.metabolites.C00369__chlo: -carbohydrate_copy.metabolites[model.metabolites.C00369__chlo]})\n",
    "\n",
    "    #adjust other carbohydrates\n",
    "    carbohydrate_copy.add_metabolites({model.metabolites.C00052__cytop:  -3.35762291 - carbohydrate_copy.metabolites[model.metabolites.C00052__cytop]})\n",
    "    carbohydrate_copy.add_metabolites({model.metabolites.C00096__cytop:  -1.58181346 - carbohydrate_copy.metabolites[model.metabolites.C00096__cytop]})\n",
    "    carbohydrate_copy.add_metabolites({model.metabolites.C00935__cytop:  -2.52493299 - carbohydrate_copy.metabolites[model.metabolites.C00935__cytop]})\n",
    "\n",
    "    carbohydrate_copy.add_metabolites({model.metabolites.C00015__cytop:  5.8825559 - carbohydrate_copy.metabolites[model.metabolites.C00015__cytop]})\n",
    "    carbohydrate_copy.add_metabolites({model.metabolites.C00035__cytop:  1.58181346 - carbohydrate_copy.metabolites[model.metabolites.C00035__cytop]})\n",
    "    carbohydrate_copy.add_metabolites({model.metabolites.C00001__cytop:  7.46436936 - carbohydrate_copy.metabolites[model.metabolites.C00001__cytop]})\n",
    "\n",
    "    print(carbohydrate_copy.metabolites)\n",
    "\n",
    "    biomass_copy.add_metabolites({model.metabolites.e_Carbohydrate__cytop:  -0.203306526 - biomass_copy.metabolites[model.metabolites.e_Carbohydrate__cytop]})\n",
    "    print(biomass_copy.metabolites)\n",
    "    print(model.optimize().objective_value*0.7083)\n",
    "\n",
    "    # total = abs(sum([biomass_copy.metabolites[met] for met in biomass_copy.reactants if biomass_copy.metabolites[met] > -10]))\n",
    "    # for  met in biomass_copy.reactants:\n",
    "    #     if biomass_copy.metabolites[met] > -10:\n",
    "    #         print(met.id)\n",
    "    #         new_st = biomass_copy.metabolites[met]/total\n",
    "    #         print(new_st)\n",
    "    #         print(biomass_copy.metabolites[met])\n",
    "    #         biomass_copy.add_metabolites({model.metabolites.get_by_id(met.id):  new_st - biomass_copy.metabolites[met]})\n",
    "    #         print(biomass_copy.metabolites[met])\n",
    "    # print(sum([biomass_copy.metabolites[met] for met in biomass_copy.reactants if biomass_copy.metabolites[met] > -10]))\n",
    "    # print(model.optimize().objective_value)\n",
    "    model.write(os.path.join(data_directory, \"models/model_dfba.xml\"))"
   ],
   "metadata": {
    "collapsed": false
   }
  },
  {
   "cell_type": "code",
   "execution_count": null,
   "outputs": [],
   "source": [
    "data_directory = \"../data\"\n",
    "model = MyModel(join(data_directory, \"model_dfba.xml\"), \"e_Biomass_trial4__cytop\")\n",
    "model.add_medium(join(data_directory, \"media.xlsx\"), \"base_medium\")\n",
    "model.setup_condition(\"4\")"
   ],
   "metadata": {
    "collapsed": false
   }
  },
  {
   "cell_type": "code",
   "execution_count": null,
   "outputs": [],
   "source": [
    "pfba_sol = pfba(model)\n",
    "model.summary(pfba_sol)"
   ],
   "metadata": {
    "collapsed": false
   }
  },
  {
   "cell_type": "code",
   "execution_count": null,
   "outputs": [],
   "source": [
    "with model:\n",
    "    model.reactions.DM_C00369__chlo.bounds = (0.00147, 1000)\n",
    "    pfba_sol = pfba(model)\n",
    "    # print(model.metabolites.C00369__chlo.summary(pfba_sol))\n",
    "    print(model.summary(pfba_sol))"
   ],
   "metadata": {
    "collapsed": false
   }
  },
  {
   "cell_type": "code",
   "execution_count": null,
   "outputs": [],
   "source": [
    "sum([model.reactions.e_Biomass_trial4__cytop.metabolites[reactant] for reactant in model.reactions.e_Biomass_trial4__cytop.metabolites if model.reactions.e_Biomass_trial4__cytop.metabolites[reactant] < 0 and model.reactions.e_Biomass_trial4__cytop.metabolites[reactant]>-1])"
   ],
   "metadata": {
    "collapsed": false
   }
  },
  {
   "cell_type": "code",
   "execution_count": null,
   "outputs": [],
   "source": [
    "original_sol = model.optimize().objective_value"
   ],
   "metadata": {
    "collapsed": false
   }
  },
  {
   "cell_type": "code",
   "execution_count": null,
   "outputs": [],
   "source": [
    "model.summary()"
   ],
   "metadata": {
    "collapsed": false
   }
  },
  {
   "cell_type": "code",
   "execution_count": null,
   "outputs": [],
   "source": [
    "model.metabolites.C00116__cytop.formula_weight"
   ],
   "metadata": {
    "collapsed": false
   }
  },
  {
   "cell_type": "code",
   "execution_count": null,
   "outputs": [],
   "source": [
    "fva(model, [\"T_SUCBZth__chlomem\"])"
   ],
   "metadata": {
    "collapsed": false
   }
  },
  {
   "cell_type": "code",
   "execution_count": null,
   "outputs": [],
   "source": [
    "with model:\n",
    "    # model.biomass_reaction = model.bio_reaction.id\n",
    "    # model.reactions.e_Carbohydrate__cytop.add_metabolites({model.metabolites.C00369__chlo: -model.reactions.e_Carbohydrate__cytop.metabolites[model.metabolites.C00369__chlo]})\n",
    "    # model.reactions.e_Biomass_trial4__cytop\n",
    "    # model.reactions.e_Acid__cytop.add_metabolites({model.metabolites.C00116__cytop: -model.reactions.e_Acid__cytop.metabolites[model.metabolites.C00116__cytop]})\n",
    "    # model.reactions.DM_C00369__chlo.bounds = (0.305381773/model.metabolites.C00369__chlo.formula_weight*1000*original_sol, 1000)\n",
    "    # model.reactions.DM_C00369__chlo.bounds = (0.00147, 1000)\n",
    "    # [setattr(x, 'objective_coefficient', 0) for x in model.reactions if x.objective_coefficient != 0]\n",
    "    # model.reactions.EX_e_Biomass__dra.objective_coefficient = 0.7\n",
    "    # model.reactions.DM_C00369__chlo.objective_coefficient = 0.3\n",
    "    # model.objective = \"e_Biomass__cytop\"\n",
    "    sol = pfba(model)\n",
    "    print(model.summary(solution=sol))\n",
    "    # print(model.metabolites.C00369__chlo.summary(sol))"
   ],
   "metadata": {
    "collapsed": false
   }
  },
  {
   "cell_type": "code",
   "execution_count": null,
   "outputs": [],
   "source": [
    "total = sum([reactant for reactant in model.reactions.e_Biomass__cytop.metabolites if model.reactions.e_Biomass__cytop.metabolites[reactant] < 0 and model.reactions.e_Biomass__cytop.metabolites[reactant]>-1])\n",
    "for reactant in model.reactions.e_Biomass__cytop.reactants:\n",
    "    st ="
   ],
   "metadata": {
    "collapsed": false
   }
  },
  {
   "cell_type": "markdown",
   "source": [],
   "metadata": {
    "collapsed": false
   }
  },
  {
   "cell_type": "markdown",
   "source": [
    "model.reactions.DM_C00369__chlo"
   ],
   "metadata": {
    "collapsed": false
   }
  },
  {
   "cell_type": "markdown",
   "source": [
    "model.reactions.e_Lipid__cytop.add_metabolites({model.metabolites.C00422__lip: 0.13})"
   ],
   "metadata": {
    "collapsed": false
   }
  },
  {
   "cell_type": "markdown",
   "source": [
    "model.reactions.e_Lipid__cytop.metabolites"
   ],
   "metadata": {
    "collapsed": false
   }
  },
  {
   "cell_type": "markdown",
   "source": [
    "model.reactions.e_Carbohydrate__cytop.metabolites"
   ],
   "metadata": {
    "collapsed": false
   }
  },
  {
   "cell_type": "markdown",
   "source": [
    "0.3212*(1-(0.0123373*48660.08/1000*0.50869+0.13*904.7821/1000*0.11407))"
   ],
   "metadata": {
    "collapsed": false
   }
  },
  {
   "cell_type": "markdown",
   "source": [
    "(1-(0.0123373*48660.08/1000*0.50869+0.13*904.7821/1000*0.11407))"
   ],
   "metadata": {
    "collapsed": false
   }
  },
  {
   "cell_type": "markdown",
   "source": [
    "model.reactions.DM_C00369__chlo.bounds = (0.3/48660.08*1000*0.21, 1000)"
   ],
   "metadata": {
    "collapsed": false
   }
  },
  {
   "cell_type": "markdown",
   "source": [
    "model.reactions.DM_C00369__chlo"
   ],
   "metadata": {
    "collapsed": false
   }
  },
  {
   "cell_type": "markdown",
   "source": [
    "model.summary()"
   ],
   "metadata": {
    "collapsed": false
   }
  }
 ],
 "metadata": {
  "kernelspec": {
   "display_name": "Python 3 (ipykernel)",
   "language": "python",
   "name": "python3"
  },
  "language_info": {
   "codemirror_mode": {
    "name": "ipython",
    "version": 3
   },
   "file_extension": ".py",
   "mimetype": "text/x-python",
   "name": "python",
   "nbconvert_exporter": "python",
   "pygments_lexer": "ipython3",
   "version": "3.9.6"
  }
 },
 "nbformat": 4,
 "nbformat_minor": 1
}
