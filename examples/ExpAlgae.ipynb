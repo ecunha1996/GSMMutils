{
 "cells": [
  {
   "cell_type": "code",
   "execution_count": 1,
   "outputs": [],
   "source": [
    "import sys\n",
    "\n",
    "from cobra.io import read_sbml_model\n",
    "\n",
    "sys.path.insert(0, r\"C:\\Users\\Bisbii\\PythonProjects\\ExpAlgae\\src\")\n",
    "from ExpAlgae.model.COBRAmodel import *\n",
    "from cobra.flux_analysis import pfba, find_blocked_reactions, flux_variability_analysis as fva"
   ],
   "metadata": {
    "collapsed": false
   }
  },
  {
   "cell_type": "code",
   "execution_count": null,
   "outputs": [],
   "source": [
    "data_directory = \"../data\"\n",
    "model = MyModel(join(data_directory, \"models/model_with_trials.xml\"), \"e_Biomass__cytop\")\n",
    "model.add_medium(join(data_directory, \"media.xlsx\"), \"base_medium\")\n",
    "model.setup_condition(\"4\")"
   ],
   "metadata": {
    "collapsed": false
   }
  },
  {
   "cell_type": "code",
   "execution_count": null,
   "outputs": [],
   "source": [],
   "metadata": {
    "collapsed": false
   }
  },
  {
   "cell_type": "code",
   "execution_count": null,
   "outputs": [],
   "source": [
    "model.metabolites.C00065__mito.summary(fva=1.0)"
   ],
   "metadata": {
    "collapsed": false
   }
  },
  {
   "cell_type": "code",
   "execution_count": null,
   "outputs": [],
   "source": [
    "with model:\n",
    "    # model.create_sink(\"C00148__mito\")\n",
    "    print(fva(model, ['R02236__cytop'], fraction_of_optimum=0.0))"
   ],
   "metadata": {
    "collapsed": false
   }
  },
  {
   "cell_type": "code",
   "execution_count": null,
   "outputs": [],
   "source": [
    "model.test_reaction(\"R02236__cytop\")"
   ],
   "metadata": {
    "collapsed": false
   }
  },
  {
   "cell_type": "code",
   "execution_count": null,
   "outputs": [],
   "source": [
    "model.metabolites.C00025__mito.summary(fva = 1.0)"
   ],
   "metadata": {
    "collapsed": false
   }
  },
  {
   "cell_type": "code",
   "execution_count": null,
   "outputs": [],
   "source": [
    "model.summary()"
   ],
   "metadata": {
    "collapsed": false
   }
  },
  {
   "cell_type": "code",
   "execution_count": null,
   "outputs": [],
   "source": [
    "#create copy reactions\n",
    "with model:\n",
    "    carbohydrate_copy = model.reactions.e_Carbohydrate__cytop.copy()\n",
    "    carbohydrate_copy.id = 'e_Carbohydrate_no_starch__cytop'\n",
    "    biomass_copy = model.reactions.e_Biomass__cytop.copy()\n",
    "    biomass_copy.id = 'e_ActiveBiomass__cytop'\n",
    "    model.add_reactions([carbohydrate_copy, biomass_copy])\n",
    "    model.objective = 'e_ActiveBiomass__cytop'\n",
    "    model.reactions.e_Carbohydrate__cytop.bounds = (0, 0)\n",
    "    #remove starch from e_carbohydrate\n",
    "    carbohydrate_copy.add_metabolites({model.metabolites.C00369__chlo: -carbohydrate_copy.metabolites[model.metabolites.C00369__chlo]})\n",
    "\n",
    "    #adjust other carbohydrates\n",
    "    carbohydrate_copy.add_metabolites({model.metabolites.C00052__cytop:  -3.35762291 - carbohydrate_copy.metabolites[model.metabolites.C00052__cytop]})\n",
    "    carbohydrate_copy.add_metabolites({model.metabolites.C00096__cytop:  -1.58181346 - carbohydrate_copy.metabolites[model.metabolites.C00096__cytop]})\n",
    "    carbohydrate_copy.add_metabolites({model.metabolites.C00935__cytop:  -2.52493299 - carbohydrate_copy.metabolites[model.metabolites.C00935__cytop]})\n",
    "\n",
    "    carbohydrate_copy.add_metabolites({model.metabolites.C00015__cytop:  5.8825559 - carbohydrate_copy.metabolites[model.metabolites.C00015__cytop]})\n",
    "    carbohydrate_copy.add_metabolites({model.metabolites.C00035__cytop:  1.58181346 - carbohydrate_copy.metabolites[model.metabolites.C00035__cytop]})\n",
    "    carbohydrate_copy.add_metabolites({model.metabolites.C00001__cytop:  7.46436936 - carbohydrate_copy.metabolites[model.metabolites.C00001__cytop]})\n",
    "\n",
    "    print(carbohydrate_copy.metabolites)\n",
    "\n",
    "    biomass_copy.add_metabolites({model.metabolites.e_Carbohydrate__cytop:  -0.203306526 - biomass_copy.metabolites[model.metabolites.e_Carbohydrate__cytop]})\n",
    "    print(biomass_copy.metabolites)\n",
    "    print(model.optimize().objective_value*0.7083)\n",
    "\n",
    "    # total = abs(sum([biomass_copy.metabolites[met] for met in biomass_copy.reactants if biomass_copy.metabolites[met] > -10]))\n",
    "    # for  met in biomass_copy.reactants:\n",
    "    #     if biomass_copy.metabolites[met] > -10:\n",
    "    #         print(met.id)\n",
    "    #         new_st = biomass_copy.metabolites[met]/total\n",
    "    #         print(new_st)\n",
    "    #         print(biomass_copy.metabolites[met])\n",
    "    #         biomass_copy.add_metabolites({model.metabolites.get_by_id(met.id):  new_st - biomass_copy.metabolites[met]})\n",
    "    #         print(biomass_copy.metabolites[met])\n",
    "    # print(sum([biomass_copy.metabolites[met] for met in biomass_copy.reactants if biomass_copy.metabolites[met] > -10]))\n",
    "    # print(model.optimize().objective_value)\n",
    "    model.write(os.path.join(data_directory, \"models/model_dfba.xml\"))"
   ],
   "metadata": {
    "collapsed": false
   }
  },
  {
   "cell_type": "code",
   "execution_count": null,
   "outputs": [],
   "source": [
    "data_directory = \"../data\"\n",
    "model = MyModel(join(data_directory, \"model_dfba.xml\"), \"e_Biomass_trial4__cytop\")\n",
    "model.add_medium(join(data_directory, \"media.xlsx\"), \"base_medium\")\n",
    "model.setup_condition(\"4\")"
   ],
   "metadata": {
    "collapsed": false
   }
  },
  {
   "cell_type": "code",
   "execution_count": null,
   "outputs": [],
   "source": [
    "pfba_sol = pfba(model)\n",
    "model.summary(pfba_sol)"
   ],
   "metadata": {
    "collapsed": false
   }
  },
  {
   "cell_type": "code",
   "execution_count": null,
   "outputs": [],
   "source": [
    "with model:\n",
    "    model.reactions.DM_C00369__chlo.bounds = (0.00147, 1000)\n",
    "    pfba_sol = pfba(model)\n",
    "    # print(model.metabolites.C00369__chlo.summary(pfba_sol))\n",
    "    print(model.summary(pfba_sol))"
   ],
   "metadata": {
    "collapsed": false
   }
  },
  {
   "cell_type": "code",
   "execution_count": null,
   "outputs": [],
   "source": [
    "sum([model.reactions.e_Biomass_trial4__cytop.metabolites[reactant] for reactant in model.reactions.e_Biomass_trial4__cytop.metabolites if model.reactions.e_Biomass_trial4__cytop.metabolites[reactant] < 0 and model.reactions.e_Biomass_trial4__cytop.metabolites[reactant]>-1])"
   ],
   "metadata": {
    "collapsed": false
   }
  },
  {
   "cell_type": "code",
   "execution_count": null,
   "outputs": [],
   "source": [
    "original_sol = model.optimize().objective_value"
   ],
   "metadata": {
    "collapsed": false
   }
  },
  {
   "cell_type": "code",
   "execution_count": null,
   "outputs": [],
   "source": [
    "model.summary()"
   ],
   "metadata": {
    "collapsed": false
   }
  },
  {
   "cell_type": "code",
   "execution_count": null,
   "outputs": [],
   "source": [
    "model.metabolites.C00116__cytop.formula_weight"
   ],
   "metadata": {
    "collapsed": false
   }
  },
  {
   "cell_type": "code",
   "execution_count": null,
   "outputs": [],
   "source": [
    "fva(model, [\"T_SUCBZth__chlomem\"])"
   ],
   "metadata": {
    "collapsed": false
   }
  },
  {
   "cell_type": "code",
   "execution_count": null,
   "outputs": [],
   "source": [
    "with model:\n",
    "    # model.biomass_reaction = model.bio_reaction.id\n",
    "    # model.reactions.e_Carbohydrate__cytop.add_metabolites({model.metabolites.C00369__chlo: -model.reactions.e_Carbohydrate__cytop.metabolites[model.metabolites.C00369__chlo]})\n",
    "    # model.reactions.e_Biomass_trial4__cytop\n",
    "    # model.reactions.e_Acid__cytop.add_metabolites({model.metabolites.C00116__cytop: -model.reactions.e_Acid__cytop.metabolites[model.metabolites.C00116__cytop]})\n",
    "    # model.reactions.DM_C00369__chlo.bounds = (0.305381773/model.metabolites.C00369__chlo.formula_weight*1000*original_sol, 1000)\n",
    "    # model.reactions.DM_C00369__chlo.bounds = (0.00147, 1000)\n",
    "    # [setattr(x, 'objective_coefficient', 0) for x in model.reactions if x.objective_coefficient != 0]\n",
    "    # model.reactions.EX_e_Biomass__dra.objective_coefficient = 0.7\n",
    "    # model.reactions.DM_C00369__chlo.objective_coefficient = 0.3\n",
    "    # model.objective = \"e_Biomass__cytop\"\n",
    "    sol = pfba(model)\n",
    "    print(model.summary(solution=sol))\n",
    "    # print(model.metabolites.C00369__chlo.summary(sol))"
   ],
   "metadata": {
    "collapsed": false
   }
  },
  {
   "cell_type": "code",
   "execution_count": null,
   "outputs": [],
   "source": [
    "total = sum([reactant for reactant in model.reactions.e_Biomass__cytop.metabolites if model.reactions.e_Biomass__cytop.metabolites[reactant] < 0 and model.reactions.e_Biomass__cytop.metabolites[reactant]>-1])\n",
    "for reactant in model.reactions.e_Biomass__cytop.reactants:\n",
    "    st ="
   ],
   "metadata": {
    "collapsed": false
   }
  },
  {
   "cell_type": "markdown",
   "source": [],
   "metadata": {
    "collapsed": false
   }
  },
  {
   "cell_type": "markdown",
   "source": [
    "model.reactions.DM_C00369__chlo"
   ],
   "metadata": {
    "collapsed": false
   }
  },
  {
   "cell_type": "markdown",
   "source": [
    "model.reactions.e_Lipid__cytop.add_metabolites({model.metabolites.C00422__lip: 0.13})"
   ],
   "metadata": {
    "collapsed": false
   }
  },
  {
   "cell_type": "markdown",
   "source": [
    "model.reactions.e_Lipid__cytop.metabolites"
   ],
   "metadata": {
    "collapsed": false
   }
  },
  {
   "cell_type": "markdown",
   "source": [
    "model.reactions.e_Carbohydrate__cytop.metabolites"
   ],
   "metadata": {
    "collapsed": false
   }
  },
  {
   "cell_type": "markdown",
   "source": [
    "0.3212*(1-(0.0123373*48660.08/1000*0.50869+0.13*904.7821/1000*0.11407))"
   ],
   "metadata": {
    "collapsed": false
   }
  },
  {
   "cell_type": "markdown",
   "source": [
    "(1-(0.0123373*48660.08/1000*0.50869+0.13*904.7821/1000*0.11407))"
   ],
   "metadata": {
    "collapsed": false
   }
  },
  {
   "cell_type": "markdown",
   "source": [
    "model.reactions.DM_C00369__chlo.bounds = (0.3/48660.08*1000*0.21, 1000)"
   ],
   "metadata": {
    "collapsed": false
   }
  },
  {
   "cell_type": "markdown",
   "source": [
    "model.reactions.DM_C00369__chlo"
   ],
   "metadata": {
    "collapsed": false
   }
  },
  {
   "cell_type": "markdown",
   "source": [
    "model.summary()"
   ],
   "metadata": {
    "collapsed": false
   }
  }
 ],
 "metadata": {
  "kernelspec": {
   "display_name": "Python 3 (ipykernel)",
   "language": "python",
   "name": "python3"
  },
  "language_info": {
   "codemirror_mode": {
    "name": "ipython",
    "version": 3
   },
   "file_extension": ".py",
   "mimetype": "text/x-python",
   "name": "python",
   "nbconvert_exporter": "python",
   "pygments_lexer": "ipython3",
   "version": "3.9.6"
  }
 },
 "nbformat": 4,
 "nbformat_minor": 1
}
