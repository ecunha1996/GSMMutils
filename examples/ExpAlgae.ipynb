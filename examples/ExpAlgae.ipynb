{
 "cells": [
  {
   "cell_type": "code",
   "execution_count": 2,
   "outputs": [],
   "source": [
    "import sys\n",
    "\n",
    "import cobra.manipulation.delete\n",
    "from cobra.io import read_sbml_model\n",
    "\n",
    "sys.path.insert(0, r\"C:\\Users\\Bisbii\\PythonProjects\\ExpAlgae\\src\")\n",
    "from ExpGSMM.model.COBRAmodel import *\n",
    "from cobra.flux_analysis import pfba, find_blocked_reactions, flux_variability_analysis as fva"
   ],
   "metadata": {
    "collapsed": false,
    "ExecuteTime": {
     "end_time": "2023-05-16T15:35:07.261657200Z",
     "start_time": "2023-05-16T15:34:57.639560300Z"
    }
   }
  },
  {
   "cell_type": "code",
   "execution_count": 143,
   "outputs": [
    {
     "name": "stdout",
     "output_type": "stream",
     "text": [
      "Loading\n",
      "\n"
     ]
    },
    {
     "name": "stderr",
     "output_type": "stream",
     "text": [
      "Could not identify an external compartment by name and choosing one with the most boundary reactions. That might be complete nonsense or change suddenly. Consider renaming your compartments using `Model.compartments` to fix this.\n"
     ]
    },
    {
     "name": "stdout",
     "output_type": "stream",
     "text": [
      "Reactions: 3512\n",
      "Metabolites: 3660\n",
      "Genes: 1690\n",
      "Model loaded\n"
     ]
    }
   ],
   "source": [
    "data_directory = \"../data\"\n",
    "dmodel = MyModel(join(data_directory, \"models/model_dfba.xml\"), \"e_ActiveBiomass__cytop\")"
   ],
   "metadata": {
    "collapsed": false,
    "ExecuteTime": {
     "end_time": "2023-05-17T12:24:56.961932600Z",
     "start_time": "2023-05-17T12:24:51.921949200Z"
    }
   }
  },
  {
   "cell_type": "code",
   "execution_count": 7,
   "outputs": [],
   "source": [
    "from_carveme = read_sbml_model(r\"C:\\Users\\Bisbii\\Downloads\\model_Mtuberculosis_carveme_carveme.xml\")"
   ],
   "metadata": {
    "collapsed": false,
    "ExecuteTime": {
     "end_time": "2023-05-18T15:00:44.863985900Z",
     "start_time": "2023-05-18T15:00:40.590830Z"
    }
   }
  },
  {
   "cell_type": "code",
   "execution_count": 8,
   "outputs": [
    {
     "name": "stdout",
     "output_type": "stream",
     "text": [
      "1487\n",
      "1087\n",
      "944\n",
      "3\n"
     ]
    }
   ],
   "source": [
    "print(len(from_carveme.reactions))\n",
    "print(len(from_carveme.metabolites))\n",
    "print(len(from_carveme.genes))\n",
    "print(len(from_carveme.compartments))"
   ],
   "metadata": {
    "collapsed": false,
    "ExecuteTime": {
     "end_time": "2023-05-18T15:01:07.807131200Z",
     "start_time": "2023-05-18T15:01:07.789100100Z"
    }
   }
  },
  {
   "cell_type": "code",
   "execution_count": 7,
   "outputs": [
    {
     "name": "stderr",
     "output_type": "stream",
     "text": [
      "12345 does not conform to 'http(s)://identifiers.org/collection/id' or'http(s)://identifiers.org/COLLECTION:id\n",
      "No objective in listOfObjectives\n",
      "No objective coefficients in model. Unclear what should be optimized\n"
     ]
    }
   ],
   "source": [
    "from cobra.io import read_sbml_model, write_sbml_model\n",
    "from_merlin = read_sbml_model(r\"C:\\Users\\Bisbii\\PythonProjects\\ExpGSMM\\data\\models\\model_carve.xml\")"
   ],
   "metadata": {
    "collapsed": false,
    "ExecuteTime": {
     "end_time": "2023-05-19T17:00:42.573308Z",
     "start_time": "2023-05-19T17:00:40.570914300Z"
    }
   }
  },
  {
   "cell_type": "code",
   "execution_count": 8,
   "outputs": [
    {
     "name": "stdout",
     "output_type": "stream",
     "text": [
      "1487\n",
      "1087\n",
      "944\n",
      "3\n"
     ]
    }
   ],
   "source": [
    "print(len(from_merlin.reactions))\n",
    "print(len(from_merlin.metabolites))\n",
    "print(len(from_merlin.genes))\n",
    "print(len(from_merlin.compartments))"
   ],
   "metadata": {
    "collapsed": false,
    "ExecuteTime": {
     "end_time": "2023-05-19T17:00:42.587407Z",
     "start_time": "2023-05-19T17:00:42.577307500Z"
    }
   }
  },
  {
   "cell_type": "code",
   "execution_count": 16,
   "outputs": [
    {
     "data": {
      "text/plain": "['UAMAGS',\n 'VCOAD',\n 'HMPK1',\n 'MDDCP4pp',\n 'SAOR',\n 'ARGDC',\n 'GDPTPDP',\n 'DRU1Ptex',\n 'KSTD',\n 'EXoxa',\n 'FACOAL90t2pp',\n '2AGPEAT120',\n 'MICITDr',\n 'G6PP',\n 'AHSERL2',\n 'DHDPS',\n 'MAN1PT2',\n 'ECOAH37',\n 'TSULabc',\n 'EXcmcbtt',\n 'CGLYabcpp',\n 'EXbmn',\n 'RU5PP',\n 'MGt5',\n 'RBFSa',\n '2AGPGAT181',\n 'NDPK1',\n 'RHACOARP100',\n 'ARBt2rpp',\n 'NTPP2',\n 'ACTNabc1',\n 'FCOAH2',\n 'CDAPPA161',\n 'GUAtex',\n 'ACOAD24f',\n 'ZNabc',\n 'ASAD',\n 'EXsalchs4',\n 'ASPt2r',\n 'DTMPK',\n 'MTAN',\n 'EXg3pe',\n 'FADD3',\n 'MCOATA',\n 'NADH4',\n 'FACOAL141t2pp',\n 'ACACT1r',\n 'TREabc',\n 'AMALT3',\n 'GLYCL',\n 'CHRPL',\n 'RECOAH20',\n 'GLYALDDr',\n 'GUAD',\n 'RPI',\n 'CAT',\n 'NTPTP1',\n 'FRD3',\n 'GLUabc',\n 'IMPC',\n 'GALURt2r',\n 'PG161abcpp',\n 'ECHA192',\n 'RHACOAR141d7',\n 'PPTT',\n 'GTHS',\n 'EXcresol',\n 'ICL',\n 'EXalatrp',\n 'LACZpp',\n 'RHACOART60',\n 'MLTP2',\n 'EXgalur',\n 'PG120abcpp',\n 'DPPS',\n 'VPAMTr',\n 'HAT40tpp',\n 'FACOAL120t2pp',\n 'DASYN140',\n 'PUNP7',\n 'EXad',\n 'AI2tpp',\n 'PANTS',\n 'GLYK',\n 'GLYBabcpp',\n 'SHCHD2',\n 'NAabcO',\n 'CYSTS',\n 'MDDCP5pp',\n 'EXlysL',\n 'KAS8',\n 'H2Otex',\n 'HPPK2',\n 'DLYSAD',\n 'PPNDH',\n 'NADS2',\n 'PItex',\n 'QULNS',\n 'Kt2pp',\n 'HDAD',\n 'BZALDH',\n 'EXspmd',\n 'APRAUR',\n 'DGK1',\n 'PNTK',\n 'THRPDC',\n 'NTPP4',\n 'DASYN120',\n 'GTHRDabc2pp',\n 'ASPTA',\n 'RHACOARP90',\n 'PRMICI',\n 'EXgua',\n 'ECOAH9ir',\n 'KAT25',\n 'EXnona',\n 'SADT',\n 'EXfuc',\n '3MBtex',\n 'ZNabcpp',\n 'CLPNS160pp',\n 'MTRI',\n 'OXFOt4pp',\n 'MTAP',\n 'ARGt5r',\n 'ASO4t4pp',\n 'RHA160tex',\n 'GLYCTO4',\n 'DAPDC',\n 'SULR2pp',\n 'INSH',\n 'EXglyald',\n 'HXAND',\n 'ALATA',\n 'FAO11',\n 'RHA141d5tex',\n 'GLCP3',\n 'GCCa',\n 'PHEMEt',\n 'EXarabD',\n 'FE2abcpp',\n 'RECOAH22',\n 'O2t',\n 'ADK2',\n 'METRR',\n 'GALt2',\n '3M2OPLOXRD',\n 'BKDC1',\n 'PGPP160',\n 'GLYC3Pabc',\n 'ECOAH17',\n 'AGDC',\n 'DAGK141',\n 'SUCBZL',\n 'G6PDH2r',\n 'AHCYSNS',\n 'PTRCTA2',\n 'GUACYC',\n 'CLt32pp',\n 'EXglcur',\n 'MN6PP',\n 'RHA121tpp',\n 'MEPCT',\n '3OXCOAT',\n 'FCLT',\n 'HYXNtex',\n 'EXbzal',\n 'MCITL2',\n 'UGMDDS',\n 'CGLYtex',\n 'EXno2',\n 'RECOAH11',\n 'ACONT',\n 'GMPS2',\n 'sinksheme',\n 'P5CD',\n 'ACOAD26f',\n 'SHKK',\n 'CHOD',\n 'PHETA1',\n 'NADHXE',\n 'F6PA',\n 'HIPB',\n 'EXxtsn',\n 'PYK',\n 'FAS120',\n 'FACOAL50It2pp',\n 'CLPNH160pp',\n 'NARK',\n '24DECOAR',\n 'TOLtpp',\n 'MMM2',\n 'TAURtex',\n 'ACOAD1f',\n 'LLACD',\n 'F6PP',\n 'EXaso4',\n 'MALTabc',\n 'CD2abcpp',\n 'FADH2D',\n 'PGM',\n 'FASC141ACP',\n 'HEXTT',\n 'ADSK',\n 'COBALT2abcpp',\n 'GGGABAH',\n 'SPTsyn',\n 'ACKr',\n 'ACLS',\n 'MAK',\n 'RNDR4',\n 'FACOAL40t2pp',\n 'ARGabc',\n 'URAt',\n 'DHPPDA2',\n 'MALT',\n 'DALAt2r',\n 'HACD13i',\n 'GLYBtex',\n 'GGLUCT2',\n 'RNMK',\n 'ECOAH22',\n 'DASYN160',\n 'ME1',\n 'PPK',\n 'MTRK',\n 'ECOAH3',\n 'NDPK5',\n 'RHCYS',\n 'PRFGS',\n 'NI2tex',\n 'ACt2ipp',\n 'FACOAE80',\n 'GLYALDt',\n 'EXmalt',\n 'EX4abutn',\n 'FE3DCITabc',\n 'MNtex',\n 'RPE',\n 'ADA',\n 'ACGAMPM',\n 'PSCVT',\n 'GLUTRR',\n '2AACLPGT161',\n 'NTRIRx',\n 'CHLt2',\n 'ACSPHAC101',\n 'SHSL4r',\n 'FUMt2r',\n 'EXindole',\n 'TRPS3',\n 'RECOAH24',\n 'PRASCSi',\n 'MOBDabc',\n 'PSP',\n 'EXhxan',\n 'PYAM5PO',\n 'MANE',\n 'DIPEPabc8',\n 'GTPCI',\n 'FDH',\n 'PPPGO',\n 'PYDXPP',\n 'PIMEtr',\n 'NADPHXE',\n 'HISTD',\n 'EX5mdru1p',\n 'MMCD',\n 'HG2abcpp',\n 'RBFK',\n 'PPK2',\n 'RECOAH13',\n 'TKT2',\n 'EXcgly',\n 'LYSt5r',\n 'HACD25i',\n 'PAPSR',\n '4HTHRA',\n 'MMSAD1',\n 'EXhishis',\n 'EXbtn',\n 'ABTA',\n 'DRIBtex',\n 'MLDCP3App',\n 'THRt2r',\n '3HSA',\n 'PLIPA1G181pp',\n 'GLYt2r',\n 'HMPK3',\n 'GLCRt1',\n 'GTHPi',\n 'ALAALAr',\n 'MSHAMID',\n 'SHSL2r',\n 'METSOX1abc',\n 'EXglygluL',\n 'PGK',\n 'DHAD2',\n 'TMPPP',\n 'CDPMEK',\n 'DASYN160190',\n 'NADDP',\n 'MCCC',\n 'GK1',\n 'RHA50tex',\n 'GDPDPKE',\n 'PPDK',\n 'AMPEP14',\n 'RNDR2',\n 'MI1PP',\n 'ECOAH1',\n 'ACtex',\n 'PC',\n 'ACOAD28f',\n 'FADMQOR',\n 'EX3h4atb',\n 'GLUDxi',\n 'NDPK3',\n 'EXR3hppta',\n 'NADHNQR',\n 'GTPCII',\n 'MG2tpp',\n 'FAS100',\n 'NH4tex',\n 'FDMO',\n 'ASO4tex',\n 'CYP2',\n 'ECOAH24',\n 'ARGDr',\n 'ACTDa',\n 'RIBFLVt2',\n 'EXphept',\n 'EXtaur',\n 'ALAR',\n 'AKGDa',\n 'HADPCOADH',\n 'GALUi',\n 'RECOAH26',\n 'CHCOAL',\n 'SALCHS4FER1',\n 'UPP3MT',\n 'HMBS',\n 'G3PD5',\n 'HISHISabcpp',\n 'SIRA2',\n 'EXcobalt2',\n 'NTP10',\n 'HOPNTAL',\n 'RIBabc',\n 'G5SD2',\n 'ADCS',\n 'CO2tex',\n 'ADNCYC',\n 'FAS80',\n 'PPGPPDP',\n 'EXh2o',\n 'OMCDC',\n 'HACD15i',\n 'PDH',\n 'RECOAH15',\n 'H2tpp',\n 'ICHORS',\n 'EXistfrnB',\n 'BZALCt2pp',\n 'MG2uabcpp',\n 'EXco2',\n 'MNt2pp',\n 'PTPATi',\n 'CHOLD',\n 'TRSARyr',\n 'DB4PS',\n 'EXnh4',\n 'CAATPS',\n 'PA141abcpp',\n 'UPP3S',\n 'CD2abc1',\n 'GLNabc',\n 'KARA2',\n 'DUTPDP',\n 'ACP1FMN',\n 'FADE281',\n 'MLTGY3pp',\n 'DABAAT2',\n 'ARABDI',\n 'LYSt3r',\n 'PGI',\n 'COBALT2tex',\n 'G1SAT',\n 'METAT',\n 'GLYCSII',\n 'FAO2',\n 'PLIPA1G180pp',\n 'DALAOX',\n 'LLACD3',\n 'ACACT6r',\n 'EXskm',\n 'THMDt4',\n 'GLYCtex',\n 'NAabc',\n 'SUCOAS',\n 'AACTOOR',\n 'MTHFD',\n 'EXfru',\n 'METS',\n 'PPNCL3',\n 'GLYGLYCNc',\n 'SALCHS4FEabcpp',\n '2AGPGAT120',\n 'MDH2',\n 'CYTB',\n 'RNTR4',\n 'PPM2',\n 'RHACOAR60',\n 'TRE6PP',\n 'XPPT',\n 'FUCpts',\n 'PROR',\n 'AMPTASECG',\n 'PPND',\n 'EXlcts',\n 'ORNt',\n 'PYDXO',\n 'MCTP1App',\n '2AGPE120tipp',\n 'RHACOARP40',\n 'LCTSt3ipp',\n 'PGAMT',\n 'ADPT',\n 'GLYGLYtex',\n 'CTECOAI8',\n 'CSNt2',\n 'RECOAH7',\n 'GGPTRCO',\n 'TARTRLEt',\n 'TOLt6',\n 'NPHS',\n 'HPPK',\n 'RHACOAE160',\n 'FCLPA',\n 'ASNN',\n 'BGLA',\n 'FE2tex',\n 'GUAPRT',\n 'EXso3',\n '2AGPG161tipp',\n 'MOHMT',\n 'ASO3tex',\n 'HAT40tex',\n 'EXthym',\n '4HBAt',\n 'ACS',\n 'ANS',\n 'GALUREt',\n 'PTRCabcpp',\n 'NDPK8',\n 'FE3Gabcpp',\n 'PNCDC',\n 'EXco',\n 'ADNK4',\n 'RECOAH17',\n 'GLYCS',\n 'ITPOXAL',\n 'SCYSSL',\n 'PIuabcpp',\n 'MBCOAi',\n 'BZALCtex',\n 'XYLK',\n 'PHEPTtexi',\n 'BZt',\n 'FA141ACPHi',\n 'CYTBD2',\n 'GART',\n 'CU2abcpp',\n 'SERt2r',\n 'TRPS2',\n 'DIPEPabc10',\n 'ALAGLUE',\n 'EXserD',\n 'DHORDi',\n 'ACOAD8f',\n 'SUCBZS',\n 'MCBTS3',\n 'MANPGH',\n 'EXR3hpt',\n 'HBCHLR',\n 'PLIPA1E120pp',\n 'PAPA120pp',\n '12DGR161tipp',\n 'EXfor',\n 'ZN2abcpp',\n 'ADCPS2',\n 'CYTD',\n 'ECOAH20',\n 'EXactnR',\n 'HISHIStex',\n 'EXstfrnB',\n 'INDPYRD',\n 'RHAT40tex',\n 'DASYN181',\n 'AP4AH',\n 'ECOAH5',\n 'IG3PS',\n 'COCO2',\n 'FTHFD',\n 'NTP5',\n 'BTS2',\n 'FDH6r',\n 'PEPCKre',\n 'EXmetD',\n 'RNTR2',\n 'HACD2',\n 'UMPK',\n 'EXtartrL',\n 'ACYP',\n 'FAS181',\n 'DCPDPS',\n 'PDE4',\n 'NH4t4pp',\n 'BEF',\n 'DGNSK',\n 'XTSNt2',\n 'EXalaLaspL',\n 'NO3R2',\n 'MI3PP',\n 'ORPT',\n 'AGM3PApp',\n 'Cotpp',\n 'TMDPK',\n 'GLCNtex',\n 'GLUSy',\n 'CYSTL',\n 'FOMETRi',\n 'GLYGLYabcpp',\n 'EXmso3',\n 'ASO3t4pp',\n 'EXisetac',\n 'PRATPP',\n 'NAt',\n 'ALDR',\n 'GTHRDt2',\n 'G5SADs',\n '2AGPGAT140',\n 'PDHcr',\n 'NDPK6',\n 'AMPEP11',\n 'FACOAL140t2pp',\n 'RECOAH19',\n '5DKGR',\n 'AMPTASEATRP',\n 'COt',\n 'GLU5K',\n 'METSOXR2',\n 'METDabc',\n 'LTHRK',\n 'HCYSMT',\n 'EXtre',\n 'ACSPHACT40',\n 'EXh2s',\n 'RHA141d5tpp',\n 'SEPHCHCS',\n 'AI2abcpp',\n 'DHNPA',\n 'DHQTi',\n 'GCVHADPr',\n 'THYMt',\n 'DIPEPabc12',\n 'EXman6pglyc',\n 'RHAP50tpp',\n 'NAKtr',\n 'EXLalaDgluMdapDala',\n 'ECOAH18',\n '1P2CBXLR',\n 'ADSS',\n 'EXfum',\n 'TOLtex',\n 'ASO3t8pp',\n 'THMDP',\n 'UAGPT3',\n 'DAGK161',\n 'PPBNGS',\n 'LYSRC',\n 'FACOAL181',\n 'Kt3pp',\n 'CHLP',\n 'PRAIi',\n 'DIPEPabc1',\n 'PUNP2',\n 'HMEDS',\n 'SERAT',\n 'EX5drib',\n 'KGD2',\n 'MDH',\n 'SO3tex',\n 'ENO',\n 'HSA',\n 'NADK',\n '12DGR160tipp',\n 'GLUR',\n 'GRTT',\n 'CBPS',\n 'RECOAH3',\n 'CYTK2',\n 'ADSL2r',\n 'CHLt3pp',\n 'GLYCTO2',\n 'GLCabc',\n 'CA2abcpp',\n 'HPYRP',\n 'KAS7',\n 'HEMEOS',\n 'AACPS4',\n 'PMANM',\n 'EXfe3',\n 'EXtsul',\n 'CTPS2',\n 'RHACOAE50',\n 'NH4t',\n 'SPMDt3i',\n 'AHMMPS',\n 'LAT',\n 'NNATr',\n 'GDPMNP',\n 'NTPP5',\n 'ILETA',\n 'ADCL',\n 'UREA',\n 'BMNMSHS',\n 'PAPA160pp',\n 'RBK',\n 'PA161abcpp',\n 'EXinost',\n 'DHFR',\n 'FRD',\n 'EXargL',\n 'CDAPPA190',\n 'MAN6PI',\n 'TRDR',\n 'HACD31i',\n 'MLTGY1pp',\n 'IPPMIb',\n 'QMO3',\n 'AMMQLT8',\n 'GLYBti4pp',\n 'ACOAD11f',\n 'SSALx',\n '3PEPTabcpp',\n 'CHOLt4ipp',\n 'RHACOARP60',\n 'ASPO5',\n 'FAS161',\n 'NTPTP2',\n 'HSTPT',\n 'EXura',\n 'PTRCTA',\n 'Cut1',\n 'CSND',\n 'GLYDHDA',\n 'FRD2',\n 'PHYCBOXL',\n 'BZt1pp',\n 'PLIPA1G120pp',\n 'NADH10',\n 'DIPEPabc3',\n 'H2tex',\n 'ACOADH1',\n 'HBCOnadp',\n 'P5CR',\n 'OMPDC',\n 'GPDDA2',\n 'EXgthrd',\n 'EXlacL',\n 'FCLT2',\n 'ASPCT',\n 'ACODA',\n 'SKMt2',\n 'THRA2',\n 'DSERDHr',\n 'PSUDS',\n 'GLYOX',\n 'FADB2',\n 'MG2tex',\n 'FADE51',\n 'DPCOAK',\n 'BALAt2r',\n 'LDH',\n 'CD2tex',\n 'EXpyr',\n 'OXCDC',\n '1PPDCRc',\n 'CA2tex',\n 'DIPEPabc14',\n 'PG180abcpp',\n 'CPPPGO2',\n 'SULabc',\n 'Clt',\n 'EXR3hdec4e',\n 'AMALT1',\n 'SMIB1',\n 'EXmobd',\n 'RECOAH5',\n 'FMNRy',\n 'EXglyb',\n 'CYSK2',\n 'SHCHF',\n 'MCTP1Bpp',\n 'PPA',\n 'SDPDS',\n 'PG141abcpp',\n 'AIRCr',\n 'ACACT4r',\n 'ACOAD6f',\n 'RHACOAE141d5',\n '2AGPG181tipp',\n 'PAPA161pp',\n 'CAT23DOX',\n 'RHACOAR80',\n '2AGPG180tipp',\n 'GLCS3',\n 'CDAPPA181',\n 'NTPP7',\n '4HTHRK',\n 'DRPA',\n 'EXasnL',\n 'ALDD2x',\n 'IPPS',\n 'PROabc',\n 'TAUDO',\n 'AGMT',\n 'MLTGY2pp',\n 'Kabc',\n 'DHDPRy',\n 'PRCOA1',\n '2MAHMP',\n 'MYCTR',\n 'CYTBO34pp',\n 'PYRtex',\n 'FADD17',\n 'SO4tex',\n 'AKGDb',\n 'RECOAH21',\n 'RHACOAE121',\n 'FNRR',\n 'IMPD',\n 'TARTRt7',\n 'EXthymd',\n 'DXPRIi',\n 'FACOAE160',\n 'ADKd',\n 'ARBt3ipp',\n 'ECHA191',\n 'ADMDC',\n 'NADPHQR2',\n 'FBP',\n 'ISETACtex',\n 'AOXSr',\n 'FACOAL50t2pp',\n 'IPDPUDCT',\n 'RECOAH10',\n 'LDGUNPD',\n 'GCVHRADPr',\n 'BZALt',\n 'PUNP6',\n 'PE120abcpp',\n 'LEUabcpp',\n 'CYSTII',\n 'CMCBTFtpp',\n 'HIPA',\n 'DMPPS',\n 'CMCBTFU',\n 'EXR3h4atba',\n 'EXman1p',\n 'THIORDXi',\n 'CHLabc',\n 'EXribD',\n 'ISETACabcpp',\n 'HSAE',\n 'EX4hbz',\n 'ACS2',\n 'TAURabcpp',\n 'RHACOAEP50',\n 'HACD16i',\n 'FOLD3',\n 'DMALRED',\n 'METabcpp',\n 'F1PP',\n 'FUM',\n 'AMPTASEHH',\n 'ACOAD25f',\n 'EXfe3dcit',\n 'DAAD7',\n 'BTS3r',\n 'HMGL',\n 'ACTD',\n 'CEPA',\n 'KAS13',\n 'PTAr',\n 'CHOLK',\n 'MACCOAT',\n 'APPLDHr',\n 'PSERT',\n 'CITL',\n 'DAGK120',\n 'ALATRPabcpp',\n 'HACD9',\n 'AP4AS',\n 'Cuabc',\n 'EXmalL',\n '2AGPGAT180',\n 'ADtr',\n 'NO3tex',\n 'ANPRT',\n 'KAT22',\n 'NTPP1',\n 'EXR3hnonaa',\n 'RBFSb',\n 'CDAPPA160',\n 'PDX5PS',\n 'PYDXOR',\n 'NMO',\n 'PHACOAOR',\n 'HSDy',\n 'HEX7',\n 'FMNAT',\n 'DAPE',\n 'GUAt',\n 'INOSTEt',\n 'EXcit',\n 'MTAM',\n 'GLYCK',\n 'NADH5',\n 'MCSNAH',\n 'LADGMDH',\n 'GTHRDabcpp',\n 'TMDS',\n 'GTHOr',\n 'AMALT2',\n '4HBZt3pp',\n 'GLCt2pp',\n 'FAO10',\n 'EXglyaspL',\n 'HSAC',\n 'ACTNabc',\n 'GCCb',\n 'ADK1',\n 'MTI',\n 'BKDC',\n 'RECOAH23',\n 'EXserL',\n 'METOX2s',\n 'ASO4t',\n 'AADSACYCL',\n 'BSCT',\n 'ALDD19xr',\n 'ECOAH16',\n 'PTA2',\n 'CTPS1',\n 'CHORS',\n 'EXpi',\n 'DARBtex',\n 'EXalaD',\n 'SHK3Dr',\n 'CDAPPA140',\n 'FACOALP50t2pp',\n 'ALCD22',\n 'RHAT40tpp',\n 'EXno3',\n 'FBA',\n 'DHNPA2r',\n 'CUabcpp',\n 'RECOAH12',\n 'CU2tex',\n 'PYRt2rpp',\n 'UAAGDS',\n 'ARGSL',\n 'EXmetL',\n 'SULabcpp',\n 'PRAIS',\n 'EXcytd',\n 'ASPabc',\n 'EXpime',\n 'RHA101tpp',\n 'APSR',\n 'ALAD',\n 'PA120abcpp',\n 'EXptrc',\n 'PPCDC',\n 'G1PACT',\n 'FACOAL160',\n 'St',\n 'EXac',\n 'PLIPA1G161pp',\n 'EXacysbmn',\n 'LLACt3',\n 'FE2abc',\n 'EXaso3',\n 'RHACOARP80',\n 'METtex',\n 'MLDEP2pp',\n 'H2CO3D',\n 'GHMT2r',\n 'PDHa',\n 'MLDEP1pp',\n 'LCTSabc',\n 'GLYBt3pp',\n 'SALCHS4tex',\n 'PYDXNO',\n 'PPAKr',\n 'DASYN190190',\n 'BTNt',\n 'OPP',\n '2AGPG141tipp',\n 'UAGPT2',\n 'DXPS',\n 'NTPP3',\n 'LPCOXc',\n 'FE3tex',\n 'GTPCII2',\n 'O2tpp',\n 'SALCHS4FEtonex',\n 'KAT24',\n 'DHORD2',\n 'CHSTEROLt',\n 'RHA90tpp',\n 'AGM4PApp',\n 'PLCD',\n 'EXppa',\n 'HACD18i',\n 'SHCHCS3',\n 'DHPACCOAHIT',\n 'COabc',\n 'AMID4',\n 'ECOAH29',\n 'DGUNC',\n 'PDX5POi',\n 'EXmn2',\n 'ACOAD27f',\n 'PGSA160',\n 'RECOAH25',\n '4HBZtex',\n 'ADOCBIAH',\n 'TDP',\n 'FGFT',\n 'ASP1DC',\n 'GLCURDH',\n 'sinkhemeO',\n 'UDPG4E',\n 'GLUDC',\n 'GTPH1',\n 'HACD24i',\n 'GARFT',\n 'RHAP50tex',\n 'NADPHXD',\n 'CPPPGO',\n 'DHORTS',\n 'UGLT',\n 'MYCTR2',\n 'DDCAt2pp',\n 'EXbzalc',\n 'SERR',\n 'EXribflv',\n 'ACOXT',\n 'RECOAH14',\n 'ALDD31',\n 'NAPRT',\n 'THZPSN2',\n 'HG2tppi',\n 'NADHXD',\n 'EXsalchs4fe',\n 'ALAALAabcpp',\n 'ACHBS',\n 'GDTPR',\n 'NTP3',\n 'MMSAD2',\n 'PYDXS',\n 'FPRA',\n 'ACGK',\n 'FETRANS',\n 'IPDDI',\n 'PPAtex',\n 'HMPK4',\n 'IPMD',\n 'FTHFCL',\n 'PRAMPC',\n 'MSO3tex',\n 'LEUTA',\n 'GGPTRCS',\n 'UDCPDP',\n 'GAPD',\n 'PG160abcpp',\n 'FRUpts',\n 'NMNDA',\n 'ALAALAD',\n 'FRDx',\n 'KAS17',\n 'CDGUNPD',\n 'RNDR3',\n 'UAMAS',\n 'FE2t',\n 'GND',\n 'r2465',\n ...]"
     },
     "execution_count": 16,
     "metadata": {},
     "output_type": "execute_result"
    }
   ],
   "source": [
    "[''.join(e.id.split(\"_\")[:-1]) for e in from_merlin.reactions]"
   ],
   "metadata": {
    "collapsed": false,
    "ExecuteTime": {
     "end_time": "2023-05-18T15:04:26.186464500Z",
     "start_time": "2023-05-18T15:04:26.174447600Z"
    }
   }
  },
  {
   "cell_type": "code",
   "execution_count": 19,
   "outputs": [
    {
     "name": "stdout",
     "output_type": "stream",
     "text": [
      "{'EX_cgly_e', 'EX_cobalt2_e', 'EX_leu__L_e', 'EX_cytd_e', 'EX_ser__D_e', 'EX_pheme_e', 'EX_ival_e', 'EX_acysbmn_e', 'INOST_Et', 'EX_glyb_e', 'HBCO_nadp', 'DRIBtex_1', 'EX_stfrnA_e', 'EX_lac__L_e', 'EX_LalaDgluMdapDala_e', 'SPT_syn', 'EX_man6pglyc_e', 'EX_asp__L_e', 'HISTP_1', 'EX_h2o_e', 'MDH3_1', 'ARGDI_1', 'EX_spmd_e', 'L_LACt2r', 'EX_glcn_e', 'EX_gthrd_e', 'CHSTEROLt_1', 'EX_chol_e', 'EX_fru_e', 'EX_ser__L_e', 'FDMO_1', 'EX_3mb_e', 'EX_h2_e', 'EX_co_e', 'HMR_9638', 'EX_fe3dcit_e', 'EX_bzalc_e', 'EX_fe3_e', 'EX_cl_e', 'EX_csn_e', 'EX_s_e', 'PGMT_B', 'GTHRDt2_1', 'EX_oxa_e', 'EX_ala_L_glu__L_e', 'EX_tsul_e', 'EX_alatrp_e', 'CYTB_B3', 'EX_no2_e', 'NAR_syn_2', 'EX_phept_e', 'EX_pta_e', 'ALAD_L', 'EX_pro__L_e', 'EX_tartr__L_e', 'EX_so4_e', 'EX_ala_B_e', 'EX_nona_e', 'EX_ala_L_asp__L_e', 'LDH_L', 'EX_co2_e', 'SERD_D', 'EX_aso3_e', 'EX_indole_e', 'EX_ptrc_e', 'MNabc_rev', 'L_LACD3', 'EX_but_e', 'EX_met__D_e', 'EX_bmn_e', 'GALUR_Et', 'MS_1', 'EX_lcts_e', 'EX_anhgm_e', 'EX_pyr_e', 'sink_amob_c', 'EX_malt_e', 'EX_R_3h4atba_e', 'EX_R_3htd5e_e', 'PDYXPT_c', 'EX_cit_e', 'EX_R_3hhdca_e', 'EX_fum_e', 'ACTD_1', 'GLCS3_1', 'UAGPT2_1', 'EX_mobd_e', 'PRFGS_1', 'EX_mal__L_e', 'EX_bz_e', 'PSP_L', 'EX_ad_e', 'CYTBO3_4pp', 'EX_zn2_e', 'EX_man1p_e', 'EX_gal_e', 'EX_gua_e', 'ALCD22_L', 'MNabc_1', 'EX_h2s_e', 'EX_succ_e', 'L_LACt3', 'EX_cu2_e', 'DHNPA_1', 'EX_so3_e', 'ASO3tex_1', 'EX_thr__L_e', 'EX_istfrnA_e', 'EX_glc__D_e', 'EX_taur_e', 'SERD_L', 'EX_xtsn_e', 'EX_hishis_e', 'EX_metsox_S__L_e', 'EX_R_3hppta_e', 'ACYP_2', 'EX_isetac_e', 'r2465_1', 'EX_glyc3p_e', 'PDBL_4', 'PEPCK_re', 'EX_R_3hdd5ea_e', 'EX_tre_e', 'EX_R_3hpt_e', 'EX_met__L_e', 'EX_ca2_e', 'EX_arab__D_e', 'EX_thymd_e', 'EX_ac_e', 'EX_h_e', 'EX_ppa_e', 'EX_asn__L_e', 'sink_hemeO_c', 'EX_glygly_e', 'EX_arg__L_e', 'CHLabc_rev', 'EX_R3hdec4e_e', 'EX_actn__R_e', 'EX_mg2_e', 'MTAM_1', 'EX_etoh_e', 'EX_gly_pro__L_e', 'EX_g3pe_e', 'EX_inost_e', 'THRD_L', 'EX_lys__L_e', 'PUNP6_1', 'EX_mso3_e', 'EX_k_e', 'GLYCS_II', 'EX_3h4atb_e', 'EX_salchs4fe_e', 'EX_fuc_e', 'EX_gly_asp__L_e', 'EX_tol_e', 'sink_sheme_c', 'PUNP2_1', 'EX_btn_e', 'EX_fe2_e', 'EX_hia_e', 'EX_4hbz_e', 'EX_4abutn_e', 'EX_ala__D_e', 'EX_ribflv_e', 'EX_aso4_e', 'EX_5mdru1p_e', 'EX_orn_e', 'EX_istfrnB_e', 'EX_skm_e', 'EX_o2_e', 'AACOAR_syn', 'COt_1', 'EX_R_3hnonaa_e', 'EX_bzal_e', 'EX_stfrnB_e', 'EX_glyald_e', 'EX_ura_e', 'CLt3_2pp', 'EX_cmcbtt_e', 'EX_gly_asn__L_e', 'EX_rib__D_e', 'EX_gln__L_e', 'L_LACD', 'LDH_D', 'EX_nh4_e', 'EX_5drib_e', 'EX_pacald_e', 'EX_glyc_e', 'EX_mn2_e', 'EX_cresol_e', 'EX_met_L_ala__L_e', 'EX_salchs4_e', 'PDBL_3', 'EX_galur_e', 'MOBDabc_rev', 'L_LACD2', 'CYSK2_I', 'TARTR_L_Et', 'PNCDC_1', 'DGNSK_1', 'EX_gly_e', 'EX_4hba_e', 'EX_h2co3_e', 'EX_pi_e', 'EX_gly_glu__L_e', 'EX_no3_e', 'FAS80_L', 'EX_for_e', 'EX_chsterol_e', 'EX_thym_e', 'EX_glcr_e', 'CYST_II', 'EX_pime_e', 'GLYCS_I', 'ACP1_FMN', 'EX_hxan_e', 'ALATA_L', 'EX_glcur_e', 'EX_glu__L_e'}\n"
     ]
    }
   ],
   "source": [
    "print(set([e.id for e in from_carveme.reactions]).difference(set([''.join(e.id.split(\"_\")[:-1]) for e in from_merlin.reactions])))"
   ],
   "metadata": {
    "collapsed": false,
    "ExecuteTime": {
     "end_time": "2023-05-18T15:14:34.563077600Z",
     "start_time": "2023-05-18T15:14:34.527270900Z"
    }
   }
  },
  {
   "cell_type": "code",
   "execution_count": 5,
   "outputs": [
    {
     "data": {
      "text/plain": "(<Model model_mtuberculosis_carveme at 0x1d363e22730>,\n {'SBML_FATAL': [],\n  'SBML_ERROR': [],\n  'SBML_SCHEMA_ERROR': [],\n  'SBML_WARNING': [],\n  'COBRA_FATAL': [],\n  'COBRA_ERROR': ['No objective coefficients in model. Unclear what should be optimized'],\n  'COBRA_WARNING': [\"12345 does not conform to 'http(s)://identifiers.org/collection/id' or'http(s)://identifiers.org/COLLECTION:id\",\n   'No objective in listOfObjectives'],\n  'COBRA_CHECK': []})"
     },
     "execution_count": 5,
     "metadata": {},
     "output_type": "execute_result"
    }
   ],
   "source": [
    "from cobra.io import validate_sbml_model\n",
    "validate_sbml_model(r\"C:\\Users\\Bisbii\\PythonProjects\\ExpGSMM\\data\\models\\model_carve.xml\")"
   ],
   "metadata": {
    "collapsed": false,
    "ExecuteTime": {
     "end_time": "2023-05-18T14:45:34.177337200Z",
     "start_time": "2023-05-18T14:45:31.238018700Z"
    }
   }
  },
  {
   "cell_type": "code",
   "execution_count": 100,
   "outputs": [],
   "source": [
    "from cobra.io import read_sbml_model, write_sbml_model\n",
    "aragem = read_sbml_model(r\"C:\\Users\\Bisbii\\Desktop\\fuckaragem.xml\")\n",
    "aragem.objective_direction = 'min'"
   ],
   "metadata": {
    "collapsed": false,
    "ExecuteTime": {
     "end_time": "2023-05-16T16:35:30.127560600Z",
     "start_time": "2023-05-16T16:35:27.960086200Z"
    }
   }
  },
  {
   "cell_type": "code",
   "execution_count": 102,
   "outputs": [],
   "source": [
    "df = pd.read_csv(r\"C:\\Users\\Bisbii\\Desktop\\reactionConstraints.txt\", sep=\"\\t\")\n",
    "for reaction in df.iterrows():\n",
    "    aragem.reactions.get_by_id(reaction[1]['reactionID'].replace(\"R_\", \"\")).bounds = (reaction[1]['lb'], reaction[1]['ub'])"
   ],
   "metadata": {
    "collapsed": false,
    "ExecuteTime": {
     "end_time": "2023-05-16T16:35:40.327984400Z",
     "start_time": "2023-05-16T16:35:40.286027100Z"
    }
   }
  },
  {
   "cell_type": "code",
   "execution_count": 103,
   "outputs": [
    {
     "data": {
      "text/plain": "<cobra.summary.model_summary.ModelSummary at 0x18dfc9a7160>",
      "text/html": "<h3>Objective</h3><p>0.01 Ex16 = 0.232904365128204</p><h4>Uptake</h4><table border=\"1\" class=\"dataframe\">\n  <thead>\n    <tr style=\"text-align: right;\">\n      <th>Metabolite</th>\n      <th>Reaction</th>\n      <th>Flux</th>\n      <th>C-Number</th>\n      <th>C-Flux</th>\n    </tr>\n  </thead>\n  <tbody>\n    <tr>\n      <td>S_CO2_c[C_c]</td>\n      <td>Ex1</td>\n      <td>2.315</td>\n      <td>0</td>\n      <td>0.00%</td>\n    </tr>\n    <tr>\n      <td>S_Hydrogen_32_sulfide_c[C_c]</td>\n      <td>Ex11</td>\n      <td>0.00286</td>\n      <td>0</td>\n      <td>0.00%</td>\n    </tr>\n    <tr>\n      <td>S_hv_p[C_p]</td>\n      <td>Ex16</td>\n      <td>23.29</td>\n      <td>0</td>\n      <td>0.00%</td>\n    </tr>\n    <tr>\n      <td>S_Orthophosphate_c[C_c]</td>\n      <td>Ex18</td>\n      <td>0.002431</td>\n      <td>0</td>\n      <td>0.00%</td>\n    </tr>\n    <tr>\n      <td>S_H2O_c[C_c]</td>\n      <td>Ex2</td>\n      <td>9.198</td>\n      <td>0</td>\n      <td>0.00%</td>\n    </tr>\n    <tr>\n      <td>S_NH3_c[C_c]</td>\n      <td>Ex5</td>\n      <td>0.3505</td>\n      <td>0</td>\n      <td>0.00%</td>\n    </tr>\n  </tbody>\n</table><h4>Secretion</h4><table border=\"1\" class=\"dataframe\">\n  <thead>\n    <tr style=\"text-align: right;\">\n      <th>Metabolite</th>\n      <th>Reaction</th>\n      <th>Flux</th>\n      <th>C-Number</th>\n      <th>C-Flux</th>\n    </tr>\n  </thead>\n  <tbody>\n    <tr>\n      <td>S_Oxygen_c[C_c]</td>\n      <td>Ex3</td>\n      <td>-2.435</td>\n      <td>0</td>\n      <td>0.00%</td>\n    </tr>\n  </tbody>\n</table>"
     },
     "execution_count": 103,
     "metadata": {},
     "output_type": "execute_result"
    }
   ],
   "source": [
    "aragem.summary(pfba(aragem))"
   ],
   "metadata": {
    "collapsed": false,
    "ExecuteTime": {
     "end_time": "2023-05-16T16:35:42.910315800Z",
     "start_time": "2023-05-16T16:35:41.774912700Z"
    }
   }
  },
  {
   "cell_type": "code",
   "execution_count": 104,
   "outputs": [],
   "source": [
    "write_sbml_model(aragem, r\"C:\\Users\\Bisbii\\Desktop\\aragem_photo.xml\")"
   ],
   "metadata": {
    "collapsed": false,
    "ExecuteTime": {
     "end_time": "2023-05-16T16:36:32.020521800Z",
     "start_time": "2023-05-16T16:36:31.173813300Z"
    }
   }
  },
  {
   "cell_type": "code",
   "execution_count": 110,
   "outputs": [],
   "source": [
    "ara = read_sbml_model(r\"C:\\Users\\Bisbii\\Desktop\\aragem_photo.xml\")"
   ],
   "metadata": {
    "collapsed": false,
    "ExecuteTime": {
     "end_time": "2023-05-16T16:38:29.299181100Z",
     "start_time": "2023-05-16T16:38:28.129484600Z"
    }
   }
  },
  {
   "cell_type": "code",
   "execution_count": 111,
   "outputs": [
    {
     "data": {
      "text/plain": "<cobra.summary.model_summary.ModelSummary at 0x18dfd81f550>",
      "text/html": "<h3>Objective</h3><p>0.01 Ex16 = 0.232904365128204</p><h4>Uptake</h4><table border=\"1\" class=\"dataframe\">\n  <thead>\n    <tr style=\"text-align: right;\">\n      <th>Metabolite</th>\n      <th>Reaction</th>\n      <th>Flux</th>\n      <th>C-Number</th>\n      <th>C-Flux</th>\n    </tr>\n  </thead>\n  <tbody>\n    <tr>\n      <td>S_CO2_c[C_c]</td>\n      <td>Ex1</td>\n      <td>2.315</td>\n      <td>0</td>\n      <td>0.00%</td>\n    </tr>\n    <tr>\n      <td>S_Hydrogen_32_sulfide_c[C_c]</td>\n      <td>Ex11</td>\n      <td>0.00286</td>\n      <td>0</td>\n      <td>0.00%</td>\n    </tr>\n    <tr>\n      <td>S_hv_p[C_p]</td>\n      <td>Ex16</td>\n      <td>23.29</td>\n      <td>0</td>\n      <td>0.00%</td>\n    </tr>\n    <tr>\n      <td>S_Orthophosphate_c[C_c]</td>\n      <td>Ex18</td>\n      <td>0.002431</td>\n      <td>0</td>\n      <td>0.00%</td>\n    </tr>\n    <tr>\n      <td>S_H2O_c[C_c]</td>\n      <td>Ex2</td>\n      <td>9.198</td>\n      <td>0</td>\n      <td>0.00%</td>\n    </tr>\n    <tr>\n      <td>S_NH3_c[C_c]</td>\n      <td>Ex5</td>\n      <td>0.3505</td>\n      <td>0</td>\n      <td>0.00%</td>\n    </tr>\n  </tbody>\n</table><h4>Secretion</h4><table border=\"1\" class=\"dataframe\">\n  <thead>\n    <tr style=\"text-align: right;\">\n      <th>Metabolite</th>\n      <th>Reaction</th>\n      <th>Flux</th>\n      <th>C-Number</th>\n      <th>C-Flux</th>\n    </tr>\n  </thead>\n  <tbody>\n    <tr>\n      <td>S_Oxygen_c[C_c]</td>\n      <td>Ex3</td>\n      <td>-2.435</td>\n      <td>0</td>\n      <td>0.00%</td>\n    </tr>\n  </tbody>\n</table>"
     },
     "execution_count": 111,
     "metadata": {},
     "output_type": "execute_result"
    }
   ],
   "source": [
    "ara.summary()"
   ],
   "metadata": {
    "collapsed": false,
    "ExecuteTime": {
     "end_time": "2023-05-16T16:38:33.009009800Z",
     "start_time": "2023-05-16T16:38:31.542704500Z"
    }
   }
  },
  {
   "cell_type": "code",
   "execution_count": 171,
   "outputs": [
    {
     "name": "stdout",
     "output_type": "stream",
     "text": [
      "Loading\n",
      "\n"
     ]
    },
    {
     "name": "stderr",
     "output_type": "stream",
     "text": [
      "Could not identify an external compartment by name and choosing one with the most boundary reactions. That might be complete nonsense or change suddenly. Consider renaming your compartments using `Model.compartments` to fix this.\n"
     ]
    },
    {
     "name": "stdout",
     "output_type": "stream",
     "text": [
      "Reactions: 3512\n",
      "Metabolites: 3660\n",
      "Genes: 1690\n",
      "Model loaded\n"
     ]
    },
    {
     "data": {
      "text/plain": "                   before     after\nC08614__chlo    -0.867625 -0.889435\nC05306__chlo    -0.027435       NaN\nC08601__chlo    -0.076490 -0.078413\nC08591__chlo    -0.135411 -0.138815\nC08606__chlo    -0.002596 -0.002662\nC05433__chlo    -0.020883 -0.021408\nC05307__chlo    -0.009232 -0.009464\nC20484__chlo    -0.369372 -0.378657\nC05432__chlo    -0.000668 -0.000685\nC08579__chlo    -0.001181 -0.001210\nC06098__chlo    -0.013420 -0.013757\nC02094__chlo    -0.200480 -0.205520\ne_Pigment__chlo  1.000000  1.000000",
      "text/html": "<div>\n<style scoped>\n    .dataframe tbody tr th:only-of-type {\n        vertical-align: middle;\n    }\n\n    .dataframe tbody tr th {\n        vertical-align: top;\n    }\n\n    .dataframe thead th {\n        text-align: right;\n    }\n</style>\n<table border=\"1\" class=\"dataframe\">\n  <thead>\n    <tr style=\"text-align: right;\">\n      <th></th>\n      <th>before</th>\n      <th>after</th>\n    </tr>\n  </thead>\n  <tbody>\n    <tr>\n      <th>C08614__chlo</th>\n      <td>-0.867625</td>\n      <td>-0.889435</td>\n    </tr>\n    <tr>\n      <th>C05306__chlo</th>\n      <td>-0.027435</td>\n      <td>NaN</td>\n    </tr>\n    <tr>\n      <th>C08601__chlo</th>\n      <td>-0.076490</td>\n      <td>-0.078413</td>\n    </tr>\n    <tr>\n      <th>C08591__chlo</th>\n      <td>-0.135411</td>\n      <td>-0.138815</td>\n    </tr>\n    <tr>\n      <th>C08606__chlo</th>\n      <td>-0.002596</td>\n      <td>-0.002662</td>\n    </tr>\n    <tr>\n      <th>C05433__chlo</th>\n      <td>-0.020883</td>\n      <td>-0.021408</td>\n    </tr>\n    <tr>\n      <th>C05307__chlo</th>\n      <td>-0.009232</td>\n      <td>-0.009464</td>\n    </tr>\n    <tr>\n      <th>C20484__chlo</th>\n      <td>-0.369372</td>\n      <td>-0.378657</td>\n    </tr>\n    <tr>\n      <th>C05432__chlo</th>\n      <td>-0.000668</td>\n      <td>-0.000685</td>\n    </tr>\n    <tr>\n      <th>C08579__chlo</th>\n      <td>-0.001181</td>\n      <td>-0.001210</td>\n    </tr>\n    <tr>\n      <th>C06098__chlo</th>\n      <td>-0.013420</td>\n      <td>-0.013757</td>\n    </tr>\n    <tr>\n      <th>C02094__chlo</th>\n      <td>-0.200480</td>\n      <td>-0.205520</td>\n    </tr>\n    <tr>\n      <th>e_Pigment__chlo</th>\n      <td>1.000000</td>\n      <td>1.000000</td>\n    </tr>\n  </tbody>\n</table>\n</div>"
     },
     "execution_count": 171,
     "metadata": {},
     "output_type": "execute_result"
    }
   ],
   "source": [
    "data_directory = \"../data\"\n",
    "dmodel = MyModel(join(data_directory, \"models/model_dfba.xml\"), \"e_ActiveBiomass__cytop\")\n",
    "def get_g_per_gDW(reaction):\n",
    "    g_per_gDW = {}\n",
    "    if not all(met.formula for met in reaction.reactants):\n",
    "        raise Exception (\"These metabolites have no formula: \", [e.id for e in reaction.metabolites if not e.formula])\n",
    "    for met in reaction.reactants:\n",
    "        g_per_gDW[met] = reaction.metabolites[met] * met.formula_weight / 1000\n",
    "    total = abs(sum(g_per_gDW.values()))\n",
    "    g_per_gDW_normalized = {key: value/total for key, value in g_per_gDW.items()}\n",
    "    for met in reaction.reactants:\n",
    "        reaction.subtract_metabolites({met: reaction.metabolites[met]})\n",
    "    for met, stoichiometry in g_per_gDW_normalized.items():\n",
    "        reaction.add_metabolites({met: stoichiometry / met.formula_weight * 1000})\n",
    "\n",
    "\n",
    "def remove_metabolite_from_biomass(model, biomass_reaction, metabolites):\n",
    "    for index, metabolite in enumerate(metabolites):\n",
    "        if type(metabolite) == str:\n",
    "            metabolites[index] = model.metabolites.get_by_id(metabolite)\n",
    "    for metabolite in metabolites:\n",
    "        biomass_reaction.subtract_metabolites({metabolite: biomass_reaction.metabolites[metabolite]})\n",
    "    get_g_per_gDW(biomass_reaction)\n",
    "\n",
    "column_a = {e: [dmodel.reactions.e_Pigment__chlo.metabolites[e]] for e in dmodel.reactions.e_Pigment__chlo.metabolites}\n",
    "remove_metabolite_from_biomass(dmodel, dmodel.reactions.e_Pigment__chlo, [\"C05306__chlo\"])\n",
    "for e in dmodel.reactions.e_Pigment__chlo.metabolites:\n",
    "    column_a[e].append(dmodel.reactions.e_Pigment__chlo.metabolites[e])\n",
    "df = pd.DataFrame.from_dict(column_a, orient='index', columns=[\"before\", \"after\"])\n",
    "df"
   ],
   "metadata": {
    "collapsed": false,
    "ExecuteTime": {
     "end_time": "2023-05-17T12:47:17.146509800Z",
     "start_time": "2023-05-17T12:47:12.505975700Z"
    }
   }
  },
  {
   "cell_type": "code",
   "execution_count": 170,
   "outputs": [
    {
     "data": {
      "text/plain": "                   before     after\nC08614__chlo    -0.867625 -0.889435\nC05306__chlo    -0.027435       NaN\nC08601__chlo    -0.076490 -0.078413\nC08591__chlo    -0.135411 -0.138815\nC08606__chlo    -0.002596 -0.002662\nC05433__chlo    -0.020883 -0.021408\nC05307__chlo    -0.009232 -0.009464\nC20484__chlo    -0.369372 -0.378657\nC05432__chlo    -0.000668 -0.000685\nC08579__chlo    -0.001181 -0.001210\nC06098__chlo    -0.013420 -0.013757\nC02094__chlo    -0.200480 -0.205520\ne_Pigment__chlo  1.000000  1.000000",
      "text/html": "<div>\n<style scoped>\n    .dataframe tbody tr th:only-of-type {\n        vertical-align: middle;\n    }\n\n    .dataframe tbody tr th {\n        vertical-align: top;\n    }\n\n    .dataframe thead th {\n        text-align: right;\n    }\n</style>\n<table border=\"1\" class=\"dataframe\">\n  <thead>\n    <tr style=\"text-align: right;\">\n      <th></th>\n      <th>before</th>\n      <th>after</th>\n    </tr>\n  </thead>\n  <tbody>\n    <tr>\n      <th>C08614__chlo</th>\n      <td>-0.867625</td>\n      <td>-0.889435</td>\n    </tr>\n    <tr>\n      <th>C05306__chlo</th>\n      <td>-0.027435</td>\n      <td>NaN</td>\n    </tr>\n    <tr>\n      <th>C08601__chlo</th>\n      <td>-0.076490</td>\n      <td>-0.078413</td>\n    </tr>\n    <tr>\n      <th>C08591__chlo</th>\n      <td>-0.135411</td>\n      <td>-0.138815</td>\n    </tr>\n    <tr>\n      <th>C08606__chlo</th>\n      <td>-0.002596</td>\n      <td>-0.002662</td>\n    </tr>\n    <tr>\n      <th>C05433__chlo</th>\n      <td>-0.020883</td>\n      <td>-0.021408</td>\n    </tr>\n    <tr>\n      <th>C05307__chlo</th>\n      <td>-0.009232</td>\n      <td>-0.009464</td>\n    </tr>\n    <tr>\n      <th>C20484__chlo</th>\n      <td>-0.369372</td>\n      <td>-0.378657</td>\n    </tr>\n    <tr>\n      <th>C05432__chlo</th>\n      <td>-0.000668</td>\n      <td>-0.000685</td>\n    </tr>\n    <tr>\n      <th>C08579__chlo</th>\n      <td>-0.001181</td>\n      <td>-0.001210</td>\n    </tr>\n    <tr>\n      <th>C06098__chlo</th>\n      <td>-0.013420</td>\n      <td>-0.013757</td>\n    </tr>\n    <tr>\n      <th>C02094__chlo</th>\n      <td>-0.200480</td>\n      <td>-0.205520</td>\n    </tr>\n    <tr>\n      <th>e_Pigment__chlo</th>\n      <td>1.000000</td>\n      <td>1.000000</td>\n    </tr>\n  </tbody>\n</table>\n</div>"
     },
     "execution_count": 170,
     "metadata": {},
     "output_type": "execute_result"
    }
   ],
   "source": [],
   "metadata": {
    "collapsed": false,
    "ExecuteTime": {
     "end_time": "2023-05-17T12:46:43.597646Z",
     "start_time": "2023-05-17T12:46:43.578832300Z"
    }
   }
  },
  {
   "cell_type": "code",
   "execution_count": 139,
   "outputs": [
    {
     "data": {
      "text/plain": "[]"
     },
     "execution_count": 139,
     "metadata": {},
     "output_type": "execute_result"
    }
   ],
   "source": [
    "dmodel.reactions.e_Pigment__chlo.reactants"
   ],
   "metadata": {
    "collapsed": false,
    "ExecuteTime": {
     "end_time": "2023-05-17T12:24:03.781906900Z",
     "start_time": "2023-05-17T12:24:03.754416Z"
    }
   }
  },
  {
   "cell_type": "code",
   "execution_count": 25,
   "outputs": [
    {
     "data": {
      "text/plain": "<cobra.summary.metabolite_summary.MetaboliteSummary at 0x18de7168790>",
      "text/html": "<h3>S_ATP_p</h3><p>None</p><h4>Producing Reactions</h4><table border=\"1\" class=\"dataframe\">\n  <thead>\n    <tr style=\"text-align: right;\">\n      <th>Percent</th>\n      <th>Flux</th>\n      <th>Reaction</th>\n      <th>Definition</th>\n    </tr>\n  </thead>\n  <tbody>\n    <tr>\n      <td>31.03%</td>\n      <td>0.08976</td>\n      <td>R00200_p</td>\n      <td>S_ADP_p + S_Phosphoenolpyruvate_p --&gt; S_ATP_p + S_Pyruvate_p</td>\n    </tr>\n    <tr>\n      <td>64.63%</td>\n      <td>0.1869</td>\n      <td>R01512_p</td>\n      <td>S_3_45_Phospho_45_D_45_glycerate_p + S_ATP_p &lt;=&gt; S_3_45_Phospho_45_D_45_glyceroyl_32_phosphate_p + S_ADP_p</td>\n    </tr>\n    <tr>\n      <td>4.33%</td>\n      <td>0.01253</td>\n      <td>TCP20</td>\n      <td>S_ATP_c &lt;=&gt; S_ATP_p</td>\n    </tr>\n  </tbody>\n</table><h4>Consuming Reactions</h4><table border=\"1\" class=\"dataframe\">\n  <thead>\n    <tr style=\"text-align: right;\">\n      <th>Percent</th>\n      <th>Flux</th>\n      <th>Reaction</th>\n      <th>Definition</th>\n    </tr>\n  </thead>\n  <tbody>\n    <tr>\n      <td>57.71%</td>\n      <td>-0.1669</td>\n      <td>R00253_p</td>\n      <td>S_ATP_p + S_L_45_Glutamate_p + S_NH3_p --&gt; S_ADP_p + S_L_45_Glutamine_p + S_Orthophosphate_p</td>\n    </tr>\n    <tr>\n      <td>6.92%</td>\n      <td>-0.02002</td>\n      <td>R00742_p</td>\n      <td>S_ATP_p + S_Acetyl_45_CoA_p + S_HCO3_45__p --&gt; S_ADP_p + S_Malonyl_45_CoA_p + S_Orthophosphate_p</td>\n    </tr>\n    <tr>\n      <td>20.16%</td>\n      <td>-0.0583</td>\n      <td>R00948_p</td>\n      <td>S_ATP_p + S_D_45_Glucose_32_1_45_phosphate_p &lt;=&gt; S_ADP_45_glucose_p + S_Pyrophosphate_p</td>\n    </tr>\n    <tr>\n      <td>15.21%</td>\n      <td>-0.04399</td>\n      <td>R01523_p</td>\n      <td>S_ATP_p + S_D_45_Ribulose_32_5_45_phosphate_p --&gt; S_ADP_p + S_D_45_Ribulose_32_1_44_5_45_bisphosphate_p</td>\n    </tr>\n  </tbody>\n</table>"
     },
     "execution_count": 25,
     "metadata": {},
     "output_type": "execute_result"
    }
   ],
   "source": [
    "aragem.metabolites.S_ATP_p.summary()"
   ],
   "metadata": {
    "collapsed": false,
    "ExecuteTime": {
     "end_time": "2023-05-16T15:40:50.438741600Z",
     "start_time": "2023-05-16T15:40:49.359168200Z"
    }
   }
  },
  {
   "cell_type": "code",
   "execution_count": 21,
   "outputs": [
    {
     "data": {
      "text/plain": "<cobra.summary.reaction_summary.ReactionSummary at 0x18de6dfb430>",
      "text/html": "<h3>BIO_L</h3><p>0.04 S_4_45_Coumaryl_32_alcohol_biomass + 0.0029 S_ATP_biomass + 30.0 S_ATP_c + 0.0033 S_CTP_biomass + 0.305 S_Cellulose_biomass + 0.048 S_Coniferyl_32_alcohol_biomass + 0.282 S_D_45_Xylose_biomass + 0.0039 S_GTP_biomass + 0.053 S_Glucose_biomass + 0.14 S_Glycine_biomass + 0.026 S_Hexadecanoic_32_acid_biomass + 0.107 S_L_45_Alanine_biomass + 0.39 S_L_45_Asparagine_biomass + 0.162 S_L_45_Aspartate_biomass + 0.024 S_L_45_Cysteine_biomass + 0.39 S_L_45_Glutamate_biomass + 0.35 S_L_45_Glutamine_biomass + 0.06 S_L_45_Isoleucine_biomass + 0.14 S_L_45_Leucine_biomass + 0.001 S_L_45_Lysine_biomass + 0.002 S_L_45_Methionine_biomass + 0.08 S_L_45_Phenylalanine_biomass + 0.01 S_L_45_Proline_biomass + 0.21 S_L_45_Serine_biomass + 0.086 S_L_45_Threonine_biomass + 0.04 S_L_45_Tryptophan_biomass + 0.03 S_L_45_Tyrosine_biomass + 0.1 S_L_45_Valine_biomass + 0.056 S_Sinapyl_32_alcohol_biomass + 0.265 S_Starch_biomass + 0.096 S_Sucrose_biomass + 0.0029 S_UTP_biomass + 0.053 S_beta_45_D_45_Fructose_biomass + 0.0027 S_dATP_biomass + 0.0019 S_dCTP_biomass + 0.0017 S_dGTP_biomass + 0.0028 S_dTTP_biomass --> 30.0 S_ADP_c + S_Biomass_biomass_b + 30.0 S_Orthophosphate_c</p><p>Bounds: 0.11, 0.11</p><p>Flux: 0.11</p>"
     },
     "execution_count": 21,
     "metadata": {},
     "output_type": "execute_result"
    }
   ],
   "source": [
    "aragem.reactions.BIO_L.summary()"
   ],
   "metadata": {
    "collapsed": false,
    "ExecuteTime": {
     "end_time": "2023-05-16T15:40:06.281532400Z",
     "start_time": "2023-05-16T15:40:05.136308900Z"
    }
   }
  },
  {
   "cell_type": "code",
   "execution_count": 6,
   "outputs": [
    {
     "name": "stdout",
     "output_type": "stream",
     "text": [
      "Loading\n",
      "\n"
     ]
    },
    {
     "name": "stderr",
     "output_type": "stream",
     "text": [
      "Could not identify an external compartment by name and choosing one with the most boundary reactions. That might be complete nonsense or change suddenly. Consider renaming your compartments using `Model.compartments` to fix this.\n"
     ]
    },
    {
     "name": "stdout",
     "output_type": "stream",
     "text": [
      "Reactions: 2268\n",
      "Metabolites: 3360\n",
      "Genes: 1521\n",
      "Model loaded\n"
     ]
    }
   ],
   "source": [
    "nacl_model = MyModel(join(data_directory, \"omics/nacl_h2o2_sorb/nacl/Dsalina_nacl_Local2_2_4_4_fastcore_t2_8.xml\"), \"e_Biomass__cytop\")"
   ],
   "metadata": {
    "collapsed": false,
    "ExecuteTime": {
     "end_time": "2023-05-09T14:21:32.502023100Z",
     "start_time": "2023-05-09T14:21:29.176819300Z"
    }
   }
  },
  {
   "cell_type": "code",
   "execution_count": 12,
   "outputs": [
    {
     "name": "stdout",
     "output_type": "stream",
     "text": [
      "Runnning pFBA\n"
     ]
    },
    {
     "data": {
      "text/plain": "<cobra.summary.model_summary.ModelSummary at 0x174d1b0ab50>",
      "text/html": "<h3>Objective</h3><p>1.0 e_Biomass__cytop = 0.039779809448672335</p><h4>Uptake</h4><table border=\"1\" class=\"dataframe\">\n  <thead>\n    <tr style=\"text-align: right;\">\n      <th>Metabolite</th>\n      <th>Reaction</th>\n      <th>Flux</th>\n      <th>C-Number</th>\n      <th>C-Flux</th>\n    </tr>\n  </thead>\n  <tbody>\n    <tr>\n      <td>C00369__chlo</td>\n      <td>DM_C00369__chlo</td>\n      <td>0.001</td>\n      <td>1800</td>\n      <td>99.78%</td>\n    </tr>\n    <tr>\n      <td>C00009__extr</td>\n      <td>EX_C00009__dra</td>\n      <td>0.00627</td>\n      <td>0</td>\n      <td>0.00%</td>\n    </tr>\n    <tr>\n      <td>C00059__extr</td>\n      <td>EX_C00059__dra</td>\n      <td>0.00417</td>\n      <td>0</td>\n      <td>0.00%</td>\n    </tr>\n    <tr>\n      <td>C00080__extr</td>\n      <td>EX_C00080__dra</td>\n      <td>0.01058</td>\n      <td>0</td>\n      <td>0.00%</td>\n    </tr>\n    <tr>\n      <td>C00120__extr</td>\n      <td>EX_C00120__dra</td>\n      <td>0.0001506</td>\n      <td>10</td>\n      <td>0.08%</td>\n    </tr>\n    <tr>\n      <td>C00205__extr</td>\n      <td>EX_C00205__dra</td>\n      <td>42.28</td>\n      <td>0</td>\n      <td>0.00%</td>\n    </tr>\n    <tr>\n      <td>C00244__extr</td>\n      <td>EX_C00244__dra</td>\n      <td>0.103</td>\n      <td>0</td>\n      <td>0.00%</td>\n    </tr>\n    <tr>\n      <td>C00305__extr</td>\n      <td>EX_C00305__dra</td>\n      <td>1.086E-06</td>\n      <td>0</td>\n      <td>0.00%</td>\n    </tr>\n    <tr>\n      <td>C00378__extr</td>\n      <td>EX_C00378__dra</td>\n      <td>8.65E-05</td>\n      <td>12</td>\n      <td>0.06%</td>\n    </tr>\n    <tr>\n      <td>C02823__extr</td>\n      <td>EX_C02823__dra</td>\n      <td>2.329E-05</td>\n      <td>63</td>\n      <td>0.08%</td>\n    </tr>\n    <tr>\n      <td>C14818__extr</td>\n      <td>EX_C14818__dra</td>\n      <td>0.0004786</td>\n      <td>0</td>\n      <td>0.00%</td>\n    </tr>\n  </tbody>\n</table><h4>Secretion</h4><table border=\"1\" class=\"dataframe\">\n  <thead>\n    <tr style=\"text-align: right;\">\n      <th>Metabolite</th>\n      <th>Reaction</th>\n      <th>Flux</th>\n      <th>C-Number</th>\n      <th>C-Flux</th>\n    </tr>\n  </thead>\n  <tbody>\n    <tr>\n      <td>photon298__cytop</td>\n      <td>DM_photon298__cytop</td>\n      <td>-0.009394</td>\n      <td>0</td>\n      <td>0.00%</td>\n    </tr>\n    <tr>\n      <td>photon438__lum</td>\n      <td>DM_photon438__lum</td>\n      <td>-1.319</td>\n      <td>0</td>\n      <td>0.00%</td>\n    </tr>\n    <tr>\n      <td>photon450__chlo</td>\n      <td>DM_photon450__chlo</td>\n      <td>-1.156</td>\n      <td>0</td>\n      <td>0.00%</td>\n    </tr>\n    <tr>\n      <td>photon490__chlo</td>\n      <td>DM_photon490__chlo</td>\n      <td>-6.42</td>\n      <td>0</td>\n      <td>0.00%</td>\n    </tr>\n    <tr>\n      <td>photon646__chlo</td>\n      <td>DM_photon646__chlo</td>\n      <td>-10.86</td>\n      <td>0</td>\n      <td>0.00%</td>\n    </tr>\n    <tr>\n      <td>C00001__extr</td>\n      <td>EX_C00001__dra</td>\n      <td>-0.1782</td>\n      <td>0</td>\n      <td>0.00%</td>\n    </tr>\n    <tr>\n      <td>C00007__extr</td>\n      <td>EX_C00007__dra</td>\n      <td>-0.1925</td>\n      <td>0</td>\n      <td>0.00%</td>\n    </tr>\n    <tr>\n      <td>C00011__extr</td>\n      <td>EX_C00011__dra</td>\n      <td>-0.1943</td>\n      <td>1</td>\n      <td>99.99%</td>\n    </tr>\n    <tr>\n      <td>C00177__extr</td>\n      <td>EX_C00177__dra</td>\n      <td>-2.329E-05</td>\n      <td>1</td>\n      <td>0.01%</td>\n    </tr>\n  </tbody>\n</table>"
     },
     "execution_count": 12,
     "metadata": {},
     "output_type": "execute_result"
    }
   ],
   "source": [
    "nacl_model.summary()"
   ],
   "metadata": {
    "collapsed": false,
    "ExecuteTime": {
     "end_time": "2023-05-09T14:22:34.084139800Z",
     "start_time": "2023-05-09T14:22:32.240922100Z"
    }
   }
  },
  {
   "cell_type": "code",
   "execution_count": 35,
   "outputs": [
    {
     "name": "stdout",
     "output_type": "stream",
     "text": [
      "Runnning pFBA\n"
     ]
    },
    {
     "name": "stderr",
     "output_type": "stream",
     "text": [
      "Could not identify an external compartment by name and choosing one with the most boundary reactions. That might be complete nonsense or change suddenly. Consider renaming your compartments using `Model.compartments` to fix this.\n",
      "Could not identify an external compartment by name and choosing one with the most boundary reactions. That might be complete nonsense or change suddenly. Consider renaming your compartments using `Model.compartments` to fix this.\n"
     ]
    },
    {
     "name": "stdout",
     "output_type": "stream",
     "text": [
      "Objective\n",
      "=========\n",
      "1.0 e_ActiveBiomass__cytop = 0.18193277555723875\n",
      "\n",
      "Uptake\n",
      "------\n",
      "  Metabolite       Reaction      Flux  C-Number C-Flux\n",
      "C00001__extr EX_C00001__dra     5.836         0  0.00%\n",
      "C00009__extr EX_C00009__dra   0.05346         0  0.00%\n",
      "C00011__extr EX_C00011__dra      8.21         1 99.58%\n",
      "C00059__extr EX_C00059__dra   0.03554         0  0.00%\n",
      "C00080__extr EX_C00080__dra   0.09017         0  0.00%\n",
      "C00120__extr EX_C00120__dra  0.001289        10  0.16%\n",
      "C00205__extr EX_C00205__dra     629.9         0  0.00%\n",
      "C00244__extr EX_C00244__dra    0.8778         0  0.00%\n",
      "C00378__extr EX_C00378__dra 0.0007412        12  0.11%\n",
      "C02823__extr EX_C02823__dra 0.0001986        63  0.15%\n",
      "C14818__extr EX_C14818__dra  0.004079         0  0.00%\n",
      "\n",
      "Secretion\n",
      "---------\n",
      "      Metabolite            Reaction       Flux  C-Number  C-Flux\n",
      "photon298__cytop DM_photon298__cytop      -0.14         0   0.00%\n",
      "  photon438__lum   DM_photon438__lum     -20.32         0   0.00%\n",
      " photon450__chlo  DM_photon450__chlo     -17.23         0   0.00%\n",
      " photon490__chlo  DM_photon490__chlo     -95.66         0   0.00%\n",
      " photon646__chlo  DM_photon646__chlo     -161.8         0   0.00%\n",
      "    C00007__extr      EX_C00007__dra     -11.18         0   0.00%\n",
      "    C00177__extr      EX_C00177__dra -0.0001986         1 100.00%\n",
      "\n",
      "Runnning pFBA\n",
      "Objective\n",
      "=========\n",
      "1.0 e_ActiveBiomass__cytop = 0.1819327755572385\n",
      "\n",
      "Uptake\n",
      "------\n",
      "  Metabolite        Reaction      Flux  C-Number C-Flux\n",
      "C00404__vacu DM_C00404__vacu  0.002139         0  0.00%\n",
      "C00001__extr  EX_C00001__dra     5.861         0  0.00%\n",
      "C00011__extr  EX_C00011__dra      8.21         1 99.58%\n",
      "C00059__extr  EX_C00059__dra   0.03554         0  0.00%\n",
      "C00080__extr  EX_C00080__dra   0.03671         0  0.00%\n",
      "C00120__extr  EX_C00120__dra  0.001289        10  0.16%\n",
      "C00205__extr  EX_C00205__dra     629.9         0  0.00%\n",
      "C00244__extr  EX_C00244__dra    0.8778         0  0.00%\n",
      "C00378__extr  EX_C00378__dra 0.0007412        12  0.11%\n",
      "C02823__extr  EX_C02823__dra 0.0001986        63  0.15%\n",
      "C14818__extr  EX_C14818__dra  0.004079         0  0.00%\n",
      "\n",
      "Secretion\n",
      "---------\n",
      "      Metabolite            Reaction       Flux  C-Number  C-Flux\n",
      "photon298__cytop DM_photon298__cytop      -0.14         0   0.00%\n",
      "  photon438__lum   DM_photon438__lum     -20.35         0   0.00%\n",
      " photon450__chlo  DM_photon450__chlo     -17.23         0   0.00%\n",
      " photon490__chlo  DM_photon490__chlo     -95.65         0   0.00%\n",
      " photon646__chlo  DM_photon646__chlo     -161.8         0   0.00%\n",
      "    C00007__extr      EX_C00007__dra     -11.16         0   0.00%\n",
      "    C00177__extr      EX_C00177__dra -0.0001986         1 100.00%\n",
      "\n"
     ]
    }
   ],
   "source": [
    "with dmodel:\n",
    "    print(dmodel.summary())\n",
    "    dmodel.demands.DM_C00404__vacu.bounds = (-0.005, 1000)\n",
    "    dmodel.exchanges.EX_C00009__dra.bounds = (0, 1000)\n",
    "    print(dmodel.summary())"
   ],
   "metadata": {
    "collapsed": false,
    "ExecuteTime": {
     "start_time": "2023-04-26T18:11:43.051489Z",
     "end_time": "2023-04-26T18:11:49.369598Z"
    }
   }
  },
  {
   "cell_type": "code",
   "execution_count": 7,
   "outputs": [
    {
     "data": {
      "text/plain": "<cobra.summary.metabolite_summary.MetaboliteSummary at 0x27cf3793d60>",
      "text/html": "<h3>C01389__chlo</h3><p>C20H40O</p><h4>Producing Reactions</h4><table border=\"1\" class=\"dataframe\">\n  <thead>\n    <tr style=\"text-align: right;\">\n      <th>Percent</th>\n      <th>Flux</th>\n      <th>Range</th>\n      <th>Reaction</th>\n      <th>Definition</th>\n    </tr>\n  </thead>\n  <tbody>\n    <tr>\n      <td></td>\n      <td>0</td>\n      <td>[0;  20.1]</td>\n      <td>R05618__chlo</td>\n      <td>C00001__chlo + C05306__chlo --&gt; 2.0 C00080__chlo + C01389__chlo + C02139__chlo</td>\n    </tr>\n    <tr>\n      <td></td>\n      <td>0</td>\n      <td>[0;  20.1]</td>\n      <td>R09068__chlo</td>\n      <td>C00001__chlo + C05307__chlo --&gt; C00080__chlo + C01389__chlo + C16541__chlo</td>\n    </tr>\n  </tbody>\n</table><h4>Consuming Reactions</h4><table border=\"1\" class=\"dataframe\">\n  <thead>\n    <tr style=\"text-align: right;\">\n      <th>Percent</th>\n      <th>Flux</th>\n      <th>Range</th>\n      <th>Reaction</th>\n      <th>Definition</th>\n    </tr>\n  </thead>\n  <tbody>\n    <tr>\n      <td></td>\n      <td>0</td>\n      <td>[-20.1;  0]</td>\n      <td>R10659__chlo</td>\n      <td>C00063__chlo + C01389__chlo --&gt; C00080__chlo + C00112__chlo + C20764__chlo</td>\n    </tr>\n  </tbody>\n</table>"
     },
     "execution_count": 7,
     "metadata": {},
     "output_type": "execute_result"
    }
   ],
   "source": [
    "dmodel.metabolites.C01389__chlo.summary(fva = 1.0)"
   ],
   "metadata": {
    "collapsed": false,
    "ExecuteTime": {
     "start_time": "2023-04-17T13:09:31.990939Z",
     "end_time": "2023-04-17T13:09:56.815328Z"
    }
   }
  },
  {
   "cell_type": "code",
   "execution_count": 16,
   "outputs": [
    {
     "name": "stdout",
     "output_type": "stream",
     "text": [
      "(1.0, {'C': 43.88272415658298, 'N': 2.616595001909996, 'O': 22.520446557234997, 'P': 0.16338696629600014, 'S': 0.112544626612, 'H': 65.92181810794798})\n",
      "Error! Sum of Elemental mass percentage is different from 1! (0.999)\n"
     ]
    },
    {
     "data": {
      "text/plain": "0.527"
     },
     "execution_count": 16,
     "metadata": {},
     "output_type": "execute_result"
    }
   ],
   "source": [
    "from ExpGSMM.utils.utils import get_element_in_biomass\n",
    "\n",
    "get_element_in_biomass(dmodel, \"N\", 'e_Biomass__cytop')"
   ],
   "metadata": {
    "collapsed": false,
    "ExecuteTime": {
     "start_time": "2023-04-26T16:15:20.386611Z",
     "end_time": "2023-04-26T16:15:20.427997Z"
    }
   }
  },
  {
   "cell_type": "code",
   "execution_count": 37,
   "outputs": [
    {
     "data": {
      "text/plain": "0.515"
     },
     "execution_count": 37,
     "metadata": {},
     "output_type": "execute_result"
    }
   ],
   "source": [
    "0.0309/60*1000"
   ],
   "metadata": {
    "collapsed": false,
    "ExecuteTime": {
     "start_time": "2023-04-26T18:15:08.660244Z",
     "end_time": "2023-04-26T18:15:08.676493Z"
    }
   }
  },
  {
   "cell_type": "code",
   "execution_count": 11,
   "outputs": [
    {
     "name": "stdout",
     "output_type": "stream",
     "text": [
      "(1.001, {'C': 45.31399797765508, 'N': 4.8696900171000586, 'O': 18.745534855713114, 'P': 0.2949523924470796, 'S': 0.20650366652204, 'H': 70.84365210840832})\n",
      "Error! Sum of Elemental mass percentage is different from 1! (0.999)\n"
     ]
    },
    {
     "data": {
      "text/plain": "0.068"
     },
     "execution_count": 11,
     "metadata": {},
     "output_type": "execute_result"
    }
   ],
   "source": [
    "from ExpGSMM.utils.utils import get_element_in_biomass\n",
    "\n",
    "get_element_in_biomass(dmodel, \"P\", 'e_ActiveBiomass__cytop')"
   ],
   "metadata": {
    "collapsed": false,
    "ExecuteTime": {
     "start_time": "2023-04-26T16:04:52.634511Z",
     "end_time": "2023-04-26T16:04:52.674232Z"
    }
   }
  },
  {
   "cell_type": "code",
   "execution_count": 18,
   "outputs": [
    {
     "data": {
      "text/plain": "1.2947032098"
     },
     "execution_count": 18,
     "metadata": {},
     "output_type": "execute_result"
    }
   ],
   "source": [
    "4.18/100*Metabolite(formula='P').formula_weight"
   ],
   "metadata": {
    "collapsed": false,
    "ExecuteTime": {
     "start_time": "2023-04-26T16:22:17.236074Z",
     "end_time": "2023-04-26T16:22:17.251458Z"
    }
   }
  },
  {
   "cell_type": "code",
   "execution_count": 19,
   "outputs": [
    {
     "data": {
      "text/plain": "0.037168513199999996"
     },
     "execution_count": 19,
     "metadata": {},
     "output_type": "execute_result"
    }
   ],
   "source": [
    "0.12/100*Metabolite(formula='P').formula_weight"
   ],
   "metadata": {
    "collapsed": false,
    "ExecuteTime": {
     "start_time": "2023-04-26T16:22:30.189527Z",
     "end_time": "2023-04-26T16:22:30.201432Z"
    }
   }
  },
  {
   "cell_type": "code",
   "execution_count": 30,
   "outputs": [
    {
     "data": {
      "text/plain": "0.07270522129382995"
     },
     "execution_count": 30,
     "metadata": {},
     "output_type": "execute_result"
    }
   ],
   "source": [
    "1- 0.295 * (0.107688/0.137035) / 0.25"
   ],
   "metadata": {
    "collapsed": false,
    "ExecuteTime": {
     "start_time": "2023-04-26T17:20:57.152103Z",
     "end_time": "2023-04-26T17:20:57.174206Z"
    }
   }
  },
  {
   "cell_type": "code",
   "execution_count": 33,
   "outputs": [
    {
     "name": "stderr",
     "output_type": "stream",
     "text": [
      "Could not identify an external compartment by name and choosing one with the most boundary reactions. That might be complete nonsense or change suddenly. Consider renaming your compartments using `Model.compartments` to fix this.\n",
      "Could not identify an external compartment by name and choosing one with the most boundary reactions. That might be complete nonsense or change suddenly. Consider renaming your compartments using `Model.compartments` to fix this.\n"
     ]
    },
    {
     "name": "stdout",
     "output_type": "stream",
     "text": [
      "Runnning pFBA\n"
     ]
    },
    {
     "data": {
      "text/plain": "<cobra.summary.model_summary.ModelSummary at 0x23cdf72f460>",
      "text/html": "<h3>Objective</h3><p>1.0 e_ActiveBiomass__cytop = 0.18193277555723877</p><h4>Uptake</h4><table border=\"1\" class=\"dataframe\">\n  <thead>\n    <tr style=\"text-align: right;\">\n      <th>Metabolite</th>\n      <th>Reaction</th>\n      <th>Flux</th>\n      <th>C-Number</th>\n      <th>C-Flux</th>\n    </tr>\n  </thead>\n  <tbody>\n    <tr>\n      <td>C00404__vacu</td>\n      <td>DM_C00404__vacu</td>\n      <td>0.002139</td>\n      <td>0</td>\n      <td>0.00%</td>\n    </tr>\n    <tr>\n      <td>C00001__extr</td>\n      <td>EX_C00001__dra</td>\n      <td>5.861</td>\n      <td>0</td>\n      <td>0.00%</td>\n    </tr>\n    <tr>\n      <td>C00011__extr</td>\n      <td>EX_C00011__dra</td>\n      <td>8.21</td>\n      <td>1</td>\n      <td>99.58%</td>\n    </tr>\n    <tr>\n      <td>C00059__extr</td>\n      <td>EX_C00059__dra</td>\n      <td>0.03554</td>\n      <td>0</td>\n      <td>0.00%</td>\n    </tr>\n    <tr>\n      <td>C00080__extr</td>\n      <td>EX_C00080__dra</td>\n      <td>0.03671</td>\n      <td>0</td>\n      <td>0.00%</td>\n    </tr>\n    <tr>\n      <td>C00120__extr</td>\n      <td>EX_C00120__dra</td>\n      <td>0.001289</td>\n      <td>10</td>\n      <td>0.16%</td>\n    </tr>\n    <tr>\n      <td>C00205__extr</td>\n      <td>EX_C00205__dra</td>\n      <td>629.9</td>\n      <td>0</td>\n      <td>0.00%</td>\n    </tr>\n    <tr>\n      <td>C00244__extr</td>\n      <td>EX_C00244__dra</td>\n      <td>0.8778</td>\n      <td>0</td>\n      <td>0.00%</td>\n    </tr>\n    <tr>\n      <td>C00378__extr</td>\n      <td>EX_C00378__dra</td>\n      <td>0.0007412</td>\n      <td>12</td>\n      <td>0.11%</td>\n    </tr>\n    <tr>\n      <td>C02823__extr</td>\n      <td>EX_C02823__dra</td>\n      <td>0.0001986</td>\n      <td>63</td>\n      <td>0.15%</td>\n    </tr>\n    <tr>\n      <td>C14818__extr</td>\n      <td>EX_C14818__dra</td>\n      <td>0.004079</td>\n      <td>0</td>\n      <td>0.00%</td>\n    </tr>\n  </tbody>\n</table><h4>Secretion</h4><table border=\"1\" class=\"dataframe\">\n  <thead>\n    <tr style=\"text-align: right;\">\n      <th>Metabolite</th>\n      <th>Reaction</th>\n      <th>Flux</th>\n      <th>C-Number</th>\n      <th>C-Flux</th>\n    </tr>\n  </thead>\n  <tbody>\n    <tr>\n      <td>photon298__cytop</td>\n      <td>DM_photon298__cytop</td>\n      <td>-0.14</td>\n      <td>0</td>\n      <td>0.00%</td>\n    </tr>\n    <tr>\n      <td>photon438__lum</td>\n      <td>DM_photon438__lum</td>\n      <td>-20.35</td>\n      <td>0</td>\n      <td>0.00%</td>\n    </tr>\n    <tr>\n      <td>photon450__chlo</td>\n      <td>DM_photon450__chlo</td>\n      <td>-17.23</td>\n      <td>0</td>\n      <td>0.00%</td>\n    </tr>\n    <tr>\n      <td>photon490__chlo</td>\n      <td>DM_photon490__chlo</td>\n      <td>-95.65</td>\n      <td>0</td>\n      <td>0.00%</td>\n    </tr>\n    <tr>\n      <td>photon646__chlo</td>\n      <td>DM_photon646__chlo</td>\n      <td>-161.8</td>\n      <td>0</td>\n      <td>0.00%</td>\n    </tr>\n    <tr>\n      <td>C00007__extr</td>\n      <td>EX_C00007__dra</td>\n      <td>-11.16</td>\n      <td>0</td>\n      <td>0.00%</td>\n    </tr>\n    <tr>\n      <td>C00177__extr</td>\n      <td>EX_C00177__dra</td>\n      <td>-0.0001986</td>\n      <td>1</td>\n      <td>100.00%</td>\n    </tr>\n  </tbody>\n</table>"
     },
     "execution_count": 33,
     "metadata": {},
     "output_type": "execute_result"
    }
   ],
   "source": [
    "dmodel.exchanges.EX_C00009__dra.bounds = (0, 1000)\n",
    "dmodel.demands.DM_C00404__vacu.bounds = (-0.005, 1000)\n",
    "dmodel.summary()"
   ],
   "metadata": {
    "collapsed": false,
    "ExecuteTime": {
     "start_time": "2023-04-26T18:11:02.471498Z",
     "end_time": "2023-04-26T18:11:05.348040Z"
    }
   }
  },
  {
   "cell_type": "code",
   "execution_count": 45,
   "outputs": [
    {
     "data": {
      "text/plain": "<Reaction e_ActiveBiomass__cytop at 0x1dc1ba5a910>",
      "text/html": "\n        <table>\n            <tr>\n                <td><strong>Reaction identifier</strong></td><td>e_ActiveBiomass__cytop</td>\n            </tr><tr>\n                <td><strong>Name</strong></td><td>39.2 ATP (cytop) + 39.2 H2O (cytop) + 0 e-Sterol (cytop) + 0.2 e-Protein (cytop) + 0 e-DNA...</td>\n            </tr><tr>\n                <td><strong>Memory address</strong></td>\n                <td>0x01dc1ba5a910</td>\n            </tr><tr>\n                <td><strong>Stoichiometry</strong></td>\n                <td>\n                    <p style='text-align:right'>39.24 C00001__cytop + 39.24 C00002__cytop + 0.01248 e_Acid__cytop + 0.36847 e_Carbohydrate__cytop + 0.04311 e_Cofactor__cytop + 0.01863 e_DNA__cytop + 0.18237 e_Lipid__cytop + 0.03204...</p>\n                    <p style='text-align:right'>39.24 H2O + 39.24 ATP + 0.01248 e-Acid + 0.36847 e-Carbohydrate + 0.04311 e-Cofactor + 0.01863 e-DNA + 0.18237 e-Lipid + 0.03204 e-Pigment + 0.30308 e-Protein + 0.03726 e-RNA + 0.00257 e-Sterol -->...</p>\n                </td>\n            </tr><tr>\n                <td><strong>GPR</strong></td><td></td>\n            </tr><tr>\n                <td><strong>Lower bound</strong></td><td>0.0</td>\n            </tr><tr>\n                <td><strong>Upper bound</strong></td><td>10000.0</td>\n            </tr>\n        </table>\n        "
     },
     "execution_count": 45,
     "metadata": {},
     "output_type": "execute_result"
    }
   ],
   "source": [
    "dmodel.reactions.e_ActiveBiomass__cytop"
   ],
   "metadata": {
    "collapsed": false,
    "ExecuteTime": {
     "start_time": "2023-04-13T15:49:36.214783Z",
     "end_time": "2023-04-13T15:49:36.226926Z"
    }
   }
  },
  {
   "cell_type": "code",
   "execution_count": 66,
   "outputs": [
    {
     "data": {
      "text/plain": "<cobra.summary.metabolite_summary.MetaboliteSummary at 0x1dc131c6b80>",
      "text/html": "<h3>C00009__cytop</h3><p>HO4P</p><h4>Producing Reactions</h4><table border=\"1\" class=\"dataframe\">\n  <thead>\n    <tr style=\"text-align: right;\">\n      <th>Percent</th>\n      <th>Flux</th>\n      <th>Reaction</th>\n      <th>Definition</th>\n    </tr>\n  </thead>\n  <tbody>\n    <tr>\n      <td>22.48%</td>\n      <td>2.85</td>\n      <td>ATPm__cytop</td>\n      <td>C00001__cytop + C00002__cytop --&gt; C00008__cytop + C00009__cytop + C00080__cytop</td>\n    </tr>\n    <tr>\n      <td>20.63%</td>\n      <td>2.615</td>\n      <td>R00004__cytop</td>\n      <td>C00001__cytop + C00013__cytop --&gt; 2.0 C00009__cytop + C00080__cytop</td>\n    </tr>\n    <tr>\n      <td>0.00%</td>\n      <td>0.0001169</td>\n      <td>R00138__cytop</td>\n      <td>C00001__cytop + C00536__cytop --&gt; C00009__cytop + C00013__cytop</td>\n    </tr>\n    <tr>\n      <td>0.13%</td>\n      <td>0.01587</td>\n      <td>R00177__cytop</td>\n      <td>C00001__cytop + C00002__cytop + C00073__cytop --&gt; C00009__cytop + C00013__cytop + C00019__cytop + C00080__cytop</td>\n    </tr>\n    <tr>\n      <td>0.18%</td>\n      <td>0.02266</td>\n      <td>R00253__cytop</td>\n      <td>C00002__cytop + C00014__cytop + C00025__cytop --&gt; C00008__cytop + C00009__cytop + C00064__cytop + C00080__cytop</td>\n    </tr>\n    <tr>\n      <td>5.60%</td>\n      <td>0.7094</td>\n      <td>R00345__cytop</td>\n      <td>C00001__cytop + C00011__cytop + C00074__cytop --&gt; C00009__cytop + C00036__cytop + C00080__cytop</td>\n    </tr>\n    <tr>\n      <td>0.03%</td>\n      <td>0.004017</td>\n      <td>R00571__cytop</td>\n      <td>C00002__cytop + C00014__cytop + C00075__cytop --&gt; C00008__cytop + C00009__cytop + C00063__cytop + 2.0 C00080__cytop</td>\n    </tr>\n    <tr>\n      <td>0.15%</td>\n      <td>0.01954</td>\n      <td>R00742__cytop</td>\n      <td>C00002__cytop + C00024__cytop + C00288__cytop --&gt; C00008__cytop + C00009__cytop + C00080__cytop + C00083__cytop</td>\n    </tr>\n    <tr>\n      <td>0.00%</td>\n      <td>0.0003917</td>\n      <td>R00943__cytop</td>\n      <td>C00002__cytop + C00058__cytop + C00101__cytop --&gt; C00008__cytop + C00009__cytop + C00234__cytop</td>\n    </tr>\n    <tr>\n      <td>0.01%</td>\n      <td>0.0007284</td>\n      <td>R01187__cytop</td>\n      <td>C00001__cytop + C04006__cytop --&gt; C00009__cytop + C00137__cytop</td>\n    </tr>\n    <tr>\n      <td>0.03%</td>\n      <td>0.0037</td>\n      <td>R01561__cytop</td>\n      <td>C00009__cytop + C00212__cytop &lt;=&gt; C00147__cytop + C00620__cytop</td>\n    </tr>\n    <tr>\n      <td>0.17%</td>\n      <td>0.02136</td>\n      <td>R03313__cytop</td>\n      <td>C00005__cytop + C00080__cytop + C03287__cytop --&gt; C00006__cytop + C00009__cytop + C01165__cytop</td>\n    </tr>\n    <tr>\n      <td>0.02%</td>\n      <td>0.002424</td>\n      <td>R04620__cytop</td>\n      <td>3.0 C00001__cytop + C04895__cytop --&gt; 3.0 C00009__cytop + 2.0 C00080__cytop + C04874__cytop</td>\n    </tr>\n    <tr>\n      <td>5.35%</td>\n      <td>0.6782</td>\n      <td>R04780__cytop</td>\n      <td>C00001__cytop + C05378__cytop --&gt; C00009__cytop + C05345__cytop</td>\n    </tr>\n    <tr>\n      <td>0.02%</td>\n      <td>0.00191</td>\n      <td>R07395__cytop</td>\n      <td>C00001__cytop + C15650__cytop --&gt; C00009__cytop + C15606__cytop</td>\n    </tr>\n    <tr>\n      <td>0.01%</td>\n      <td>0.001054</td>\n      <td>R07674__cytop</td>\n      <td>C00001__cytop + C15926__cytop --&gt; C00009__cytop + C01825__cytop</td>\n    </tr>\n    <tr>\n      <td>0.01%</td>\n      <td>0.0007532</td>\n      <td>R10089__cytop</td>\n      <td>C00064__cytop + C00117__cytop + C00118__cytop --&gt; 3.0 C00001__cytop + C00009__cytop + C00018__cytop + C00025__cytop + C00080__cytop</td>\n    </tr>\n    <tr>\n      <td>0.25%</td>\n      <td>0.03147</td>\n      <td>TO1000009_CYTMEM__plas</td>\n      <td>C00009__extr + C00080__extr --&gt; C00009__cytop + C00080__cytop</td>\n    </tr>\n    <tr>\n      <td>2.89%</td>\n      <td>0.3657</td>\n      <td>TR2000079_CHLOMEM__chlomem</td>\n      <td>C00009__chlo + C00668__cytop --&gt; C00009__cytop + C00668__chlo</td>\n    </tr>\n    <tr>\n      <td>8.42%</td>\n      <td>1.067</td>\n      <td>TZ2900024_CHLOMEM__chlomem</td>\n      <td>C00002__cytop + C00008__chlo + C00009__chlo --&gt; C00002__chlo + C00008__cytop + C00009__cytop</td>\n    </tr>\n    <tr>\n      <td>0.05%</td>\n      <td>0.006013</td>\n      <td>T_ABCFA120tx__permem</td>\n      <td>C00001__cytop + C00002__cytop + C02679__cytop --&gt; C00008__cytop + C00009__cytop + C00080__cytop + C02679__pero</td>\n    </tr>\n    <tr>\n      <td>0.01%</td>\n      <td>0.001121</td>\n      <td>T_ABCFACOA182th__chlomem</td>\n      <td>C00001__cytop + C00002__cytop + C02050__cytop --&gt; C00008__cytop + C00009__cytop + C00080__cytop + C02050__chlo</td>\n    </tr>\n    <tr>\n      <td>0.43%</td>\n      <td>0.05455</td>\n      <td>T_PIter__ermem</td>\n      <td>C00009__cytop &lt;=&gt; C00009__er</td>\n    </tr>\n    <tr>\n      <td>33.15%</td>\n      <td>4.202</td>\n      <td>e_ActiveBiomass__cytop</td>\n      <td>39.24 C00001__cytop + 39.24 C00002__cytop + 0.01248 e_Acid__cytop + 0.36847 e_Carbohydrate__cytop + 0.04311 e_Cofactor__cytop + 0.01863 e_DNA__cytop + 0.18237 e_Lipid__cytop + 0.03204 e_Pigment__chlo + 0.30308 e_Protein__cytop + 0.03726 e_RNA__cytop + 0.00257 e_Sterol__cytop --&gt; 39.24 C00008__cytop + 39.24 C00009__cytop + 39.24 C00080__cytop</td>\n    </tr>\n  </tbody>\n</table><h4>Consuming Reactions</h4><table border=\"1\" class=\"dataframe\">\n  <thead>\n    <tr style=\"text-align: right;\">\n      <th>Percent</th>\n      <th>Flux</th>\n      <th>Reaction</th>\n      <th>Definition</th>\n    </tr>\n  </thead>\n  <tbody>\n    <tr>\n      <td>78.49%</td>\n      <td>-9.949</td>\n      <td>TO1000009_MITMEM__mitmem</td>\n      <td>C00009__cytop + C00080__cytop --&gt; C00009__mito + C00080__mito</td>\n    </tr>\n    <tr>\n      <td>0.24%</td>\n      <td>-0.03086</td>\n      <td>TO1100009_MITMEM__mitmem</td>\n      <td>C00009__cytop + C01330__cytop --&gt; C00009__mito + C01330__mito</td>\n    </tr>\n    <tr>\n      <td>2.39%</td>\n      <td>-0.3035</td>\n      <td>TR2000009_CYTMEM__mitmem</td>\n      <td>C00009__cytop --&gt; C00009__mito</td>\n    </tr>\n    <tr>\n      <td>7.92%</td>\n      <td>-1.004</td>\n      <td>TR2000078_CHLOMEM__chlomem</td>\n      <td>C00009__cytop + C00111__chlo --&gt; C00009__chlo + C00111__cytop</td>\n    </tr>\n    <tr>\n      <td>5.60%</td>\n      <td>-0.7094</td>\n      <td>TR2000081_CHLOMEM__chlomem</td>\n      <td>C00009__cytop + C00197__chlo --&gt; C00009__chlo + C00197__cytop</td>\n    </tr>\n    <tr>\n      <td>5.36%</td>\n      <td>-0.679</td>\n      <td>TR2000082_CHLOMEM__chlomem</td>\n      <td>C00009__cytop + C00118__chlo --&gt; C00009__chlo + C00118__cytop</td>\n    </tr>\n  </tbody>\n</table>"
     },
     "execution_count": 66,
     "metadata": {},
     "output_type": "execute_result"
    }
   ],
   "source": [
    "dmodel.metabolites.C00009__cytop.summary()"
   ],
   "metadata": {
    "collapsed": false,
    "ExecuteTime": {
     "start_time": "2023-04-13T17:09:14.604829Z",
     "end_time": "2023-04-13T17:09:17.881193Z"
    }
   }
  },
  {
   "cell_type": "code",
   "execution_count": 60,
   "outputs": [],
   "source": [
    "dmodel.exchanges.EX_C00011__dra.lower_bound = -8.21\n",
    "dmodel.demands.DM_C00369__chlo.bounds = (0.001219, 1000)\n",
    "dmodel.demands.DM_C00116__cytop.bounds = (0.3252, 1000)\n",
    "dmodel.demands.DM_C00422__lip.bounds = (0.002879, 1000)\n",
    "dmodel.demands.DM_C02094__chlo.bounds = (0.0007998, 1000)\n",
    "dmodel.demands.DM_C05306__chlo.bounds = (0.0001095, 1000)\n",
    "dmodel.demands.DM_C05307__chlo.bounds = (3.683E-05, 1000)"
   ],
   "metadata": {
    "collapsed": false,
    "ExecuteTime": {
     "start_time": "2023-04-13T15:51:03.657323Z",
     "end_time": "2023-04-13T15:51:03.808756Z"
    }
   }
  },
  {
   "cell_type": "code",
   "execution_count": 62,
   "outputs": [
    {
     "data": {
      "text/plain": "0.10707593093435432"
     },
     "execution_count": 62,
     "metadata": {},
     "output_type": "execute_result"
    }
   ],
   "source": [
    "sol = dmodel.optimize()\n",
    "sol.objective_value"
   ],
   "metadata": {
    "collapsed": false,
    "ExecuteTime": {
     "start_time": "2023-04-13T15:51:10.737656Z",
     "end_time": "2023-04-13T15:51:10.779746Z"
    }
   }
  },
  {
   "cell_type": "code",
   "execution_count": 59,
   "outputs": [
    {
     "data": {
      "text/plain": "-8.813"
     },
     "execution_count": 59,
     "metadata": {},
     "output_type": "execute_result"
    }
   ],
   "source": [
    "dmodel.exchanges.EX_C00011__dra.lower_bound"
   ],
   "metadata": {
    "collapsed": false,
    "ExecuteTime": {
     "start_time": "2023-04-13T15:50:57.646383Z",
     "end_time": "2023-04-13T15:50:57.657168Z"
    }
   }
  },
  {
   "cell_type": "code",
   "execution_count": 63,
   "outputs": [
    {
     "data": {
      "text/plain": "0.19950589299205432"
     },
     "execution_count": 63,
     "metadata": {},
     "output_type": "execute_result"
    }
   ],
   "source": [
    "sol['e_ActiveBiomass__cytop'] + sol['DM_C00369__chlo']*48660.20/1000 + sol['DM_C00116__cytop']*92.09/1000 + sol['DM_C00422__lip']*904.78/1000 + sol['DM_C02094__chlo']*536.87/1000 + sol['DM_C05306__chlo']*893.49/1000 + sol['DM_C05307__chlo']*907.49/1000"
   ],
   "metadata": {
    "collapsed": false,
    "ExecuteTime": {
     "start_time": "2023-04-13T15:51:12.617509Z",
     "end_time": "2023-04-13T15:51:12.654388Z"
    }
   }
  },
  {
   "cell_type": "code",
   "execution_count": 65,
   "outputs": [
    {
     "name": "stdout",
     "output_type": "stream",
     "text": [
      "Runnning pFBA\n"
     ]
    },
    {
     "data": {
      "text/plain": "<cobra.summary.model_summary.ModelSummary at 0x1dc1d24f1c0>",
      "text/html": "<h3>Objective</h3><p>1.0 e_ActiveBiomass__cytop = 0.10707593093435432</p><h4>Uptake</h4><table border=\"1\" class=\"dataframe\">\n  <thead>\n    <tr style=\"text-align: right;\">\n      <th>Metabolite</th>\n      <th>Reaction</th>\n      <th>Flux</th>\n      <th>C-Number</th>\n      <th>C-Flux</th>\n    </tr>\n  </thead>\n  <tbody>\n    <tr>\n      <td>C00001__extr</td>\n      <td>EX_C00001__dra</td>\n      <td>6.744</td>\n      <td>0</td>\n      <td>0.00%</td>\n    </tr>\n    <tr>\n      <td>C00009__extr</td>\n      <td>EX_C00009__dra</td>\n      <td>0.03147</td>\n      <td>0</td>\n      <td>0.00%</td>\n    </tr>\n    <tr>\n      <td>C00011__extr</td>\n      <td>EX_C00011__dra</td>\n      <td>8.21</td>\n      <td>1</td>\n      <td>99.75%</td>\n    </tr>\n    <tr>\n      <td>C00059__extr</td>\n      <td>EX_C00059__dra</td>\n      <td>0.02302</td>\n      <td>0</td>\n      <td>0.00%</td>\n    </tr>\n    <tr>\n      <td>C00080__extr</td>\n      <td>EX_C00080__dra</td>\n      <td>0.05517</td>\n      <td>0</td>\n      <td>0.00%</td>\n    </tr>\n    <tr>\n      <td>C00120__extr</td>\n      <td>EX_C00120__dra</td>\n      <td>0.0007589</td>\n      <td>10</td>\n      <td>0.09%</td>\n    </tr>\n    <tr>\n      <td>C00205__extr</td>\n      <td>EX_C00205__dra</td>\n      <td>571.1</td>\n      <td>0</td>\n      <td>0.00%</td>\n    </tr>\n    <tr>\n      <td>C00244__extr</td>\n      <td>EX_C00244__dra</td>\n      <td>0.5172</td>\n      <td>0</td>\n      <td>0.00%</td>\n    </tr>\n    <tr>\n      <td>C00305__extr</td>\n      <td>EX_C00305__dra</td>\n      <td>0.0001463</td>\n      <td>0</td>\n      <td>0.00%</td>\n    </tr>\n    <tr>\n      <td>C00378__extr</td>\n      <td>EX_C00378__dra</td>\n      <td>0.0004362</td>\n      <td>12</td>\n      <td>0.06%</td>\n    </tr>\n    <tr>\n      <td>C02823__extr</td>\n      <td>EX_C02823__dra</td>\n      <td>0.0001169</td>\n      <td>63</td>\n      <td>0.09%</td>\n    </tr>\n    <tr>\n      <td>C14818__extr</td>\n      <td>EX_C14818__dra</td>\n      <td>0.004501</td>\n      <td>0</td>\n      <td>0.00%</td>\n    </tr>\n  </tbody>\n</table><h4>Secretion</h4><table border=\"1\" class=\"dataframe\">\n  <thead>\n    <tr style=\"text-align: right;\">\n      <th>Metabolite</th>\n      <th>Reaction</th>\n      <th>Flux</th>\n      <th>C-Number</th>\n      <th>C-Flux</th>\n    </tr>\n  </thead>\n  <tbody>\n    <tr>\n      <td>C00116__cytop</td>\n      <td>DM_C00116__cytop</td>\n      <td>-0.3252</td>\n      <td>3</td>\n      <td>30.23%</td>\n    </tr>\n    <tr>\n      <td>C00369__chlo</td>\n      <td>DM_C00369__chlo</td>\n      <td>-0.001219</td>\n      <td>1800</td>\n      <td>67.99%</td>\n    </tr>\n    <tr>\n      <td>C00422__lip</td>\n      <td>DM_C00422__lip</td>\n      <td>-0.002879</td>\n      <td>6</td>\n      <td>0.54%</td>\n    </tr>\n    <tr>\n      <td>C02094__chlo</td>\n      <td>DM_C02094__chlo</td>\n      <td>-0.0007998</td>\n      <td>40</td>\n      <td>0.99%</td>\n    </tr>\n    <tr>\n      <td>C05306__chlo</td>\n      <td>DM_C05306__chlo</td>\n      <td>-0.0001095</td>\n      <td>55</td>\n      <td>0.19%</td>\n    </tr>\n    <tr>\n      <td>C05307__chlo</td>\n      <td>DM_C05307__chlo</td>\n      <td>-3.683E-05</td>\n      <td>55</td>\n      <td>0.06%</td>\n    </tr>\n    <tr>\n      <td>photon298__cytop</td>\n      <td>DM_photon298__cytop</td>\n      <td>-0.1269</td>\n      <td>0</td>\n      <td>0.00%</td>\n    </tr>\n    <tr>\n      <td>photon450__chlo</td>\n      <td>DM_photon450__chlo</td>\n      <td>-15.62</td>\n      <td>0</td>\n      <td>0.00%</td>\n    </tr>\n    <tr>\n      <td>photon490__chlo</td>\n      <td>DM_photon490__chlo</td>\n      <td>-86.72</td>\n      <td>0</td>\n      <td>0.00%</td>\n    </tr>\n    <tr>\n      <td>photon646__chlo</td>\n      <td>DM_photon646__chlo</td>\n      <td>-146.7</td>\n      <td>0</td>\n      <td>0.00%</td>\n    </tr>\n    <tr>\n      <td>photon673__lum</td>\n      <td>DM_photon673__lum</td>\n      <td>-18.73</td>\n      <td>0</td>\n      <td>0.00%</td>\n    </tr>\n    <tr>\n      <td>C00007__extr</td>\n      <td>EX_C00007__dra</td>\n      <td>-10.2</td>\n      <td>0</td>\n      <td>0.00%</td>\n    </tr>\n    <tr>\n      <td>C00177__extr</td>\n      <td>EX_C00177__dra</td>\n      <td>-0.0001169</td>\n      <td>1</td>\n      <td>0.00%</td>\n    </tr>\n  </tbody>\n</table>"
     },
     "execution_count": 65,
     "metadata": {},
     "output_type": "execute_result"
    }
   ],
   "source": [
    "dmodel.summary()"
   ],
   "metadata": {
    "collapsed": false,
    "ExecuteTime": {
     "start_time": "2023-04-13T16:25:14.850697Z",
     "end_time": "2023-04-13T16:25:18.186301Z"
    }
   }
  },
  {
   "cell_type": "code",
   "execution_count": 7,
   "outputs": [
    {
     "data": {
      "text/plain": "0.030850355562195807"
     },
     "execution_count": 7,
     "metadata": {},
     "output_type": "execute_result"
    }
   ],
   "source": [
    "0.158*model.optimize().objective_value"
   ],
   "metadata": {
    "collapsed": false,
    "ExecuteTime": {
     "start_time": "2023-04-11T16:05:04.937984Z",
     "end_time": "2023-04-11T16:05:04.976630Z"
    }
   }
  },
  {
   "cell_type": "code",
   "execution_count": 5,
   "outputs": [
    {
     "data": {
      "text/plain": "-0.030799368290332287"
     },
     "execution_count": 5,
     "metadata": {},
     "output_type": "execute_result"
    }
   ],
   "source": [
    "model.optimize()['EX_C00009__dra']"
   ],
   "metadata": {
    "collapsed": false,
    "ExecuteTime": {
     "start_time": "2023-04-11T16:04:45.362744Z",
     "end_time": "2023-04-11T16:04:45.402809Z"
    }
   }
  },
  {
   "cell_type": "code",
   "execution_count": 8,
   "outputs": [
    {
     "data": {
      "text/plain": "<cobra.summary.metabolite_summary.MetaboliteSummary at 0x1dc1241fd90>",
      "text/html": "<h3>C05307__chlo</h3><p>C55H70MgN4O6</p><h4>Producing Reactions</h4><table border=\"1\" class=\"dataframe\">\n  <thead>\n    <tr style=\"text-align: right;\">\n      <th>Percent</th>\n      <th>Flux</th>\n      <th>Reaction</th>\n      <th>Definition</th>\n    </tr>\n  </thead>\n  <tbody>\n    <tr>\n      <td>100.00%</td>\n      <td>3.683E-05</td>\n      <td>R09067__chlo</td>\n      <td>C00080__chlo + C05427__chlo + C16541__chlo --&gt; C00013__chlo + C05307__chlo</td>\n    </tr>\n  </tbody>\n</table><h4>Consuming Reactions</h4><table border=\"1\" class=\"dataframe\">\n  <thead>\n    <tr style=\"text-align: right;\">\n      <th>Percent</th>\n      <th>Flux</th>\n      <th>Reaction</th>\n      <th>Definition</th>\n    </tr>\n  </thead>\n  <tbody>\n    <tr>\n      <td>100.00%</td>\n      <td>-3.683E-05</td>\n      <td>e_Pigment__chlo</td>\n      <td>0.20048 C02094__chlo + 0.0274349 C05306__chlo + 0.00923223 C05307__chlo + 0.000667831 C05432__chlo + 0.020883 C05433__chlo + 0.01342 C06098__chlo + 0.00118074 C08579__chlo + 0.135411 C08591__chlo + 0.0764899 C08601__chlo + 0.00259637 C08606__chlo + 0.867625 C08614__chlo + 0.369372 C20484__chlo --&gt; e_Pigment__chlo</td>\n    </tr>\n  </tbody>\n</table>"
     },
     "execution_count": 8,
     "metadata": {},
     "output_type": "execute_result"
    }
   ],
   "source": [
    "model.metabolites.C05307__chlo.summary()"
   ],
   "metadata": {
    "collapsed": false,
    "ExecuteTime": {
     "start_time": "2023-04-13T14:46:37.530996Z",
     "end_time": "2023-04-13T14:46:44.652414Z"
    }
   }
  },
  {
   "cell_type": "code",
   "execution_count": 8,
   "outputs": [
    {
     "name": "stdout",
     "output_type": "stream",
     "text": [
      "Runnning pFBA\n"
     ]
    },
    {
     "data": {
      "text/plain": "<cobra.summary.model_summary.ModelSummary at 0x2e46a4cb790>",
      "text/html": "<h3>Objective</h3><p>1.0 e_ActiveBiomass__cytop = 0.19673002745580706</p><h4>Uptake</h4><table border=\"1\" class=\"dataframe\">\n  <thead>\n    <tr style=\"text-align: right;\">\n      <th>Metabolite</th>\n      <th>Reaction</th>\n      <th>Flux</th>\n      <th>C-Number</th>\n      <th>C-Flux</th>\n    </tr>\n  </thead>\n  <tbody>\n    <tr>\n      <td>C00001__extr</td>\n      <td>EX_C00001__dra</td>\n      <td>3.386</td>\n      <td>0</td>\n      <td>0.00%</td>\n    </tr>\n    <tr>\n      <td>C00009__extr</td>\n      <td>EX_C00009__dra</td>\n      <td>0.031</td>\n      <td>0</td>\n      <td>0.00%</td>\n    </tr>\n    <tr>\n      <td>C00011__extr</td>\n      <td>EX_C00011__dra</td>\n      <td>4.764</td>\n      <td>1</td>\n      <td>99.59%</td>\n    </tr>\n    <tr>\n      <td>C00059__extr</td>\n      <td>EX_C00059__dra</td>\n      <td>0.02062</td>\n      <td>0</td>\n      <td>0.00%</td>\n    </tr>\n    <tr>\n      <td>C00080__extr</td>\n      <td>EX_C00080__dra</td>\n      <td>0.0523</td>\n      <td>0</td>\n      <td>0.00%</td>\n    </tr>\n    <tr>\n      <td>C00120__extr</td>\n      <td>EX_C00120__dra</td>\n      <td>0.0007447</td>\n      <td>10</td>\n      <td>0.16%</td>\n    </tr>\n    <tr>\n      <td>C00205__extr</td>\n      <td>EX_C00205__dra</td>\n      <td>392.6</td>\n      <td>0</td>\n      <td>0.00%</td>\n    </tr>\n    <tr>\n      <td>C00244__extr</td>\n      <td>EX_C00244__dra</td>\n      <td>0.5095</td>\n      <td>0</td>\n      <td>0.00%</td>\n    </tr>\n    <tr>\n      <td>C00378__extr</td>\n      <td>EX_C00378__dra</td>\n      <td>0.0004278</td>\n      <td>12</td>\n      <td>0.11%</td>\n    </tr>\n    <tr>\n      <td>C02823__extr</td>\n      <td>EX_C02823__dra</td>\n      <td>0.0001152</td>\n      <td>63</td>\n      <td>0.15%</td>\n    </tr>\n    <tr>\n      <td>C14818__extr</td>\n      <td>EX_C14818__dra</td>\n      <td>0.002367</td>\n      <td>0</td>\n      <td>0.00%</td>\n    </tr>\n  </tbody>\n</table><h4>Secretion</h4><table border=\"1\" class=\"dataframe\">\n  <thead>\n    <tr style=\"text-align: right;\">\n      <th>Metabolite</th>\n      <th>Reaction</th>\n      <th>Flux</th>\n      <th>C-Number</th>\n      <th>C-Flux</th>\n    </tr>\n  </thead>\n  <tbody>\n    <tr>\n      <td>photon298__cytop</td>\n      <td>DM_photon298__cytop</td>\n      <td>-0.08724</td>\n      <td>0</td>\n      <td>0.00%</td>\n    </tr>\n    <tr>\n      <td>photon450__chlo</td>\n      <td>DM_photon450__chlo</td>\n      <td>-10.74</td>\n      <td>0</td>\n      <td>0.00%</td>\n    </tr>\n    <tr>\n      <td>photon490__chlo</td>\n      <td>DM_photon490__chlo</td>\n      <td>-59.62</td>\n      <td>0</td>\n      <td>0.00%</td>\n    </tr>\n    <tr>\n      <td>photon646__chlo</td>\n      <td>DM_photon646__chlo</td>\n      <td>-100.8</td>\n      <td>0</td>\n      <td>0.00%</td>\n    </tr>\n    <tr>\n      <td>photon673__lum</td>\n      <td>DM_photon673__lum</td>\n      <td>-12.71</td>\n      <td>0</td>\n      <td>0.00%</td>\n    </tr>\n    <tr>\n      <td>C00007__extr</td>\n      <td>EX_C00007__dra</td>\n      <td>-6.486</td>\n      <td>0</td>\n      <td>0.00%</td>\n    </tr>\n    <tr>\n      <td>C00177__extr</td>\n      <td>EX_C00177__dra</td>\n      <td>-0.0001152</td>\n      <td>1</td>\n      <td>100.00%</td>\n    </tr>\n  </tbody>\n</table>"
     },
     "execution_count": 8,
     "metadata": {},
     "output_type": "execute_result"
    }
   ],
   "source": [
    "model.summary()"
   ],
   "metadata": {
    "collapsed": false,
    "ExecuteTime": {
     "start_time": "2023-04-11T11:44:55.266851Z",
     "end_time": "2023-04-11T11:44:58.287776Z"
    }
   }
  },
  {
   "cell_type": "code",
   "execution_count": 5,
   "outputs": [
    {
     "name": "stdout",
     "output_type": "stream",
     "text": [
      "Loading\n",
      "\n",
      "Reactions: 4591\n",
      "Metabolites: 3658\n",
      "Genes: 1690\n",
      "Model loaded\n"
     ]
    }
   ],
   "source": [
    "data_directory = \"../data\"\n",
    "model = MyModel(join(data_directory, \"models/model_with_trials.xml\"), \"e_Biomass__cytop\")\n",
    "model.add_medium(join(data_directory, \"media.xlsx\"), \"base_medium\")\n",
    "model.setup_condition(\"default\")"
   ],
   "metadata": {
    "collapsed": false,
    "ExecuteTime": {
     "start_time": "2023-04-13T14:44:21.310706Z",
     "end_time": "2023-04-13T14:44:34.255753Z"
    }
   }
  },
  {
   "cell_type": "code",
   "execution_count": 6,
   "outputs": [
    {
     "data": {
      "text/plain": "<cobra.summary.metabolite_summary.MetaboliteSummary at 0x1dc14f9fdc0>",
      "text/html": "<h3>C02094__chlo</h3><p>C40H56</p><h4>Producing Reactions</h4><table border=\"1\" class=\"dataframe\">\n  <thead>\n    <tr style=\"text-align: right;\">\n      <th>Percent</th>\n      <th>Flux</th>\n      <th>Reaction</th>\n      <th>Definition</th>\n    </tr>\n  </thead>\n  <tbody>\n    <tr>\n      <td>100.00%</td>\n      <td>0.006688</td>\n      <td>R03824__chlo</td>\n      <td>C05435__chlo --&gt; C02094__chlo</td>\n    </tr>\n  </tbody>\n</table><h4>Consuming Reactions</h4><table border=\"1\" class=\"dataframe\">\n  <thead>\n    <tr style=\"text-align: right;\">\n      <th>Percent</th>\n      <th>Flux</th>\n      <th>Reaction</th>\n      <th>Definition</th>\n    </tr>\n  </thead>\n  <tbody>\n    <tr>\n      <td>5.14%</td>\n      <td>-0.0003439</td>\n      <td>R00032__chlo</td>\n      <td>C00007__chlo + C02094__chlo --&gt; 2.0 C00376__chlo</td>\n    </tr>\n    <tr>\n      <td>8.08%</td>\n      <td>-0.0005402</td>\n      <td>R07558__chlo</td>\n      <td>C00007__chlo + 2.0 C00080__chlo + 2.0 C00138__chlo + C02094__chlo --&gt; C00001__chlo + 2.0 C00139__chlo + C08591__chlo</td>\n    </tr>\n    <tr>\n      <td>52.78%</td>\n      <td>-0.00353</td>\n      <td>R09747__chlo</td>\n      <td>2.0 C00007__chlo + 4.0 C00080__chlo + 4.0 C00138__chlo + C02094__chlo --&gt; 2.0 C00001__chlo + 4.0 C00139__chlo + C06098__chlo</td>\n    </tr>\n    <tr>\n      <td>22.04%</td>\n      <td>-0.001474</td>\n      <td>R10282__chlo</td>\n      <td>C02094__chlo --&gt; C20484__chlo</td>\n    </tr>\n    <tr>\n      <td>11.96%</td>\n      <td>-0.0007998</td>\n      <td>e_Pigment__chlo</td>\n      <td>0.20048 C02094__chlo + 0.0274349 C05306__chlo + 0.00923223 C05307__chlo + 0.000667831 C05432__chlo + 0.020883 C05433__chlo + 0.01342 C06098__chlo + 0.00118074 C08579__chlo + 0.135411 C08591__chlo + 0.0764899 C08601__chlo + 0.00259637 C08606__chlo + 0.867625 C08614__chlo + 0.369372 C20484__chlo --&gt; e_Pigment__chlo</td>\n    </tr>\n  </tbody>\n</table>"
     },
     "execution_count": 6,
     "metadata": {},
     "output_type": "execute_result"
    }
   ],
   "source": [
    "model.metabolites.C02094__chlo.summary()"
   ],
   "metadata": {
    "collapsed": false,
    "ExecuteTime": {
     "start_time": "2023-04-13T14:44:34.251407Z",
     "end_time": "2023-04-13T14:44:42.809347Z"
    }
   }
  },
  {
   "cell_type": "code",
   "execution_count": 5,
   "outputs": [
    {
     "name": "stdout",
     "output_type": "stream",
     "text": [
      "Runnning pFBA\n"
     ]
    },
    {
     "data": {
      "text/plain": "<cobra.summary.model_summary.ModelSummary at 0x16b9687f7f0>",
      "text/html": "<h3>Objective</h3><p>1.0 e_Biomass__cytop = 0.19957008881966418</p><h4>Uptake</h4><table border=\"1\" class=\"dataframe\">\n  <thead>\n    <tr style=\"text-align: right;\">\n      <th>Metabolite</th>\n      <th>Reaction</th>\n      <th>Flux</th>\n      <th>C-Number</th>\n      <th>C-Flux</th>\n    </tr>\n  </thead>\n  <tbody>\n    <tr>\n      <td>C00001__extr</td>\n      <td>EX_C00001__dra</td>\n      <td>6.745</td>\n      <td>0</td>\n      <td>0.00%</td>\n    </tr>\n    <tr>\n      <td>C00009__extr</td>\n      <td>EX_C00009__dra</td>\n      <td>0.03146</td>\n      <td>0</td>\n      <td>0.00%</td>\n    </tr>\n    <tr>\n      <td>C00011__extr</td>\n      <td>EX_C00011__dra</td>\n      <td>8.21</td>\n      <td>1</td>\n      <td>99.76%</td>\n    </tr>\n    <tr>\n      <td>C00059__extr</td>\n      <td>EX_C00059__dra</td>\n      <td>0.02092</td>\n      <td>0</td>\n      <td>0.00%</td>\n    </tr>\n    <tr>\n      <td>C00080__extr</td>\n      <td>EX_C00080__dra</td>\n      <td>0.05307</td>\n      <td>0</td>\n      <td>0.00%</td>\n    </tr>\n    <tr>\n      <td>C00120__extr</td>\n      <td>EX_C00120__dra</td>\n      <td>0.0007555</td>\n      <td>10</td>\n      <td>0.09%</td>\n    </tr>\n    <tr>\n      <td>C00205__extr</td>\n      <td>EX_C00205__dra</td>\n      <td>591.1</td>\n      <td>0</td>\n      <td>0.00%</td>\n    </tr>\n    <tr>\n      <td>C00244__extr</td>\n      <td>EX_C00244__dra</td>\n      <td>0.5171</td>\n      <td>0</td>\n      <td>0.00%</td>\n    </tr>\n    <tr>\n      <td>C00305__extr</td>\n      <td>EX_C00305__dra</td>\n      <td>6.306E-05</td>\n      <td>0</td>\n      <td>0.00%</td>\n    </tr>\n    <tr>\n      <td>C00378__extr</td>\n      <td>EX_C00378__dra</td>\n      <td>0.000434</td>\n      <td>12</td>\n      <td>0.06%</td>\n    </tr>\n    <tr>\n      <td>C02823__extr</td>\n      <td>EX_C02823__dra</td>\n      <td>0.0001168</td>\n      <td>63</td>\n      <td>0.09%</td>\n    </tr>\n    <tr>\n      <td>C14818__extr</td>\n      <td>EX_C14818__dra</td>\n      <td>0.002401</td>\n      <td>0</td>\n      <td>0.00%</td>\n    </tr>\n  </tbody>\n</table><h4>Secretion</h4><table border=\"1\" class=\"dataframe\">\n  <thead>\n    <tr style=\"text-align: right;\">\n      <th>Metabolite</th>\n      <th>Reaction</th>\n      <th>Flux</th>\n      <th>C-Number</th>\n      <th>C-Flux</th>\n    </tr>\n  </thead>\n  <tbody>\n    <tr>\n      <td>photon298__cytop</td>\n      <td>DM_photon298__cytop</td>\n      <td>-0.1313</td>\n      <td>0</td>\n      <td>0.00%</td>\n    </tr>\n    <tr>\n      <td>photon438__lum</td>\n      <td>DM_photon438__lum</td>\n      <td>-19.41</td>\n      <td>0</td>\n      <td>0.00%</td>\n    </tr>\n    <tr>\n      <td>photon450__chlo</td>\n      <td>DM_photon450__chlo</td>\n      <td>-16.17</td>\n      <td>0</td>\n      <td>0.00%</td>\n    </tr>\n    <tr>\n      <td>photon490__chlo</td>\n      <td>DM_photon490__chlo</td>\n      <td>-89.76</td>\n      <td>0</td>\n      <td>0.00%</td>\n    </tr>\n    <tr>\n      <td>photon646__chlo</td>\n      <td>DM_photon646__chlo</td>\n      <td>-151.8</td>\n      <td>0</td>\n      <td>0.00%</td>\n    </tr>\n    <tr>\n      <td>C00007__extr</td>\n      <td>EX_C00007__dra</td>\n      <td>-10.2</td>\n      <td>0</td>\n      <td>0.00%</td>\n    </tr>\n    <tr>\n      <td>C00177__extr</td>\n      <td>EX_C00177__dra</td>\n      <td>-0.0001168</td>\n      <td>1</td>\n      <td>100.00%</td>\n    </tr>\n  </tbody>\n</table>"
     },
     "execution_count": 5,
     "metadata": {},
     "output_type": "execute_result"
    }
   ],
   "source": [
    "model.summary()"
   ],
   "metadata": {
    "collapsed": false,
    "ExecuteTime": {
     "start_time": "2023-04-08T17:01:42.507668Z",
     "end_time": "2023-04-08T17:01:46.852277Z"
    }
   }
  },
  {
   "cell_type": "code",
   "execution_count": 32,
   "outputs": [],
   "source": [
    "model.reactions.DM_C00404__vacu.bounds = (-0.01, 1000)"
   ],
   "metadata": {
    "collapsed": false
   }
  },
  {
   "cell_type": "code",
   "execution_count": 34,
   "outputs": [
    {
     "data": {
      "text/plain": "                      Flux\nH2O            1500.000000\nH+               99.382549\nPolyphosphate     2.939357",
      "text/html": "<div>\n<style scoped>\n    .dataframe tbody tr th:only-of-type {\n        vertical-align: middle;\n    }\n\n    .dataframe tbody tr th {\n        vertical-align: top;\n    }\n\n    .dataframe thead th {\n        text-align: right;\n    }\n</style>\n<table border=\"1\" class=\"dataframe\">\n  <thead>\n    <tr style=\"text-align: right;\">\n      <th></th>\n      <th>Flux</th>\n    </tr>\n  </thead>\n  <tbody>\n    <tr>\n      <th>H2O</th>\n      <td>1500.000000</td>\n    </tr>\n    <tr>\n      <th>H+</th>\n      <td>99.382549</td>\n    </tr>\n    <tr>\n      <th>Polyphosphate</th>\n      <td>2.939357</td>\n    </tr>\n  </tbody>\n</table>\n</div>"
     },
     "execution_count": 34,
     "metadata": {},
     "output_type": "execute_result"
    }
   ],
   "source": [
    "model.test_reaction(\"R03042__vacu\")"
   ],
   "metadata": {
    "collapsed": false
   }
  },
  {
   "cell_type": "code",
   "execution_count": 36,
   "outputs": [
    {
     "data": {
      "text/plain": "                  minimum   maximum\nDM_C00404__vacu -0.001315  1.559168",
      "text/html": "<div>\n<style scoped>\n    .dataframe tbody tr th:only-of-type {\n        vertical-align: middle;\n    }\n\n    .dataframe tbody tr th {\n        vertical-align: top;\n    }\n\n    .dataframe thead th {\n        text-align: right;\n    }\n</style>\n<table border=\"1\" class=\"dataframe\">\n  <thead>\n    <tr style=\"text-align: right;\">\n      <th></th>\n      <th>minimum</th>\n      <th>maximum</th>\n    </tr>\n  </thead>\n  <tbody>\n    <tr>\n      <th>DM_C00404__vacu</th>\n      <td>-0.001315</td>\n      <td>1.559168</td>\n    </tr>\n  </tbody>\n</table>\n</div>"
     },
     "execution_count": 36,
     "metadata": {},
     "output_type": "execute_result"
    }
   ],
   "source": [
    "fva(model, ['DM_C00404__vacu'], fraction_of_optimum=0.9)"
   ],
   "metadata": {
    "collapsed": false
   }
  },
  {
   "cell_type": "code",
   "execution_count": 35,
   "outputs": [
    {
     "name": "stdout",
     "output_type": "stream",
     "text": [
      "Runnning pFBA\n",
      "Objective\n",
      "=========\n",
      "1.0 e_Biomass_trial4__cytop = 1.7567534842773915\n",
      "\n",
      "Uptake\n",
      "------\n",
      "  Metabolite       Reaction      Flux  C-Number C-Flux\n",
      "C00001__extr EX_C00001__dra     59.12         0  0.00%\n",
      "C00009__extr EX_C00009__dra     0.266         0  0.00%\n",
      "C00011__extr EX_C00011__dra     72.03         1 99.77%\n",
      "C00059__extr EX_C00059__dra    0.1616         0  0.00%\n",
      "C00080__extr EX_C00080__dra    0.4334         0  0.00%\n",
      "C00120__extr EX_C00120__dra  0.006345        10  0.09%\n",
      "C00205__extr EX_C00205__dra      5000         0  0.00%\n",
      "C00244__extr EX_C00244__dra     3.861         0  0.00%\n",
      "C00305__extr EX_C00305__dra  0.000419         0  0.00%\n",
      "C00378__extr EX_C00378__dra  0.003645        12  0.06%\n",
      "C02823__extr EX_C02823__dra 0.0009812        63  0.09%\n",
      "C14818__extr EX_C14818__dra   0.02017         0  0.00%\n",
      "\n",
      "Secretion\n",
      "---------\n",
      "      Metabolite            Reaction       Flux  C-Number  C-Flux\n",
      "photon298__cytop DM_photon298__cytop     -1.111         0   0.00%\n",
      "  photon438__lum   DM_photon438__lum     -164.8         0   0.00%\n",
      " photon450__chlo  DM_photon450__chlo     -136.8         0   0.00%\n",
      " photon490__chlo  DM_photon490__chlo     -759.3         0   0.00%\n",
      " photon646__chlo  DM_photon646__chlo      -1284         0   0.00%\n",
      "    C00007__extr      EX_C00007__dra     -87.61         0   0.00%\n",
      "    C00177__extr      EX_C00177__dra -0.0009812         1 100.00%\n",
      "\n"
     ]
    }
   ],
   "source": [
    "with model:\n",
    "    model.exchanges.EX_C00205__dra.bounds = (-5000, 1000)\n",
    "    model.exchanges.EX_C00011__dra.bounds = (-100, 1000)\n",
    "    print(model.summary())"
   ],
   "metadata": {
    "collapsed": false
   }
  },
  {
   "cell_type": "code",
   "execution_count": 6,
   "outputs": [
    {
     "name": "stdout",
     "output_type": "stream",
     "text": [
      "Runnning pFBA\n"
     ]
    },
    {
     "data": {
      "text/plain": "<cobra.summary.model_summary.ModelSummary at 0x134ae487af0>",
      "text/html": "<h3>Objective</h3><p>1.0 e_Biomass_trial4__cytop = 3.519131428852129</p><h4>Uptake</h4><table border=\"1\" class=\"dataframe\">\n  <thead>\n    <tr style=\"text-align: right;\">\n      <th>Metabolite</th>\n      <th>Reaction</th>\n      <th>Flux</th>\n      <th>C-Number</th>\n      <th>C-Flux</th>\n    </tr>\n  </thead>\n  <tbody>\n    <tr>\n      <td>C00001__extr</td>\n      <td>EX_C00001__dra</td>\n      <td>118.4</td>\n      <td>0</td>\n      <td>0.00%</td>\n    </tr>\n    <tr>\n      <td>C00009__extr</td>\n      <td>EX_C00009__dra</td>\n      <td>0.5328</td>\n      <td>0</td>\n      <td>0.00%</td>\n    </tr>\n    <tr>\n      <td>C00011__extr</td>\n      <td>EX_C00011__dra</td>\n      <td>144.3</td>\n      <td>1</td>\n      <td>99.77%</td>\n    </tr>\n    <tr>\n      <td>C00059__extr</td>\n      <td>EX_C00059__dra</td>\n      <td>0.3238</td>\n      <td>0</td>\n      <td>0.00%</td>\n    </tr>\n    <tr>\n      <td>C00080__extr</td>\n      <td>EX_C00080__dra</td>\n      <td>0.8681</td>\n      <td>0</td>\n      <td>0.00%</td>\n    </tr>\n    <tr>\n      <td>C00120__extr</td>\n      <td>EX_C00120__dra</td>\n      <td>0.01271</td>\n      <td>10</td>\n      <td>0.09%</td>\n    </tr>\n    <tr>\n      <td>C00205__extr</td>\n      <td>EX_C00205__dra</td>\n      <td>1E+04</td>\n      <td>0</td>\n      <td>0.00%</td>\n    </tr>\n    <tr>\n      <td>C00244__extr</td>\n      <td>EX_C00244__dra</td>\n      <td>7.734</td>\n      <td>0</td>\n      <td>0.00%</td>\n    </tr>\n    <tr>\n      <td>C00305__extr</td>\n      <td>EX_C00305__dra</td>\n      <td>0.0008394</td>\n      <td>0</td>\n      <td>0.00%</td>\n    </tr>\n    <tr>\n      <td>C00378__extr</td>\n      <td>EX_C00378__dra</td>\n      <td>0.007301</td>\n      <td>12</td>\n      <td>0.06%</td>\n    </tr>\n    <tr>\n      <td>C02823__extr</td>\n      <td>EX_C02823__dra</td>\n      <td>0.001966</td>\n      <td>63</td>\n      <td>0.09%</td>\n    </tr>\n    <tr>\n      <td>C14818__extr</td>\n      <td>EX_C14818__dra</td>\n      <td>0.0404</td>\n      <td>0</td>\n      <td>0.00%</td>\n    </tr>\n  </tbody>\n</table><h4>Secretion</h4><table border=\"1\" class=\"dataframe\">\n  <thead>\n    <tr style=\"text-align: right;\">\n      <th>Metabolite</th>\n      <th>Reaction</th>\n      <th>Flux</th>\n      <th>C-Number</th>\n      <th>C-Flux</th>\n    </tr>\n  </thead>\n  <tbody>\n    <tr>\n      <td>photon298__cytop</td>\n      <td>DM_photon298__cytop</td>\n      <td>-2.222</td>\n      <td>0</td>\n      <td>0.00%</td>\n    </tr>\n    <tr>\n      <td>photon450__chlo</td>\n      <td>DM_photon450__chlo</td>\n      <td>-273.5</td>\n      <td>0</td>\n      <td>0.00%</td>\n    </tr>\n    <tr>\n      <td>photon490__chlo</td>\n      <td>DM_photon490__chlo</td>\n      <td>-1519</td>\n      <td>0</td>\n      <td>0.00%</td>\n    </tr>\n    <tr>\n      <td>photon646__chlo</td>\n      <td>DM_photon646__chlo</td>\n      <td>-2568</td>\n      <td>0</td>\n      <td>0.00%</td>\n    </tr>\n    <tr>\n      <td>photon673__lum</td>\n      <td>DM_photon673__lum</td>\n      <td>-329.7</td>\n      <td>0</td>\n      <td>0.00%</td>\n    </tr>\n    <tr>\n      <td>C00007__extr</td>\n      <td>EX_C00007__dra</td>\n      <td>-175.5</td>\n      <td>0</td>\n      <td>0.00%</td>\n    </tr>\n    <tr>\n      <td>C00177__extr</td>\n      <td>EX_C00177__dra</td>\n      <td>-0.001966</td>\n      <td>1</td>\n      <td>100.00%</td>\n    </tr>\n  </tbody>\n</table>"
     },
     "execution_count": 6,
     "metadata": {},
     "output_type": "execute_result"
    }
   ],
   "source": [
    "model.exchanges.EX_C00011__dra.bounds = (-1000, 1000)\n",
    "model.exchanges.EX_C00205__dra.bounds = (-10000, 1000)\n",
    "model.summary()"
   ],
   "metadata": {
    "collapsed": false
   }
  },
  {
   "cell_type": "code",
   "execution_count": 35,
   "outputs": [
    {
     "data": {
      "text/plain": "<cobra.summary.metabolite_summary.MetaboliteSummary at 0x15ddd73a7c0>",
      "text/html": "<h3>C02094__chlo</h3><p>C40H56</p><h4>Producing Reactions</h4><table border=\"1\" class=\"dataframe\">\n  <thead>\n    <tr style=\"text-align: right;\">\n      <th>Percent</th>\n      <th>Flux</th>\n      <th>Reaction</th>\n      <th>Definition</th>\n    </tr>\n  </thead>\n  <tbody>\n    <tr>\n      <td>100.00%</td>\n      <td>0.006754</td>\n      <td>R03824__chlo</td>\n      <td>C05435__chlo --&gt; C02094__chlo</td>\n    </tr>\n  </tbody>\n</table><h4>Consuming Reactions</h4><table border=\"1\" class=\"dataframe\">\n  <thead>\n    <tr style=\"text-align: right;\">\n      <th>Percent</th>\n      <th>Flux</th>\n      <th>Reaction</th>\n      <th>Definition</th>\n    </tr>\n  </thead>\n  <tbody>\n    <tr>\n      <td>4.87%</td>\n      <td>-0.0003291</td>\n      <td>R00032__chlo</td>\n      <td>C00007__chlo + C02094__chlo --&gt; 2.0 C00376__chlo</td>\n    </tr>\n    <tr>\n      <td>9.26%</td>\n      <td>-0.0006255</td>\n      <td>R07558__chlo</td>\n      <td>C00007__chlo + 2.0 C00080__chlo + 2.0 C00138__chlo + C02094__chlo --&gt; C00001__chlo + 2.0 C00139__chlo + C08591__chlo</td>\n    </tr>\n    <tr>\n      <td>60.52%</td>\n      <td>-0.004088</td>\n      <td>R09747__chlo</td>\n      <td>2.0 C00007__chlo + 4.0 C00080__chlo + 4.0 C00138__chlo + C02094__chlo --&gt; 2.0 C00001__chlo + 4.0 C00139__chlo + C06098__chlo</td>\n    </tr>\n    <tr>\n      <td>25.27%</td>\n      <td>-0.001707</td>\n      <td>R10282__chlo</td>\n      <td>C02094__chlo --&gt; C20484__chlo</td>\n    </tr>\n    <tr>\n      <td>0.07%</td>\n      <td>-4.967E-06</td>\n      <td>e_Pigment_trial4__chlo</td>\n      <td>0.0013 C02094__chlo + 0.0077 C05306__chlo + 0.0048 C05307__chlo + 0.0008 C05432__chlo + 0.0253 C05433__chlo + 0.0162 C06098__chlo + 0.0014 C08579__chlo + 0.1637 C08591__chlo + 0.0025 C08601__chlo + 0.0031 C08606__chlo + 1.0492 C08614__chlo + 0.4467 C20484__chlo --&gt; e_Pigment__chlo</td>\n    </tr>\n  </tbody>\n</table>"
     },
     "execution_count": 35,
     "metadata": {},
     "output_type": "execute_result"
    }
   ],
   "source": [
    "model.metabolites.C02094__chlo.summary()"
   ],
   "metadata": {
    "collapsed": false
   }
  },
  {
   "cell_type": "code",
   "execution_count": null,
   "outputs": [],
   "source": [
    "model.metabolites.C00065__mito.summary(fva=1.0)"
   ],
   "metadata": {
    "collapsed": false
   }
  },
  {
   "cell_type": "code",
   "execution_count": null,
   "outputs": [],
   "source": [
    "with model:\n",
    "    # model.create_sink(\"C00148__mito\")\n",
    "    print(fva(model, ['R02236__cytop'], fraction_of_optimum=0.0))"
   ],
   "metadata": {
    "collapsed": false
   }
  },
  {
   "cell_type": "code",
   "execution_count": null,
   "outputs": [],
   "source": [
    "model.test_reaction(\"R02236__cytop\")"
   ],
   "metadata": {
    "collapsed": false
   }
  },
  {
   "cell_type": "code",
   "execution_count": null,
   "outputs": [],
   "source": [
    "model.metabolites.C00025__mito.summary(fva = 1.0)"
   ],
   "metadata": {
    "collapsed": false
   }
  },
  {
   "cell_type": "code",
   "execution_count": null,
   "outputs": [],
   "source": [
    "model.summary()"
   ],
   "metadata": {
    "collapsed": false
   }
  },
  {
   "cell_type": "code",
   "execution_count": null,
   "outputs": [],
   "source": [
    "#create copy reactions\n",
    "with model:\n",
    "    carbohydrate_copy = model.reactions.e_Carbohydrate__cytop.copy()\n",
    "    carbohydrate_copy.id = 'e_Carbohydrate_no_starch__cytop'\n",
    "    biomass_copy = model.reactions.e_Biomass__cytop.copy()\n",
    "    biomass_copy.id = 'e_ActiveBiomass__cytop'\n",
    "    model.add_reactions([carbohydrate_copy, biomass_copy])\n",
    "    model.objective = 'e_ActiveBiomass__cytop'\n",
    "    model.reactions.e_Carbohydrate__cytop.bounds = (0, 0)\n",
    "    #remove starch from e_carbohydrate\n",
    "    carbohydrate_copy.add_metabolites({model.metabolites.C00369__chlo: -carbohydrate_copy.metabolites[model.metabolites.C00369__chlo]})\n",
    "\n",
    "    #adjust other carbohydrates\n",
    "    carbohydrate_copy.add_metabolites({model.metabolites.C00052__cytop:  -3.35762291 - carbohydrate_copy.metabolites[model.metabolites.C00052__cytop]})\n",
    "    carbohydrate_copy.add_metabolites({model.metabolites.C00096__cytop:  -1.58181346 - carbohydrate_copy.metabolites[model.metabolites.C00096__cytop]})\n",
    "    carbohydrate_copy.add_metabolites({model.metabolites.C00935__cytop:  -2.52493299 - carbohydrate_copy.metabolites[model.metabolites.C00935__cytop]})\n",
    "\n",
    "    carbohydrate_copy.add_metabolites({model.metabolites.C00015__cytop:  5.8825559 - carbohydrate_copy.metabolites[model.metabolites.C00015__cytop]})\n",
    "    carbohydrate_copy.add_metabolites({model.metabolites.C00035__cytop:  1.58181346 - carbohydrate_copy.metabolites[model.metabolites.C00035__cytop]})\n",
    "    carbohydrate_copy.add_metabolites({model.metabolites.C00001__cytop:  7.46436936 - carbohydrate_copy.metabolites[model.metabolites.C00001__cytop]})\n",
    "\n",
    "    print(carbohydrate_copy.metabolites)\n",
    "\n",
    "    biomass_copy.add_metabolites({model.metabolites.e_Carbohydrate__cytop:  -0.203306526 - biomass_copy.metabolites[model.metabolites.e_Carbohydrate__cytop]})\n",
    "    print(biomass_copy.metabolites)\n",
    "    print(model.optimize().objective_value*0.7083)\n",
    "\n",
    "    # total = abs(sum([biomass_copy.metabolites[met] for met in biomass_copy.reactants if biomass_copy.metabolites[met] > -10]))\n",
    "    # for  met in biomass_copy.reactants:\n",
    "    #     if biomass_copy.metabolites[met] > -10:\n",
    "    #         print(met.id)\n",
    "    #         new_st = biomass_copy.metabolites[met]/total\n",
    "    #         print(new_st)\n",
    "    #         print(biomass_copy.metabolites[met])\n",
    "    #         biomass_copy.add_metabolites({model.metabolites.get_by_id(met.id):  new_st - biomass_copy.metabolites[met]})\n",
    "    #         print(biomass_copy.metabolites[met])\n",
    "    # print(sum([biomass_copy.metabolites[met] for met in biomass_copy.reactants if biomass_copy.metabolites[met] > -10]))\n",
    "    # print(model.optimize().objective_value)\n",
    "    model.write(os.path.join(data_directory, \"models/model_dfba.xml\"))"
   ],
   "metadata": {
    "collapsed": false
   }
  },
  {
   "cell_type": "code",
   "execution_count": null,
   "outputs": [],
   "source": [
    "data_directory = \"../data\"\n",
    "model = MyModel(join(data_directory, \"model_dfba.xml\"), \"e_Biomass_trial4__cytop\")\n",
    "model.add_medium(join(data_directory, \"media.xlsx\"), \"base_medium\")\n",
    "model.setup_condition(\"4\")"
   ],
   "metadata": {
    "collapsed": false
   }
  },
  {
   "cell_type": "code",
   "execution_count": null,
   "outputs": [],
   "source": [
    "pfba_sol = pfba(model)\n",
    "model.summary(pfba_sol)"
   ],
   "metadata": {
    "collapsed": false
   }
  },
  {
   "cell_type": "code",
   "execution_count": null,
   "outputs": [],
   "source": [
    "with model:\n",
    "    model.reactions.DM_C00369__chlo.bounds = (0.00147, 1000)\n",
    "    pfba_sol = pfba(model)\n",
    "    # print(model.metabolites.C00369__chlo.summary(pfba_sol))\n",
    "    print(model.summary(pfba_sol))"
   ],
   "metadata": {
    "collapsed": false
   }
  },
  {
   "cell_type": "code",
   "execution_count": null,
   "outputs": [],
   "source": [
    "sum([model.reactions.e_Biomass_trial4__cytop.metabolites[reactant] for reactant in model.reactions.e_Biomass_trial4__cytop.metabolites if model.reactions.e_Biomass_trial4__cytop.metabolites[reactant] < 0 and model.reactions.e_Biomass_trial4__cytop.metabolites[reactant]>-1])"
   ],
   "metadata": {
    "collapsed": false
   }
  },
  {
   "cell_type": "code",
   "execution_count": null,
   "outputs": [],
   "source": [
    "original_sol = model.optimize().objective_value"
   ],
   "metadata": {
    "collapsed": false
   }
  },
  {
   "cell_type": "code",
   "execution_count": null,
   "outputs": [],
   "source": [
    "model.summary()"
   ],
   "metadata": {
    "collapsed": false
   }
  },
  {
   "cell_type": "code",
   "execution_count": null,
   "outputs": [],
   "source": [
    "model.metabolites.C00116__cytop.formula_weight"
   ],
   "metadata": {
    "collapsed": false
   }
  },
  {
   "cell_type": "code",
   "execution_count": null,
   "outputs": [],
   "source": [
    "fva(model, [\"T_SUCBZth__chlomem\"])"
   ],
   "metadata": {
    "collapsed": false
   }
  },
  {
   "cell_type": "code",
   "execution_count": null,
   "outputs": [],
   "source": [
    "with model:\n",
    "    # model.biomass_reaction = model.bio_reaction.id\n",
    "    # model.reactions.e_Carbohydrate__cytop.add_metabolites({model.metabolites.C00369__chlo: -model.reactions.e_Carbohydrate__cytop.metabolites[model.metabolites.C00369__chlo]})\n",
    "    # model.reactions.e_Biomass_trial4__cytop\n",
    "    # model.reactions.e_Acid__cytop.add_metabolites({model.metabolites.C00116__cytop: -model.reactions.e_Acid__cytop.metabolites[model.metabolites.C00116__cytop]})\n",
    "    # model.reactions.DM_C00369__chlo.bounds = (0.305381773/model.metabolites.C00369__chlo.formula_weight*1000*original_sol, 1000)\n",
    "    # model.reactions.DM_C00369__chlo.bounds = (0.00147, 1000)\n",
    "    # [setattr(x, 'objective_coefficient', 0) for x in model.reactions if x.objective_coefficient != 0]\n",
    "    # model.reactions.EX_e_Biomass__dra.objective_coefficient = 0.7\n",
    "    # model.reactions.DM_C00369__chlo.objective_coefficient = 0.3\n",
    "    # model.objective = \"e_Biomass__cytop\"\n",
    "    sol = pfba(model)\n",
    "    print(model.summary(solution=sol))\n",
    "    # print(model.metabolites.C00369__chlo.summary(sol))"
   ],
   "metadata": {
    "collapsed": false
   }
  },
  {
   "cell_type": "code",
   "execution_count": null,
   "outputs": [],
   "source": [
    "total = sum([reactant for reactant in model.reactions.e_Biomass__cytop.metabolites if model.reactions.e_Biomass__cytop.metabolites[reactant] < 0 and model.reactions.e_Biomass__cytop.metabolites[reactant]>-1])\n",
    "for reactant in model.reactions.e_Biomass__cytop.reactants:\n",
    "    st ="
   ],
   "metadata": {
    "collapsed": false
   }
  },
  {
   "cell_type": "markdown",
   "source": [],
   "metadata": {
    "collapsed": false
   }
  },
  {
   "cell_type": "markdown",
   "source": [
    "model.reactions.DM_C00369__chlo"
   ],
   "metadata": {
    "collapsed": false
   }
  },
  {
   "cell_type": "markdown",
   "source": [
    "model.reactions.e_Lipid__cytop.add_metabolites({model.metabolites.C00422__lip: 0.13})"
   ],
   "metadata": {
    "collapsed": false
   }
  },
  {
   "cell_type": "markdown",
   "source": [
    "model.reactions.e_Lipid__cytop.metabolites"
   ],
   "metadata": {
    "collapsed": false
   }
  },
  {
   "cell_type": "markdown",
   "source": [
    "model.reactions.e_Carbohydrate__cytop.metabolites"
   ],
   "metadata": {
    "collapsed": false
   }
  },
  {
   "cell_type": "markdown",
   "source": [
    "0.3212*(1-(0.0123373*48660.08/1000*0.50869+0.13*904.7821/1000*0.11407))"
   ],
   "metadata": {
    "collapsed": false
   }
  },
  {
   "cell_type": "markdown",
   "source": [
    "(1-(0.0123373*48660.08/1000*0.50869+0.13*904.7821/1000*0.11407))"
   ],
   "metadata": {
    "collapsed": false
   }
  },
  {
   "cell_type": "markdown",
   "source": [
    "model.reactions.DM_C00369__chlo.bounds = (0.3/48660.08*1000*0.21, 1000)"
   ],
   "metadata": {
    "collapsed": false
   }
  },
  {
   "cell_type": "markdown",
   "source": [
    "model.reactions.DM_C00369__chlo"
   ],
   "metadata": {
    "collapsed": false
   }
  },
  {
   "cell_type": "markdown",
   "source": [
    "model.summary()"
   ],
   "metadata": {
    "collapsed": false
   }
  }
 ],
 "metadata": {
  "kernelspec": {
   "display_name": "Python 3 (ipykernel)",
   "language": "python",
   "name": "python3"
  },
  "language_info": {
   "codemirror_mode": {
    "name": "ipython",
    "version": 3
   },
   "file_extension": ".py",
   "mimetype": "text/x-python",
   "name": "python",
   "nbconvert_exporter": "python",
   "pygments_lexer": "ipython3",
   "version": "3.9.6"
  }
 },
 "nbformat": 4,
 "nbformat_minor": 1
}
