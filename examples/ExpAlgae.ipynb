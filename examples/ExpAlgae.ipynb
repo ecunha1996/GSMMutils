{
 "cells": [
  {
   "cell_type": "code",
   "execution_count": 4,
   "outputs": [],
   "source": [
    "import sys\n",
    "\n",
    "from cobra.io import read_sbml_model\n",
    "\n",
    "sys.path.insert(0, r\"C:\\Users\\Bisbii\\PythonProjects\\ExpAlgae\\src\")\n",
    "from ExpAlgae.model.COBRAmodel import *\n",
    "from cobra.flux_analysis import pfba, find_blocked_reactions, flux_variability_analysis as fva"
   ],
   "metadata": {
    "collapsed": false
   }
  },
  {
   "cell_type": "code",
   "execution_count": 49,
   "outputs": [
    {
     "name": "stdout",
     "output_type": "stream",
     "text": [
      "Loading\n",
      "\n",
      "Reactions: 4582\n",
      "Metabolites: 3655\n",
      "Genes: 1684\n",
      "Model loaded\n"
     ]
    }
   ],
   "source": [
    "data_directory = \"../data\"\n",
    "model = MyModel(join(data_directory, \"models/model_with_trials.xml\"), \"e_Biomass__cytop\")\n",
    "model.add_medium(join(data_directory, \"media.xlsx\"), \"base_medium\")\n",
    "model.setup_condition(\"4\")"
   ],
   "metadata": {
    "collapsed": false
   }
  },
  {
   "cell_type": "code",
   "execution_count": null,
   "outputs": [],
   "source": [],
   "metadata": {
    "collapsed": false
   }
  },
  {
   "cell_type": "code",
   "execution_count": 46,
   "outputs": [
    {
     "data": {
      "text/plain": "<cobra.summary.metabolite_summary.MetaboliteSummary at 0x2542b3495b0>",
      "text/html": "<h3>C00065__mito</h3><p>C3H7NO3</p><h4>Producing Reactions</h4><table border=\"1\" class=\"dataframe\">\n  <thead>\n    <tr style=\"text-align: right;\">\n      <th>Percent</th>\n      <th>Flux</th>\n      <th>Range</th>\n      <th>Reaction</th>\n      <th>Definition</th>\n    </tr>\n  </thead>\n  <tbody>\n    <tr>\n      <td>27.45%</td>\n      <td>0.08217</td>\n      <td>[-1000;  1000]</td>\n      <td>R00588__mito</td>\n      <td>C00048__mito + C00065__mito &lt;=&gt; C00037__mito + C00168__mito</td>\n    </tr>\n    <tr>\n      <td>72.55%</td>\n      <td>0.2172</td>\n      <td>[-25.69;  10.37]</td>\n      <td>R00945__mito</td>\n      <td>C00001__mito + C00037__mito + C00080__mito + C00143__mito &lt;=&gt; C00065__mito + C00101__mito</td>\n    </tr>\n  </tbody>\n</table><h4>Consuming Reactions</h4><table border=\"1\" class=\"dataframe\">\n  <thead>\n    <tr style=\"text-align: right;\">\n      <th>Percent</th>\n      <th>Flux</th>\n      <th>Range</th>\n      <th>Reaction</th>\n      <th>Definition</th>\n    </tr>\n  </thead>\n  <tbody>\n    <tr>\n      <td>100.00%</td>\n      <td>-0.2994</td>\n      <td>[-1000;  1000]</td>\n      <td>T_L_SERtm__mitmem</td>\n      <td>C00065__mito + C00080__mito &lt;=&gt; C00065__cytop + C00080__cytop</td>\n    </tr>\n  </tbody>\n</table>"
     },
     "execution_count": 46,
     "metadata": {},
     "output_type": "execute_result"
    }
   ],
   "source": [
    "model.metabolites.C00065__mito.summary(fva=1.0)"
   ],
   "metadata": {
    "collapsed": false
   }
  },
  {
   "cell_type": "code",
   "execution_count": 48,
   "outputs": [
    {
     "name": "stdout",
     "output_type": "stream",
     "text": [
      "                minimum  maximum\n",
      "R02236__cytop -0.004173      0.0\n"
     ]
    }
   ],
   "source": [
    "with model:\n",
    "    # model.create_sink(\"C00148__mito\")\n",
    "    print(fva(model, ['R02236__cytop'], fraction_of_optimum=0.0))"
   ],
   "metadata": {
    "collapsed": false
   }
  },
  {
   "cell_type": "code",
   "execution_count": 45,
   "outputs": [
    {
     "data": {
      "text/plain": "           Flux\nFolate  0.00000\nNADPH   0.20339\nH+      0.20339",
      "text/html": "<div>\n<style scoped>\n    .dataframe tbody tr th:only-of-type {\n        vertical-align: middle;\n    }\n\n    .dataframe tbody tr th {\n        vertical-align: top;\n    }\n\n    .dataframe thead th {\n        text-align: right;\n    }\n</style>\n<table border=\"1\" class=\"dataframe\">\n  <thead>\n    <tr style=\"text-align: right;\">\n      <th></th>\n      <th>Flux</th>\n    </tr>\n  </thead>\n  <tbody>\n    <tr>\n      <th>Folate</th>\n      <td>0.00000</td>\n    </tr>\n    <tr>\n      <th>NADPH</th>\n      <td>0.20339</td>\n    </tr>\n    <tr>\n      <th>H+</th>\n      <td>0.20339</td>\n    </tr>\n  </tbody>\n</table>\n</div>"
     },
     "execution_count": 45,
     "metadata": {},
     "output_type": "execute_result"
    }
   ],
   "source": [
    "model.test_reaction(\"R02236__cytop\")"
   ],
   "metadata": {
    "collapsed": false
   }
  },
  {
   "cell_type": "code",
   "execution_count": 3,
   "outputs": [
    {
     "data": {
      "text/plain": "<cobra.summary.metabolite_summary.MetaboliteSummary at 0x2541a4de6a0>",
      "text/html": "<h3>C00025__mito</h3><p>C5H8NO4</p><h4>Producing Reactions</h4><table border=\"1\" class=\"dataframe\">\n  <thead>\n    <tr style=\"text-align: right;\">\n      <th>Percent</th>\n      <th>Flux</th>\n      <th>Range</th>\n      <th>Reaction</th>\n      <th>Definition</th>\n    </tr>\n  </thead>\n  <tbody>\n    <tr>\n      <td>38.95%</td>\n      <td>0.3992</td>\n      <td>[-53.89;  42.16]</td>\n      <td>R00243__mito</td>\n      <td>C00001__mito + C00003__mito + C00025__mito &lt;=&gt; C00004__mito + C00014__mito + C00026__mito + C00080__mito</td>\n    </tr>\n    <tr>\n      <td>0.00%</td>\n      <td>0</td>\n      <td>[0;  25.65]</td>\n      <td>R00245__mito</td>\n      <td>C00001__mito + C00003__mito + C01165__mito --&gt; C00004__mito + C00025__mito + 2.0 C00080__mito</td>\n    </tr>\n    <tr>\n      <td>0.00%</td>\n      <td>0</td>\n      <td>[0;  25.65]</td>\n      <td>R00667__mito</td>\n      <td>C00026__mito + C00077__mito &lt;=&gt; C00025__mito + C01165__mito</td>\n    </tr>\n    <tr>\n      <td>0.00%</td>\n      <td>0</td>\n      <td>[0;  8.321]</td>\n      <td>R00895__mito</td>\n      <td>C00026__mito + C00097__mito &lt;=&gt; C00025__mito + C00957__mito</td>\n    </tr>\n    <tr>\n      <td>61.05%</td>\n      <td>0.6257</td>\n      <td>[-31.16;  40]</td>\n      <td>R01090__mito</td>\n      <td>C00026__mito + C00123__mito &lt;=&gt; C00025__mito + C00233__mito</td>\n    </tr>\n    <tr>\n      <td>0.00%</td>\n      <td>0</td>\n      <td>[0;  3.052]</td>\n      <td>R01648__mito</td>\n      <td>C00026__mito + C00334__mito &lt;=&gt; C00025__mito + C00232__mito</td>\n    </tr>\n    <tr>\n      <td>0.00%</td>\n      <td>0</td>\n      <td>[0;  41.46]</td>\n      <td>R04242__mito</td>\n      <td>2.0 C00001__mito + C04144__mito --&gt; 2.0 C00025__mito + C00101__mito</td>\n    </tr>\n    <tr>\n      <td>0.00%</td>\n      <td>0</td>\n      <td>[0;  1000]</td>\n      <td>R10991__mito</td>\n      <td>C00026__mito + C02356__mito &lt;=&gt; C00025__mito + C00109__mito</td>\n    </tr>\n  </tbody>\n</table><h4>Consuming Reactions</h4><table border=\"1\" class=\"dataframe\">\n  <thead>\n    <tr style=\"text-align: right;\">\n      <th>Percent</th>\n      <th>Flux</th>\n      <th>Range</th>\n      <th>Reaction</th>\n      <th>Definition</th>\n    </tr>\n  </thead>\n  <tbody>\n    <tr>\n      <td>5.39%</td>\n      <td>-0.05523</td>\n      <td>[-41.52;  43.45]</td>\n      <td>R00248__mito</td>\n      <td>C00005__mito + C00014__mito + C00026__mito + C00080__mito &lt;=&gt; C00001__mito + C00006__mito + C00025__mito</td>\n    </tr>\n    <tr>\n      <td>3.07%</td>\n      <td>-0.03147</td>\n      <td>[-1000;  -0.03147]</td>\n      <td>R00258__mito</td>\n      <td>C00026__mito + C00041__mito &lt;=&gt; C00022__mito + C00025__mito</td>\n    </tr>\n    <tr>\n      <td>77.89%</td>\n      <td>-0.7983</td>\n      <td>[-1000;  999.9]</td>\n      <td>R00355__mito</td>\n      <td>C00026__mito + C00049__mito &lt;=&gt; C00025__mito + C00036__mito</td>\n    </tr>\n    <tr>\n      <td>0.00%</td>\n      <td>0</td>\n      <td>[-11.46;  0]</td>\n      <td>R00372__mito</td>\n      <td>C00025__mito + C00048__mito --&gt; C00026__mito + C00037__mito</td>\n    </tr>\n    <tr>\n      <td>0.08%</td>\n      <td>-0.00077</td>\n      <td>[-0.00077;  4.488]</td>\n      <td>R00908__mito</td>\n      <td>C00026__mito + C00099__mito &lt;=&gt; C00025__mito + C00222__mito</td>\n    </tr>\n    <tr>\n      <td>0.00%</td>\n      <td>0</td>\n      <td>[-20.73;  0]</td>\n      <td>R00942__mito</td>\n      <td>C00002__mito + C00025__mito + C00101__mito --&gt; C00008__mito + C00009__mito + C00080__mito + C09332__mito</td>\n    </tr>\n    <tr>\n      <td>4.44%</td>\n      <td>-0.04554</td>\n      <td>[-0.04554;  2.963]</td>\n      <td>R01214__mito</td>\n      <td>C00026__mito + C00183__mito &lt;=&gt; C00025__mito + C00141__mito</td>\n    </tr>\n    <tr>\n      <td>0.85%</td>\n      <td>-0.008687</td>\n      <td>[-0.008687;  3.05]</td>\n      <td>R02199__mito</td>\n      <td>C00026__mito + C00407__mito &lt;=&gt; C00025__mito + C00671__mito</td>\n    </tr>\n    <tr>\n      <td>0.08%</td>\n      <td>-0.0008196</td>\n      <td>[-0.0008196;  0]</td>\n      <td>R02237__mito</td>\n      <td>C00002__mito + C00025__mito + C00921__mito --&gt; C00008__mito + C00009__mito + C00080__mito + C00415__mito</td>\n    </tr>\n    <tr>\n      <td>0.00%</td>\n      <td>0</td>\n      <td>[-20.73;  0]</td>\n      <td>R04241__mito</td>\n      <td>C00002__mito + C00025__mito + C09332__mito --&gt; C00008__mito + C00009__mito + C00080__mito + C04144__mito</td>\n    </tr>\n    <tr>\n      <td>0.19%</td>\n      <td>-0.001948</td>\n      <td>[-40.88;  -0.001948]</td>\n      <td>R07396__mito</td>\n      <td>C00025__mito + C01180__mito &lt;=&gt; C00026__mito + C00073__mito</td>\n    </tr>\n    <tr>\n      <td>0.00%</td>\n      <td>0</td>\n      <td>[-1000;  0]</td>\n      <td>T_ASPGLUPUMPtm__mitmem</td>\n      <td>C00025__mito + C00049__cytop --&gt; C00025__cytop + C00049__mito</td>\n    </tr>\n    <tr>\n      <td>8.02%</td>\n      <td>-0.08217</td>\n      <td>[-1000;  1000]</td>\n      <td>T_GLUtm__mitmem</td>\n      <td>C00025__mito + C00080__mito &lt;=&gt; C00025__cytop + C00080__cytop</td>\n    </tr>\n    <tr>\n      <td>0.00%</td>\n      <td>0</td>\n      <td>[-40.88;  0]</td>\n      <td>T_MALGLUPUMPtm__mitmem</td>\n      <td>C00025__mito + C00149__cytop --&gt; C00025__cytop + C00149__mito</td>\n    </tr>\n  </tbody>\n</table>"
     },
     "execution_count": 3,
     "metadata": {},
     "output_type": "execute_result"
    }
   ],
   "source": [
    "model.metabolites.C00025__mito.summary(fva = 1.0)"
   ],
   "metadata": {
    "collapsed": false
   }
  },
  {
   "cell_type": "code",
   "execution_count": 37,
   "outputs": [
    {
     "name": "stdout",
     "output_type": "stream",
     "text": [
      "Runnning pFBA\n"
     ]
    },
    {
     "data": {
      "text/plain": "<cobra.summary.model_summary.ModelSummary at 0x2d495b35af0>",
      "text/html": "<h3>Objective</h3><p>1.0 e_Biomass__cytop = 0.21303097791156345</p><h4>Uptake</h4><table border=\"1\" class=\"dataframe\">\n  <thead>\n    <tr style=\"text-align: right;\">\n      <th>Metabolite</th>\n      <th>Reaction</th>\n      <th>Flux</th>\n      <th>C-Number</th>\n      <th>C-Flux</th>\n    </tr>\n  </thead>\n  <tbody>\n    <tr>\n      <td>C00001__extr</td>\n      <td>EX_C00001__dra</td>\n      <td>7.206</td>\n      <td>0</td>\n      <td>0.00%</td>\n    </tr>\n    <tr>\n      <td>C00009__extr</td>\n      <td>EX_C00009__dra</td>\n      <td>0.03358</td>\n      <td>0</td>\n      <td>0.00%</td>\n    </tr>\n    <tr>\n      <td>C00011__extr</td>\n      <td>EX_C00011__dra</td>\n      <td>8.77</td>\n      <td>1</td>\n      <td>99.76%</td>\n    </tr>\n    <tr>\n      <td>C00059__extr</td>\n      <td>EX_C00059__dra</td>\n      <td>0.02233</td>\n      <td>0</td>\n      <td>0.00%</td>\n    </tr>\n    <tr>\n      <td>C00080__extr</td>\n      <td>EX_C00080__dra</td>\n      <td>0.05665</td>\n      <td>0</td>\n      <td>0.00%</td>\n    </tr>\n    <tr>\n      <td>C00120__extr</td>\n      <td>EX_C00120__dra</td>\n      <td>0.0008064</td>\n      <td>10</td>\n      <td>0.09%</td>\n    </tr>\n    <tr>\n      <td>C00205__extr</td>\n      <td>EX_C00205__dra</td>\n      <td>621.8</td>\n      <td>0</td>\n      <td>0.00%</td>\n    </tr>\n    <tr>\n      <td>C00244__extr</td>\n      <td>EX_C00244__dra</td>\n      <td>0.5524</td>\n      <td>0</td>\n      <td>0.00%</td>\n    </tr>\n    <tr>\n      <td>C00305__extr</td>\n      <td>EX_C00305__dra</td>\n      <td>0.0001709</td>\n      <td>0</td>\n      <td>0.00%</td>\n    </tr>\n    <tr>\n      <td>C00378__extr</td>\n      <td>EX_C00378__dra</td>\n      <td>0.0004632</td>\n      <td>12</td>\n      <td>0.06%</td>\n    </tr>\n    <tr>\n      <td>C02823__extr</td>\n      <td>EX_C02823__dra</td>\n      <td>0.0001247</td>\n      <td>63</td>\n      <td>0.09%</td>\n    </tr>\n    <tr>\n      <td>C14818__extr</td>\n      <td>EX_C14818__dra</td>\n      <td>0.002563</td>\n      <td>0</td>\n      <td>0.00%</td>\n    </tr>\n  </tbody>\n</table><h4>Secretion</h4><table border=\"1\" class=\"dataframe\">\n  <thead>\n    <tr style=\"text-align: right;\">\n      <th>Metabolite</th>\n      <th>Reaction</th>\n      <th>Flux</th>\n      <th>C-Number</th>\n      <th>C-Flux</th>\n    </tr>\n  </thead>\n  <tbody>\n    <tr>\n      <td>photon298__cytop</td>\n      <td>DM_photon298__cytop</td>\n      <td>-0.1382</td>\n      <td>0</td>\n      <td>0.00%</td>\n    </tr>\n    <tr>\n      <td>photon450__chlo</td>\n      <td>DM_photon450__chlo</td>\n      <td>-17.01</td>\n      <td>0</td>\n      <td>0.00%</td>\n    </tr>\n    <tr>\n      <td>photon490__chlo</td>\n      <td>DM_photon490__chlo</td>\n      <td>-94.43</td>\n      <td>0</td>\n      <td>0.00%</td>\n    </tr>\n    <tr>\n      <td>photon646__chlo</td>\n      <td>DM_photon646__chlo</td>\n      <td>-159.7</td>\n      <td>0</td>\n      <td>0.00%</td>\n    </tr>\n    <tr>\n      <td>photon673__lum</td>\n      <td>DM_photon673__lum</td>\n      <td>-20.41</td>\n      <td>0</td>\n      <td>0.00%</td>\n    </tr>\n    <tr>\n      <td>C00007__extr</td>\n      <td>EX_C00007__dra</td>\n      <td>-10.9</td>\n      <td>0</td>\n      <td>0.00%</td>\n    </tr>\n    <tr>\n      <td>C00177__extr</td>\n      <td>EX_C00177__dra</td>\n      <td>-0.0001247</td>\n      <td>1</td>\n      <td>3.16%</td>\n    </tr>\n    <tr>\n      <td>C00469__extr</td>\n      <td>EX_C00469__dra</td>\n      <td>-0.00191</td>\n      <td>2</td>\n      <td>96.84%</td>\n    </tr>\n    <tr>\n      <td>e_Biomass__cytop</td>\n      <td>EX_e_Biomass__dra</td>\n      <td>-0.213</td>\n      <td>0</td>\n      <td>0.00%</td>\n    </tr>\n  </tbody>\n</table>"
     },
     "execution_count": 37,
     "metadata": {},
     "output_type": "execute_result"
    }
   ],
   "source": [
    "model.summary()"
   ],
   "metadata": {
    "collapsed": false
   }
  },
  {
   "cell_type": "code",
   "execution_count": 39,
   "outputs": [
    {
     "name": "stdout",
     "output_type": "stream",
     "text": [
      "{<Metabolite C00096__cytop at 0x2d492e90220>: -1.58181346, <Metabolite C00052__cytop at 0x2d492a55df0>: -3.35762291, <Metabolite C00935__cytop at 0x2d49328c790>: -2.52493299, <Metabolite C00015__cytop at 0x2d492ebe310>: 5.8825559, <Metabolite e_Carbohydrate__cytop at 0x2d492a55970>: 1.0, <Metabolite C00035__cytop at 0x2d492a55a30>: 1.58181346, <Metabolite C00001__cytop at 0x2d4932ba460>: 7.46436936}\n",
      "{<Metabolite e_Pigment__chlo at 0x2d492b35610>: -0.02, <Metabolite e_Acid__cytop at 0x2d4932a43a0>: -0.15678, <Metabolite e_RNA__cytop at 0x2d492a55fd0>: -0.02, <Metabolite e_Carbohydrate__cytop at 0x2d492a55970>: -0.203306526, <Metabolite e_Lipid__cytop at 0x2d492a826d0>: -0.111, <Metabolite C00002__cytop at 0x2d492e90b50>: -39.24, <Metabolite C00001__cytop at 0x2d4932ba460>: -39.24, <Metabolite e_Sterol__cytop at 0x2d4932ba520>: -0.0014, <Metabolite e_DNA__cytop at 0x2d4932a4ca0>: -0.01, <Metabolite e_Cofactor__cytop at 0x2d492a98760>: -0.02312, <Metabolite e_Protein__cytop at 0x2d492a6b5b0>: -0.1627, <Metabolite C00008__cytop at 0x2d492a55820>: 39.24, <Metabolite e_Biomass__cytop at 0x2d49328cc40>: 1.0, <Metabolite C00009__cytop at 0x2d492ebe430>: 39.24, <Metabolite C00080__cytop at 0x2d492e90df0>: 39.24}\n",
      "0.20429275780823153\n"
     ]
    }
   ],
   "source": [
    "#create copy reactions\n",
    "with model:\n",
    "    carbohydrate_copy = model.reactions.e_Carbohydrate__cytop.copy()\n",
    "    carbohydrate_copy.id = 'e_Carbohydrate_no_starch__cytop'\n",
    "    biomass_copy = model.reactions.e_Biomass__cytop.copy()\n",
    "    biomass_copy.id = 'e_ActiveBiomass__cytop'\n",
    "    model.add_reactions([carbohydrate_copy, biomass_copy])\n",
    "    model.objective = 'e_ActiveBiomass__cytop'\n",
    "    model.reactions.e_Carbohydrate__cytop.bounds = (0, 0)\n",
    "    #remove starch from e_carbohydrate\n",
    "    carbohydrate_copy.add_metabolites({model.metabolites.C00369__chlo: -carbohydrate_copy.metabolites[model.metabolites.C00369__chlo]})\n",
    "\n",
    "    #adjust other carbohydrates\n",
    "    carbohydrate_copy.add_metabolites({model.metabolites.C00052__cytop:  -3.35762291 - carbohydrate_copy.metabolites[model.metabolites.C00052__cytop]})\n",
    "    carbohydrate_copy.add_metabolites({model.metabolites.C00096__cytop:  -1.58181346 - carbohydrate_copy.metabolites[model.metabolites.C00096__cytop]})\n",
    "    carbohydrate_copy.add_metabolites({model.metabolites.C00935__cytop:  -2.52493299 - carbohydrate_copy.metabolites[model.metabolites.C00935__cytop]})\n",
    "\n",
    "    carbohydrate_copy.add_metabolites({model.metabolites.C00015__cytop:  5.8825559 - carbohydrate_copy.metabolites[model.metabolites.C00015__cytop]})\n",
    "    carbohydrate_copy.add_metabolites({model.metabolites.C00035__cytop:  1.58181346 - carbohydrate_copy.metabolites[model.metabolites.C00035__cytop]})\n",
    "    carbohydrate_copy.add_metabolites({model.metabolites.C00001__cytop:  7.46436936 - carbohydrate_copy.metabolites[model.metabolites.C00001__cytop]})\n",
    "\n",
    "    print(carbohydrate_copy.metabolites)\n",
    "\n",
    "    biomass_copy.add_metabolites({model.metabolites.e_Carbohydrate__cytop:  -0.203306526 - biomass_copy.metabolites[model.metabolites.e_Carbohydrate__cytop]})\n",
    "    print(biomass_copy.metabolites)\n",
    "    print(model.optimize().objective_value*0.7083)\n",
    "\n",
    "    # total = abs(sum([biomass_copy.metabolites[met] for met in biomass_copy.reactants if biomass_copy.metabolites[met] > -10]))\n",
    "    # for  met in biomass_copy.reactants:\n",
    "    #     if biomass_copy.metabolites[met] > -10:\n",
    "    #         print(met.id)\n",
    "    #         new_st = biomass_copy.metabolites[met]/total\n",
    "    #         print(new_st)\n",
    "    #         print(biomass_copy.metabolites[met])\n",
    "    #         biomass_copy.add_metabolites({model.metabolites.get_by_id(met.id):  new_st - biomass_copy.metabolites[met]})\n",
    "    #         print(biomass_copy.metabolites[met])\n",
    "    # print(sum([biomass_copy.metabolites[met] for met in biomass_copy.reactants if biomass_copy.metabolites[met] > -10]))\n",
    "    # print(model.optimize().objective_value)\n",
    "    model.write(os.path.join(data_directory, \"models/model_dfba.xml\"))"
   ],
   "metadata": {
    "collapsed": false
   }
  },
  {
   "cell_type": "code",
   "execution_count": 23,
   "outputs": [
    {
     "name": "stdout",
     "output_type": "stream",
     "text": [
      "Loading\n",
      "\n",
      "Reactions: 4652\n",
      "Metabolites: 3859\n",
      "Genes: 3184\n",
      "Model loaded\n"
     ]
    }
   ],
   "source": [
    "data_directory = \"../data\"\n",
    "model = MyModel(join(data_directory, \"model_dfba.xml\"), \"e_Biomass_trial4__cytop\")\n",
    "model.add_medium(join(data_directory, \"media.xlsx\"), \"base_medium\")\n",
    "model.setup_condition(\"4\")"
   ],
   "metadata": {
    "collapsed": false
   }
  },
  {
   "cell_type": "code",
   "execution_count": 24,
   "outputs": [
    {
     "name": "stdout",
     "output_type": "stream",
     "text": [
      "Runnning pFBA\n"
     ]
    },
    {
     "data": {
      "text/plain": "<cobra.summary.model_summary.ModelSummary at 0x2890d8b0f10>",
      "text/html": "<h3>Objective</h3><p>1.0 e_Biomass_trial4__cytop = 0.20851195753873697</p><h4>Uptake</h4><table border=\"1\" class=\"dataframe\">\n  <thead>\n    <tr style=\"text-align: right;\">\n      <th>Metabolite</th>\n      <th>Reaction</th>\n      <th>Flux</th>\n      <th>C-Number</th>\n      <th>C-Flux</th>\n    </tr>\n  </thead>\n  <tbody>\n    <tr>\n      <td>C00001__extr</td>\n      <td>EX_C00001__dra</td>\n      <td>6.709</td>\n      <td>0</td>\n      <td>0.00%</td>\n    </tr>\n    <tr>\n      <td>C00009__extr</td>\n      <td>EX_C00009__dra</td>\n      <td>0.02764</td>\n      <td>0</td>\n      <td>0.00%</td>\n    </tr>\n    <tr>\n      <td>C00011__extr</td>\n      <td>EX_C00011__dra</td>\n      <td>8.77</td>\n      <td>1</td>\n      <td>100.00%</td>\n    </tr>\n    <tr>\n      <td>C00059__extr</td>\n      <td>EX_C00059__dra</td>\n      <td>0.01377</td>\n      <td>0</td>\n      <td>0.00%</td>\n    </tr>\n    <tr>\n      <td>C00080__extr</td>\n      <td>EX_C00080__dra</td>\n      <td>0.04141</td>\n      <td>0</td>\n      <td>0.00%</td>\n    </tr>\n    <tr>\n      <td>C00205__extr</td>\n      <td>EX_C00205__dra</td>\n      <td>609.8</td>\n      <td>0</td>\n      <td>0.00%</td>\n    </tr>\n    <tr>\n      <td>C00244__extr</td>\n      <td>EX_C00244__dra</td>\n      <td>0.4444</td>\n      <td>0</td>\n      <td>0.00%</td>\n    </tr>\n    <tr>\n      <td>C00305__extr</td>\n      <td>EX_C00305__dra</td>\n      <td>2.304E-05</td>\n      <td>0</td>\n      <td>0.00%</td>\n    </tr>\n    <tr>\n      <td>C14818__extr</td>\n      <td>EX_C14818__dra</td>\n      <td>2.073E-07</td>\n      <td>0</td>\n      <td>0.00%</td>\n    </tr>\n  </tbody>\n</table><h4>Secretion</h4><table border=\"1\" class=\"dataframe\">\n  <thead>\n    <tr style=\"text-align: right;\">\n      <th>Metabolite</th>\n      <th>Reaction</th>\n      <th>Flux</th>\n      <th>C-Number</th>\n      <th>C-Flux</th>\n    </tr>\n  </thead>\n  <tbody>\n    <tr>\n      <td>photon298__cytop</td>\n      <td>DM_photon298__cytop</td>\n      <td>-0.1355</td>\n      <td>0</td>\n      <td>0.00%</td>\n    </tr>\n    <tr>\n      <td>photon450__chlo</td>\n      <td>DM_photon450__chlo</td>\n      <td>-16.68</td>\n      <td>0</td>\n      <td>0.00%</td>\n    </tr>\n    <tr>\n      <td>photon490__chlo</td>\n      <td>DM_photon490__chlo</td>\n      <td>-92.61</td>\n      <td>0</td>\n      <td>0.00%</td>\n    </tr>\n    <tr>\n      <td>photon646__chlo</td>\n      <td>DM_photon646__chlo</td>\n      <td>-156.6</td>\n      <td>0</td>\n      <td>0.00%</td>\n    </tr>\n    <tr>\n      <td>photon673__chlo</td>\n      <td>DM_photon673__chlo</td>\n      <td>-20.11</td>\n      <td>0</td>\n      <td>0.00%</td>\n    </tr>\n    <tr>\n      <td>C00007__extr</td>\n      <td>EX_C00007__dra</td>\n      <td>-10.53</td>\n      <td>0</td>\n      <td>0.00%</td>\n    </tr>\n    <tr>\n      <td>e_Biomass__cytop</td>\n      <td>EX_e_Biomass__dra</td>\n      <td>-0.2085</td>\n      <td>0</td>\n      <td>0.00%</td>\n    </tr>\n  </tbody>\n</table>"
     },
     "execution_count": 24,
     "metadata": {},
     "output_type": "execute_result"
    }
   ],
   "source": [
    "pfba_sol = pfba(model)\n",
    "model.summary(pfba_sol)"
   ],
   "metadata": {
    "collapsed": false
   }
  },
  {
   "cell_type": "code",
   "execution_count": 25,
   "outputs": [
    {
     "name": "stdout",
     "output_type": "stream",
     "text": [
      "Runnning pFBA\n",
      "Objective\n",
      "=========\n",
      "1.0 e_Biomass_trial4__cytop = 0.14560173637026494\n",
      "\n",
      "Uptake\n",
      "------\n",
      "  Metabolite       Reaction      Flux  C-Number  C-Flux\n",
      "C00001__extr EX_C00001__dra     6.892         0   0.00%\n",
      "C00009__extr EX_C00009__dra    0.0193         0   0.00%\n",
      "C00011__extr EX_C00011__dra      8.77         1 100.00%\n",
      "C00059__extr EX_C00059__dra  0.009616         0   0.00%\n",
      "C00080__extr EX_C00080__dra   0.02891         0   0.00%\n",
      "C00205__extr EX_C00205__dra     576.3         0   0.00%\n",
      "C00244__extr EX_C00244__dra    0.3103         0   0.00%\n",
      "C00305__extr EX_C00305__dra 1.609E-05         0   0.00%\n",
      "C14818__extr EX_C14818__dra 1.448E-07         0   0.00%\n",
      "\n",
      "Secretion\n",
      "---------\n",
      "      Metabolite            Reaction     Flux  C-Number  C-Flux\n",
      "    C00369__chlo     DM_C00369__chlo -0.00147      1800 100.00%\n",
      "photon298__cytop DM_photon298__cytop  -0.1281         0   0.00%\n",
      " photon450__chlo  DM_photon450__chlo   -15.76         0   0.00%\n",
      " photon490__chlo  DM_photon490__chlo   -87.52         0   0.00%\n",
      " photon646__chlo  DM_photon646__chlo     -148         0   0.00%\n",
      " photon673__chlo  DM_photon673__chlo   -19.13         0   0.00%\n",
      "    C00007__extr      EX_C00007__dra   -9.997         0   0.00%\n",
      "e_Biomass__cytop   EX_e_Biomass__dra  -0.1456         0   0.00%\n",
      "\n"
     ]
    }
   ],
   "source": [
    "with model:\n",
    "    model.reactions.DM_C00369__chlo.bounds = (0.00147, 1000)\n",
    "    pfba_sol = pfba(model)\n",
    "    # print(model.metabolites.C00369__chlo.summary(pfba_sol))\n",
    "    print(model.summary(pfba_sol))"
   ],
   "metadata": {
    "collapsed": false
   }
  },
  {
   "cell_type": "code",
   "execution_count": 87,
   "outputs": [
    {
     "data": {
      "text/plain": "-0.6945877189999999"
     },
     "execution_count": 87,
     "metadata": {},
     "output_type": "execute_result"
    }
   ],
   "source": [
    "sum([model.reactions.e_Biomass_trial4__cytop.metabolites[reactant] for reactant in model.reactions.e_Biomass_trial4__cytop.metabolites if model.reactions.e_Biomass_trial4__cytop.metabolites[reactant] < 0 and model.reactions.e_Biomass_trial4__cytop.metabolites[reactant]>-1])"
   ],
   "metadata": {
    "collapsed": false
   }
  },
  {
   "cell_type": "code",
   "execution_count": 31,
   "outputs": [],
   "source": [
    "original_sol = model.optimize().objective_value"
   ],
   "metadata": {
    "collapsed": false
   }
  },
  {
   "cell_type": "code",
   "execution_count": 61,
   "outputs": [
    {
     "name": "stdout",
     "output_type": "stream",
     "text": [
      "Runnning pFBA\n"
     ]
    },
    {
     "data": {
      "text/plain": "<cobra.summary.model_summary.ModelSummary at 0x1f57d77dd90>",
      "text/html": "<h3>Objective</h3><p>1.0 e_Biomass_trial4__cytop = 0.2542772899227639</p><h4>Uptake</h4><table border=\"1\" class=\"dataframe\">\n  <thead>\n    <tr style=\"text-align: right;\">\n      <th>Metabolite</th>\n      <th>Reaction</th>\n      <th>Flux</th>\n      <th>C-Number</th>\n      <th>C-Flux</th>\n    </tr>\n  </thead>\n  <tbody>\n    <tr>\n      <td>C00001__extr</td>\n      <td>EX_C00001__dra</td>\n      <td>6.489</td>\n      <td>0</td>\n      <td>0.00%</td>\n    </tr>\n    <tr>\n      <td>C00009__extr</td>\n      <td>EX_C00009__dra</td>\n      <td>0.06328</td>\n      <td>0</td>\n      <td>0.00%</td>\n    </tr>\n    <tr>\n      <td>C00011__extr</td>\n      <td>EX_C00011__dra</td>\n      <td>8.77</td>\n      <td>1</td>\n      <td>100.00%</td>\n    </tr>\n    <tr>\n      <td>C00059__extr</td>\n      <td>EX_C00059__dra</td>\n      <td>0.03695</td>\n      <td>0</td>\n      <td>0.00%</td>\n    </tr>\n    <tr>\n      <td>C00080__extr</td>\n      <td>EX_C00080__dra</td>\n      <td>0.1002</td>\n      <td>0</td>\n      <td>0.00%</td>\n    </tr>\n    <tr>\n      <td>C00120__extr</td>\n      <td>EX_C00120__dra</td>\n      <td>1.012E-07</td>\n      <td>10</td>\n      <td>0.00%</td>\n    </tr>\n    <tr>\n      <td>C00205__extr</td>\n      <td>EX_C00205__dra</td>\n      <td>697.7</td>\n      <td>0</td>\n      <td>0.00%</td>\n    </tr>\n    <tr>\n      <td>C00244__extr</td>\n      <td>EX_C00244__dra</td>\n      <td>1.218</td>\n      <td>0</td>\n      <td>0.00%</td>\n    </tr>\n    <tr>\n      <td>C00305__extr</td>\n      <td>EX_C00305__dra</td>\n      <td>4.63E-05</td>\n      <td>0</td>\n      <td>0.00%</td>\n    </tr>\n    <tr>\n      <td>C14818__extr</td>\n      <td>EX_C14818__dra</td>\n      <td>4.901E-07</td>\n      <td>0</td>\n      <td>0.00%</td>\n    </tr>\n  </tbody>\n</table><h4>Secretion</h4><table border=\"1\" class=\"dataframe\">\n  <thead>\n    <tr style=\"text-align: right;\">\n      <th>Metabolite</th>\n      <th>Reaction</th>\n      <th>Flux</th>\n      <th>C-Number</th>\n      <th>C-Flux</th>\n    </tr>\n  </thead>\n  <tbody>\n    <tr>\n      <td>photon298__cytop</td>\n      <td>DM_photon298__cytop</td>\n      <td>-0.155</td>\n      <td>0</td>\n      <td>0.00%</td>\n    </tr>\n    <tr>\n      <td>photon438__chlo</td>\n      <td>DM_photon438__chlo</td>\n      <td>-22.18</td>\n      <td>0</td>\n      <td>0.00%</td>\n    </tr>\n    <tr>\n      <td>photon450__chlo</td>\n      <td>DM_photon450__chlo</td>\n      <td>-19.08</td>\n      <td>0</td>\n      <td>0.00%</td>\n    </tr>\n    <tr>\n      <td>photon490__chlo</td>\n      <td>DM_photon490__chlo</td>\n      <td>-105.9</td>\n      <td>0</td>\n      <td>0.00%</td>\n    </tr>\n    <tr>\n      <td>photon646__chlo</td>\n      <td>DM_photon646__chlo</td>\n      <td>-179.2</td>\n      <td>0</td>\n      <td>0.00%</td>\n    </tr>\n    <tr>\n      <td>C00007__extr</td>\n      <td>EX_C00007__dra</td>\n      <td>-12.83</td>\n      <td>0</td>\n      <td>0.00%</td>\n    </tr>\n    <tr>\n      <td>C00469__extr</td>\n      <td>EX_C00469__dra</td>\n      <td>-1.917E-07</td>\n      <td>2</td>\n      <td>100.00%</td>\n    </tr>\n    <tr>\n      <td>e_Biomass__cytop</td>\n      <td>EX_e_Biomass__dra</td>\n      <td>-0.2543</td>\n      <td>0</td>\n      <td>0.00%</td>\n    </tr>\n  </tbody>\n</table>"
     },
     "execution_count": 61,
     "metadata": {},
     "output_type": "execute_result"
    }
   ],
   "source": [
    "model.summary()"
   ],
   "metadata": {
    "collapsed": false
   }
  },
  {
   "cell_type": "code",
   "execution_count": 35,
   "outputs": [
    {
     "data": {
      "text/plain": "92.09382"
     },
     "execution_count": 35,
     "metadata": {},
     "output_type": "execute_result"
    }
   ],
   "source": [
    "model.metabolites.C00116__cytop.formula_weight"
   ],
   "metadata": {
    "collapsed": false
   }
  },
  {
   "cell_type": "code",
   "execution_count": 32,
   "outputs": [
    {
     "data": {
      "text/plain": "                         minimum  maximum\nT_SUCBZth__chlomem -2.295578e-08      0.0",
      "text/html": "<div>\n<style scoped>\n    .dataframe tbody tr th:only-of-type {\n        vertical-align: middle;\n    }\n\n    .dataframe tbody tr th {\n        vertical-align: top;\n    }\n\n    .dataframe thead th {\n        text-align: right;\n    }\n</style>\n<table border=\"1\" class=\"dataframe\">\n  <thead>\n    <tr style=\"text-align: right;\">\n      <th></th>\n      <th>minimum</th>\n      <th>maximum</th>\n    </tr>\n  </thead>\n  <tbody>\n    <tr>\n      <th>T_SUCBZth__chlomem</th>\n      <td>-2.295578e-08</td>\n      <td>0.0</td>\n    </tr>\n  </tbody>\n</table>\n</div>"
     },
     "execution_count": 32,
     "metadata": {},
     "output_type": "execute_result"
    }
   ],
   "source": [
    "fva(model, [\"T_SUCBZth__chlomem\"])"
   ],
   "metadata": {
    "collapsed": false
   }
  },
  {
   "cell_type": "code",
   "execution_count": 99,
   "outputs": [
    {
     "name": "stdout",
     "output_type": "stream",
     "text": [
      "Objective\n",
      "=========\n",
      "1.0 e_Biomass_trial4__cytop = 0.3005351891439121\n",
      "\n",
      "Uptake\n",
      "------\n",
      "  Metabolite       Reaction      Flux  C-Number  C-Flux\n",
      "C00001__extr EX_C00001__dra      7.22         0   0.00%\n",
      "C00009__extr EX_C00009__dra    0.0409         0   0.00%\n",
      "C00011__extr EX_C00011__dra      8.77         1 100.00%\n",
      "C00059__extr EX_C00059__dra   0.02354         0   0.00%\n",
      "C00080__extr EX_C00080__dra   0.06444         0   0.00%\n",
      "C00120__extr EX_C00120__dra 1.127E-07        10   0.00%\n",
      "C00205__extr EX_C00205__dra     664.6         0   0.00%\n",
      "C00244__extr EX_C00244__dra    0.7615         0   0.00%\n",
      "C00305__extr EX_C00305__dra  3.41E-05         0   0.00%\n",
      "C14818__extr EX_C14818__dra 3.061E-07         0   0.00%\n",
      "\n",
      "Secretion\n",
      "---------\n",
      "      Metabolite            Reaction    Flux  C-Number C-Flux\n",
      "photon298__cytop DM_photon298__cytop -0.1477         0  0.00%\n",
      " photon450__chlo  DM_photon450__chlo  -18.18         0  0.00%\n",
      " photon490__chlo  DM_photon490__chlo  -100.9         0  0.00%\n",
      " photon646__chlo  DM_photon646__chlo  -170.7         0  0.00%\n",
      " photon673__chlo  DM_photon673__chlo   -21.6         0  0.00%\n",
      "    C00007__extr      EX_C00007__dra  -11.64         0  0.00%\n",
      "e_Biomass__cytop   EX_e_Biomass__dra -0.3005         0  0.00%\n",
      "\n"
     ]
    }
   ],
   "source": [
    "with model:\n",
    "    # model.biomass_reaction = model.bio_reaction.id\n",
    "    # model.reactions.e_Carbohydrate__cytop.add_metabolites({model.metabolites.C00369__chlo: -model.reactions.e_Carbohydrate__cytop.metabolites[model.metabolites.C00369__chlo]})\n",
    "    # model.reactions.e_Biomass_trial4__cytop\n",
    "    # model.reactions.e_Acid__cytop.add_metabolites({model.metabolites.C00116__cytop: -model.reactions.e_Acid__cytop.metabolites[model.metabolites.C00116__cytop]})\n",
    "    # model.reactions.DM_C00369__chlo.bounds = (0.305381773/model.metabolites.C00369__chlo.formula_weight*1000*original_sol, 1000)\n",
    "    # model.reactions.DM_C00369__chlo.bounds = (0.00147, 1000)\n",
    "    # [setattr(x, 'objective_coefficient', 0) for x in model.reactions if x.objective_coefficient != 0]\n",
    "    # model.reactions.EX_e_Biomass__dra.objective_coefficient = 0.7\n",
    "    # model.reactions.DM_C00369__chlo.objective_coefficient = 0.3\n",
    "    # model.objective = \"e_Biomass__cytop\"\n",
    "    sol = pfba(model)\n",
    "    print(model.summary(solution=sol))\n",
    "    # print(model.metabolites.C00369__chlo.summary(sol))"
   ],
   "metadata": {
    "collapsed": false
   }
  },
  {
   "cell_type": "code",
   "execution_count": 38,
   "outputs": [
    {
     "data": {
      "text/plain": "{<Metabolite e_Pigment__chlo at 0x1f57f3bf850>: -0.02055,\n <Metabolite e_Acid__cytop at 0x1f57f258f10>: -0.15624,\n <Metabolite e_RNA__cytop at 0x1f57f2dfee0>: -0.02055,\n <Metabolite e_Carbohydrate__cytop at 0x1f57f2df850>: -0.50869,\n <Metabolite e_Lipid__cytop at 0x1f57f30e160>: -0.11407,\n <Metabolite C00002__cytop at 0x1f57f29a880>: -39.24,\n <Metabolite C00001__cytop at 0x1f57f26ec40>: -39.24,\n <Metabolite e_Sterol__cytop at 0x1f57f286190>: -0.0014,\n <Metabolite e_DNA__cytop at 0x1f57f26e880>: -0.01028,\n <Metabolite e_Cofactor__cytop at 0x1f57f33e0a0>: -0.00103,\n <Metabolite e_Protein__cytop at 0x1f57f2f7430>: -0.1672,\n <Metabolite C00008__cytop at 0x1f57f2df700>: 39.24,\n <Metabolite e_Biomass__cytop at 0x1f57f2587f0>: 1.0,\n <Metabolite C00009__cytop at 0x1f57f2c9040>: 39.24,\n <Metabolite C00080__cytop at 0x1f57f29a430>: 39.24}"
     },
     "execution_count": 38,
     "metadata": {},
     "output_type": "execute_result"
    }
   ],
   "source": [
    "total = sum([reactant for reactant in model.reactions.e_Biomass__cytop.metabolites if model.reactions.e_Biomass__cytop.metabolites[reactant] < 0 and model.reactions.e_Biomass__cytop.metabolites[reactant]>-1])\n",
    "for reactant in model.reactions.e_Biomass__cytop.reactants:\n",
    "    st ="
   ],
   "metadata": {
    "collapsed": false
   }
  },
  {
   "cell_type": "markdown",
   "source": [],
   "metadata": {
    "collapsed": false
   }
  },
  {
   "cell_type": "markdown",
   "source": [
    "model.reactions.DM_C00369__chlo"
   ],
   "metadata": {
    "collapsed": false
   }
  },
  {
   "cell_type": "markdown",
   "source": [
    "model.reactions.e_Lipid__cytop.add_metabolites({model.metabolites.C00422__lip: 0.13})"
   ],
   "metadata": {
    "collapsed": false
   }
  },
  {
   "cell_type": "markdown",
   "source": [
    "model.reactions.e_Lipid__cytop.metabolites"
   ],
   "metadata": {
    "collapsed": false
   }
  },
  {
   "cell_type": "markdown",
   "source": [
    "model.reactions.e_Carbohydrate__cytop.metabolites"
   ],
   "metadata": {
    "collapsed": false
   }
  },
  {
   "cell_type": "markdown",
   "source": [
    "0.3212*(1-(0.0123373*48660.08/1000*0.50869+0.13*904.7821/1000*0.11407))"
   ],
   "metadata": {
    "collapsed": false
   }
  },
  {
   "cell_type": "markdown",
   "source": [
    "(1-(0.0123373*48660.08/1000*0.50869+0.13*904.7821/1000*0.11407))"
   ],
   "metadata": {
    "collapsed": false
   }
  },
  {
   "cell_type": "markdown",
   "source": [
    "model.reactions.DM_C00369__chlo.bounds = (0.3/48660.08*1000*0.21, 1000)"
   ],
   "metadata": {
    "collapsed": false
   }
  },
  {
   "cell_type": "markdown",
   "source": [
    "model.reactions.DM_C00369__chlo"
   ],
   "metadata": {
    "collapsed": false
   }
  },
  {
   "cell_type": "markdown",
   "source": [
    "model.summary()"
   ],
   "metadata": {
    "collapsed": false
   }
  }
 ],
 "metadata": {
  "kernelspec": {
   "display_name": "Python 3 (ipykernel)",
   "language": "python",
   "name": "python3"
  },
  "language_info": {
   "codemirror_mode": {
    "name": "ipython",
    "version": 3
   },
   "file_extension": ".py",
   "mimetype": "text/x-python",
   "name": "python",
   "nbconvert_exporter": "python",
   "pygments_lexer": "ipython3",
   "version": "3.9.6"
  }
 },
 "nbformat": 4,
 "nbformat_minor": 1
}
