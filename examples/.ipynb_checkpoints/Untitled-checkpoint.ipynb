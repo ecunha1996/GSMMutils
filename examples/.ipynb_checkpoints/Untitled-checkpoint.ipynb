{
 "cells": [
  {
   "cell_type": "code",
   "execution_count": 1,
   "id": "c122ffdd-8cdb-43f3-85c1-0fc822009c6a",
   "metadata": {},
   "outputs": [
    {
     "name": "stdout",
     "output_type": "stream",
     "text": [
      "Loading\n",
      "\n",
      "Reactions: 3515\n",
      "Metabolites: 3660\n",
      "Genes: 1690\n",
      "Model loaded\n"
     ]
    }
   ],
   "source": [
    "import os\n",
    "from os.path import join\n",
    "import sys\n",
    "sys.path.insert(0, \"/opt/src\")\n",
    "from dfba import DfbaModel, ExchangeFlux, KineticVariable, ControlParameter\n",
    "from plotly import graph_objects as go\n",
    "from functools import partial\n",
    "from dfba.plot.plotly import *\n",
    "from gsmmutils.experimental.ExpMatrix import *\n",
    "from gsmmutils.model.COBRAmodel import MyModel\n",
    "import sympy as sp\n",
    "from sympy import Max, Min\n",
    "from sympy.functions import Abs\n",
    "from gsmmutils import DATA_PATH\n",
    "import json\n",
    "from joblib import Parallel\n",
    "import numbers\n",
    "import matplotlib.pyplot as plt\n",
    "import sys\n",
    "sys.path.insert(0, \"/opt/src\")\n",
    "from gsmmutils.dynamic.run_dfba import *"
   ]
  },
  {
   "cell_type": "code",
   "execution_count": 2,
   "id": "55166c91-61b6-4a5c-bf3a-e21c789d7a90",
   "metadata": {},
   "outputs": [
    {
     "data": {
      "text/plain": [
       "time                        4049.500000\n",
       "e_ActiveBiomass__cytop        42.049734\n",
       "EX_C00009__dra                -9.818550\n",
       "DM_C00369__chlo                0.416571\n",
       "DM_C02094__chlo                0.025454\n",
       "EX_C00244__dra              -528.665242\n",
       "DM_C05306__chlo                0.035552\n",
       "DM_C05307__chlo                0.020550\n",
       "EX_C00011__dra             -2931.175165\n",
       "DM_C00116__cytop              82.451103\n",
       "DM_C00404__vacu               -0.102336\n",
       "DM_C00244__cytop             145.888777\n",
       "EX_C00205__dra           -239888.502290\n",
       "DM_C08601__chlo                0.071218\n",
       "DM_C00422__lip                 0.013790\n",
       "dtype: float64"
      ]
     },
     "execution_count": 2,
     "metadata": {},
     "output_type": "execute_result"
    }
   ],
   "source": [
    "initial_parameters = json.load(open(f\"{DATA_PATH}/dfba/inputs/initial_parameters.json\", \"r\"))\n",
    "concentrations_1, trajectories_1 = create_dfba_model(\"1\", initial_parameters, False)\n",
    "trajectories_1.sum()"
   ]
  },
  {
   "cell_type": "code",
   "execution_count": null,
   "id": "1a7caa90-e7b3-4b4c-9852-3219326475fc",
   "metadata": {},
   "outputs": [],
   "source": [
    "initial_parameters = json.load(open(f\"{DATA_PATH}/dfba/inputs/initial_parameters.json\", \"r\"))\n",
    "concentrations_2, trajectories_2 = create_dfba_model(\"7\", initial_parameters, False)\n",
    "trajectories_2.sum()"
   ]
  },
  {
   "cell_type": "code",
   "execution_count": null,
   "id": "096acaca-7b8e-44bb-8b40-b8fb71bf9467",
   "metadata": {},
   "outputs": [],
   "source": [
    "print(f\"Trial 1: \" + str(concentrations_1['Chlorophyll'].iloc[-1].round(4)))\n",
    "print(f\"Trial 2: \" + str(concentrations_2['Chlorophyll'].iloc[-1].round(4)))"
   ]
  },
  {
   "cell_type": "code",
   "execution_count": null,
   "id": "5743475b-068f-4cb1-99b9-7c5fbfdd971f",
   "metadata": {},
   "outputs": [],
   "source": [
    "for col in trajectories_1.columns:\n",
    "    print(col + \"\\t\" + str(trajectories_2[col].sum()/trajectories_1[col].sum()))"
   ]
  },
  {
   "cell_type": "code",
   "execution_count": null,
   "id": "155f288b-1c89-46c4-9311-2e5126075fed",
   "metadata": {},
   "outputs": [],
   "source": [
    "# params = {\"ymax\": [0, 10, 1], \"Esat\": [0, 10000, 100], \"KEchl\": [0, 1000, 10], \"Kaeration\": [0, 10000, 100], \"light_conversion_factor\": [0, 20, 1]}"
   ]
  },
  {
   "cell_type": "code",
   "execution_count": null,
   "id": "68de14d9-84b1-4ccb-a402-14184b01295f",
   "metadata": {},
   "outputs": [],
   "source": [
    "# res_1, res_2 = {}, {}\n",
    "# for param_name, bounds in params.items():\n",
    "#     initial_parameters = json.load(open(f\"{DATA_PATH}/dfba/inputs/initial_parameters.json\", \"r\"))\n",
    "#     nrange = range(bounds[0], bounds[1], bounds[2])\n",
    "#     for i in nrange:\n",
    "#         initial_parameters[param_name] = i\n",
    "#         concentrations_1, trajectories_1 = create_dfba_model(\"1\", initial_parameters, False)\n",
    "#         concentrations_2, trajectories_2 = create_dfba_model(\"7\", initial_parameters, False)\n",
    "#         res_1[param_name + str(i)] = concentrations_1['Chlorophyll'].iloc[-1].round(4)\n",
    "#         res_2[param_name + str(i)] = concentrations_2['Chlorophyll'].iloc[-1].round(4)\n",
    "#         if res_1[param_name + str(i)] < res_2[param_name + str(i)]:\n",
    "#             print(param_name + \"\\t\" + str(i))\n",
    "#             print(res_1[param_name + str(i)])\n",
    "#             print(res_2[param_name + str(i)])"
   ]
  },
  {
   "cell_type": "code",
   "execution_count": null,
   "id": "994113de-99cc-4531-a60c-0ddafef0fb2c",
   "metadata": {},
   "outputs": [],
   "source": [
    "# params = {\"Esat\": [5000, 10000, 50], \"KEchl\": [0, 100, 1]}"
   ]
  },
  {
   "cell_type": "code",
   "execution_count": null,
   "id": "da0d1898-042c-45b3-a5a4-c6e2432744a7",
   "metadata": {},
   "outputs": [],
   "source": [
    "# res_1, res_2 = {}, {}\n",
    "# for param_name, bounds in params.items():\n",
    "#     print(param_name)\n",
    "#     initial_parameters = json.load(open(f\"{DATA_PATH}/dfba/inputs/initial_parameters.json\", \"r\"))\n",
    "#     nrange = range(bounds[0], bounds[1], bounds[2])\n",
    "#     for i in nrange:\n",
    "#         initial_parameters[param_name] = i\n",
    "#         concentrations_1, trajectories_1 = create_dfba_model(\"1\", initial_parameters, False)\n",
    "#         concentrations_2, trajectories_2 = create_dfba_model(\"7\", initial_parameters, False)\n",
    "#         res_1[param_name + str(i)] = concentrations_1['Chlorophyll'].iloc[-1].round(4)\n",
    "#         res_2[param_name + str(i)] = concentrations_2['Chlorophyll'].iloc[-1].round(4)\n",
    "#         if res_1[param_name + str(i)] < res_2[param_name + str(i)]:\n",
    "#             print(param_name + \"\\t\" + str(i))\n",
    "#             print(res_1[param_name + str(i)])\n",
    "#             print(res_2[param_name + str(i)])"
   ]
  }
 ],
 "metadata": {
  "kernelspec": {
   "display_name": "Python 3",
   "language": "python",
   "name": "python3"
  },
  "language_info": {
   "codemirror_mode": {
    "name": "ipython",
    "version": 3
   },
   "file_extension": ".py",
   "mimetype": "text/x-python",
   "name": "python",
   "nbconvert_exporter": "python",
   "pygments_lexer": "ipython3",
   "version": "3.7.3"
  }
 },
 "nbformat": 4,
 "nbformat_minor": 5
}
