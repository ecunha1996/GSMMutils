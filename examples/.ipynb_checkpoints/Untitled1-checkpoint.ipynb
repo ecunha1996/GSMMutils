{
 "cells": [
  {
   "cell_type": "code",
   "execution_count": 7,
   "id": "29250034",
   "metadata": {},
   "outputs": [],
   "source": [
    "import escher\n",
    "from escher import Builder\n",
    "import cobra\n",
    "from time import sleep\n",
    "from cobra.io import read_sbml_model, to_json"
   ]
  },
  {
   "cell_type": "code",
   "execution_count": 8,
   "id": "ffabc8d0",
   "metadata": {},
   "outputs": [
    {
     "name": "stderr",
     "output_type": "stream",
     "text": [
      "3046 does not conform to 'http(s)://identifiers.org/collection/id' or'http(s)://identifiers.org/COLLECTION:id\n"
     ]
    }
   ],
   "source": [
    "model = read_sbml_model(\"../data/models/model_ds.xml\")\n",
    "json_model = to_json(model)"
   ]
  },
  {
   "cell_type": "code",
   "execution_count": 12,
   "id": "b9db0641",
   "metadata": {},
   "outputs": [],
   "source": [
    "builder = Builder(model_json=json_model)"
   ]
  },
  {
   "cell_type": "code",
   "execution_count": 13,
   "id": "20bd8447",
   "metadata": {},
   "outputs": [
    {
     "data": {
      "application/vnd.jupyter.widget-view+json": {
       "model_id": "dff9e997d1f14c268d8b713bfd649470",
       "version_major": 2,
       "version_minor": 0
      },
      "text/plain": [
       "Builder()"
      ]
     },
     "metadata": {},
     "output_type": "display_data"
    }
   ],
   "source": [
    "builder"
   ]
  }
 ],
 "metadata": {
  "kernelspec": {
   "display_name": "Python 3 (ipykernel)",
   "language": "python",
   "name": "python3"
  },
  "language_info": {
   "codemirror_mode": {
    "name": "ipython",
    "version": 3
   },
   "file_extension": ".py",
   "mimetype": "text/x-python",
   "name": "python",
   "nbconvert_exporter": "python",
   "pygments_lexer": "ipython3",
   "version": "3.7.12"
  }
 },
 "nbformat": 4,
 "nbformat_minor": 5
}
