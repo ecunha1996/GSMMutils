{
 "cells": [
  {
   "cell_type": "code",
   "execution_count": 24,
   "metadata": {
    "ExecuteTime": {
     "end_time": "2023-05-29T15:21:50.472942100Z",
     "start_time": "2023-05-29T15:21:40.983475700Z"
    }
   },
   "outputs": [],
   "source": [
    "from ExpGSMM.model.COBRAmodel import *\n",
    "from ExpGSMM import DATA_PATH"
   ]
  },
  {
   "cell_type": "code",
   "execution_count": 2,
   "metadata": {
    "ExecuteTime": {
     "end_time": "2023-05-26T18:22:55.317069700Z",
     "start_time": "2023-05-26T18:22:51.557621800Z"
    }
   },
   "outputs": [
    {
     "name": "stdout",
     "output_type": "stream",
     "text": [
      "Loading\n",
      "\n"
     ]
    },
    {
     "name": "stderr",
     "output_type": "stream",
     "text": [
      "Could not identify an external compartment by name and choosing one with the most boundary reactions. That might be complete nonsense or change suddenly. Consider renaming your compartments using `Model.compartments` to fix this.\n"
     ]
    },
    {
     "name": "stdout",
     "output_type": "stream",
     "text": [
      "Reactions: 3259\n",
      "Metabolites: 3502\n",
      "Genes: 1404\n",
      "Model loaded\n"
     ]
    }
   ],
   "source": [
    "model = MyModel(r\"C:\\Users\\Bisbii\\PythonProjects\\DielModels\\examples\\Diel_Model_after_complete_pipeline.xml\", \"Biomass_Total\")"
   ]
  },
  {
   "cell_type": "code",
   "execution_count": 3,
   "metadata": {
    "ExecuteTime": {
     "end_time": "2023-05-26T18:23:11.525335900Z",
     "start_time": "2023-05-26T18:23:11.484780200Z"
    }
   },
   "outputs": [],
   "source": [
    "model.get_pathway_reactions_map()\n",
    "df = pd.DataFrame.from_dict(data=model.pathway_reactions_map, orient='index').T\n",
    "df.to_csv(\"pathways_map.csv\", index=False)"
   ]
  },
  {
   "cell_type": "code",
   "execution_count": 12,
   "metadata": {
    "ExecuteTime": {
     "end_time": "2023-05-30T09:02:28.627081200Z",
     "start_time": "2023-05-30T09:02:21.463871800Z"
    }
   },
   "outputs": [
    {
     "name": "stdout",
     "output_type": "stream",
     "text": [
      "Loading\n",
      "\n"
     ]
    },
    {
     "name": "stderr",
     "output_type": "stream",
     "text": [
      "72520 does not conform to 'http(s)://identifiers.org/collection/id' or'http(s)://identifiers.org/COLLECTION:id\n",
      "Could not identify an external compartment by name and choosing one with the most boundary reactions. That might be complete nonsense or change suddenly. Consider renaming your compartments using `Model.compartments` to fix this.\n"
     ]
    },
    {
     "name": "stdout",
     "output_type": "stream",
     "text": [
      "Reactions: 3531\n",
      "Metabolites: 5328\n",
      "Genes: 1272\n",
      "Model loaded\n"
     ]
    }
   ],
   "source": [
    "model = MyModel(join(DATA_PATH, 'models/model_ng.xml'), 'e_Biomass__cytop')"
   ]
  },
  {
   "cell_type": "code",
   "execution_count": 10,
   "metadata": {
    "ExecuteTime": {
     "end_time": "2023-05-29T08:41:16.053469100Z",
     "start_time": "2023-05-29T08:41:13.253757900Z"
    }
   },
   "outputs": [
    {
     "name": "stdout",
     "output_type": "stream",
     "text": [
      "Runnning pFBA\n"
     ]
    },
    {
     "data": {
      "text/html": [
       "<h3>Objective</h3><p>1.0 e_Biomass__cytop = 1.897587368481809</p><h4>Uptake</h4><table border=\"1\" class=\"dataframe\">\n",
       "  <thead>\n",
       "    <tr style=\"text-align: right;\">\n",
       "      <th>Metabolite</th>\n",
       "      <th>Reaction</th>\n",
       "      <th>Flux</th>\n",
       "      <th>C-Number</th>\n",
       "      <th>C-Flux</th>\n",
       "    </tr>\n",
       "  </thead>\n",
       "  <tbody>\n",
       "    <tr>\n",
       "      <td>C00001__extr</td>\n",
       "      <td>EX_C00001__dra</td>\n",
       "      <td>69.85</td>\n",
       "      <td>0</td>\n",
       "      <td>0.00%</td>\n",
       "    </tr>\n",
       "    <tr>\n",
       "      <td>C00009__extr</td>\n",
       "      <td>EX_C00009__dra</td>\n",
       "      <td>2.49</td>\n",
       "      <td>0</td>\n",
       "      <td>0.00%</td>\n",
       "    </tr>\n",
       "    <tr>\n",
       "      <td>C00011__extr</td>\n",
       "      <td>EX_C00011__dra</td>\n",
       "      <td>98.07</td>\n",
       "      <td>1</td>\n",
       "      <td>100.00%</td>\n",
       "    </tr>\n",
       "    <tr>\n",
       "      <td>C00059__extr</td>\n",
       "      <td>EX_C00059__dra</td>\n",
       "      <td>0.1766</td>\n",
       "      <td>0</td>\n",
       "      <td>0.00%</td>\n",
       "    </tr>\n",
       "    <tr>\n",
       "      <td>C00080__extr</td>\n",
       "      <td>EX_C00080__dra</td>\n",
       "      <td>2.667</td>\n",
       "      <td>0</td>\n",
       "      <td>0.00%</td>\n",
       "    </tr>\n",
       "    <tr>\n",
       "      <td>C00205__extr</td>\n",
       "      <td>EX_C00205__dra</td>\n",
       "      <td>1000</td>\n",
       "      <td>0</td>\n",
       "      <td>0.00%</td>\n",
       "    </tr>\n",
       "    <tr>\n",
       "      <td>C00244__extr</td>\n",
       "      <td>EX_C00244__dra</td>\n",
       "      <td>16.05</td>\n",
       "      <td>0</td>\n",
       "      <td>0.00%</td>\n",
       "    </tr>\n",
       "    <tr>\n",
       "      <td>C00305__extr</td>\n",
       "      <td>EX_C00305__dra</td>\n",
       "      <td>0.1865</td>\n",
       "      <td>0</td>\n",
       "      <td>0.00%</td>\n",
       "    </tr>\n",
       "    <tr>\n",
       "      <td>C14818__extr</td>\n",
       "      <td>EX_C14818__dra</td>\n",
       "      <td>0.0001355</td>\n",
       "      <td>0</td>\n",
       "      <td>0.00%</td>\n",
       "    </tr>\n",
       "  </tbody>\n",
       "</table><h4>Secretion</h4><table border=\"1\" class=\"dataframe\">\n",
       "  <thead>\n",
       "    <tr style=\"text-align: right;\">\n",
       "      <th>Metabolite</th>\n",
       "      <th>Reaction</th>\n",
       "      <th>Flux</th>\n",
       "      <th>C-Number</th>\n",
       "      <th>C-Flux</th>\n",
       "    </tr>\n",
       "  </thead>\n",
       "  <tbody>\n",
       "    <tr>\n",
       "      <td>photon646__chlo</td>\n",
       "      <td>DM_photon646__chlo</td>\n",
       "      <td>-265.5</td>\n",
       "      <td>0</td>\n",
       "      <td>0.00%</td>\n",
       "    </tr>\n",
       "    <tr>\n",
       "      <td>photon680__chlo</td>\n",
       "      <td>DM_photon680__chlo</td>\n",
       "      <td>-64.86</td>\n",
       "      <td>0</td>\n",
       "      <td>0.00%</td>\n",
       "    </tr>\n",
       "    <tr>\n",
       "      <td>C00007__extr</td>\n",
       "      <td>EX_C00007__dra</td>\n",
       "      <td>-148.3</td>\n",
       "      <td>0</td>\n",
       "      <td>0.00%</td>\n",
       "    </tr>\n",
       "    <tr>\n",
       "      <td>C00237__extr</td>\n",
       "      <td>EX_C00237__dra</td>\n",
       "      <td>-0.0001965</td>\n",
       "      <td>1</td>\n",
       "      <td>100.00%</td>\n",
       "    </tr>\n",
       "    <tr>\n",
       "      <td>e_Biomass__cytop</td>\n",
       "      <td>EX_e_Biomass__dra</td>\n",
       "      <td>-1.898</td>\n",
       "      <td>0</td>\n",
       "      <td>0.00%</td>\n",
       "    </tr>\n",
       "  </tbody>\n",
       "</table>"
      ],
      "text/plain": [
       "<cobra.summary.model_summary.ModelSummary at 0x262edc4f880>"
      ]
     },
     "execution_count": 10,
     "metadata": {},
     "output_type": "execute_result"
    }
   ],
   "source": [
    "model.summary()"
   ]
  },
  {
   "cell_type": "code",
   "execution_count": 4,
   "metadata": {
    "ExecuteTime": {
     "end_time": "2023-05-29T15:21:57.357721Z",
     "start_time": "2023-05-29T15:21:57.250370800Z"
    }
   },
   "outputs": [
    {
     "name": "stdout",
     "output_type": "stream",
     "text": [
      "R04744__mito\n",
      "R05506__mito\n",
      "R03346__cytop\n",
      "R03089__er\n",
      "R01457__er\n",
      "R01185__mito\n",
      "R08091__mito\n",
      "R00494__pero\n",
      "R06526__er\n",
      "R09405__er\n",
      "R06522__chlo\n",
      "R07606__chlo\n",
      "R03968__mito\n",
      "ATPase__chlo\n",
      "R07050__er\n",
      "R01185__golg\n",
      "R08286__cytop\n",
      "R08409__chlo\n",
      "R05223__er\n",
      "R07765__mito\n",
      "R07080__er\n",
      "R01325__mito\n",
      "R02088__cytop\n",
      "R07603__mito\n",
      "R07604__mito\n",
      "R01186__golg\n",
      "R00402__cytop\n",
      "R02102__cytop\n",
      "R00183__cytop\n",
      "R07486__er\n",
      "R08294__er\n",
      "R01187__cytop\n",
      "ATP_Synthase__mitmem\n",
      "R09424__er\n",
      "Cytochrome_C_Reductase__mitmem\n",
      "R06896__chlo\n",
      "R01186__chlo\n",
      "R03223__chlo\n",
      "R02383__cytop\n",
      "R04961__mito\n",
      "R07046__er\n",
      "R00985__chlo\n",
      "R07001__er\n",
      "R08091__pero\n",
      "R12067__mito\n",
      "R00939__cytop\n",
      "R10057__er\n",
      "R10712__chlo\n",
      "R07051__er\n",
      "R09514__cytop\n",
      "R01900__mito\n",
      "R00829__pero\n",
      "R01187__mito\n",
      "R11312__chlo\n",
      "R06520__chlo\n",
      "R08767__mito\n",
      "R07409__mito\n",
      "R00209__mito\n",
      "R02719__cytop\n",
      "R01398__cytop\n",
      "R00940__cytop\n",
      "R11894__cytop\n",
      "R05259__er\n",
      "R07099__er\n",
      "R01082__mito\n",
      "R07601__mito\n",
      "R05506__pero\n",
      "R01187__golg\n",
      "R02355__er\n",
      "R09416__er\n",
      "R01185__cytop\n",
      "R02236__cytop\n",
      "R00066__chlo\n",
      "R11945__mitmem\n",
      "R02503__er\n",
      "R12185__cytop\n",
      "R08782__chlo\n",
      "R01186__mito\n",
      "R06525__er\n",
      "R08095__mito\n",
      "R04724__mito\n",
      "R00209__cytop\n",
      "R01186__cytop\n",
      "R00731__cytop\n",
      "R03383__mito\n",
      "R00829__mito\n",
      "R09562__er\n",
      "R07501__cytop\n",
      "R10093__cytop\n",
      "R02354__er\n",
      "R07081__er\n",
      "R07316__cytop\n",
      "R08293__er\n",
      "R07498__er\n",
      "R08391__er\n"
     ]
    },
    {
     "data": {
      "text/plain": [
       "95"
      ]
     },
     "execution_count": 4,
     "metadata": {},
     "output_type": "execute_result"
    }
   ],
   "source": [
    "c=0\n",
    "for reaction in model.reactions:\n",
    "    reactants_ids = [e.id.split(\"__\")[0] for e in reaction.reactants]\n",
    "    products_ids = [e.id.split(\"__\")[0] for e in reaction.products]\n",
    "    if any([e in reactants_ids for e in products_ids]) and not reaction.id.startswith(\"T\"):\n",
    "        print(reaction.id)\n",
    "        c+=1\n",
    "c"
   ]
  },
  {
   "cell_type": "code",
   "execution_count": 78,
   "metadata": {},
   "outputs": [
    {
     "name": "stdout",
     "output_type": "stream",
     "text": [
      "Loading\n",
      "\n"
     ]
    },
    {
     "name": "stderr",
     "output_type": "stream",
     "text": [
      "1148 does not conform to 'http(s)://identifiers.org/collection/id' or'http(s)://identifiers.org/COLLECTION:id\n",
      "Could not identify an external compartment by name and choosing one with the most boundary reactions. That might be complete nonsense or change suddenly. Consider renaming your compartments using `Model.compartments` to fix this.\n"
     ]
    },
    {
     "name": "stdout",
     "output_type": "stream",
     "text": [
      "Reactions: 1444\n",
      "Metabolites: 1459\n",
      "Genes: 624\n",
      "Model loaded\n"
     ]
    }
   ],
   "source": [
    "model = MyModel(join(DATA_PATH, 'models/model_joana.xml'), 'e_Biomass__cytop')"
   ]
  },
  {
   "cell_type": "code",
   "execution_count": 84,
   "metadata": {},
   "outputs": [],
   "source": [
    "balance = check_balance(model)"
   ]
  },
  {
   "cell_type": "code",
   "execution_count": 89,
   "metadata": {
    "scrolled": true
   },
   "outputs": [
    {
     "data": {
      "text/plain": [
       "('R12505',\n",
       " 'R10347',\n",
       " 'R03348',\n",
       " 'R03950',\n",
       " 'R05817',\n",
       " 'R02236',\n",
       " 'R00230',\n",
       " 'R10948',\n",
       " 'R09769',\n",
       " 'R00345',\n",
       " 'R06282',\n",
       " 'R10342',\n",
       " 'R00420',\n",
       " 'R00660',\n",
       " 'R10914',\n",
       " 'R09081',\n",
       " 'R00082',\n",
       " 'R04425',\n",
       " 'R03758',\n",
       " 'R05051',\n",
       " 'R05807',\n",
       " 'R07405',\n",
       " 'R03197',\n",
       " 'R03186',\n",
       " 'R06863',\n",
       " 'R02235',\n",
       " 'R06284',\n",
       " 'R03600',\n",
       " 'R00940',\n",
       " 'R11312',\n",
       " 'R00937',\n",
       " 'R09502',\n",
       " 'R05645',\n",
       " 'R12885',\n",
       " 'R09768',\n",
       " 'R00311',\n",
       " 'R12240',\n",
       " 'R00921',\n",
       " 'R08555',\n",
       " 'R05681',\n",
       " 'R00956',\n",
       " 'R06861',\n",
       " 'R05837',\n",
       " 'R00214',\n",
       " 'R02707',\n",
       " 'R01933',\n",
       " 'R03220',\n",
       " 'R07316',\n",
       " 'R09071',\n",
       " 'R01353',\n",
       " 'R04972',\n",
       " 'R05231',\n",
       " 'R10712',\n",
       " 'R07404',\n",
       " 'R01528',\n",
       " 'R10079',\n",
       " 'R02135',\n",
       " 'R12059',\n",
       " 'R09946',\n",
       " 'R08575',\n",
       " 'R03817')"
      ]
     },
     "execution_count": 89,
     "metadata": {},
     "output_type": "execute_result"
    }
   ],
   "source": [
    "missing_in_products = []\n",
    "for key, value in balance.items():\n",
    "    if \"H\" in value.keys() and len(value.keys())==1:\n",
    "        if value[\"H\"] > 0 and model.metabolites.C00080__cytop not in model.reactions.get_by_id(key).metabolites:\n",
    "            missing_in_products.append(key.split(\"__\")[0])\n",
    "tuple(missing_in_products)"
   ]
  },
  {
   "cell_type": "code",
   "execution_count": 85,
   "metadata": {},
   "outputs": [
    {
     "data": {
      "text/plain": [
       "{'R03450__cytop': {'H': -1.0},\n",
       " 'R12958__cytop': {'H': -1.0},\n",
       " 'R12505__cytop': {'H': 1.0},\n",
       " 'R11261__cytop': {'H': -1502.0, 'O': -751.0, 'C': -900.0},\n",
       " 'R00790__cytop': {'H': -1.0},\n",
       " 'R08243__cytop': {'H': -4.0},\n",
       " 'R12065__cytop': {'H': -1.0},\n",
       " 'R00287__cytop': {'H': -1.0},\n",
       " 'R12851__cytop': {'C': 4.0, 'H': 2.0, 'O': 4.0},\n",
       " 'R06063__cytop': {'H': -2.0},\n",
       " 'R05286__cytop': {'H': -1.0},\n",
       " 'R11709__cytop': {'H': 2.0, 'O': 1.0},\n",
       " 'R12920__cytop': {'C': 11.0,\n",
       "  'H': 22.0,\n",
       "  'N': 2.0,\n",
       "  'O': 7.0,\n",
       "  'P': 1.0,\n",
       "  'Cp': -1.0,\n",
       "  'R': 1.0},\n",
       " 'R03293__cytop': {'H': -1.0},\n",
       " 'R00199__cytop': {'H': -1.0},\n",
       " 'R05050__cytop': {'H': -1.0},\n",
       " 'R01251__cytop': {'H': -1.0},\n",
       " 'R05630__cytop': {'H': -1.0},\n",
       " 'R03024__cytop': {'H': -2.0},\n",
       " 'R01248__cytop': {'H': -1.0},\n",
       " 'R12686__cytop': {'H': 2.0, 'O': -1.0, 'N': 1.0},\n",
       " 'R02720__cytop': {'H': -4.0},\n",
       " 'R06178__cytop': {'C': -39.0, 'H': -66.0, 'N': -8.0, 'O': -19.0},\n",
       " 'R05237__cytop': {'H': -1.0},\n",
       " 'R10347__cytop': {'H': 2.0},\n",
       " 'R11945__cytop': {'C': 54.0, 'H': 82.0, 'O': 4.0},\n",
       " 'R03348__cytop': {'H': 1.0},\n",
       " 'R00573__cytop': {'H': -1.0},\n",
       " 'R04463__cytop': {'H': -1.0},\n",
       " 'R09599__cytop': {'H': -6.0},\n",
       " 'R03950__cytop': {'H': 1.0},\n",
       " 'R05817__cytop': {'H': 5.0},\n",
       " 'TZ3100029_CYTMEM__cytmem': {'H': -1.0},\n",
       " 'SOX__cytop': {'C': -54.0, 'H': -82.0, 'O': -4.0},\n",
       " 'R02236__cytop': {'H': 1.0},\n",
       " 'R11225__cytop': {'H': -1.0},\n",
       " 'R05566__cytop': {'H': -2.0},\n",
       " 'R03140__cytop': {'H': -1.0},\n",
       " 'R00230__cytop': {'H': 1.0},\n",
       " 'R02678__cytop': {'H': -1.0},\n",
       " 'R01067__cytop': {'H': -1.0},\n",
       " 'R00024__cytop': {'H': -1.0},\n",
       " 'R04620__cytop': {'H': -1.0},\n",
       " 'R04903__cytop': {'H': -1.0},\n",
       " 'R10948__cytop': {'H': 1.0},\n",
       " 'R05838__cytop': {'H': -1.0},\n",
       " 'R08120__cytop': {'H': -1.0},\n",
       " 'R06266__cytop': {'H': -1.0},\n",
       " 'R00034__cytop': {'H': -7.0},\n",
       " 'R12683__cytop': {'C': 49.0, 'Fe': 1.0, 'H': 56.0, 'N': 4.0, 'O': 7.0},\n",
       " 'R04985__cytop': {'C': 51.0, 'O': 1.0, 'H': 77.0},\n",
       " 'R05789__cytop': {'H': -3.0},\n",
       " 'R07343__cytop': {'H': 11.0, 'O': 9.0, 'C': 6.0, 'P': 1.0},\n",
       " 'R04859__cytop': {'H': -1.0},\n",
       " 'R02940__cytop': {'H': -1.0},\n",
       " 'R09769__cytop': {'H': 1.0},\n",
       " 'R06838__cytop': {'H': -1.0},\n",
       " 'R00345__cytop': {'H': 2.0},\n",
       " 'R12241__cytop': {'H': -1.0},\n",
       " 'R00710__cytop': {'H': -1.0},\n",
       " 'R08146__cytop': {'H': -1.0},\n",
       " 'R06282__cytop': {'H': 1.0},\n",
       " 'R11325__cytop': {'C': -108.0, 'H': -164.0, 'O': -8.0},\n",
       " 'R03728__cytop': {'H': -1.0},\n",
       " 'R07574__cytop': {'H': -1.0},\n",
       " 'R01158__cytop': {'H': -1.0},\n",
       " 'R09593__cytop': {'C': -6.0, 'H': -14.0, 'N': -4.0, 'O': -1.0},\n",
       " 'R00626__cytop': {'H': -1.0},\n",
       " 'R12934__cytop': {'H': -1.0},\n",
       " 'R03283__cytop': {'H': -1.0},\n",
       " 'R05747__cytop': {'O': -1.0},\n",
       " 'R10342__cytop': {'H': 1.0},\n",
       " 'R11885__cytop': {'C': -108.0, 'H': -164.0, 'O': -8.0},\n",
       " 'TZ3101384_CYTMEM__cytmem': {'H': -1.0},\n",
       " 'TZ3101385_CYTMEM__cytmem': {'H': -1.0},\n",
       " 'R00420__cytop': {'H': 1.0},\n",
       " 'R04065__cytop': {'H': -1.0},\n",
       " 'R03291__cytop': {'H': -1.0},\n",
       " 'R04326__cytop': {'H': -1.0},\n",
       " 'R00660__cytop': {'H': 2.0},\n",
       " 'R09149__cytop': {'H': -1.0},\n",
       " 'R01224__cytop': {'H': -1.0},\n",
       " 'R10914__cytop': {'H': 1.0},\n",
       " 'R00698__cytop': {'H': -2.0, 'O': -1.0},\n",
       " 'R00904__cytop': {'H': -1.0},\n",
       " 'R09081__cytop': {'H': 2.0},\n",
       " 'R00103__cytop': {'H': -1.0},\n",
       " 'R11444__cytop': {'C': -6.0, 'H': -12.0, 'N': -1.0, 'O': -1.0},\n",
       " 'R00082__cytop': {'H': 3.0},\n",
       " 'R04425__cytop': {'H': 2.0},\n",
       " 'R05149__cytop': {'H': -1.0},\n",
       " 'R01169__cytop': {'H': -3.0},\n",
       " 'R03758__cytop': {'H': 1.0},\n",
       " 'R12331__cytop': {'H': -2.0},\n",
       " 'R05051__cytop': {'H': 1.0},\n",
       " 'R02164__cytop': {'C': 54.0, 'H': 82.0, 'O': 4.0},\n",
       " 'R06427__cytop': {'H': -1.0},\n",
       " 'R06835__cytop': {'H': -1.0},\n",
       " 'TZ3101342_CYTMEM__cytmem': {'H': -1.0},\n",
       " 'R05807__cytop': {'H': 8.0},\n",
       " 'ATPSynthase__cytop': {'H': -2.0},\n",
       " 'R07405__cytop': {'H': 2.0},\n",
       " 'R03197__cytop': {'H': 3.0},\n",
       " 'R11308__cytop': {'C': -12.0, 'H': -20.0, 'O': -10.0},\n",
       " 'R03186__cytop': {'H': 1.0},\n",
       " 'R00762__cytop': {'H': -1.0},\n",
       " 'R06863__cytop': {'H': 2.0},\n",
       " 'R05813__cytop': {'H': -1.0},\n",
       " 'R01054__cytop': {'H': -1.0},\n",
       " 'R02235__cytop': {'H': 1.0},\n",
       " 'R06284__cytop': {'H': 1.0},\n",
       " 'R03600__cytop': {'H': 1.0},\n",
       " 'R00940__cytop': {'H': 1.0},\n",
       " 'R11312__cytop': {'H': 1.0},\n",
       " 'R00937__cytop': {'H': 1.0},\n",
       " 'R03877__cytop': {'H': -1.0},\n",
       " 'R05889__cytop': {'C': 1.0, 'H': 4.0, 'O': 1.0},\n",
       " 'R09502__cytop': {'H': 4.0},\n",
       " 'R00723__cytop': {'H': -5.0},\n",
       " 'R09485__cytop': {'C': -11.0,\n",
       "  'H': -20.0,\n",
       "  'N': -2.0,\n",
       "  'O': -7.0,\n",
       "  'P': -1.0,\n",
       "  'R': -1.0,\n",
       "  'Cp': 1.0},\n",
       " 'R05645__cytop': {'H': 1.0},\n",
       " 'R09466__cytop': {'C': -2.0, 'H': -3.0},\n",
       " 'Cytochrome_C_Reductase__cytop': {'C': -54.0, 'H': -82.0, 'O': -4.0},\n",
       " 'R12885__cytop': {'H': 1.0},\n",
       " 'R07168__cytop': {'H': -1.0},\n",
       " 'R03042__cytop': {'H': -1.0, 'O': 3.0, 'P': 1.0},\n",
       " 'R12424__cytop': {'H': -4.0, 'S': 2.0, 'Fe': 2.0},\n",
       " 'R08121__cytop': {'H': -1.0},\n",
       " 'R02301__cytop': {'H': -1.0},\n",
       " 'R07641__cytop': {'H': -1.0},\n",
       " 'R09768__cytop': {'H': 1.0},\n",
       " 'R01406__cytop': {'C': -11.0,\n",
       "  'H': -21.0,\n",
       "  'O': -7.0,\n",
       "  'R': -1.0,\n",
       "  'N': -2.0,\n",
       "  'P': -1.0,\n",
       "  'Cp': 1.0},\n",
       " 'R00311__cytop': {'H': 2.0},\n",
       " 'R12240__cytop': {'H': 3.0},\n",
       " 'R04648__cytop': {'H': -1.0},\n",
       " 'R08244__cytop': {'H': -1.0},\n",
       " 'R00921__cytop': {'H': 3.0},\n",
       " 'R03182__cytop': {'H': -2.0},\n",
       " 'R12633__cytop': {'O': -3.0, 'P': -1.0},\n",
       " 'R03004__cytop': {'H': -1.0},\n",
       " 'R03869__cytop': {'H': -1.0},\n",
       " 'R08555__cytop': {'H': 2.0},\n",
       " 'R01230__cytop': {'H': -1.0},\n",
       " 'R03036__cytop': {'H': -1.0},\n",
       " 'R02957__cytop': {'H': -2.0},\n",
       " 'R11944__cytop': {'H': -2.0},\n",
       " 'R05681__cytop': {'H': 2.0},\n",
       " 'R09136__cytop': {'H': -1.0},\n",
       " 'R00956__cytop': {'H': 2.0},\n",
       " 'R00286__cytop': {'H': -1.0},\n",
       " 'R06064__cytop': {'H': -1.0},\n",
       " 'R12852__cytop': {'O': -3.0, 'P': -1.0},\n",
       " 'R05815__cytop': {'H': -8.0},\n",
       " 'R06861__cytop': {'H': 2.0},\n",
       " 'R08769__cytop': {'C': 51.0, 'H': 77.0, 'O': 2.0},\n",
       " 'R05837__cytop': {'H': 2.0},\n",
       " 'R00264__cytop': {'H': -1.0},\n",
       " 'R05238__cytop': {'H': -1.0},\n",
       " 'R05511__cytop': {'H': -1.0},\n",
       " 'R01068__cytop': {'H': -3.0},\n",
       " 'R02111__cytop': {'H': -1490.0, 'O': -745.0, 'C': -894.0},\n",
       " 'R02760__cytop': {'C': -2.0, 'H': -2.0},\n",
       " 'R05887__cytop': {'C': 1.0, 'H': 4.0, 'O': 1.0},\n",
       " 'R00214__cytop': {'H': 1.0},\n",
       " 'R05227__cytop': {'H': -6.0},\n",
       " 'R00160__cytop': {'H': -1.0},\n",
       " 'R01231__cytop': {'H': -1.0},\n",
       " 'R02707__cytop': {'H': 2.0},\n",
       " 'TZ3100001_CYTMEM__cytmem': {'H': -1.0},\n",
       " 'R01933__cytop': {'H': 1.0},\n",
       " 'R03220__cytop': {'H': 1.0},\n",
       " 'R12853__cytop': {'O': -3.0, 'P': -1.0},\n",
       " 'R08657__cytop': {'C': 54.0, 'H': 82.0, 'O': 4.0},\n",
       " 'ATPase__cytop': {'H': -2.0},\n",
       " 'R09079__cytop': {'H': -2.0},\n",
       " 'R11443__cytop': {'C': -6.0, 'H': -12.0, 'N': -1.0, 'O': -1.0},\n",
       " 'R07316__cytop': {'H': 1.0},\n",
       " 'R05196__cytop': {'C': -894.0, 'H': -1492.0, 'O': -746.0},\n",
       " 'R09071__cytop': {'H': 1.0},\n",
       " 'R01353__cytop': {'H': 1.0},\n",
       " 'R06363__cytop': {'O': -1.0, 'C': -1.0},\n",
       " 'R04972__cytop': {'H': 3.0},\n",
       " 'R10949__cytop': {'H': -3.0},\n",
       " 'R05231__cytop': {'H': 1.0},\n",
       " 'R10712__cytop': {'H': 1.0},\n",
       " 'R06366__cytop': {'H': -1.0},\n",
       " 'TZ3100060_CYTMEM__cytmem': {'H': -1.0},\n",
       " 'R05000__cytop': {'C': 45.0, 'H': 73.0, 'O': 7.0, 'P': 2.0},\n",
       " 'R12926__cytop': {'C': -18.0,\n",
       "  'H': -29.0,\n",
       "  'N': -3.0,\n",
       "  'O': -18.0,\n",
       "  'P': -2.0,\n",
       "  'R': -1.0},\n",
       " 'R07404__cytop': {'H': 1.0},\n",
       " 'R09503__cytop': {'H': -3.0},\n",
       " 'R03893__cytop': {'H': -1.0},\n",
       " 'R05629__cytop': {'H': -1.0},\n",
       " 'R05030__cytop': {'H': -1.0},\n",
       " 'R00245__cytop': {'H': -1.0},\n",
       " 'R00526__cytop': {'H': -1.0},\n",
       " 'R04506__cytop': {'H': -1.0},\n",
       " 'R01528__cytop': {'H': 1.0},\n",
       " 'R09592__cytop': {'C': -4.0, 'H': -5.0, 'N': -1.0, 'O': -3.0},\n",
       " 'R10079__cytop': {'H': 2.0},\n",
       " 'R02135__cytop': {'H': 1.0},\n",
       " 'R05884__cytop': {'H': -1.0},\n",
       " 'R09222__cytop': {'H': -1.0},\n",
       " 'R01135__cytop': {'H': -1.0},\n",
       " 'R01752__cytop': {'H': -1.0},\n",
       " 'R09484__cytop': {'C': -11.0,\n",
       "  'H': -20.0,\n",
       "  'O': -7.0,\n",
       "  'R': -1.0,\n",
       "  'N': -2.0,\n",
       "  'P': -1.0,\n",
       "  'Cp': 1.0},\n",
       " 'R02163__cytop': {'C': -54.0, 'H': -82.0, 'O': -4.0},\n",
       " 'TZ3100214_CYTMEM__cytmem': {'H': -1.0},\n",
       " 'R12059__cytop': {'H': 4.0},\n",
       " 'R01163__cytop': {'H': -1.0},\n",
       " 'R12184__cytop': {'H': -1.0},\n",
       " 'R10068__cytop': {'H': -1.0},\n",
       " 'R09946__cytop': {'H': 2.0},\n",
       " 'R08575__cytop': {'H': 1.0},\n",
       " 'TZ3101372_CYTMEM__cytmem': {'H': -1.0},\n",
       " 'R03817__cytop': {'H': 2.0},\n",
       " 'R12423__cytop': {'S': 2.0, 'Fe': 2.0, 'H': -4.0},\n",
       " 'R02768__cytop': {'C': -11.0,\n",
       "  'H': -19.0,\n",
       "  'N': -2.0,\n",
       "  'O': -7.0,\n",
       "  'P': -1.0,\n",
       "  'Cp': 1.0,\n",
       "  'R': -1.0},\n",
       " 'R01986__cytop': {'H': -1.0},\n",
       " 'R06269__cytop': {'H': -1.0},\n",
       " 'R09080__cytop': {'H': -2.0}}"
      ]
     },
     "execution_count": 85,
     "metadata": {},
     "output_type": "execute_result"
    }
   ],
   "source": [
    "balance"
   ]
  },
  {
   "cell_type": "code",
   "execution_count": 72,
   "metadata": {},
   "outputs": [
    {
     "data": {
      "text/plain": [
       "36"
      ]
     },
     "execution_count": 72,
     "metadata": {},
     "output_type": "execute_result"
    }
   ],
   "source": [
    "len(missing_in_products)"
   ]
  }
 ],
 "metadata": {
  "kernelspec": {
   "display_name": "Python 3 (ipykernel)",
   "language": "python",
   "name": "python3"
  },
  "language_info": {
   "codemirror_mode": {
    "name": "ipython",
    "version": 3
   },
   "file_extension": ".py",
   "mimetype": "text/x-python",
   "name": "python",
   "nbconvert_exporter": "python",
   "pygments_lexer": "ipython3",
   "version": "3.9.6"
  }
 },
 "nbformat": 4,
 "nbformat_minor": 1
}
