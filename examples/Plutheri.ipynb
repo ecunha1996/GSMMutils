{
 "cells": [
  {
   "cell_type": "code",
   "execution_count": 1,
   "metadata": {
    "collapsed": true,
    "ExecuteTime": {
     "end_time": "2024-03-25T18:17:39.605711Z",
     "start_time": "2024-03-25T18:17:35.581882Z"
    }
   },
   "outputs": [],
   "source": [
    "from gsmmutils.model.COBRAmodel import *\n",
    "from gsmmutils import DATA_PATH\n",
    "from cobra.flux_analysis import flux_variability_analysis as fva"
   ]
  },
  {
   "cell_type": "code",
   "execution_count": 2,
   "outputs": [
    {
     "name": "stdout",
     "output_type": "stream",
     "text": [
      "Loading\n",
      "Reactions: 8743\n",
      "Metabolites: 5007\n",
      "Genes: 1275\n",
      "Model loaded\n"
     ]
    }
   ],
   "source": [
    "model = MyModel(join(DATA_PATH, 'models/model_pl.xml'), 'e_Biomass__in')   #2582 8442 8480"
   ],
   "metadata": {
    "collapsed": false,
    "ExecuteTime": {
     "end_time": "2024-03-25T18:17:50.289537Z",
     "start_time": "2024-03-25T18:17:39.607738Z"
    }
   }
  },
  {
   "cell_type": "code",
   "outputs": [
    {
     "data": {
      "text/plain": "<Reaction DM_C00010__in at 0x1add933ee30>",
      "text/html": "\n        <table>\n            <tr>\n                <td><strong>Reaction identifier</strong></td><td>DM_C00010__in</td>\n            </tr><tr>\n                <td><strong>Name</strong></td><td></td>\n            </tr><tr>\n                <td><strong>Memory address</strong></td>\n                <td>0x1add933ee30</td>\n            </tr><tr>\n                <td><strong>Stoichiometry</strong></td>\n                <td>\n                    <p style='text-align:right'>C00010__in --></p>\n                    <p style='text-align:right'>CoA --></p>\n                </td>\n            </tr><tr>\n                <td><strong>GPR</strong></td><td></td>\n            </tr><tr>\n                <td><strong>Lower bound</strong></td><td>0</td>\n            </tr><tr>\n                <td><strong>Upper bound</strong></td><td>10000</td>\n            </tr>\n        </table>\n        "
     },
     "execution_count": 97,
     "metadata": {},
     "output_type": "execute_result"
    }
   ],
   "source": [
    "model.create_sink(\"BMGC766402__in\")\n",
    "model.create_demand(\"C00010__in\")"
   ],
   "metadata": {
    "collapsed": false,
    "ExecuteTime": {
     "end_time": "2024-03-04T15:02:11.858580Z",
     "start_time": "2024-03-04T15:02:11.837302Z"
    }
   },
   "execution_count": 97
  },
  {
   "cell_type": "code",
   "outputs": [
    {
     "data": {
      "text/plain": "                                                            Flux  \\\nH2O                                                 10000.000000   \n1-(9Z-hexadecenoyl)-2-(9Z-octadecenoyl)-sn-glyc...   1000.000000   \n1-(9Z-hexadecenoyl)-2-(9Z-octadecenoyl)-sn-glyc...    500.000000   \nOrthophosphate                                       8708.333333   \n\n                                                   ReactantOrProduct  \nH2O                                                         Reactant  \n1-(9Z-hexadecenoyl)-2-(9Z-octadecenoyl)-sn-glyc...          Reactant  \n1-(9Z-hexadecenoyl)-2-(9Z-octadecenoyl)-sn-glyc...           Product  \nOrthophosphate                                               Product  ",
      "text/html": "<div>\n<style scoped>\n    .dataframe tbody tr th:only-of-type {\n        vertical-align: middle;\n    }\n\n    .dataframe tbody tr th {\n        vertical-align: top;\n    }\n\n    .dataframe thead th {\n        text-align: right;\n    }\n</style>\n<table border=\"1\" class=\"dataframe\">\n  <thead>\n    <tr style=\"text-align: right;\">\n      <th></th>\n      <th>Flux</th>\n      <th>ReactantOrProduct</th>\n    </tr>\n  </thead>\n  <tbody>\n    <tr>\n      <th>H2O</th>\n      <td>10000.000000</td>\n      <td>Reactant</td>\n    </tr>\n    <tr>\n      <th>1-(9Z-hexadecenoyl)-2-(9Z-octadecenoyl)-sn-glycero-3-phosphate</th>\n      <td>1000.000000</td>\n      <td>Reactant</td>\n    </tr>\n    <tr>\n      <th>1-(9Z-hexadecenoyl)-2-(9Z-octadecenoyl)-sn-glycerol</th>\n      <td>500.000000</td>\n      <td>Product</td>\n    </tr>\n    <tr>\n      <th>Orthophosphate</th>\n      <td>8708.333333</td>\n      <td>Product</td>\n    </tr>\n  </tbody>\n</table>\n</div>"
     },
     "execution_count": 38,
     "metadata": {},
     "output_type": "execute_result"
    }
   ],
   "source": [
    "model.test_reaction(\"BMGR6501__in\")"
   ],
   "metadata": {
    "collapsed": false,
    "ExecuteTime": {
     "end_time": "2024-03-07T09:43:58.707738Z",
     "start_time": "2024-03-07T09:43:57.955847Z"
    }
   },
   "execution_count": 38
  },
  {
   "cell_type": "code",
   "execution_count": 3,
   "outputs": [
    {
     "data": {
      "text/plain": "                                                           Flux  \\\n1-tetradecanoyl-2-(9Z,12Z-octadecadienoyl)-3-(6...   500.000000   \n1-(11Z-octadecenoyl)-2-(9Z,12Z-octadecadienoyl)...     0.000000   \n1-hexadecanoyl-2-(9Z-octadecenoyl)-3-(4Z,7Z,10Z...   111.111111   \n1-hexadecanoyl-2-(11Z-octadecenoyl)-3-(6Z,9Z,12...     0.000000   \n1,2-dihexadecanoyl-3-(9Z-hexadecenoyl)-sn-glycerol  1000.000000   \n...                                                         ...   \n1,2,3-tri-(9Z-heptadecenoyl)-sn-glycerol               0.000000   \n1-(9Z-octadecenoyl)-2-(9Z,12Z-octadecadienoyl)-...   354.166667   \n1,2-di-(9Z-octadecenoyl)-3-(9Z,12Z,15Z-octadeca...   500.000000   \n1,2-di-(11Z-octadecenoyl)-3-(6Z,9Z,12Z-octadeca...     0.000000   \nTriacylglycerol                                     1000.000000   \n\n                                                   ReactantOrProduct  \n1-tetradecanoyl-2-(9Z,12Z-octadecadienoyl)-3-(6...          Reactant  \n1-(11Z-octadecenoyl)-2-(9Z,12Z-octadecadienoyl)...          Reactant  \n1-hexadecanoyl-2-(9Z-octadecenoyl)-3-(4Z,7Z,10Z...          Reactant  \n1-hexadecanoyl-2-(11Z-octadecenoyl)-3-(6Z,9Z,12...          Reactant  \n1,2-dihexadecanoyl-3-(9Z-hexadecenoyl)-sn-glycerol          Reactant  \n...                                                              ...  \n1,2,3-tri-(9Z-heptadecenoyl)-sn-glycerol                    Reactant  \n1-(9Z-octadecenoyl)-2-(9Z,12Z-octadecadienoyl)-...          Reactant  \n1,2-di-(9Z-octadecenoyl)-3-(9Z,12Z,15Z-octadeca...          Reactant  \n1,2-di-(11Z-octadecenoyl)-3-(6Z,9Z,12Z-octadeca...          Reactant  \nTriacylglycerol                                              Product  \n\n[128 rows x 2 columns]",
      "text/html": "<div>\n<style scoped>\n    .dataframe tbody tr th:only-of-type {\n        vertical-align: middle;\n    }\n\n    .dataframe tbody tr th {\n        vertical-align: top;\n    }\n\n    .dataframe thead th {\n        text-align: right;\n    }\n</style>\n<table border=\"1\" class=\"dataframe\">\n  <thead>\n    <tr style=\"text-align: right;\">\n      <th></th>\n      <th>Flux</th>\n      <th>ReactantOrProduct</th>\n    </tr>\n  </thead>\n  <tbody>\n    <tr>\n      <th>1-tetradecanoyl-2-(9Z,12Z-octadecadienoyl)-3-(6Z,9Z,12Z-octadecatrienoyl)-sn-glycerol</th>\n      <td>500.000000</td>\n      <td>Reactant</td>\n    </tr>\n    <tr>\n      <th>1-(11Z-octadecenoyl)-2-(9Z,12Z-octadecadienoyl)-3-(6Z,9Z,12Z,15Z-octadecatetraenoyl)-sn-glycerol</th>\n      <td>0.000000</td>\n      <td>Reactant</td>\n    </tr>\n    <tr>\n      <th>1-hexadecanoyl-2-(9Z-octadecenoyl)-3-(4Z,7Z,10Z,13Z,16Z,19Z-docosahexaenoyl)-sn-glycerol</th>\n      <td>111.111111</td>\n      <td>Reactant</td>\n    </tr>\n    <tr>\n      <th>1-hexadecanoyl-2-(11Z-octadecenoyl)-3-(6Z,9Z,12Z,15Z-octadecatetraenoyl)-sn-glycerol</th>\n      <td>0.000000</td>\n      <td>Reactant</td>\n    </tr>\n    <tr>\n      <th>1,2-dihexadecanoyl-3-(9Z-hexadecenoyl)-sn-glycerol</th>\n      <td>1000.000000</td>\n      <td>Reactant</td>\n    </tr>\n    <tr>\n      <th>...</th>\n      <td>...</td>\n      <td>...</td>\n    </tr>\n    <tr>\n      <th>1,2,3-tri-(9Z-heptadecenoyl)-sn-glycerol</th>\n      <td>0.000000</td>\n      <td>Reactant</td>\n    </tr>\n    <tr>\n      <th>1-(9Z-octadecenoyl)-2-(9Z,12Z-octadecadienoyl)-3-(9Z,12Z,15Z-octadecatrienoyl)-sn-glycerol</th>\n      <td>354.166667</td>\n      <td>Reactant</td>\n    </tr>\n    <tr>\n      <th>1,2-di-(9Z-octadecenoyl)-3-(9Z,12Z,15Z-octadecatrienoyl)-sn-glycerol</th>\n      <td>500.000000</td>\n      <td>Reactant</td>\n    </tr>\n    <tr>\n      <th>1,2-di-(11Z-octadecenoyl)-3-(6Z,9Z,12Z-octadecatrienoyl)-sn-glycerol</th>\n      <td>0.000000</td>\n      <td>Reactant</td>\n    </tr>\n    <tr>\n      <th>Triacylglycerol</th>\n      <td>1000.000000</td>\n      <td>Product</td>\n    </tr>\n  </tbody>\n</table>\n<p>128 rows × 2 columns</p>\n</div>"
     },
     "execution_count": 3,
     "metadata": {},
     "output_type": "execute_result"
    }
   ],
   "source": [
    "df = model.test_reaction(\"e_TAG__in\")\n",
    "# df.loc[round(df.Flux,5)<= 0]\n",
    "df"
   ],
   "metadata": {
    "collapsed": false,
    "ExecuteTime": {
     "end_time": "2024-03-25T18:18:04.194149Z",
     "start_time": "2024-03-25T18:17:50.291061Z"
    }
   }
  },
  {
   "cell_type": "code",
   "execution_count": 108,
   "outputs": [
    {
     "data": {
      "text/plain": "<Reaction Sk_C15811__in at 0x1d6c8c5b400>",
      "text/html": "\n        <table>\n            <tr>\n                <td><strong>Reaction identifier</strong></td><td>Sk_C15811__in</td>\n            </tr><tr>\n                <td><strong>Name</strong></td><td></td>\n            </tr><tr>\n                <td><strong>Memory address</strong></td>\n                <td>0x1d6c8c5b400</td>\n            </tr><tr>\n                <td><strong>Stoichiometry</strong></td>\n                <td>\n                    <p style='text-align:right'><=> C15811__in</p>\n                    <p style='text-align:right'><=> [Enzyme]-cysteine</p>\n                </td>\n            </tr><tr>\n                <td><strong>GPR</strong></td><td></td>\n            </tr><tr>\n                <td><strong>Lower bound</strong></td><td>-10000</td>\n            </tr><tr>\n                <td><strong>Upper bound</strong></td><td>10000</td>\n            </tr>\n        </table>\n        "
     },
     "execution_count": 108,
     "metadata": {},
     "output_type": "execute_result"
    }
   ],
   "source": [
    "model.create_sink(\"C05752__in\")\n",
    "model.create_sink(\"C22158__in\")\n",
    "model.create_sink(\"C22155__in\")\n",
    "model.create_sink(\"C15811__in\")  # 1,2-di-(6Z-octadecenoyl)-sn-glycero-3-phosphoethanolamine"
   ],
   "metadata": {
    "collapsed": false,
    "ExecuteTime": {
     "end_time": "2023-05-11T15:47:12.168778100Z",
     "start_time": "2023-05-11T15:47:12.144882400Z"
    }
   }
  },
  {
   "cell_type": "code",
   "execution_count": 118,
   "outputs": [
    {
     "name": "stderr",
     "output_type": "stream",
     "text": [
      "Could not identify an external compartment by name and choosing one with the most boundary reactions. That might be complete nonsense or change suddenly. Consider renaming your compartments using `Model.compartments` to fix this.\n"
     ]
    },
    {
     "data": {
      "text/plain": "                          Flux\nChlorophyllide        0.000000\nPhytyl diphosphate  219.512195",
      "text/html": "<div>\n<style scoped>\n    .dataframe tbody tr th:only-of-type {\n        vertical-align: middle;\n    }\n\n    .dataframe tbody tr th {\n        vertical-align: top;\n    }\n\n    .dataframe thead th {\n        text-align: right;\n    }\n</style>\n<table border=\"1\" class=\"dataframe\">\n  <thead>\n    <tr style=\"text-align: right;\">\n      <th></th>\n      <th>Flux</th>\n    </tr>\n  </thead>\n  <tbody>\n    <tr>\n      <th>Chlorophyllide</th>\n      <td>0.000000</td>\n    </tr>\n    <tr>\n      <th>Phytyl diphosphate</th>\n      <td>219.512195</td>\n    </tr>\n  </tbody>\n</table>\n</div>"
     },
     "execution_count": 118,
     "metadata": {},
     "output_type": "execute_result"
    }
   ],
   "source": [
    "model.test_reaction(\"R06284__in\")"
   ],
   "metadata": {
    "collapsed": false,
    "ExecuteTime": {
     "end_time": "2023-05-11T17:43:21.548945800Z",
     "start_time": "2023-05-11T17:43:21.408954900Z"
    }
   }
  },
  {
   "cell_type": "markdown",
   "source": [],
   "metadata": {
    "collapsed": false
   }
  },
  {
   "cell_type": "code",
   "execution_count": 120,
   "outputs": [
    {
     "name": "stderr",
     "output_type": "stream",
     "text": [
      "Could not identify an external compartment by name and choosing one with the most boundary reactions. That might be complete nonsense or change suddenly. Consider renaming your compartments using `Model.compartments` to fix this.\n"
     ]
    },
    {
     "data": {
      "text/plain": "                      Flux\nDiadinoxanthin  103.448276\nbeta-Carotene   107.142857\nchlorophyll c1  105.882353\nchlorophyll c2  105.882353\nChlorophyll a    72.000000\nFucoxanthin      97.826087",
      "text/html": "<div>\n<style scoped>\n    .dataframe tbody tr th:only-of-type {\n        vertical-align: middle;\n    }\n\n    .dataframe tbody tr th {\n        vertical-align: top;\n    }\n\n    .dataframe thead th {\n        text-align: right;\n    }\n</style>\n<table border=\"1\" class=\"dataframe\">\n  <thead>\n    <tr style=\"text-align: right;\">\n      <th></th>\n      <th>Flux</th>\n    </tr>\n  </thead>\n  <tbody>\n    <tr>\n      <th>Diadinoxanthin</th>\n      <td>103.448276</td>\n    </tr>\n    <tr>\n      <th>beta-Carotene</th>\n      <td>107.142857</td>\n    </tr>\n    <tr>\n      <th>chlorophyll c1</th>\n      <td>105.882353</td>\n    </tr>\n    <tr>\n      <th>chlorophyll c2</th>\n      <td>105.882353</td>\n    </tr>\n    <tr>\n      <th>Chlorophyll a</th>\n      <td>72.000000</td>\n    </tr>\n    <tr>\n      <th>Fucoxanthin</th>\n      <td>97.826087</td>\n    </tr>\n  </tbody>\n</table>\n</div>"
     },
     "execution_count": 120,
     "metadata": {},
     "output_type": "execute_result"
    }
   ],
   "source": [
    "model.test_reaction(\"e_Pigment__in\")"
   ],
   "metadata": {
    "collapsed": false,
    "ExecuteTime": {
     "end_time": "2023-05-11T17:44:28.342301100Z",
     "start_time": "2023-05-11T17:44:28.096287600Z"
    }
   }
  },
  {
   "cell_type": "code",
   "execution_count": 121,
   "outputs": [
    {
     "name": "stderr",
     "output_type": "stream",
     "text": [
      "Could not identify an external compartment by name and choosing one with the most boundary reactions. That might be complete nonsense or change suddenly. Consider renaming your compartments using `Model.compartments` to fix this.\n"
     ]
    },
    {
     "data": {
      "text/plain": "                       Flux\ne-Pigment         16.129032\ne-Protein         50.260772\ne-Cofactor      1000.000000\ne-Lipid            0.000000\ne-DNA             49.445940\ne-RNA             56.741225\ne-Carbohydrate   171.126561",
      "text/html": "<div>\n<style scoped>\n    .dataframe tbody tr th:only-of-type {\n        vertical-align: middle;\n    }\n\n    .dataframe tbody tr th {\n        vertical-align: top;\n    }\n\n    .dataframe thead th {\n        text-align: right;\n    }\n</style>\n<table border=\"1\" class=\"dataframe\">\n  <thead>\n    <tr style=\"text-align: right;\">\n      <th></th>\n      <th>Flux</th>\n    </tr>\n  </thead>\n  <tbody>\n    <tr>\n      <th>e-Pigment</th>\n      <td>16.129032</td>\n    </tr>\n    <tr>\n      <th>e-Protein</th>\n      <td>50.260772</td>\n    </tr>\n    <tr>\n      <th>e-Cofactor</th>\n      <td>1000.000000</td>\n    </tr>\n    <tr>\n      <th>e-Lipid</th>\n      <td>0.000000</td>\n    </tr>\n    <tr>\n      <th>e-DNA</th>\n      <td>49.445940</td>\n    </tr>\n    <tr>\n      <th>e-RNA</th>\n      <td>56.741225</td>\n    </tr>\n    <tr>\n      <th>e-Carbohydrate</th>\n      <td>171.126561</td>\n    </tr>\n  </tbody>\n</table>\n</div>"
     },
     "execution_count": 121,
     "metadata": {},
     "output_type": "execute_result"
    }
   ],
   "source": [
    "model.test_reaction(\"e_Biomass__in\")"
   ],
   "metadata": {
    "collapsed": false,
    "ExecuteTime": {
     "end_time": "2023-05-11T17:44:30.609246900Z",
     "start_time": "2023-05-11T17:44:30.357141Z"
    }
   }
  }
 ],
 "metadata": {
  "kernelspec": {
   "display_name": "Python 3",
   "language": "python",
   "name": "python3"
  },
  "language_info": {
   "codemirror_mode": {
    "name": "ipython",
    "version": 2
   },
   "file_extension": ".py",
   "mimetype": "text/x-python",
   "name": "python",
   "nbconvert_exporter": "python",
   "pygments_lexer": "ipython2",
   "version": "2.7.6"
  }
 },
 "nbformat": 4,
 "nbformat_minor": 0
}
