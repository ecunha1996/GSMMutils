{
 "cells": [
  {
   "cell_type": "code",
   "execution_count": 2,
   "metadata": {
    "collapsed": true,
    "ExecuteTime": {
     "end_time": "2023-05-15T10:00:18.019961700Z",
     "start_time": "2023-05-15T10:00:15.093670700Z"
    }
   },
   "outputs": [],
   "source": [
    "from ExpGSMM.model.COBRAmodel import *\n",
    "from ExpGSMM import DATA_PATH\n",
    "from cobra.flux_analysis import flux_variability_analysis as fva"
   ]
  },
  {
   "cell_type": "code",
   "execution_count": 3,
   "outputs": [
    {
     "name": "stdout",
     "output_type": "stream",
     "text": [
      "Loading\n",
      "\n"
     ]
    },
    {
     "name": "stderr",
     "output_type": "stream",
     "text": [
      "2686093 does not conform to 'http(s)://identifiers.org/collection/id' or'http(s)://identifiers.org/COLLECTION:id\n",
      "Could not identify an external compartment by name and choosing one with the most boundary reactions. That might be complete nonsense or change suddenly. Consider renaming your compartments using `Model.compartments` to fix this.\n"
     ]
    },
    {
     "name": "stdout",
     "output_type": "stream",
     "text": [
      "Reactions: 2419\n",
      "Metabolites: 2133\n",
      "Genes: 1232\n",
      "Model loaded\n"
     ]
    }
   ],
   "source": [
    "model = MyModel(join(DATA_PATH, 'models/model_plutheri.xml'), 'e_Biomass__in')"
   ],
   "metadata": {
    "collapsed": false,
    "ExecuteTime": {
     "end_time": "2023-05-15T10:00:21.348153800Z",
     "start_time": "2023-05-15T10:00:19.492456600Z"
    }
   }
  },
  {
   "cell_type": "code",
   "execution_count": 4,
   "outputs": [],
   "source": [
    "cobra_config = cobra.Configuration()\n",
    "\n"
   ],
   "metadata": {
    "collapsed": false,
    "ExecuteTime": {
     "end_time": "2023-05-15T10:02:00.341785900Z",
     "start_time": "2023-05-15T10:02:00.311165200Z"
    }
   }
  },
  {
   "cell_type": "code",
   "execution_count": 5,
   "outputs": [
    {
     "data": {
      "text/plain": "\nsolver: cplex\ntolerance: 1e-07\nlower_bound: -1000.0\nupper_bound: 1000.0\nprocesses: 7\ncache_directory: C:\\Users\\Bisbii\\AppData\\Local\\opencobra\\cobrapy\\Cache\nmax_cache_size: 104857600\ncache_expiration: None",
      "text/html": "\n<table>\n  <thead>\n    <tr>\n      <td><strong>Attribute</strong></td>\n      <td><strong>Description</strong></td>\n      <td><strong>Value</strong></td>\n    </tr>\n  </thead>\n  <tbody>\n    <tr>\n      <td><pre>solver</pre></td>\n      <td>Mathematical optimization solver</td>\n      <td>cplex</td>\n    </tr>\n    <tr>\n        <td><pre>tolerance</pre></td>\n        <td>General solver tolerance (feasibility, integrality, etc.)</td>\n        <td>1e-07</td>\n    </tr>\n    <tr>\n        <td><pre>lower_bound</pre></td>\n        <td>Default reaction lower bound</td>\n        <td>-1000.0</td>\n    </tr>\n    <tr>\n        <td><pre>upper_bound</pre></td>\n        <td>Default reaction upper bound</td>\n        <td>1000.0</td>\n    </tr>\n    <tr>\n        <td><pre>processes</pre></td>\n        <td>Number of parallel processes</td>\n        <td>7</td>\n    </tr>\n    <tr>\n        <td><pre>cache_directory</pre></td>\n        <td>Path for the model cache</td>\n        <td>C:\\Users\\Bisbii\\AppData\\Local\\opencobra\\cobrapy\\Cache</td>\n    </tr>\n    <tr>\n        <td><pre>max_cache_size</pre></td>\n        <td>Maximum cache size in bytes</td>\n        <td>104857600</td>\n    </tr>\n    <tr>\n        <td><pre>cache_expiration</pre></td>\n        <td>Model cache expiration time in seconds (if any)</td>\n        <td>None</td>\n    </tr>\n  </tbody>\n</table>\n"
     },
     "execution_count": 5,
     "metadata": {},
     "output_type": "execute_result"
    }
   ],
   "source": [
    "cobra_config"
   ],
   "metadata": {
    "collapsed": false,
    "ExecuteTime": {
     "end_time": "2023-05-15T10:02:04.099871500Z",
     "start_time": "2023-05-15T10:02:04.068295Z"
    }
   }
  },
  {
   "cell_type": "code",
   "execution_count": 62,
   "outputs": [
    {
     "data": {
      "text/plain": "<cobra.summary.metabolite_summary.MetaboliteSummary at 0x23908a752b0>",
      "text/html": "<h3>C00169__in</h3><p>CH4NO5P</p><h4>Producing Reactions</h4><table border=\"1\" class=\"dataframe\">\n  <thead>\n    <tr style=\"text-align: right;\">\n      <th>Percent</th>\n      <th>Flux</th>\n      <th>Range</th>\n      <th>Reaction</th>\n      <th>Definition</th>\n    </tr>\n  </thead>\n  <tbody>\n    <tr>\n      <td></td>\n      <td>0</td>\n      <td>[0;  1000]</td>\n      <td>R00149__in</td>\n      <td>C00001__in + 2.0 C00002__in + C00011__in + C00014__in --&gt; 2.0 C00008__in + C00009__in + C00169__in</td>\n    </tr>\n    <tr>\n      <td></td>\n      <td>0</td>\n      <td>[0;  1000]</td>\n      <td>R00575__in</td>\n      <td>C00001__in + 2.0 C00002__in + C00064__in + C00288__in --&gt; 2.0 C00008__in + C00009__in + C00025__in + C00169__in</td>\n    </tr>\n    <tr>\n      <td></td>\n      <td>0</td>\n      <td>[0;  1000]</td>\n      <td>R01395__in</td>\n      <td>C00002__in + C01563__in --&gt; C00008__in + C00169__in</td>\n    </tr>\n    <tr>\n      <td></td>\n      <td>0</td>\n      <td>[0;  1000]</td>\n      <td>R07641__in</td>\n      <td>2.0 C00002__in + C00014__in + C00288__in --&gt; 2.0 C00008__in + C00009__in + C00169__in</td>\n    </tr>\n  </tbody>\n</table><h4>Consuming Reactions</h4><table border=\"1\" class=\"dataframe\">\n  <thead>\n    <tr style=\"text-align: right;\">\n      <th>Percent</th>\n      <th>Flux</th>\n      <th>Range</th>\n      <th>Reaction</th>\n      <th>Definition</th>\n    </tr>\n  </thead>\n  <tbody>\n    <tr>\n      <td></td>\n      <td>0</td>\n      <td>[-1000;  0]</td>\n      <td>R01398__in</td>\n      <td>C00077__in + C00169__in --&gt; C00009__in + C00327__in</td>\n    </tr>\n  </tbody>\n</table>"
     },
     "execution_count": 62,
     "metadata": {},
     "output_type": "execute_result"
    }
   ],
   "source": [
    "model.metabolites.C00169__in.summary(fva= 0.0)"
   ],
   "metadata": {
    "collapsed": false,
    "ExecuteTime": {
     "start_time": "2023-04-21T14:32:59.153156Z",
     "end_time": "2023-04-21T14:33:18.355896Z"
    }
   }
  },
  {
   "cell_type": "code",
   "execution_count": 38,
   "outputs": [
    {
     "data": {
      "text/plain": "            minimum  maximum\nR00149__in      0.0   1000.0",
      "text/html": "<div>\n<style scoped>\n    .dataframe tbody tr th:only-of-type {\n        vertical-align: middle;\n    }\n\n    .dataframe tbody tr th {\n        vertical-align: top;\n    }\n\n    .dataframe thead th {\n        text-align: right;\n    }\n</style>\n<table border=\"1\" class=\"dataframe\">\n  <thead>\n    <tr style=\"text-align: right;\">\n      <th></th>\n      <th>minimum</th>\n      <th>maximum</th>\n    </tr>\n  </thead>\n  <tbody>\n    <tr>\n      <th>R00149__in</th>\n      <td>0.0</td>\n      <td>1000.0</td>\n    </tr>\n  </tbody>\n</table>\n</div>"
     },
     "execution_count": 38,
     "metadata": {},
     "output_type": "execute_result"
    }
   ],
   "source": [
    "fva(model, \"R00149__in\")"
   ],
   "metadata": {
    "collapsed": false
   }
  },
  {
   "cell_type": "code",
   "execution_count": 108,
   "outputs": [
    {
     "data": {
      "text/plain": "<Reaction Sk_C15811__in at 0x1d6c8c5b400>",
      "text/html": "\n        <table>\n            <tr>\n                <td><strong>Reaction identifier</strong></td><td>Sk_C15811__in</td>\n            </tr><tr>\n                <td><strong>Name</strong></td><td></td>\n            </tr><tr>\n                <td><strong>Memory address</strong></td>\n                <td>0x1d6c8c5b400</td>\n            </tr><tr>\n                <td><strong>Stoichiometry</strong></td>\n                <td>\n                    <p style='text-align:right'><=> C15811__in</p>\n                    <p style='text-align:right'><=> [Enzyme]-cysteine</p>\n                </td>\n            </tr><tr>\n                <td><strong>GPR</strong></td><td></td>\n            </tr><tr>\n                <td><strong>Lower bound</strong></td><td>-10000</td>\n            </tr><tr>\n                <td><strong>Upper bound</strong></td><td>10000</td>\n            </tr>\n        </table>\n        "
     },
     "execution_count": 108,
     "metadata": {},
     "output_type": "execute_result"
    }
   ],
   "source": [
    "model.create_sink(\"C05752__in\")\n",
    "model.create_sink(\"C22158__in\")\n",
    "model.create_sink(\"C22155__in\")\n",
    "model.create_sink(\"C15811__in\")"
   ],
   "metadata": {
    "collapsed": false,
    "ExecuteTime": {
     "end_time": "2023-05-11T15:47:12.168778100Z",
     "start_time": "2023-05-11T15:47:12.144882400Z"
    }
   }
  },
  {
   "cell_type": "code",
   "execution_count": 118,
   "outputs": [
    {
     "name": "stderr",
     "output_type": "stream",
     "text": [
      "Could not identify an external compartment by name and choosing one with the most boundary reactions. That might be complete nonsense or change suddenly. Consider renaming your compartments using `Model.compartments` to fix this.\n"
     ]
    },
    {
     "data": {
      "text/plain": "                          Flux\nChlorophyllide        0.000000\nPhytyl diphosphate  219.512195",
      "text/html": "<div>\n<style scoped>\n    .dataframe tbody tr th:only-of-type {\n        vertical-align: middle;\n    }\n\n    .dataframe tbody tr th {\n        vertical-align: top;\n    }\n\n    .dataframe thead th {\n        text-align: right;\n    }\n</style>\n<table border=\"1\" class=\"dataframe\">\n  <thead>\n    <tr style=\"text-align: right;\">\n      <th></th>\n      <th>Flux</th>\n    </tr>\n  </thead>\n  <tbody>\n    <tr>\n      <th>Chlorophyllide</th>\n      <td>0.000000</td>\n    </tr>\n    <tr>\n      <th>Phytyl diphosphate</th>\n      <td>219.512195</td>\n    </tr>\n  </tbody>\n</table>\n</div>"
     },
     "execution_count": 118,
     "metadata": {},
     "output_type": "execute_result"
    }
   ],
   "source": [
    "model.test_reaction(\"R06284__in\")"
   ],
   "metadata": {
    "collapsed": false,
    "ExecuteTime": {
     "end_time": "2023-05-11T17:43:21.548945800Z",
     "start_time": "2023-05-11T17:43:21.408954900Z"
    }
   }
  },
  {
   "cell_type": "markdown",
   "source": [],
   "metadata": {
    "collapsed": false
   }
  },
  {
   "cell_type": "code",
   "execution_count": 120,
   "outputs": [
    {
     "name": "stderr",
     "output_type": "stream",
     "text": [
      "Could not identify an external compartment by name and choosing one with the most boundary reactions. That might be complete nonsense or change suddenly. Consider renaming your compartments using `Model.compartments` to fix this.\n"
     ]
    },
    {
     "data": {
      "text/plain": "                      Flux\nDiadinoxanthin  103.448276\nbeta-Carotene   107.142857\nchlorophyll c1  105.882353\nchlorophyll c2  105.882353\nChlorophyll a    72.000000\nFucoxanthin      97.826087",
      "text/html": "<div>\n<style scoped>\n    .dataframe tbody tr th:only-of-type {\n        vertical-align: middle;\n    }\n\n    .dataframe tbody tr th {\n        vertical-align: top;\n    }\n\n    .dataframe thead th {\n        text-align: right;\n    }\n</style>\n<table border=\"1\" class=\"dataframe\">\n  <thead>\n    <tr style=\"text-align: right;\">\n      <th></th>\n      <th>Flux</th>\n    </tr>\n  </thead>\n  <tbody>\n    <tr>\n      <th>Diadinoxanthin</th>\n      <td>103.448276</td>\n    </tr>\n    <tr>\n      <th>beta-Carotene</th>\n      <td>107.142857</td>\n    </tr>\n    <tr>\n      <th>chlorophyll c1</th>\n      <td>105.882353</td>\n    </tr>\n    <tr>\n      <th>chlorophyll c2</th>\n      <td>105.882353</td>\n    </tr>\n    <tr>\n      <th>Chlorophyll a</th>\n      <td>72.000000</td>\n    </tr>\n    <tr>\n      <th>Fucoxanthin</th>\n      <td>97.826087</td>\n    </tr>\n  </tbody>\n</table>\n</div>"
     },
     "execution_count": 120,
     "metadata": {},
     "output_type": "execute_result"
    }
   ],
   "source": [
    "model.test_reaction(\"e_Pigment__in\")"
   ],
   "metadata": {
    "collapsed": false,
    "ExecuteTime": {
     "end_time": "2023-05-11T17:44:28.342301100Z",
     "start_time": "2023-05-11T17:44:28.096287600Z"
    }
   }
  },
  {
   "cell_type": "code",
   "execution_count": 121,
   "outputs": [
    {
     "name": "stderr",
     "output_type": "stream",
     "text": [
      "Could not identify an external compartment by name and choosing one with the most boundary reactions. That might be complete nonsense or change suddenly. Consider renaming your compartments using `Model.compartments` to fix this.\n"
     ]
    },
    {
     "data": {
      "text/plain": "                       Flux\ne-Pigment         16.129032\ne-Protein         50.260772\ne-Cofactor      1000.000000\ne-Lipid            0.000000\ne-DNA             49.445940\ne-RNA             56.741225\ne-Carbohydrate   171.126561",
      "text/html": "<div>\n<style scoped>\n    .dataframe tbody tr th:only-of-type {\n        vertical-align: middle;\n    }\n\n    .dataframe tbody tr th {\n        vertical-align: top;\n    }\n\n    .dataframe thead th {\n        text-align: right;\n    }\n</style>\n<table border=\"1\" class=\"dataframe\">\n  <thead>\n    <tr style=\"text-align: right;\">\n      <th></th>\n      <th>Flux</th>\n    </tr>\n  </thead>\n  <tbody>\n    <tr>\n      <th>e-Pigment</th>\n      <td>16.129032</td>\n    </tr>\n    <tr>\n      <th>e-Protein</th>\n      <td>50.260772</td>\n    </tr>\n    <tr>\n      <th>e-Cofactor</th>\n      <td>1000.000000</td>\n    </tr>\n    <tr>\n      <th>e-Lipid</th>\n      <td>0.000000</td>\n    </tr>\n    <tr>\n      <th>e-DNA</th>\n      <td>49.445940</td>\n    </tr>\n    <tr>\n      <th>e-RNA</th>\n      <td>56.741225</td>\n    </tr>\n    <tr>\n      <th>e-Carbohydrate</th>\n      <td>171.126561</td>\n    </tr>\n  </tbody>\n</table>\n</div>"
     },
     "execution_count": 121,
     "metadata": {},
     "output_type": "execute_result"
    }
   ],
   "source": [
    "model.test_reaction(\"e_Biomass__in\")"
   ],
   "metadata": {
    "collapsed": false,
    "ExecuteTime": {
     "end_time": "2023-05-11T17:44:30.609246900Z",
     "start_time": "2023-05-11T17:44:30.357141Z"
    }
   }
  }
 ],
 "metadata": {
  "kernelspec": {
   "display_name": "Python 3",
   "language": "python",
   "name": "python3"
  },
  "language_info": {
   "codemirror_mode": {
    "name": "ipython",
    "version": 2
   },
   "file_extension": ".py",
   "mimetype": "text/x-python",
   "name": "python",
   "nbconvert_exporter": "python",
   "pygments_lexer": "ipython2",
   "version": "2.7.6"
  }
 },
 "nbformat": 4,
 "nbformat_minor": 0
}
