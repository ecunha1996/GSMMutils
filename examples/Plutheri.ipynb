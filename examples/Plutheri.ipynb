{
 "cells": [
  {
   "cell_type": "code",
   "execution_count": 72,
   "metadata": {
    "collapsed": true
   },
   "outputs": [],
   "source": [
    "from ExpAlgae.model.COBRAmodel import *\n",
    "from ExpAlgae import DATA_PATH"
   ]
  },
  {
   "cell_type": "code",
   "execution_count": 73,
   "outputs": [
    {
     "name": "stdout",
     "output_type": "stream",
     "text": [
      "Loading\n",
      "\n"
     ]
    },
    {
     "name": "stderr",
     "output_type": "stream",
     "text": [
      "2686093 does not conform to 'http(s)://identifiers.org/collection/id' or'http(s)://identifiers.org/COLLECTION:id\n"
     ]
    },
    {
     "name": "stdout",
     "output_type": "stream",
     "text": [
      "Reactions: 2172\n",
      "Metabolites: 2038\n",
      "Genes: 1167\n",
      "Model loaded\n"
     ]
    }
   ],
   "source": [
    "model = MyModel(join(DATA_PATH, 'models/model_plutheri.xml'), 'e_Biomass__in')"
   ],
   "metadata": {
    "collapsed": false
   }
  },
  {
   "cell_type": "code",
   "execution_count": 74,
   "outputs": [
    {
     "data": {
      "text/plain": "<Reaction Dm_C00415__in at 0x1c80f5a1c70>",
      "text/html": "\n        <table>\n            <tr>\n                <td><strong>Reaction identifier</strong></td><td>Dm_C00415__in</td>\n            </tr><tr>\n                <td><strong>Name</strong></td><td></td>\n            </tr><tr>\n                <td><strong>Memory address</strong></td>\n                <td>0x01c80f5a1c70</td>\n            </tr><tr>\n                <td><strong>Stoichiometry</strong></td>\n                <td>\n                    <p style='text-align:right'>C00415__in --></p>\n                    <p style='text-align:right'>Dihydrofolate --></p>\n                </td>\n            </tr><tr>\n                <td><strong>GPR</strong></td><td></td>\n            </tr><tr>\n                <td><strong>Lower bound</strong></td><td>0</td>\n            </tr><tr>\n                <td><strong>Upper bound</strong></td><td>10000</td>\n            </tr>\n        </table>\n        "
     },
     "execution_count": 74,
     "metadata": {},
     "output_type": "execute_result"
    }
   ],
   "source": [
    "model.create_sink(\"C00025__in\")\n",
    "model.create_sink(\"C00169__in\")\n",
    "model.create_sink(\"C00002__in\")\n",
    "model.create_sink(\"C00143__in\")\n",
    "model.create_demand(\"C00390__in\")\n",
    "model.create_demand(\"C00415__in\")"
   ],
   "metadata": {
    "collapsed": false
   }
  },
  {
   "cell_type": "code",
   "execution_count": 75,
   "outputs": [],
   "source": [
    "model.create_tRNAs_reactions()"
   ],
   "metadata": {
    "collapsed": false
   }
  },
  {
   "cell_type": "code",
   "execution_count": 76,
   "outputs": [
    {
     "data": {
      "text/plain": "                                                      Flux\nN-(5'-Phospho-D-1'-ribulosylformimino)-5-amino-...  1000.0\nL-Glutamine                                         3000.0",
      "text/html": "<div>\n<style scoped>\n    .dataframe tbody tr th:only-of-type {\n        vertical-align: middle;\n    }\n\n    .dataframe tbody tr th {\n        vertical-align: top;\n    }\n\n    .dataframe thead th {\n        text-align: right;\n    }\n</style>\n<table border=\"1\" class=\"dataframe\">\n  <thead>\n    <tr style=\"text-align: right;\">\n      <th></th>\n      <th>Flux</th>\n    </tr>\n  </thead>\n  <tbody>\n    <tr>\n      <th>N-(5'-Phospho-D-1'-ribulosylformimino)-5-amino-1-(5''-phospho-D-ribosyl)-4-imidazolecarboxamide</th>\n      <td>1000.0</td>\n    </tr>\n    <tr>\n      <th>L-Glutamine</th>\n      <td>3000.0</td>\n    </tr>\n  </tbody>\n</table>\n</div>"
     },
     "execution_count": 76,
     "metadata": {},
     "output_type": "execute_result"
    }
   ],
   "source": [
    "model.test_reaction(\"R04558__in\")"
   ],
   "metadata": {
    "collapsed": false
   }
  },
  {
   "cell_type": "markdown",
   "source": [],
   "metadata": {
    "collapsed": false
   }
  },
  {
   "cell_type": "code",
   "execution_count": 78,
   "outputs": [
    {
     "data": {
      "text/plain": "                                 Flux\nUbiquinone               0.000000e+00\nThiamine                 0.000000e+00\nNAD+                     0.000000e+00\nS-Adenosyl-L-methionine  0.000000e+00\nFAD                      0.000000e+00\nTetrahydrofolate         3.000000e+03\nGlutathione              1.000000e+03\nCoA                      0.000000e+00\nHeme                     0.000000e+00\nRiboflavin               0.000000e+00\nPyridoxal phosphate      1.688298e+03\nNADPH                   -4.547474e-13\nFMN                      0.000000e+00",
      "text/html": "<div>\n<style scoped>\n    .dataframe tbody tr th:only-of-type {\n        vertical-align: middle;\n    }\n\n    .dataframe tbody tr th {\n        vertical-align: top;\n    }\n\n    .dataframe thead th {\n        text-align: right;\n    }\n</style>\n<table border=\"1\" class=\"dataframe\">\n  <thead>\n    <tr style=\"text-align: right;\">\n      <th></th>\n      <th>Flux</th>\n    </tr>\n  </thead>\n  <tbody>\n    <tr>\n      <th>Ubiquinone</th>\n      <td>0.000000e+00</td>\n    </tr>\n    <tr>\n      <th>Thiamine</th>\n      <td>0.000000e+00</td>\n    </tr>\n    <tr>\n      <th>NAD+</th>\n      <td>0.000000e+00</td>\n    </tr>\n    <tr>\n      <th>S-Adenosyl-L-methionine</th>\n      <td>0.000000e+00</td>\n    </tr>\n    <tr>\n      <th>FAD</th>\n      <td>0.000000e+00</td>\n    </tr>\n    <tr>\n      <th>Tetrahydrofolate</th>\n      <td>3.000000e+03</td>\n    </tr>\n    <tr>\n      <th>Glutathione</th>\n      <td>1.000000e+03</td>\n    </tr>\n    <tr>\n      <th>CoA</th>\n      <td>0.000000e+00</td>\n    </tr>\n    <tr>\n      <th>Heme</th>\n      <td>0.000000e+00</td>\n    </tr>\n    <tr>\n      <th>Riboflavin</th>\n      <td>0.000000e+00</td>\n    </tr>\n    <tr>\n      <th>Pyridoxal phosphate</th>\n      <td>1.688298e+03</td>\n    </tr>\n    <tr>\n      <th>NADPH</th>\n      <td>-4.547474e-13</td>\n    </tr>\n    <tr>\n      <th>FMN</th>\n      <td>0.000000e+00</td>\n    </tr>\n  </tbody>\n</table>\n</div>"
     },
     "execution_count": 78,
     "metadata": {},
     "output_type": "execute_result"
    }
   ],
   "source": [
    "model.test_reaction(\"e_Cofactor__in\")"
   ],
   "metadata": {
    "collapsed": false
   }
  }
 ],
 "metadata": {
  "kernelspec": {
   "display_name": "Python 3",
   "language": "python",
   "name": "python3"
  },
  "language_info": {
   "codemirror_mode": {
    "name": "ipython",
    "version": 2
   },
   "file_extension": ".py",
   "mimetype": "text/x-python",
   "name": "python",
   "nbconvert_exporter": "python",
   "pygments_lexer": "ipython2",
   "version": "2.7.6"
  }
 },
 "nbformat": 4,
 "nbformat_minor": 0
}
