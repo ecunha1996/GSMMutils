{
 "cells": [
  {
   "cell_type": "code",
   "execution_count": 65,
   "metadata": {
    "collapsed": true,
    "ExecuteTime": {
     "start_time": "2023-04-06T15:43:45.345621Z",
     "end_time": "2023-04-06T15:43:45.361456Z"
    }
   },
   "outputs": [],
   "source": [
    "from ExpAlgae.model.COBRAmodel import *\n",
    "from ExpAlgae import DATA_PATH"
   ]
  },
  {
   "cell_type": "code",
   "execution_count": 66,
   "outputs": [
    {
     "name": "stdout",
     "output_type": "stream",
     "text": [
      "Loading\n",
      "\n"
     ]
    },
    {
     "name": "stderr",
     "output_type": "stream",
     "text": [
      "2686093 does not conform to 'http(s)://identifiers.org/collection/id' or'http(s)://identifiers.org/COLLECTION:id\n"
     ]
    },
    {
     "name": "stdout",
     "output_type": "stream",
     "text": [
      "Reactions: 2214\n",
      "Metabolites: 2062\n",
      "Genes: 1177\n",
      "Model loaded\n"
     ]
    }
   ],
   "source": [
    "model = MyModel(join(DATA_PATH, 'models/model_plutheri.xml'), 'e_Biomass__in')"
   ],
   "metadata": {
    "collapsed": false,
    "ExecuteTime": {
     "start_time": "2023-04-06T15:43:45.359458Z",
     "end_time": "2023-04-06T15:43:50.380021Z"
    }
   }
  },
  {
   "cell_type": "code",
   "execution_count": 67,
   "outputs": [
    {
     "data": {
      "text/plain": "<Reaction Dm_C00147__in at 0x1b6c4ec0970>",
      "text/html": "\n        <table>\n            <tr>\n                <td><strong>Reaction identifier</strong></td><td>Dm_C00147__in</td>\n            </tr><tr>\n                <td><strong>Name</strong></td><td></td>\n            </tr><tr>\n                <td><strong>Memory address</strong></td>\n                <td>0x01b6c4ec0970</td>\n            </tr><tr>\n                <td><strong>Stoichiometry</strong></td>\n                <td>\n                    <p style='text-align:right'>C00147__in --></p>\n                    <p style='text-align:right'>Adenine --></p>\n                </td>\n            </tr><tr>\n                <td><strong>GPR</strong></td><td></td>\n            </tr><tr>\n                <td><strong>Lower bound</strong></td><td>0</td>\n            </tr><tr>\n                <td><strong>Upper bound</strong></td><td>10000</td>\n            </tr>\n        </table>\n        "
     },
     "execution_count": 67,
     "metadata": {},
     "output_type": "execute_result"
    }
   ],
   "source": [
    "model.create_sink(\"C00025__in\")\n",
    "model.create_sink(\"C00169__in\")\n",
    "model.create_sink(\"C00002__in\")\n",
    "model.create_sink(\"C00143__in\")\n",
    "model.create_demand(\"C00390__in\")\n",
    "model.create_demand(\"C00415__in\")\n",
    "model.create_demand(\"C00147__in\")"
   ],
   "metadata": {
    "collapsed": false,
    "ExecuteTime": {
     "start_time": "2023-04-06T15:43:50.383025Z",
     "end_time": "2023-04-06T15:43:50.424729Z"
    }
   }
  },
  {
   "cell_type": "code",
   "execution_count": 68,
   "outputs": [],
   "source": [
    "model.create_tRNAs_reactions()"
   ],
   "metadata": {
    "collapsed": false,
    "ExecuteTime": {
     "start_time": "2023-04-06T15:43:50.397122Z",
     "end_time": "2023-04-06T15:43:50.833569Z"
    }
   }
  },
  {
   "cell_type": "code",
   "execution_count": 69,
   "outputs": [
    {
     "name": "stderr",
     "output_type": "stream",
     "text": [
      "Ignoring reaction 'Dm_C00147__in' since it already exists.\n"
     ]
    },
    {
     "data": {
      "text/plain": "                                          Flux\nAdenine                                    0.0\n5-Phospho-alpha-D-ribose 1-diphosphate  1000.0",
      "text/html": "<div>\n<style scoped>\n    .dataframe tbody tr th:only-of-type {\n        vertical-align: middle;\n    }\n\n    .dataframe tbody tr th {\n        vertical-align: top;\n    }\n\n    .dataframe thead th {\n        text-align: right;\n    }\n</style>\n<table border=\"1\" class=\"dataframe\">\n  <thead>\n    <tr style=\"text-align: right;\">\n      <th></th>\n      <th>Flux</th>\n    </tr>\n  </thead>\n  <tbody>\n    <tr>\n      <th>Adenine</th>\n      <td>0.0</td>\n    </tr>\n    <tr>\n      <th>5-Phospho-alpha-D-ribose 1-diphosphate</th>\n      <td>1000.0</td>\n    </tr>\n  </tbody>\n</table>\n</div>"
     },
     "execution_count": 69,
     "metadata": {},
     "output_type": "execute_result"
    }
   ],
   "source": [
    "model.test_reaction(\"R00190__in\")"
   ],
   "metadata": {
    "collapsed": false,
    "ExecuteTime": {
     "start_time": "2023-04-06T15:43:50.835079Z",
     "end_time": "2023-04-06T15:43:50.959912Z"
    }
   }
  },
  {
   "cell_type": "code",
   "execution_count": 70,
   "outputs": [
    {
     "data": {
      "text/plain": "                              Flux\nH2O                    8822.153575\nThiamin monophosphate   333.333333",
      "text/html": "<div>\n<style scoped>\n    .dataframe tbody tr th:only-of-type {\n        vertical-align: middle;\n    }\n\n    .dataframe tbody tr th {\n        vertical-align: top;\n    }\n\n    .dataframe thead th {\n        text-align: right;\n    }\n</style>\n<table border=\"1\" class=\"dataframe\">\n  <thead>\n    <tr style=\"text-align: right;\">\n      <th></th>\n      <th>Flux</th>\n    </tr>\n  </thead>\n  <tbody>\n    <tr>\n      <th>H2O</th>\n      <td>8822.153575</td>\n    </tr>\n    <tr>\n      <th>Thiamin monophosphate</th>\n      <td>333.333333</td>\n    </tr>\n  </tbody>\n</table>\n</div>"
     },
     "execution_count": 70,
     "metadata": {},
     "output_type": "execute_result"
    }
   ],
   "source": [
    "model.test_reaction(\"R02135__in\")"
   ],
   "metadata": {
    "collapsed": false,
    "ExecuteTime": {
     "start_time": "2023-04-06T15:43:50.962919Z",
     "end_time": "2023-04-06T15:43:51.129695Z"
    }
   }
  },
  {
   "cell_type": "markdown",
   "source": [],
   "metadata": {
    "collapsed": false
   }
  },
  {
   "cell_type": "code",
   "execution_count": 71,
   "outputs": [
    {
     "data": {
      "text/plain": "                                Flux\nUbiquinone                  0.000000\nThiamine                  333.333333\nNAD+                      500.000000\nS-Adenosyl-L-methionine  1000.000000\nFAD                       500.000000\nTetrahydrofolate         2272.727273\nGlutathione              1000.000000\nCoA                       784.722222\nHeme                      125.000000\nRiboflavin                500.000000\nPyridoxal phosphate      1708.888889\nNADPH                     500.000000\nFMN                       500.000000",
      "text/html": "<div>\n<style scoped>\n    .dataframe tbody tr th:only-of-type {\n        vertical-align: middle;\n    }\n\n    .dataframe tbody tr th {\n        vertical-align: top;\n    }\n\n    .dataframe thead th {\n        text-align: right;\n    }\n</style>\n<table border=\"1\" class=\"dataframe\">\n  <thead>\n    <tr style=\"text-align: right;\">\n      <th></th>\n      <th>Flux</th>\n    </tr>\n  </thead>\n  <tbody>\n    <tr>\n      <th>Ubiquinone</th>\n      <td>0.000000</td>\n    </tr>\n    <tr>\n      <th>Thiamine</th>\n      <td>333.333333</td>\n    </tr>\n    <tr>\n      <th>NAD+</th>\n      <td>500.000000</td>\n    </tr>\n    <tr>\n      <th>S-Adenosyl-L-methionine</th>\n      <td>1000.000000</td>\n    </tr>\n    <tr>\n      <th>FAD</th>\n      <td>500.000000</td>\n    </tr>\n    <tr>\n      <th>Tetrahydrofolate</th>\n      <td>2272.727273</td>\n    </tr>\n    <tr>\n      <th>Glutathione</th>\n      <td>1000.000000</td>\n    </tr>\n    <tr>\n      <th>CoA</th>\n      <td>784.722222</td>\n    </tr>\n    <tr>\n      <th>Heme</th>\n      <td>125.000000</td>\n    </tr>\n    <tr>\n      <th>Riboflavin</th>\n      <td>500.000000</td>\n    </tr>\n    <tr>\n      <th>Pyridoxal phosphate</th>\n      <td>1708.888889</td>\n    </tr>\n    <tr>\n      <th>NADPH</th>\n      <td>500.000000</td>\n    </tr>\n    <tr>\n      <th>FMN</th>\n      <td>500.000000</td>\n    </tr>\n  </tbody>\n</table>\n</div>"
     },
     "execution_count": 71,
     "metadata": {},
     "output_type": "execute_result"
    }
   ],
   "source": [
    "model.test_reaction(\"e_Cofactor__in\")"
   ],
   "metadata": {
    "collapsed": false,
    "ExecuteTime": {
     "start_time": "2023-04-06T15:43:51.119165Z",
     "end_time": "2023-04-06T15:43:51.780435Z"
    }
   }
  }
 ],
 "metadata": {
  "kernelspec": {
   "display_name": "Python 3",
   "language": "python",
   "name": "python3"
  },
  "language_info": {
   "codemirror_mode": {
    "name": "ipython",
    "version": 2
   },
   "file_extension": ".py",
   "mimetype": "text/x-python",
   "name": "python",
   "nbconvert_exporter": "python",
   "pygments_lexer": "ipython2",
   "version": "2.7.6"
  }
 },
 "nbformat": 4,
 "nbformat_minor": 0
}
