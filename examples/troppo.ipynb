{
 "cells": [
  {
   "cell_type": "code",
   "execution_count": 1,
   "metadata": {
    "collapsed": true
   },
   "outputs": [],
   "source": [
    "import sys\n",
    "import matplotlib.pyplot as plt\n",
    "import numpy as np\n",
    "import pandas as pd\n",
    "from cobra.flux_analysis import flux_variability_analysis as fva\n",
    "from cobra.flux_analysis import pfba\n",
    "sys.path.insert(0, r\"C:\\Users\\Bisbii\\PythonProjects\\ExpAlgae\\src\")\n",
    "from ExpAlgae.model.COBRAmodel import *\n",
    "import seaborn as sns\n",
    "sns.set(rc={'figure.figsize':(35,8.27)})"
   ]
  },
  {
   "cell_type": "code",
   "execution_count": 2,
   "outputs": [
    {
     "name": "stdout",
     "output_type": "stream",
     "text": [
      "Loading\n",
      "\n",
      "Reactions: 4611\n",
      "Metabolites: 3716\n",
      "Genes: 1685\n",
      "Model loaded\n"
     ]
    }
   ],
   "source": [
    "def read_model(data_directory):\n",
    "    model_to_load = MyModel(join(data_directory, \"models/model_with_trials.xml\"), \"e_Biomass__cytop\")\n",
    "    model_to_load.add_medium(join(data_directory, \"media.xlsx\"), \"base_medium\")\n",
    "    model_to_load.exchanges.EX_C00009__dra.bounds = (-0.05, 1000)\n",
    "    model_to_load.exchanges.EX_C00244__dra.bounds = (-5, 1000)\n",
    "    return model_to_load\n",
    "\n",
    "model = read_model(\"../data\")"
   ],
   "metadata": {
    "collapsed": false
   }
  },
  {
   "cell_type": "code",
   "execution_count": 3,
   "outputs": [],
   "source": [
    "from ExpAlgae.omics.omics_integration import OmicsIntegration\n",
    "\n",
    "omics = OmicsIntegration(r\"C:\\Users\\Bisbii\\PythonProjects\\ExpAlgae\\data\\omics\\output.txt\", samples_names={\"SRR7984026Aligned.out.sam\":\"LL_1\",\n",
    "                                                                \"SRR7984027Aligned.out.sam\": \"LL_2\",\n",
    "                                                                \"SRR7984028Aligned.out.sam\":\"LL_3\",\n",
    "                                                                \"SRR7984029Aligned.out.sam\":\"ML_1\",\n",
    "                                                                \"SRR7984030Aligned.out.sam\":\"ML_2\",\n",
    "                                                                \"SRR7984031Aligned.out.sam\":\"ML_3\",\n",
    "                                                                \"SRR7984032Aligned.out.sam\":\"HL_1\",\n",
    "                                                                \"SRR7984033Aligned.out.sam\":\"HL_2\",\n",
    "                                                                \"SRR7984034Aligned.out.sam\":\"HL_3\",\n",
    "                                                              }, model=model)"
   ],
   "metadata": {
    "collapsed": false
   }
  },
  {
   "cell_type": "code",
   "execution_count": 4,
   "outputs": [],
   "source": [
    "from ExpAlgae.io.reader import read_csv\n",
    "omics.getmm = read_csv(r\"C:\\Users\\Bisbii\\PythonProjects\\ExpAlgae\\data\\omics\\getmm_light.tsv\", index_name='GeneID', index_col=0, comment='#', sep='\\t')\n",
    "omics.sum_tech_reps()"
   ],
   "metadata": {
    "collapsed": false
   }
  },
  {
   "cell_type": "code",
   "execution_count": 9,
   "outputs": [
    {
     "data": {
      "text/plain": "              HL  LL  ML\nGeneID                  \nKAF5843879_1   0   0   0\nKAF5843880_1   0   0   0\nKAF5843881_1   0   0   0\nKAF5843882_1   0   0   0\nKAF5843883_1   0   0   0",
      "text/html": "<div>\n<style scoped>\n    .dataframe tbody tr th:only-of-type {\n        vertical-align: middle;\n    }\n\n    .dataframe tbody tr th {\n        vertical-align: top;\n    }\n\n    .dataframe thead th {\n        text-align: right;\n    }\n</style>\n<table border=\"1\" class=\"dataframe\">\n  <thead>\n    <tr style=\"text-align: right;\">\n      <th></th>\n      <th>HL</th>\n      <th>LL</th>\n      <th>ML</th>\n    </tr>\n    <tr>\n      <th>GeneID</th>\n      <th></th>\n      <th></th>\n      <th></th>\n    </tr>\n  </thead>\n  <tbody>\n    <tr>\n      <th>KAF5843879_1</th>\n      <td>0</td>\n      <td>0</td>\n      <td>0</td>\n    </tr>\n    <tr>\n      <th>KAF5843880_1</th>\n      <td>0</td>\n      <td>0</td>\n      <td>0</td>\n    </tr>\n    <tr>\n      <th>KAF5843881_1</th>\n      <td>0</td>\n      <td>0</td>\n      <td>0</td>\n    </tr>\n    <tr>\n      <th>KAF5843882_1</th>\n      <td>0</td>\n      <td>0</td>\n      <td>0</td>\n    </tr>\n    <tr>\n      <th>KAF5843883_1</th>\n      <td>0</td>\n      <td>0</td>\n      <td>0</td>\n    </tr>\n  </tbody>\n</table>\n</div>"
     },
     "execution_count": 9,
     "metadata": {},
     "output_type": "execute_result"
    }
   ],
   "source": [
    "omics.counts.head()"
   ],
   "metadata": {
    "collapsed": false
   }
  },
  {
   "cell_type": "code",
   "execution_count": 5,
   "outputs": [],
   "source": [
    "from cobra.flux_analysis import find_blocked_reactions\n",
    "\n",
    "blocked = find_blocked_reactions(model)\n",
    "model.remove_reactions(blocked)"
   ],
   "metadata": {
    "collapsed": false
   }
  },
  {
   "cell_type": "code",
   "execution_count": null,
   "outputs": [],
   "source": [
    "omics.counts.median()"
   ],
   "metadata": {
    "collapsed": false,
    "pycharm": {
     "is_executing": true
    }
   }
  },
  {
   "cell_type": "code",
   "execution_count": null,
   "outputs": [],
   "source": [
    "from ExpAlgae.omics.troppo import integration_pipeline\n",
    "\n",
    "integration_pipeline(omics.counts, \"light\", \"fastcore\", 10, 8, model.model)"
   ],
   "metadata": {
    "collapsed": false,
    "pycharm": {
     "is_executing": true
    }
   }
  }
 ],
 "metadata": {
  "kernelspec": {
   "display_name": "Python 3",
   "language": "python",
   "name": "python3"
  },
  "language_info": {
   "codemirror_mode": {
    "name": "ipython",
    "version": 2
   },
   "file_extension": ".py",
   "mimetype": "text/x-python",
   "name": "python",
   "nbconvert_exporter": "python",
   "pygments_lexer": "ipython2",
   "version": "2.7.6"
  }
 },
 "nbformat": 4,
 "nbformat_minor": 0
}
