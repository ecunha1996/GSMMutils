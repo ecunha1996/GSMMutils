{
 "cells": [
  {
   "cell_type": "code",
   "execution_count": 1,
   "id": "initial_id",
   "metadata": {
    "ExecuteTime": {
     "end_time": "2023-11-14T14:44:05.212037100Z",
     "start_time": "2023-11-14T14:44:01.053959800Z"
    }
   },
   "outputs": [
    {
     "ename": "FileNotFoundError",
     "evalue": "[WinError 2] The system cannot find the file specified: 'optimization'",
     "output_type": "error",
     "traceback": [
      "\u001B[1;31m---------------------------------------------------------------------------\u001B[0m",
      "\u001B[1;31mFileNotFoundError\u001B[0m                         Traceback (most recent call last)",
      "Cell \u001B[1;32mIn[1], line 11\u001B[0m\n\u001B[0;32m      9\u001B[0m \u001B[38;5;28;01mfrom\u001B[39;00m \u001B[38;5;21;01mmewpy\u001B[39;00m\u001B[38;5;21;01m.\u001B[39;00m\u001B[38;5;21;01moptimization\u001B[39;00m\u001B[38;5;21;01m.\u001B[39;00m\u001B[38;5;21;01mevaluation\u001B[39;00m \u001B[38;5;28;01mimport\u001B[39;00m BPCY_FVA\n\u001B[0;32m     10\u001B[0m \u001B[38;5;28;01mimport\u001B[39;00m \u001B[38;5;21;01mos\u001B[39;00m\n\u001B[1;32m---> 11\u001B[0m \u001B[43mos\u001B[49m\u001B[38;5;241;43m.\u001B[39;49m\u001B[43mchdir\u001B[49m\u001B[43m(\u001B[49m\u001B[38;5;124;43m\"\u001B[39;49m\u001B[38;5;124;43moptimization\u001B[39;49m\u001B[38;5;124;43m\"\u001B[39;49m\u001B[43m)\u001B[49m\n",
      "\u001B[1;31mFileNotFoundError\u001B[0m: [WinError 2] The system cannot find the file specified: 'optimization'"
     ]
    }
   ],
   "source": [
    "import json\n",
    "import pandas as pd\n",
    "from cobra.io import read_sbml_model\n",
    "from mewpy import get_simulator\n",
    "from mewpy.optimization import BPCY, WYIELD, EA\n",
    "from mewpy.problems import GOUProblem, GKOProblem\n",
    "import platform\n",
    "from cobra.flux_analysis import pfba\n",
    "from mewpy.optimization.evaluation import BPCY_FVA\n",
    "import os\n",
    "os.chdir(\"optimization\")"
   ]
  },
  {
   "cell_type": "code",
   "execution_count": 5,
   "id": "8e86a85fa30a0388",
   "metadata": {
    "ExecuteTime": {
     "end_time": "2023-11-14T10:30:06.939226900Z",
     "start_time": "2023-11-14T10:30:06.320274300Z"
    },
    "collapsed": false
   },
   "outputs": [
    {
     "name": "stdout",
     "output_type": "stream",
     "text": [
      "Objective\n",
      "=========\n",
      "1.0 Ec_biomass_SynMixo = 0.06651314694830654\n",
      "\n",
      "Uptake\n",
      "------\n",
      "  Metabolite        Reaction      Flux  C-Number C-Flux\n",
      "       ca2_e        EX_ca2_e 0.0003001         0  0.00%\n",
      "       co2_e        EX_co2_e       2.7         1 34.61%\n",
      "   cobalt2_e    EX_cobalt2_e 0.0002163         0  0.00%\n",
      "       cu2_e        EX_cu2_e 0.0002001         0  0.00%\n",
      "       fe2_e        EX_fe2_e 0.0004979         0  0.00%\n",
      "       fe3_e        EX_fe3_e 0.0004534         0  0.00%\n",
      "glc_DASH_D_e EX_glc_DASH_D_e      0.85         6 65.38%\n",
      "         k_e          EX_k_e   0.01125         0  0.00%\n",
      "       mg2_e        EX_mg2_e  0.001913         0  0.00%\n",
      "       mn2_e        EX_mn2_e 0.0002015         0  0.00%\n",
      "      mobd_e       EX_mobd_e 0.0002015         0  0.00%\n",
      "       na1_e        EX_na1_e 0.0002519         0  0.00%\n",
      "       no3_e        EX_no3_e    0.5996         0  0.00%\n",
      "    photon_e     EX_photon_e        30         0  0.00%\n",
      "        pi_e         EX_pi_e   0.04591         0  0.00%\n",
      "       so4_e        EX_so4_e   0.01262         0  0.00%\n",
      "       zn2_e        EX_zn2_e 0.0002001         0  0.00%\n",
      "    rdmbzi_c     Sink_rdmbzi 1.483E-05        14  0.00%\n",
      "\n",
      "Secretion\n",
      "---------\n",
      "Metabolite     Reaction       Flux  C-Number C-Flux\n",
      " 5mdru1p_c DM_5mdru1p_c -0.0004486         6  0.05%\n",
      "     fum_e     EX_fum_e     -1.275         4 99.95%\n",
      "     h2o_e     EX_h2o_e    -0.7992         0  0.00%\n",
      "       h_e       EX_h_e     -1.887         0  0.00%\n",
      "      o2_e      EX_o2_e     -2.844         0  0.00%\n"
     ]
    }
   ],
   "source": [
    "model = read_sbml_model(rf\"iJN678.xml\")\n",
    "model.objective = \"Ec_biomass_SynMixo\"\n",
    "model.solver = \"cplex\"\n",
    "model.exchanges.EX_photon_e.bounds = (-30, -30)\n",
    "model.exchanges.EX_co2_e.bounds = (-2.7, -2.7)\n",
    "model.exchanges.EX_hco3_e.bounds = (-1.1, 1000)\n",
    "\n",
    "# model.reactions.EX_gln_DASH_L_e.bounds = (-0.5, -0.5)\n",
    "# model.reactions.EX_o2_e.bounds = (-0.5, 1000)\n",
    "sol = model.optimize()\n",
    "\n",
    "# pfba_sol = pfba(model)\n",
    "# \n",
    "print(model.summary(sol))"
   ]
  },
  {
   "cell_type": "code",
   "execution_count": 6,
   "id": "2ea28ea1a1f333b9",
   "metadata": {
    "ExecuteTime": {
     "end_time": "2023-11-14T11:11:08.543498200Z",
     "start_time": "2023-11-14T10:30:24.737224400Z"
    },
    "collapsed": false
   },
   "outputs": [
    {
     "name": "stderr",
     "output_type": "stream",
     "text": [
      "100%|████████████████████████████████████████████████████████████████████████████████████████████████████████████████████████████████████████████████████████████████████████| 678/678 [00:03<00:00, 219.29it/s]\n",
      "2023-11-14 10:56:30,202\tINFO worker.py:1507 -- Calling ray.init() again after it has already been called.\n"
     ]
    },
    {
     "name": "stdout",
     "output_type": "stream",
     "text": [
      "Running GA\n",
      "Using 32 workers.\n",
      "Evaluations: 100\tFitness: 0.03162072789745394\n",
      "Evaluations: 200\tFitness: 0.03162072789745515\n",
      "Evaluations: 300\tFitness: 0.03162072789745515\n",
      "Evaluations: 400\tFitness: 0.03162072789745515\n",
      "Evaluations: 500\tFitness: 0.03162072789745515\n",
      "Evaluations: 600\tFitness: 0.03162072789745515\n",
      "Evaluations: 700\tFitness: 0.03162072789745515\n",
      "Evaluations: 800\tFitness: 0.03162072789747249\n",
      "Evaluations: 900\tFitness: 0.03162072789747543\n",
      "Evaluations: 1000\tFitness: 0.03977766899491291\n",
      "Evaluations: 1100\tFitness: 0.03977766899491301\n",
      "Evaluations: 1200\tFitness: 0.03977766899491301\n",
      "Evaluations: 1300\tFitness: 0.03977766899491301\n",
      "Evaluations: 1400\tFitness: 0.03977766899491301\n",
      "Evaluations: 1500\tFitness: 0.03977766899491301\n",
      "Evaluations: 1600\tFitness: 0.03977766899491301\n",
      "Evaluations: 1700\tFitness: 0.03977766899491301\n",
      "Evaluations: 1800\tFitness: 0.03977766899491301\n",
      "Evaluations: 1900\tFitness: 0.03977766899491301\n",
      "Evaluations: 2000\tFitness: 0.03977766899491301\n",
      "Evaluations: 2100\tFitness: 0.03977766899491301\n",
      "Evaluations: 2200\tFitness: 0.039777668994914764\n",
      "Evaluations: 2300\tFitness: 0.039777668994914764\n",
      "Evaluations: 2400\tFitness: 0.039777668994914764\n",
      "Evaluations: 2500\tFitness: 0.03977766899501383\n",
      "Evaluations: 2600\tFitness: 0.03977766899501383\n",
      "Evaluations: 2700\tFitness: 0.03977766899501917\n",
      "Evaluations: 2800\tFitness: 0.03977766899504137\n",
      "Evaluations: 2900\tFitness: 0.03977766899506879\n",
      "Evaluations: 3000\tFitness: 0.03977766899506879\n",
      "Evaluations: 3100\tFitness: 0.03977766899531244\n",
      "Evaluations: 3200\tFitness: 0.039777668995527565\n",
      "Evaluations: 3300\tFitness: 0.039777668995527565\n",
      "Evaluations: 3400\tFitness: 0.039777668995527565\n",
      "Evaluations: 3500\tFitness: 0.039777668995527565\n",
      "Evaluations: 3600\tFitness: 0.03977766899586289\n",
      "Evaluations: 3700\tFitness: 0.03977766899586289\n",
      "Evaluations: 3800\tFitness: 0.03977766899586289\n",
      "Evaluations: 3900\tFitness: 0.03977766899586289\n",
      "Evaluations: 4000\tFitness: 0.03977766899586289\n",
      "Evaluations: 4100\tFitness: 0.03977766899586289\n",
      "Evaluations: 4200\tFitness: 0.03977766899586289\n",
      "Evaluations: 4300\tFitness: 0.03977766899586289\n",
      "Evaluations: 4400\tFitness: 0.03977766899586289\n",
      "Evaluations: 4500\tFitness: 0.03977766899586289\n",
      "Evaluations: 4600\tFitness: 0.03977766899586289\n",
      "Evaluations: 4700\tFitness: 0.03977766899586289\n",
      "Evaluations: 4800\tFitness: 0.03977766899586289\n",
      "Evaluations: 4900\tFitness: 0.03977766899586289\n",
      "Evaluations: 5000\tFitness: 0.03977766899586289\n",
      "Evaluations: 5100\tFitness: 0.03977766899586289\n",
      "Evaluations: 5200\tFitness: 0.03977766899586289\n",
      "Evaluations: 5300\tFitness: 0.03977766899586289\n",
      "Evaluations: 5400\tFitness: 0.03977766899586289\n",
      "Evaluations: 5500\tFitness: 0.03977766899586289\n",
      "Evaluations: 5600\tFitness: 0.03977766899586289\n",
      "Evaluations: 5700\tFitness: 0.03977766899586289\n",
      "Evaluations: 5800\tFitness: 0.03977766899586289\n",
      "Evaluations: 5900\tFitness: 0.03977766899586289\n",
      "Evaluations: 6000\tFitness: 0.03977766899586289\n",
      "Evaluations: 6100\tFitness: 0.03977766899586289\n",
      "Evaluations: 6200\tFitness: 0.03977766899586289\n",
      "Evaluations: 6300\tFitness: 0.039777668997930005\n",
      "Evaluations: 6400\tFitness: 0.039777668997930005\n",
      "Evaluations: 6500\tFitness: 0.039777668998959126\n",
      "Evaluations: 6600\tFitness: 0.039777668998959126\n",
      "Evaluations: 6700\tFitness: 0.039777668998959126\n",
      "Evaluations: 6800\tFitness: 0.039777668998959126\n",
      "Evaluations: 6900\tFitness: 0.039777668998959126\n",
      "Evaluations: 7000\tFitness: 0.039777668998959126\n",
      "Evaluations: 7100\tFitness: 0.039777668998959126\n",
      "Evaluations: 7200\tFitness: 0.039777668998959126\n",
      "Evaluations: 7300\tFitness: 0.039777668998959126\n",
      "Evaluations: 7400\tFitness: 0.039777668998959126\n",
      "Evaluations: 7500\tFitness: 0.039777668998959126\n",
      "Evaluations: 7600\tFitness: 0.039777668998959126\n",
      "Evaluations: 7700\tFitness: 0.039777668998959126\n",
      "Evaluations: 7800\tFitness: 0.039777668998959126\n",
      "Evaluations: 7900\tFitness: 0.039777668998959126\n",
      "Evaluations: 8000\tFitness: 0.039777668998959126\n",
      "Evaluations: 8100\tFitness: 0.039777668998959126\n",
      "Evaluations: 8200\tFitness: 0.039777668998959126\n",
      "Evaluations: 8300\tFitness: 0.039777668998959126\n",
      "Evaluations: 8400\tFitness: 0.039777668998959126\n",
      "Evaluations: 8500\tFitness: 0.039777668998959126\n",
      "Evaluations: 8600\tFitness: 0.039777668998959126\n",
      "Evaluations: 8700\tFitness: 0.039777668998959126\n",
      "Evaluations: 8800\tFitness: 0.039777668998959126\n",
      "Evaluations: 8900\tFitness: 0.16972365263477932\n",
      "Evaluations: 9000\tFitness: 0.16972365263485487\n",
      "Evaluations: 9100\tFitness: 0.16972365263485487\n",
      "Evaluations: 9200\tFitness: 0.16972365263493241\n",
      "Evaluations: 9300\tFitness: 0.5100977928331032\n",
      "Evaluations: 9400\tFitness: 0.5100977928331032\n",
      "Evaluations: 9500\tFitness: 0.5100977928331032\n",
      "Evaluations: 9600\tFitness: 0.5100977928336349\n",
      "Evaluations: 9700\tFitness: 0.5366446430713815\n",
      "Evaluations: 9800\tFitness: 0.5366446430714796\n",
      "Evaluations: 9900\tFitness: 0.5366446430714796\n",
      "Evaluations: 10000\tFitness: 0.5391444393824731\n"
     ]
    }
   ],
   "source": [
    "with model as temp_model:\n",
    "    BIOMASS_ID = \"Ec_biomass_SynMixo\"\n",
    "    PRODUCT_ID = \"EX_fum_e\"\n",
    "    evaluator_2 = BPCY_FVA(BIOMASS_ID, PRODUCT_ID, method=\"lMOMA\")\n",
    "    simul = get_simulator(temp_model)\n",
    "    essential_genes = simul.essential_genes()\n",
    "    problem = GOUProblem(simul, fevaluation=[\n",
    "                                             evaluator_2], candidate_max_size=5, non_target=essential_genes)\n",
    "    ea = EA(problem, max_generations=100, visualizer=True)\n",
    "    final_pop = ea.run()"
   ]
  },
  {
   "cell_type": "code",
   "execution_count": 7,
   "id": "11be42bd998c2b5e",
   "metadata": {
    "ExecuteTime": {
     "end_time": "2023-11-14T11:12:23.003552700Z",
     "start_time": "2023-11-14T11:12:22.960357900Z"
    },
    "collapsed": false
   },
   "outputs": [
    {
     "data": {
      "text/plain": [
       "[[0.5391444393825989];{'slr0018': 4},\n",
       " [0.5366446430714165];{'slr0041': 0, 'slr0018': 4},\n",
       " [0.5366446430708771];{'slr0033': 2, 'slr0041': 0, 'slr0018': 4, 'slr0783': 2},\n",
       " [0.5366446430708771];{'slr0033': 2, 'slr0040': 0, 'slr0018': 4, 'slr0783': 2},\n",
       " [0.5366446430708771];{'slr0033': 2, 'slr0040': 0, 'slr0041': 0, 'slr0018': 4},\n",
       " [0.5366446430708771];{'slr0040': 0, 'slr0041': 0, 'slr0018': 4, 'slr0783': 2},\n",
       " [0.5100977928334979];{'slr0783': 4, 'slr0018': 4}]"
      ]
     },
     "execution_count": 7,
     "metadata": {},
     "output_type": "execute_result"
    }
   ],
   "source": [
    "final_pop"
   ]
  },
  {
   "cell_type": "code",
   "execution_count": 39,
   "id": "8f7d4d1177d4fc09",
   "metadata": {
    "ExecuteTime": {
     "end_time": "2023-11-13T18:30:38.861625600Z",
     "start_time": "2023-11-13T18:30:38.820843300Z"
    },
    "collapsed": false
   },
   "outputs": [
    {
     "name": "stdout",
     "output_type": "stream",
     "text": [
      "objective: 0.01\n",
      "Status: OPTIMAL\n",
      "Method:FBA\n"
     ]
    }
   ],
   "source": [
    "# df = ea.dataframe()\n",
    "# df.to_csv(rf\"synecho_gou_mal.tsv\", index=False, sep=\"\\t\")\n",
    "solution = final_pop[0]\n",
    "sim = problem.simulator\n",
    "res = sim.simulate(constraints=solution.constraints, method='FBA')\n",
    "print(res)\n",
    "# with open(rf\"synecho_gou_mal.txt\", \"w\") as f:\n",
    "#     f.write(res)"
   ]
  },
  {
   "cell_type": "code",
   "execution_count": 53,
   "id": "b79620d25b2b55fa",
   "metadata": {
    "ExecuteTime": {
     "end_time": "2023-11-13T18:35:39.965104200Z",
     "start_time": "2023-11-13T18:35:39.848987500Z"
    },
    "collapsed": false
   },
   "outputs": [
    {
     "name": "stdout",
     "output_type": "stream",
     "text": [
      "ACBIPGT    0.000001\n",
      "OXGDC2     0.000009\n",
      "UAGAAT     0.000000\n",
      "UAMAS      0.000000\n",
      "SHCHCS2    0.000009\n",
      "Name: fluxes, dtype: float64\n",
      "Objective\n",
      "=========\n",
      "1.0 Ec_biomass_SynMixo = 0.01\n",
      "\n",
      "Uptake\n",
      "------\n",
      "  Metabolite        Reaction      Flux  C-Number C-Flux\n",
      "       ca2_e        EX_ca2_e 4.512E-05         0  0.00%\n",
      "       co2_e        EX_co2_e       2.7         1 30.34%\n",
      "   cobalt2_e    EX_cobalt2_e 3.149E-05         0  0.00%\n",
      "       cu2_e        EX_cu2_e 3.008E-05         0  0.00%\n",
      "       fe2_e        EX_fe2_e 7.485E-05         0  0.00%\n",
      "       fe3_e        EX_fe3_e 6.816E-05         0  0.00%\n",
      "glc_DASH_D_e EX_glc_DASH_D_e      0.85         6 57.30%\n",
      "      hco3_e       EX_hco3_e       1.1         1 12.36%\n",
      "         k_e          EX_k_e  0.001692         0  0.00%\n",
      "       mg2_e        EX_mg2_e 0.0002876         0  0.00%\n",
      "       mn2_e        EX_mn2_e 3.029E-05         0  0.00%\n",
      "      mobd_e       EX_mobd_e 3.029E-05         0  0.00%\n",
      "       na1_e        EX_na1_e 3.787E-05         0  0.00%\n",
      "       no3_e        EX_no3_e   0.08861         0  0.00%\n",
      "    photon_e     EX_photon_e        30         0  0.00%\n",
      "        pi_e         EX_pi_e  0.006144         0  0.00%\n",
      "       so4_e        EX_so4_e  0.001897         0  0.00%\n",
      "       zn2_e        EX_zn2_e 3.008E-05         0  0.00%\n",
      "    rdmbzi_c     Sink_rdmbzi  2.23E-06        14  0.00%\n",
      "\n",
      "Secretion\n",
      "---------\n",
      "  Metabolite        Reaction       Flux  C-Number C-Flux\n",
      "   5mdru1p_c    DM_5mdru1p_c -6.744E-05         6  0.00%\n",
      "       fum_e        EX_fum_e     -0.432         4 20.29%\n",
      "         h_e          EX_h_e     -3.061         0  0.00%\n",
      "mal_DASH_L_e EX_mal_DASH_L_e     -1.697         4 79.71%\n",
      "        o2_e         EX_o2_e     -1.876         0  0.00%\n"
     ]
    }
   ],
   "source": [
    "with model as fucking_model:\n",
    "    for reaction_id, value  in solution.constraints.items():\n",
    "        model.reactions.get_by_id(reaction_id).bounds = value\n",
    "    sol = fucking_model.optimize()\n",
    "    print(sol[list(solution.constraints.keys())])\n",
    "    print(fucking_model.summary())"
   ]
  }
 ],
 "metadata": {
  "kernelspec": {
   "display_name": "Python 3 (ipykernel)",
   "language": "python",
   "name": "python3"
  },
  "language_info": {
   "codemirror_mode": {
    "name": "ipython",
    "version": 3
   },
   "file_extension": ".py",
   "mimetype": "text/x-python",
   "name": "python",
   "nbconvert_exporter": "python",
   "pygments_lexer": "ipython3",
   "version": "3.10.12"
  }
 },
 "nbformat": 4,
 "nbformat_minor": 5
}
