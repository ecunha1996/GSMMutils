{
 "cells": [
  {
   "cell_type": "code",
   "execution_count": 1,
   "outputs": [
    {
     "name": "stdout",
     "output_type": "stream",
     "text": [
      "Loading\n",
      "\n",
      "Set parameter Username\n",
      "Academic license - for non-commercial use only - expires 2024-11-10\n",
      "Reactions: 18935\n",
      "Metabolites: 19433\n",
      "Genes: 7188\n",
      "Model loaded\n",
      "optimal\n",
      "0.0\n"
     ]
    }
   ],
   "source": [
    "import os\n",
    "\n",
    "import cobra\n",
    "from GSMMutils import MyModel\n",
    "from cobra.flux_analysis import pfba\n",
    "import warnings\n",
    "warnings.filterwarnings('ignore')\n",
    "import logging\n",
    "logging.getLogger('cobra').setLevel(logging.CRITICAL)\n",
    "\n",
    "original_model = MyModel('diel_populus_model.xml', \"Biomass_Total\")\n",
    "#original_model.objective = \"BiomassRxn\"\n",
    "print(original_model.optimize().status)\n",
    "print(original_model.optimize().objective_value)"
   ],
   "metadata": {
    "collapsed": false,
    "ExecuteTime": {
     "end_time": "2023-12-11T19:26:32.948393812Z",
     "start_time": "2023-12-11T19:26:04.185358954Z"
    }
   },
   "id": "9d0cca11b79a4ffe"
  },
  {
   "cell_type": "code",
   "execution_count": 2,
   "outputs": [],
   "source": [
    "metabolites_ids = [met.id for met in original_model.metabolites]\n",
    "lowercase_list = [item.lower() for item in metabolites_ids]\n",
    "\n",
    "# Find duplicates\n",
    "duplicates = set()\n",
    "seen = set()\n",
    "\n",
    "for item in lowercase_list:\n",
    "    if item in seen:\n",
    "        duplicates.add(item)\n",
    "    else:\n",
    "        seen.add(item)\n",
    "\n",
    "# Convert duplicates back to their original case if needed\n",
    "duplicates_original_case = [original_item for original_item, lower_item in zip(metabolites_ids, lowercase_list) if lower_item in duplicates]\n",
    "for reaction in original_model.reactions:\n",
    "    for met in reaction.metabolites:\n",
    "        if met.id.lower() in duplicates:\n",
    "            st = reaction.metabolites[met]\n",
    "            reaction.add_metabolites({met.id: -st, original_model.get_metabolite(met.id.lower().replace(\"day\", \"Day\").replace(\"night\"\n",
    "                                                                                                                              , \"Night\")): st})"
   ],
   "metadata": {
    "collapsed": false,
    "ExecuteTime": {
     "end_time": "2023-12-11T19:26:33.735360930Z",
     "start_time": "2023-12-11T19:26:32.958323479Z"
    }
   },
   "id": "7faf45f34226c68f"
  },
  {
   "cell_type": "code",
   "execution_count": 4,
   "outputs": [
    {
     "ename": "NameError",
     "evalue": "name 'non_producing' is not defined",
     "output_type": "error",
     "traceback": [
      "\u001B[0;31m---------------------------------------------------------------------------\u001B[0m",
      "\u001B[0;31mNameError\u001B[0m                                 Traceback (most recent call last)",
      "Cell \u001B[0;32mIn[4], line 1\u001B[0m\n\u001B[0;32m----> 1\u001B[0m \u001B[43mnon_producing\u001B[49m\n",
      "\u001B[0;31mNameError\u001B[0m: name 'non_producing' is not defined"
     ]
    }
   ],
   "source": [
    "non_producing = original_model.test_reaction(\"Biomass_Total\")"
   ],
   "metadata": {
    "collapsed": false,
    "ExecuteTime": {
     "end_time": "2023-12-11T20:21:31.699171291Z",
     "start_time": "2023-12-11T20:21:31.645499011Z"
    }
   },
   "id": "7c85f604816f98bb"
  },
  {
   "cell_type": "code",
   "execution_count": 6,
   "outputs": [
    {
     "ename": "AttributeError",
     "evalue": "DictList has no attribute or entry BiomassRxn",
     "output_type": "error",
     "traceback": [
      "\u001B[0;31m---------------------------------------------------------------------------\u001B[0m",
      "\u001B[0;31mKeyError\u001B[0m                                  Traceback (most recent call last)",
      "File \u001B[0;32m~/miniforge3/envs/GSMMutils/lib/python3.11/site-packages/cobra/core/dictlist.py:525\u001B[0m, in \u001B[0;36mDictList.__getattr__\u001B[0;34m(self, attr)\u001B[0m\n\u001B[1;32m    524\u001B[0m \u001B[38;5;28;01mtry\u001B[39;00m:\n\u001B[0;32m--> 525\u001B[0m     \u001B[38;5;28;01mreturn\u001B[39;00m \u001B[43mDictList\u001B[49m\u001B[38;5;241;43m.\u001B[39;49m\u001B[43mget_by_id\u001B[49m\u001B[43m(\u001B[49m\u001B[38;5;28;43mself\u001B[39;49m\u001B[43m,\u001B[49m\u001B[43m \u001B[49m\u001B[43mattr\u001B[49m\u001B[43m)\u001B[49m\n\u001B[1;32m    526\u001B[0m \u001B[38;5;28;01mexcept\u001B[39;00m \u001B[38;5;167;01mKeyError\u001B[39;00m:\n",
      "File \u001B[0;32m~/miniforge3/envs/GSMMutils/lib/python3.11/site-packages/cobra/core/dictlist.py:73\u001B[0m, in \u001B[0;36mDictList.get_by_id\u001B[0;34m(self, id)\u001B[0m\n\u001B[1;32m     72\u001B[0m \u001B[38;5;250m\u001B[39m\u001B[38;5;124;03m\"\"\"Return the element with a matching id.\"\"\"\u001B[39;00m\n\u001B[0;32m---> 73\u001B[0m \u001B[38;5;28;01mreturn\u001B[39;00m \u001B[38;5;28mlist\u001B[39m\u001B[38;5;241m.\u001B[39m\u001B[38;5;21m__getitem__\u001B[39m(\u001B[38;5;28mself\u001B[39m, \u001B[38;5;28;43mself\u001B[39;49m\u001B[38;5;241;43m.\u001B[39;49m\u001B[43m_dict\u001B[49m\u001B[43m[\u001B[49m\u001B[38;5;28;43mid\u001B[39;49m\u001B[43m]\u001B[49m)\n",
      "\u001B[0;31mKeyError\u001B[0m: 'BiomassRxn'",
      "\nDuring handling of the above exception, another exception occurred:\n",
      "\u001B[0;31mAttributeError\u001B[0m                            Traceback (most recent call last)",
      "Cell \u001B[0;32mIn[6], line 1\u001B[0m\n\u001B[0;32m----> 1\u001B[0m \u001B[43moriginal_model\u001B[49m\u001B[38;5;241;43m.\u001B[39;49m\u001B[43mreactions\u001B[49m\u001B[38;5;241;43m.\u001B[39;49m\u001B[43mBiomassRxn\u001B[49m\u001B[38;5;241m.\u001B[39mbounds \u001B[38;5;241m=\u001B[39m (\u001B[38;5;241m0.01\u001B[39m, \u001B[38;5;241m0.01\u001B[39m)\n\u001B[1;32m      2\u001B[0m original_model\u001B[38;5;241m.\u001B[39mobjective \u001B[38;5;241m=\u001B[39m \u001B[38;5;124m\"\u001B[39m\u001B[38;5;124mEX_light_Day\u001B[39m\u001B[38;5;124m\"\u001B[39m\n\u001B[1;32m      3\u001B[0m original_model\u001B[38;5;241m.\u001B[39mobjective_direction \u001B[38;5;241m=\u001B[39m \u001B[38;5;124m\"\u001B[39m\u001B[38;5;124mmax\u001B[39m\u001B[38;5;124m\"\u001B[39m\n",
      "File \u001B[0;32m~/miniforge3/envs/GSMMutils/lib/python3.11/site-packages/cobra/core/dictlist.py:527\u001B[0m, in \u001B[0;36mDictList.__getattr__\u001B[0;34m(self, attr)\u001B[0m\n\u001B[1;32m    525\u001B[0m     \u001B[38;5;28;01mreturn\u001B[39;00m DictList\u001B[38;5;241m.\u001B[39mget_by_id(\u001B[38;5;28mself\u001B[39m, attr)\n\u001B[1;32m    526\u001B[0m \u001B[38;5;28;01mexcept\u001B[39;00m \u001B[38;5;167;01mKeyError\u001B[39;00m:\n\u001B[0;32m--> 527\u001B[0m     \u001B[38;5;28;01mraise\u001B[39;00m \u001B[38;5;167;01mAttributeError\u001B[39;00m(\u001B[38;5;124mf\u001B[39m\u001B[38;5;124m\"\u001B[39m\u001B[38;5;124mDictList has no attribute or entry \u001B[39m\u001B[38;5;132;01m{\u001B[39;00mattr\u001B[38;5;132;01m}\u001B[39;00m\u001B[38;5;124m\"\u001B[39m)\n",
      "\u001B[0;31mAttributeError\u001B[0m: DictList has no attribute or entry BiomassRxn"
     ]
    }
   ],
   "source": [
    "original_model.reactions.Biomass_Total.bounds = (0.01, 0.01)\n",
    "original_model.objective = \"EX_light_Day\"\n",
    "original_model.objective_direction = \"max\"\n",
    "original_model.summary()"
   ],
   "metadata": {
    "collapsed": false,
    "ExecuteTime": {
     "end_time": "2023-12-11T19:07:07.378697897Z",
     "start_time": "2023-12-11T19:07:07.324405296Z"
    }
   },
   "id": "80bc2a774de08ae9"
  },
  {
   "cell_type": "code",
   "execution_count": 3,
   "outputs": [],
   "source": [
    "original_model.write(\"diel_populus_model_fixed.xml\")"
   ],
   "metadata": {
    "collapsed": false,
    "ExecuteTime": {
     "end_time": "2023-12-11T19:23:05.482490778Z",
     "start_time": "2023-12-11T19:22:57.506724444Z"
    }
   },
   "id": "e3c3ebe0e6ca1fb1"
  },
  {
   "cell_type": "code",
   "execution_count": 6,
   "outputs": [
    {
     "data": {
      "text/plain": "<cobra.summary.model_summary.ModelSummary at 0x7f407d332bd0>",
      "text/html": "<h3>Objective</h3><p>1.0 EX_light = -39.5375251480358</p><h4>Uptake</h4><table border=\"1\" class=\"dataframe\">\n  <thead>\n    <tr style=\"text-align: right;\">\n      <th>Metabolite</th>\n      <th>Reaction</th>\n      <th>Flux</th>\n      <th>C-Number</th>\n      <th>C-Flux</th>\n    </tr>\n  </thead>\n  <tbody>\n    <tr>\n      <td>ammonium_e</td>\n      <td>EX_ammonium</td>\n      <td>0.22</td>\n      <td>0</td>\n      <td>0.00%</td>\n    </tr>\n    <tr>\n      <td>carbon_dioxide_e</td>\n      <td>EX_carbon_dioxide</td>\n      <td>4.851</td>\n      <td>1</td>\n      <td>100.00%</td>\n    </tr>\n    <tr>\n      <td>cu2_e</td>\n      <td>EX_cu2</td>\n      <td>3.644E-05</td>\n      <td>1</td>\n      <td>0.00%</td>\n    </tr>\n    <tr>\n      <td>fe3_e</td>\n      <td>EX_fe3</td>\n      <td>8.528E-05</td>\n      <td>0</td>\n      <td>0.00%</td>\n    </tr>\n    <tr>\n      <td>hs_e</td>\n      <td>EX_hs</td>\n      <td>0.0009067</td>\n      <td>0</td>\n      <td>0.00%</td>\n    </tr>\n    <tr>\n      <td>k_e</td>\n      <td>EX_k</td>\n      <td>0.02354</td>\n      <td>0</td>\n      <td>0.00%</td>\n    </tr>\n    <tr>\n      <td>light_e</td>\n      <td>EX_light</td>\n      <td>39.54</td>\n      <td>0</td>\n      <td>0.00%</td>\n    </tr>\n    <tr>\n      <td>mg2_e</td>\n      <td>EX_mg2</td>\n      <td>0.002871</td>\n      <td>0</td>\n      <td>0.00%</td>\n    </tr>\n    <tr>\n      <td>mn2_e</td>\n      <td>EX_mn2</td>\n      <td>4.056E-05</td>\n      <td>0</td>\n      <td>0.00%</td>\n    </tr>\n    <tr>\n      <td>na_e</td>\n      <td>EX_na</td>\n      <td>0.003743</td>\n      <td>0</td>\n      <td>0.00%</td>\n    </tr>\n    <tr>\n      <td>pi_e</td>\n      <td>EX_pi</td>\n      <td>0.01374</td>\n      <td>0</td>\n      <td>0.00%</td>\n    </tr>\n    <tr>\n      <td>proton_e</td>\n      <td>EX_proton</td>\n      <td>31.02</td>\n      <td>0</td>\n      <td>0.00%</td>\n    </tr>\n    <tr>\n      <td>water_e</td>\n      <td>EX_water</td>\n      <td>3.653</td>\n      <td>0</td>\n      <td>0.00%</td>\n    </tr>\n    <tr>\n      <td>zn2_e</td>\n      <td>EX_zn2</td>\n      <td>3.996E-05</td>\n      <td>0</td>\n      <td>0.00%</td>\n    </tr>\n  </tbody>\n</table><h4>Secretion</h4><table border=\"1\" class=\"dataframe\">\n  <thead>\n    <tr style=\"text-align: right;\">\n      <th>Metabolite</th>\n      <th>Reaction</th>\n      <th>Flux</th>\n      <th>C-Number</th>\n      <th>C-Flux</th>\n    </tr>\n  </thead>\n  <tbody>\n    <tr>\n      <td>Biomass_c</td>\n      <td>Biomass_export</td>\n      <td>-0.1</td>\n      <td>0</td>\n      <td>0.00%</td>\n    </tr>\n    <tr>\n      <td>oxygen_molecule_e</td>\n      <td>EX_oxygen_molecule</td>\n      <td>-5.724</td>\n      <td>0</td>\n      <td>0.00%</td>\n    </tr>\n    <tr>\n      <td>sulfate_e</td>\n      <td>EX_sulfate</td>\n      <td>-0.000572</td>\n      <td>0</td>\n      <td>0.00%</td>\n    </tr>\n  </tbody>\n</table>"
     },
     "execution_count": 6,
     "metadata": {},
     "output_type": "execute_result"
    }
   ],
   "source": [
    "model = cobra.io.read_sbml_model(\"Populus_iPop7188_fixed.xml\")\n",
    "model.summary()"
   ],
   "metadata": {
    "collapsed": false,
    "ExecuteTime": {
     "end_time": "2023-12-11T19:01:26.576493736Z",
     "start_time": "2023-12-11T19:01:17.269494278Z"
    }
   },
   "id": "3a3d36db8ae728ec"
  },
  {
   "cell_type": "code",
   "execution_count": 7,
   "outputs": [
    {
     "data": {
      "text/plain": "                       Flux\nmethylglyoxal      0.000000\nH              10000.000000\nNADPH           1156.789197",
      "text/html": "<div>\n<style scoped>\n    .dataframe tbody tr th:only-of-type {\n        vertical-align: middle;\n    }\n\n    .dataframe tbody tr th {\n        vertical-align: top;\n    }\n\n    .dataframe thead th {\n        text-align: right;\n    }\n</style>\n<table border=\"1\" class=\"dataframe\">\n  <thead>\n    <tr style=\"text-align: right;\">\n      <th></th>\n      <th>Flux</th>\n    </tr>\n  </thead>\n  <tbody>\n    <tr>\n      <th>methylglyoxal</th>\n      <td>0.000000</td>\n    </tr>\n    <tr>\n      <th>H</th>\n      <td>10000.000000</td>\n    </tr>\n    <tr>\n      <th>NADPH</th>\n      <td>1156.789197</td>\n    </tr>\n  </tbody>\n</table>\n</div>"
     },
     "execution_count": 7,
     "metadata": {},
     "output_type": "execute_result"
    }
   ],
   "source": [
    "#original_model.create_sink(\"dihydroxy_acetone_phosphate_c\")\n",
    "original_model.test_reaction(\"R02260_c\")"
   ],
   "metadata": {
    "collapsed": false,
    "ExecuteTime": {
     "end_time": "2023-12-11T18:50:58.635725652Z",
     "start_time": "2023-12-11T18:50:57.804974304Z"
    }
   },
   "id": "f0a7f1283223652a"
  }
 ],
 "metadata": {
  "kernelspec": {
   "display_name": "Python 3",
   "language": "python",
   "name": "python3"
  },
  "language_info": {
   "codemirror_mode": {
    "name": "ipython",
    "version": 2
   },
   "file_extension": ".py",
   "mimetype": "text/x-python",
   "name": "python",
   "nbconvert_exporter": "python",
   "pygments_lexer": "ipython2",
   "version": "2.7.6"
  }
 },
 "nbformat": 4,
 "nbformat_minor": 5
}
